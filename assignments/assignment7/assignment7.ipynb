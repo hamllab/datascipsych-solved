{
 "cells": [
  {
   "cell_type": "markdown",
   "metadata": {},
   "source": [
    "# Assignment 7\n",
    "\n",
    "Please fill in blanks in the *Answer* sections of this notebook. To check your answer for a problem, run the Setup, Answer, and Result sections. DO NOT MODIFY SETUP OR RESULT CELLS. See the [README](https://github.com/mortonne/datascipsych) for instructions on setting up a Python environment to run this notebook.\n",
    "\n",
    "Write your answers for each problem. Then restart the kernel, run all cells, and then save the notebook. Upload your notebook to Canvas.\n",
    "\n",
    "If you get stuck, read through the other notebooks in this directory, ask us for help in class, or ask other students for help in class or on the weekly discussion board."
   ]
  },
  {
   "cell_type": "markdown",
   "metadata": {},
   "source": [
    "## Problem: importing a DataFrame (2 points)\n",
    "\n",
    "### Import a CSV file (1 point)\n",
    "\n",
    "Import the `people.csv` file in this directory to a Polars DataFrame called `people`.\n",
    "\n",
    "### Convert a column to a NumPy array (1 point)\n",
    "\n",
    "Convert the `height` column to a NumPy array, stored in a variable called `height`."
   ]
  },
  {
   "cell_type": "markdown",
   "metadata": {},
   "source": [
    "### Setup"
   ]
  },
  {
   "cell_type": "code",
   "execution_count": 1,
   "metadata": {},
   "outputs": [],
   "source": [
    "import numpy as np\n",
    "import polars as pl\n",
    "people = None\n",
    "height = None"
   ]
  },
  {
   "cell_type": "markdown",
   "metadata": {},
   "source": [
    "### Answer"
   ]
  },
  {
   "cell_type": "code",
   "execution_count": 2,
   "metadata": {},
   "outputs": [],
   "source": [
    "people = pl.read_csv(\"people.csv\")\n",
    "height = people[\"height\"].to_numpy()"
   ]
  },
  {
   "cell_type": "markdown",
   "metadata": {},
   "source": [
    "### Result"
   ]
  },
  {
   "cell_type": "code",
   "execution_count": 3,
   "metadata": {},
   "outputs": [
    {
     "name": "stdout",
     "output_type": "stream",
     "text": [
      "shape: (4, 4)\n",
      "┌────────────────┬────────────┬────────┬────────┐\n",
      "│ name           ┆ birthdate  ┆ weight ┆ height │\n",
      "│ ---            ┆ ---        ┆ ---    ┆ ---    │\n",
      "│ str            ┆ str        ┆ f64    ┆ f64    │\n",
      "╞════════════════╪════════════╪════════╪════════╡\n",
      "│ Alice Archer   ┆ 1997-01-10 ┆ 57.9   ┆ 1.56   │\n",
      "│ Ben Brown      ┆ 1985-02-15 ┆ 72.5   ┆ 1.77   │\n",
      "│ Chloe Cooper   ┆ 1983-03-22 ┆ 53.6   ┆ 1.65   │\n",
      "│ Daniel Donovan ┆ 1981-04-30 ┆ 83.1   ┆ 1.75   │\n",
      "└────────────────┴────────────┴────────┴────────┘\n",
      "[1.56 1.77 1.65 1.75]\n"
     ]
    }
   ],
   "source": [
    "vars = [people, height]\n",
    "if all([v is not None for v in vars]):\n",
    "    # this should print your variables\n",
    "    print(people)\n",
    "    print(height)\n",
    "\n",
    "    # this should not throw any errors\n",
    "    assert people[\"name\"].equals(\n",
    "        pl.Series([\"Alice Archer\", \"Ben Brown\", \"Chloe Cooper\", \"Daniel Donovan\"])\n",
    "    )\n",
    "    assert people[\"weight\"].equals(pl.Series([57.9, 72.5, 53.6, 83.1]))\n",
    "    assert np.array_equal(height, np.array([1.56, 1.77, 1.65, 1.75]))"
   ]
  },
  {
   "cell_type": "markdown",
   "metadata": {},
   "source": [
    "## Problem: creating a DataFrame (2 points)\n",
    "\n",
    "Create a DataFrame like the table below and assign it to a variable called `data`. The `trial_type` and `response` columns should be strings, and the `correct` column should have integers.\n",
    "\n",
    "| trial_type | response | correct |\n",
    "| ---------- | -------- | ------- |\n",
    "| target     | old      | 1       |\n",
    "| lure       | old      | 0       |\n",
    "| target     | new      | 0       |\n",
    "| lure       | new      | 1       |\n",
    "\n",
    "The DataFrame should have all the information from the table above (1 point), with the correct datatypes (1 point)."
   ]
  },
  {
   "cell_type": "markdown",
   "metadata": {},
   "source": [
    "### Setup"
   ]
  },
  {
   "cell_type": "code",
   "execution_count": 4,
   "metadata": {},
   "outputs": [],
   "source": [
    "data = None"
   ]
  },
  {
   "cell_type": "markdown",
   "metadata": {},
   "source": [
    "### Answer"
   ]
  },
  {
   "cell_type": "code",
   "execution_count": 5,
   "metadata": {},
   "outputs": [],
   "source": [
    "data = pl.DataFrame(\n",
    "    {\n",
    "        \"trial_type\": [\"target\", \"lure\", \"target\", \"lure\"],\n",
    "        \"response\": [\"old\", \"old\", \"new\", \"new\"],\n",
    "        \"correct\": [1, 0, 0, 1],\n",
    "    }\n",
    ")"
   ]
  },
  {
   "cell_type": "markdown",
   "metadata": {},
   "source": [
    "### Result"
   ]
  },
  {
   "cell_type": "code",
   "execution_count": 6,
   "metadata": {},
   "outputs": [
    {
     "name": "stdout",
     "output_type": "stream",
     "text": [
      "shape: (4, 3)\n",
      "┌────────────┬──────────┬─────────┐\n",
      "│ trial_type ┆ response ┆ correct │\n",
      "│ ---        ┆ ---      ┆ ---     │\n",
      "│ str        ┆ str      ┆ i64     │\n",
      "╞════════════╪══════════╪═════════╡\n",
      "│ target     ┆ old      ┆ 1       │\n",
      "│ lure       ┆ old      ┆ 0       │\n",
      "│ target     ┆ new      ┆ 0       │\n",
      "│ lure       ┆ new      ┆ 1       │\n",
      "└────────────┴──────────┴─────────┘\n"
     ]
    }
   ],
   "source": [
    "vars = [data]\n",
    "if all([v is not None for v in vars]):\n",
    "    # this should print your variables\n",
    "    print(data)\n",
    "\n",
    "    # this should not throw any errors\n",
    "    trial_type = np.array([\"target\", \"lure\", \"target\", \"lure\"])\n",
    "    assert np.array_equal(data[\"trial_type\"].to_numpy(), trial_type)\n",
    "    response = np.array([\"old\", \"old\", \"new\", \"new\"])\n",
    "    assert np.array_equal(data[\"response\"].to_numpy(), response)\n",
    "    assert np.array_equal(data[\"correct\"].to_numpy(), [1, 0, 0, 1])"
   ]
  },
  {
   "cell_type": "markdown",
   "metadata": {},
   "source": [
    "## Problem: using select (2 points)\n",
    "\n",
    "Given the Osth & Fox dataset (loaded below), use the select method to create a dataset called `subset` with these columns (in order): `subj`, `phase`, `cycle`, `type`."
   ]
  },
  {
   "cell_type": "markdown",
   "metadata": {},
   "source": [
    "### Setup"
   ]
  },
  {
   "cell_type": "code",
   "execution_count": 7,
   "metadata": {},
   "outputs": [],
   "source": [
    "df = pl.read_csv(\"exp1.csv\")\n",
    "subset = None"
   ]
  },
  {
   "cell_type": "markdown",
   "metadata": {},
   "source": [
    "### Answer"
   ]
  },
  {
   "cell_type": "code",
   "execution_count": 8,
   "metadata": {},
   "outputs": [],
   "source": [
    "subset = df.select(\"subj\", \"phase\", \"cycle\", \"type\")"
   ]
  },
  {
   "cell_type": "markdown",
   "metadata": {},
   "source": [
    "### Result"
   ]
  },
  {
   "cell_type": "code",
   "execution_count": 9,
   "metadata": {},
   "outputs": [
    {
     "name": "stdout",
     "output_type": "stream",
     "text": [
      "shape: (107_443, 4)\n",
      "┌──────┬───────┬───────┬────────────┐\n",
      "│ subj ┆ phase ┆ cycle ┆ type       │\n",
      "│ ---  ┆ ---   ┆ ---   ┆ ---        │\n",
      "│ i64  ┆ str   ┆ i64   ┆ str        │\n",
      "╞══════╪═══════╪═══════╪════════════╡\n",
      "│ 101  ┆ study ┆ 0     ┆ intact     │\n",
      "│ 101  ┆ study ┆ 0     ┆ intact     │\n",
      "│ 101  ┆ study ┆ 0     ┆ intact     │\n",
      "│ 101  ┆ study ┆ 0     ┆ intact     │\n",
      "│ 101  ┆ study ┆ 0     ┆ intact     │\n",
      "│ …    ┆ …     ┆ …     ┆ …          │\n",
      "│ 213  ┆ test  ┆ 7     ┆ intact     │\n",
      "│ 213  ┆ test  ┆ 7     ┆ rearranged │\n",
      "│ 213  ┆ test  ┆ 7     ┆ rearranged │\n",
      "│ 213  ┆ test  ┆ 7     ┆ rearranged │\n",
      "│ 213  ┆ test  ┆ 7     ┆ intact     │\n",
      "└──────┴───────┴───────┴────────────┘\n"
     ]
    }
   ],
   "source": [
    "vars = [subset]\n",
    "if all([v is not None for v in vars]):\n",
    "    # this should print your variables\n",
    "    print(subset)\n",
    "\n",
    "    # this should not throw any errors\n",
    "    assert subset.shape == (107443, 4)\n",
    "    assert subset.columns == [\"subj\", \"phase\", \"cycle\", \"type\"]\n"
   ]
  },
  {
   "cell_type": "markdown",
   "metadata": {},
   "source": [
    "## Problem: using with_columns (2 points)\n",
    "\n",
    "Given the `people` DataFrame (defined below), which has height in meters in the `height_m` column, add another column with height in feet called `height_ft` (1 meter is 3.28 feet). Assign the modified DataFrame to a variable called `converted`. 1 point for having a correct `height_ft` column; 1 point for keeping all of the old columns in the `converted` DataFrame."
   ]
  },
  {
   "cell_type": "markdown",
   "metadata": {},
   "source": [
    "### Setup"
   ]
  },
  {
   "cell_type": "code",
   "execution_count": 10,
   "metadata": {},
   "outputs": [],
   "source": [
    "people = pl.DataFrame(\n",
    "    {\n",
    "        \"name\": [\"Alice Archer\", \"Ben Brown\", \"Chloe Cooper\", \"Daniel Donovan\"],\n",
    "        \"height_m\": [1.56, 1.77, 1.65, 1.75],\n",
    "    }\n",
    ")\n",
    "converted = None"
   ]
  },
  {
   "cell_type": "markdown",
   "metadata": {},
   "source": [
    "### Answer"
   ]
  },
  {
   "cell_type": "code",
   "execution_count": 11,
   "metadata": {},
   "outputs": [],
   "source": [
    "converted = people.with_columns(\n",
    "    height_ft=pl.col(\"height_m\") * 3.28\n",
    ")"
   ]
  },
  {
   "cell_type": "markdown",
   "metadata": {},
   "source": [
    "### Result"
   ]
  },
  {
   "cell_type": "code",
   "execution_count": 12,
   "metadata": {},
   "outputs": [
    {
     "name": "stdout",
     "output_type": "stream",
     "text": [
      "shape: (4, 3)\n",
      "┌────────────────┬──────────┬───────────┐\n",
      "│ name           ┆ height_m ┆ height_ft │\n",
      "│ ---            ┆ ---      ┆ ---       │\n",
      "│ str            ┆ f64      ┆ f64       │\n",
      "╞════════════════╪══════════╪═══════════╡\n",
      "│ Alice Archer   ┆ 1.56     ┆ 5.1168    │\n",
      "│ Ben Brown      ┆ 1.77     ┆ 5.8056    │\n",
      "│ Chloe Cooper   ┆ 1.65     ┆ 5.412     │\n",
      "│ Daniel Donovan ┆ 1.75     ┆ 5.74      │\n",
      "└────────────────┴──────────┴───────────┘\n"
     ]
    }
   ],
   "source": [
    "vars = [converted]\n",
    "if all([v is not None for v in vars]):\n",
    "    # this should print your variables\n",
    "    print(converted)\n",
    "\n",
    "    # this should not throw any errors\n",
    "    assert \"name\" in converted\n",
    "    assert \"height_m\" in converted\n",
    "    assert converted[\"height_ft\"].round(2).equals(pl.Series([5.12, 5.81, 5.41, 5.74]))"
   ]
  },
  {
   "cell_type": "markdown",
   "metadata": {},
   "source": [
    "## Problem: using filter (2 points)\n",
    "\n",
    "Given the Osth & Fox dataset (loaded below), use the filter method to get trials where `subj` is `101` (1 point) and `phase` is `\"test\"` (1 point). Assign the filtered DataFrame to a variable called `filtered`."
   ]
  },
  {
   "cell_type": "markdown",
   "metadata": {},
   "source": [
    "### Setup"
   ]
  },
  {
   "cell_type": "code",
   "execution_count": 13,
   "metadata": {},
   "outputs": [],
   "source": [
    "df = pl.read_csv(\"exp1.csv\")\n",
    "filtered = None"
   ]
  },
  {
   "cell_type": "markdown",
   "metadata": {},
   "source": [
    "### Answer"
   ]
  },
  {
   "cell_type": "code",
   "execution_count": 14,
   "metadata": {},
   "outputs": [],
   "source": [
    "filtered = df.filter((pl.col(\"subj\") == 101) & (pl.col(\"phase\") == \"test\"))"
   ]
  },
  {
   "cell_type": "markdown",
   "metadata": {},
   "source": [
    "### Result"
   ]
  },
  {
   "cell_type": "code",
   "execution_count": 15,
   "metadata": {},
   "outputs": [
    {
     "name": "stdout",
     "output_type": "stream",
     "text": [
      "shape: (480, 16)\n",
      "┌───────┬───────┬───────┬────────────┬───┬──────┬───────────┬──────────────┬────────┐\n",
      "│ cycle ┆ trial ┆ phase ┆ type       ┆ … ┆ subj ┆ intactLag ┆ prevResponse ┆ prevRT │\n",
      "│ ---   ┆ ---   ┆ ---   ┆ ---        ┆   ┆ ---  ┆ ---       ┆ ---          ┆ ---    │\n",
      "│ i64   ┆ i64   ┆ str   ┆ str        ┆   ┆ i64  ┆ i64       ┆ i64          ┆ i64    │\n",
      "╞═══════╪═══════╪═══════╪════════════╪═══╪══════╪═══════════╪══════════════╪════════╡\n",
      "│ 0     ┆ -1    ┆ test  ┆ rearranged ┆ … ┆ 101  ┆ 0         ┆ 0            ┆ 0      │\n",
      "│ 0     ┆ 0     ┆ test  ┆ rearranged ┆ … ┆ 101  ┆ 0         ┆ 0            ┆ 0      │\n",
      "│ 0     ┆ 1     ┆ test  ┆ rearranged ┆ … ┆ 101  ┆ 0         ┆ 0            ┆ 0      │\n",
      "│ 0     ┆ 2     ┆ test  ┆ rearranged ┆ … ┆ 101  ┆ 0         ┆ 0            ┆ 0      │\n",
      "│ 0     ┆ 3     ┆ test  ┆ rearranged ┆ … ┆ 101  ┆ 0         ┆ 0            ┆ 0      │\n",
      "│ …     ┆ …     ┆ …     ┆ …          ┆ … ┆ …    ┆ …         ┆ …            ┆ …      │\n",
      "│ 7     ┆ 54    ┆ test  ┆ rearranged ┆ … ┆ 101  ┆ 0         ┆ 0            ┆ 0      │\n",
      "│ 7     ┆ 55    ┆ test  ┆ intact     ┆ … ┆ 101  ┆ 0         ┆ 0            ┆ 0      │\n",
      "│ 7     ┆ 56    ┆ test  ┆ rearranged ┆ … ┆ 101  ┆ 0         ┆ 0            ┆ 0      │\n",
      "│ 7     ┆ 57    ┆ test  ┆ intact     ┆ … ┆ 101  ┆ 0         ┆ 0            ┆ 0      │\n",
      "│ 7     ┆ 58    ┆ test  ┆ intact     ┆ … ┆ 101  ┆ -56       ┆ 0            ┆ 2      │\n",
      "└───────┴───────┴───────┴────────────┴───┴──────┴───────────┴──────────────┴────────┘\n"
     ]
    }
   ],
   "source": [
    "vars = [filtered]\n",
    "if all([v is not None for v in vars]):\n",
    "    # this should print your variables\n",
    "    print(filtered)\n",
    "\n",
    "    # this should not throw any errors\n",
    "    assert filtered.shape == (480, 16)\n",
    "    assert (filtered[\"subj\"] == 101).all()\n",
    "    assert (filtered[\"phase\"] == \"test\").all()"
   ]
  },
  {
   "cell_type": "markdown",
   "metadata": {},
   "source": [
    "## Problem: summary statistics (2 points)\n",
    "\n",
    "Given the `people` DataFrame defined below, create a new DataFrame with one row and two columns that has the mean weight and mean height across people. It should have correct `weight` and `height` columns (1 point), and no other columns (1 point). Assign this DataFrame to a variable called `stats`."
   ]
  },
  {
   "cell_type": "markdown",
   "metadata": {},
   "source": [
    "### Setup"
   ]
  },
  {
   "cell_type": "code",
   "execution_count": 16,
   "metadata": {},
   "outputs": [],
   "source": [
    "people = pl.DataFrame(\n",
    "    {\n",
    "        \"name\": [\"Alice Archer\", \"Ben Brown\", \"Chloe Cooper\", \"Daniel Donovan\"],\n",
    "        \"weight\": [57.9, 72.5, 53.6, 83.1],  # (kg)\n",
    "        \"height\": [1.56, 1.77, 1.65, 1.75],  # (m)\n",
    "    }\n",
    ")\n",
    "stats = None"
   ]
  },
  {
   "cell_type": "markdown",
   "metadata": {},
   "source": [
    "### Answer"
   ]
  },
  {
   "cell_type": "code",
   "execution_count": 17,
   "metadata": {},
   "outputs": [],
   "source": [
    "stats = (\n",
    "    people.select(\"weight\", \"height\")\n",
    "    .mean()\n",
    ")"
   ]
  },
  {
   "cell_type": "markdown",
   "metadata": {},
   "source": [
    "### Result"
   ]
  },
  {
   "cell_type": "code",
   "execution_count": 18,
   "metadata": {},
   "outputs": [
    {
     "name": "stdout",
     "output_type": "stream",
     "text": [
      "shape: (1, 2)\n",
      "┌────────┬────────┐\n",
      "│ weight ┆ height │\n",
      "│ ---    ┆ ---    │\n",
      "│ f64    ┆ f64    │\n",
      "╞════════╪════════╡\n",
      "│ 66.775 ┆ 1.6825 │\n",
      "└────────┴────────┘\n"
     ]
    }
   ],
   "source": [
    "vars = [stats]\n",
    "if all([v is not None for v in vars]):\n",
    "    # this should print your variables\n",
    "    print(stats)\n",
    "\n",
    "    # this should not throw any errors\n",
    "    assert stats.shape == (1, 2)\n",
    "    assert stats[\"weight\"].equals(pl.Series([66.775]))\n",
    "    assert stats[\"height\"].equals(pl.Series([1.6825]))"
   ]
  },
  {
   "cell_type": "markdown",
   "metadata": {},
   "source": [
    "## Problem (graduate students): working with dates (2 points)\n",
    "\n",
    "Read the `sessions.csv` file in this directory, parsing the dates in the `session1` and `session2` columns. Add a column called `delay` with the number of days separating sessions 1 and 2 (you should get a column with type `duration[ms]`), and a column called `score_change` with the difference between the `score2` and `score1` columns. Assign your new DataFrame to a variable called `result`.\n",
    "\n",
    "In Polars, time differences are represented with `duration` datatypes, which look like `duration[ms]` in this case. The unit in brackets refers to the *time unit* (here, milliseconds), which relates to how the data are stored. The time unit does not make a difference for the duration (you should get a difference in days)."
   ]
  },
  {
   "cell_type": "markdown",
   "metadata": {},
   "source": [
    "### Setup"
   ]
  },
  {
   "cell_type": "code",
   "execution_count": 19,
   "metadata": {},
   "outputs": [],
   "source": [
    "result = None"
   ]
  },
  {
   "cell_type": "markdown",
   "metadata": {},
   "source": [
    "### Answer"
   ]
  },
  {
   "cell_type": "code",
   "execution_count": 20,
   "metadata": {},
   "outputs": [],
   "source": [
    "sessions = pl.read_csv(\"sessions.csv\", try_parse_dates=True)\n",
    "result = sessions.with_columns(\n",
    "    delay=pl.col(\"session2\") - pl.col(\"session1\"),\n",
    "    score_change=pl.col(\"score2\") - pl.col(\"score1\"),\n",
    ")"
   ]
  },
  {
   "cell_type": "markdown",
   "metadata": {},
   "source": [
    "### Result"
   ]
  },
  {
   "cell_type": "code",
   "execution_count": 21,
   "metadata": {},
   "outputs": [
    {
     "name": "stdout",
     "output_type": "stream",
     "text": [
      "shape: (3, 7)\n",
      "┌────────────────┬────────────┬────────┬────────────┬────────┬──────────────┬──────────────┐\n",
      "│ participant_id ┆ session1   ┆ score1 ┆ session2   ┆ score2 ┆ delay        ┆ score_change │\n",
      "│ ---            ┆ ---        ┆ ---    ┆ ---        ┆ ---    ┆ ---          ┆ ---          │\n",
      "│ i64            ┆ date       ┆ i64    ┆ date       ┆ i64    ┆ duration[ms] ┆ i64          │\n",
      "╞════════════════╪════════════╪════════╪════════════╪════════╪══════════════╪══════════════╡\n",
      "│ 1              ┆ 2024-03-01 ┆ 15     ┆ 2024-03-04 ┆ 18     ┆ 3d           ┆ 3            │\n",
      "│ 2              ┆ 2024-03-15 ┆ 12     ┆ 2024-03-20 ┆ 19     ┆ 5d           ┆ 7            │\n",
      "│ 3              ┆ 2024-03-21 ┆ 15     ┆ 2024-03-25 ┆ 20     ┆ 4d           ┆ 5            │\n",
      "└────────────────┴────────────┴────────┴────────────┴────────┴──────────────┴──────────────┘\n"
     ]
    }
   ],
   "source": [
    "from datetime import timedelta\n",
    "vars = [result]\n",
    "if all([v is not None for v in vars]):\n",
    "    # this should print your variables\n",
    "    print(result)\n",
    "\n",
    "    # this should not throw any errors\n",
    "    assert \"participant_id\" in result\n",
    "    assert result[\"delay\"].equals(pl.Series([timedelta(days=3), timedelta(days=5), timedelta(days=4)]))\n",
    "    assert result[\"score_change\"].equals(pl.Series([3, 7, 5]))\n"
   ]
  },
  {
   "cell_type": "markdown",
   "metadata": {},
   "source": [
    "## Problem (graduate students): lazy evaluation (2 points)\n",
    "\n",
    "Read about the [lazy API](https://docs.pola.rs/user-guide/concepts/lazy-api/) in Polars. Use the lazy API to scan `exp1.csv`, filter to get trials where `phase` equals `\"test\"`, select the `response` and `RT` columns, and calculate their means. Assign the result to a variable called `lazy_result`. All operations should be completed by one call to the `collect` method."
   ]
  },
  {
   "cell_type": "markdown",
   "metadata": {},
   "source": [
    "### Setup"
   ]
  },
  {
   "cell_type": "code",
   "execution_count": 22,
   "metadata": {},
   "outputs": [],
   "source": [
    "lazy_result = None"
   ]
  },
  {
   "cell_type": "markdown",
   "metadata": {},
   "source": [
    "### Answer"
   ]
  },
  {
   "cell_type": "code",
   "execution_count": 23,
   "metadata": {},
   "outputs": [],
   "source": [
    "q = (\n",
    "    pl.scan_csv(\"exp1.csv\")\n",
    "    .filter(pl.col(\"phase\") == \"test\")\n",
    "    .select(\"response\", \"RT\")\n",
    "    .mean()\n",
    ")\n",
    "lazy_result = q.collect()"
   ]
  },
  {
   "cell_type": "markdown",
   "metadata": {},
   "source": [
    "### Result"
   ]
  },
  {
   "cell_type": "code",
   "execution_count": 24,
   "metadata": {},
   "outputs": [
    {
     "name": "stdout",
     "output_type": "stream",
     "text": [
      "shape: (1, 2)\n",
      "┌──────────┬──────────┐\n",
      "│ response ┆ RT       │\n",
      "│ ---      ┆ ---      │\n",
      "│ f64      ┆ f64      │\n",
      "╞══════════╪══════════╡\n",
      "│ 0.372607 ┆ 1.331173 │\n",
      "└──────────┴──────────┘\n"
     ]
    }
   ],
   "source": [
    "vars = [lazy_result]\n",
    "if all([v is not None for v in vars]):\n",
    "    # this should print your variables\n",
    "    print(lazy_result)\n",
    "\n",
    "    # this should not throw any errors\n",
    "    assert lazy_result.shape == (1, 2)\n",
    "    assert lazy_result[\"response\"].round(2).equals(pl.Series([0.37]))\n",
    "    assert lazy_result[\"RT\"].round(2).equals(pl.Series([1.33]))\n"
   ]
  },
  {
   "cell_type": "markdown",
   "metadata": {},
   "source": [
    "## Problem (graduate students): expression expansion (2 points)\n",
    "\n",
    "Read about how [expression expansion](https://docs.pola.rs/user-guide/concepts/expressions-and-contexts/#expression-expansion) can be used to write one expression that operates on multiple columns. Given the `people` DataFrame defined below, use a call to `with_columns` with a single expression to calculate the means of the `weight` and `height` columns and place them in new columns named `mean_weight` and `mean_height`, respectively. Assign the resulting DataFrame to a variable called `stats_1expr`."
   ]
  },
  {
   "cell_type": "markdown",
   "metadata": {},
   "source": [
    "### Setup"
   ]
  },
  {
   "cell_type": "code",
   "execution_count": 25,
   "metadata": {},
   "outputs": [],
   "source": [
    "people = pl.DataFrame(\n",
    "    {\n",
    "        \"name\": [\"Alice Archer\", \"Ben Brown\", \"Chloe Cooper\", \"Daniel Donovan\"],\n",
    "        \"weight\": [57.9, 72.5, 53.6, 83.1],  # (kg)\n",
    "        \"height\": [1.56, 1.77, 1.65, 1.75],  # (m)\n",
    "    }\n",
    ")\n",
    "stats_1expr = None"
   ]
  },
  {
   "cell_type": "markdown",
   "metadata": {},
   "source": [
    "### Answer"
   ]
  },
  {
   "cell_type": "code",
   "execution_count": 26,
   "metadata": {},
   "outputs": [],
   "source": [
    "stats_1expr = people.with_columns(\n",
    "    pl.col(\"weight\", \"height\").mean().name.prefix(\"mean_\")\n",
    ")"
   ]
  },
  {
   "cell_type": "markdown",
   "metadata": {},
   "source": [
    "### Result"
   ]
  },
  {
   "cell_type": "code",
   "execution_count": 27,
   "metadata": {},
   "outputs": [
    {
     "name": "stdout",
     "output_type": "stream",
     "text": [
      "shape: (4, 5)\n",
      "┌────────────────┬────────┬────────┬─────────────┬─────────────┐\n",
      "│ name           ┆ weight ┆ height ┆ mean_weight ┆ mean_height │\n",
      "│ ---            ┆ ---    ┆ ---    ┆ ---         ┆ ---         │\n",
      "│ str            ┆ f64    ┆ f64    ┆ f64         ┆ f64         │\n",
      "╞════════════════╪════════╪════════╪═════════════╪═════════════╡\n",
      "│ Alice Archer   ┆ 57.9   ┆ 1.56   ┆ 66.775      ┆ 1.6825      │\n",
      "│ Ben Brown      ┆ 72.5   ┆ 1.77   ┆ 66.775      ┆ 1.6825      │\n",
      "│ Chloe Cooper   ┆ 53.6   ┆ 1.65   ┆ 66.775      ┆ 1.6825      │\n",
      "│ Daniel Donovan ┆ 83.1   ┆ 1.75   ┆ 66.775      ┆ 1.6825      │\n",
      "└────────────────┴────────┴────────┴─────────────┴─────────────┘\n"
     ]
    }
   ],
   "source": [
    "vars = [stats_1expr]\n",
    "if all([v is not None for v in vars]):\n",
    "    # this should print your variables\n",
    "    print(stats_1expr)\n",
    "\n",
    "    # this should not throw any errors\n",
    "    assert stats_1expr.shape == (4, 5)\n",
    "    assert stats_1expr[\"mean_weight\"].equals(pl.Series([66.775, 66.775, 66.775, 66.775]))\n",
    "    assert stats_1expr[\"mean_height\"].equals(pl.Series([1.6825, 1.6825, 1.6825, 1.6825]))\n"
   ]
  },
  {
   "cell_type": "markdown",
   "metadata": {},
   "source": [
    "## Problem (graduate students): viewing longer DataFrames in Jupyter (2 points)\n",
    "\n",
    "When viewing a DataFrame in Jupyter, the number of displayed rows will automatically be limited. The Polars package has configuration [options](https://docs.pola.rs/docs/python/version/0.18/reference/config.html) that are used to determine how DataFrames are displayed. Changing the `tbl_rows` option will change the number of rows displayed. There are two ways to change the configuration in Polars.\n",
    "\n",
    "One option is to change the configuration by calling one of the methods of `pl.Config`. For example:\n",
    "\n",
    "```python\n",
    "pl.Config.set_tbl_rows(50)\n",
    "```\n",
    "\n",
    "will change the `tbl_rows` option to set the maximum number of rows displayed to 50. This will be the setting until you change it back, for example by running:\n",
    "\n",
    "```python\n",
    "pl.Config.restore_defaults()\n",
    "```\n",
    "\n",
    "to restore the default options.\n",
    "\n",
    "Another option can be used to change the configuration just for the DataFrames where you want to see more rows. To change the configuration temporarily, you can use the [context manager](https://docs.pola.rs/docs/python/version/0.18/reference/config.html#use-as-a-context-manager). For example:\n",
    "\n",
    "```python\n",
    "with pl.Config(tbl_rows=50):\n",
    "    # for commands run here, the tbl_rows option is temporarily set to 50\n",
    "```\n",
    "\n",
    "The trick there is that DataFrames will not be normally displayed by Jupyter if they are inside a context manager. Instead of just putting the name of a DataFrame in the last line of a cell, for more flexibility you can use the `display` function from `IPython`. You can import it like this:\n",
    "\n",
    "```python\n",
    "from IPython.display import display\n",
    "```\n",
    "\n",
    "and then use `display(my_data_frame)` to show it as a nice table in Jupyter. This method will work even if the command is not the last line in a cell.\n",
    "\n",
    "Given the `df_test_cycle1` DataFrame set up below, which includes the first \"cycle\" of the test phase for the first participant, display all 60 rows in Jupyter using one of the methods described above (1 point). After your code runs, the Polars configuration should be back to its default value (1 point). Depending on the method you use, the configuration may be at its default value either because you restored the defaults, or because you used a context manager that only temporarily changed the option."
   ]
  },
  {
   "cell_type": "markdown",
   "metadata": {},
   "source": [
    "### Setup"
   ]
  },
  {
   "cell_type": "code",
   "execution_count": 28,
   "metadata": {},
   "outputs": [],
   "source": [
    "df = pl.read_csv(\"exp1.csv\")\n",
    "df_test_cycle1 = df.filter(pl.col(\"phase\") == \"test\").head(60)"
   ]
  },
  {
   "cell_type": "markdown",
   "metadata": {},
   "source": [
    "### Answer"
   ]
  },
  {
   "cell_type": "code",
   "execution_count": 29,
   "metadata": {},
   "outputs": [
    {
     "data": {
      "text/html": [
       "<div><style>\n",
       ".dataframe > thead > tr,\n",
       ".dataframe > tbody > tr {\n",
       "  text-align: right;\n",
       "  white-space: pre-wrap;\n",
       "}\n",
       "</style>\n",
       "<small>shape: (60, 16)</small><table border=\"1\" class=\"dataframe\"><thead><tr><th>cycle</th><th>trial</th><th>phase</th><th>type</th><th>word1</th><th>word2</th><th>response</th><th>RT</th><th>correct</th><th>lag</th><th>serPos1</th><th>serPos2</th><th>subj</th><th>intactLag</th><th>prevResponse</th><th>prevRT</th></tr><tr><td>i64</td><td>i64</td><td>str</td><td>str</td><td>str</td><td>str</td><td>i64</td><td>f64</td><td>i64</td><td>i64</td><td>i64</td><td>i64</td><td>i64</td><td>i64</td><td>i64</td><td>i64</td></tr></thead><tbody><tr><td>0</td><td>-1</td><td>&quot;test&quot;</td><td>&quot;rearranged&quot;</td><td>&quot;waste&quot;</td><td>&quot;degree&quot;</td><td>0</td><td>2.312</td><td>1</td><td>2</td><td>12</td><td>10</td><td>101</td><td>0</td><td>0</td><td>0</td></tr><tr><td>0</td><td>0</td><td>&quot;test&quot;</td><td>&quot;rearranged&quot;</td><td>&quot;needed&quot;</td><td>&quot;able&quot;</td><td>0</td><td>3.542</td><td>1</td><td>1</td><td>27</td><td>28</td><td>101</td><td>0</td><td>0</td><td>0</td></tr><tr><td>0</td><td>1</td><td>&quot;test&quot;</td><td>&quot;rearranged&quot;</td><td>&quot;single&quot;</td><td>&quot;clean&quot;</td><td>0</td><td>2.084</td><td>1</td><td>3</td><td>3</td><td>6</td><td>101</td><td>0</td><td>0</td><td>0</td></tr><tr><td>0</td><td>2</td><td>&quot;test&quot;</td><td>&quot;rearranged&quot;</td><td>&quot;train&quot;</td><td>&quot;useful&quot;</td><td>0</td><td>1.669</td><td>1</td><td>2</td><td>55</td><td>57</td><td>101</td><td>0</td><td>0</td><td>0</td></tr><tr><td>0</td><td>3</td><td>&quot;test&quot;</td><td>&quot;rearranged&quot;</td><td>&quot;knees&quot;</td><td>&quot;various&quot;</td><td>0</td><td>2.326</td><td>1</td><td>5</td><td>44</td><td>49</td><td>101</td><td>0</td><td>0</td><td>0</td></tr><tr><td>0</td><td>4</td><td>&quot;test&quot;</td><td>&quot;intact&quot;</td><td>&quot;skin&quot;</td><td>&quot;careful&quot;</td><td>1</td><td>1.407</td><td>1</td><td>-1</td><td>1</td><td>1</td><td>101</td><td>0</td><td>0</td><td>0</td></tr><tr><td>0</td><td>5</td><td>&quot;test&quot;</td><td>&quot;intact&quot;</td><td>&quot;doctor&quot;</td><td>&quot;contrast&quot;</td><td>0</td><td>4.056</td><td>0</td><td>-1</td><td>35</td><td>35</td><td>101</td><td>34</td><td>1</td><td>1</td></tr><tr><td>0</td><td>6</td><td>&quot;test&quot;</td><td>&quot;rearranged&quot;</td><td>&quot;critical&quot;</td><td>&quot;system&quot;</td><td>0</td><td>3.366</td><td>1</td><td>3</td><td>8</td><td>5</td><td>101</td><td>0</td><td>0</td><td>0</td></tr><tr><td>0</td><td>7</td><td>&quot;test&quot;</td><td>&quot;intact&quot;</td><td>&quot;homes&quot;</td><td>&quot;fuel&quot;</td><td>1</td><td>2.499</td><td>1</td><td>-1</td><td>29</td><td>29</td><td>101</td><td>0</td><td>0</td><td>0</td></tr><tr><td>0</td><td>8</td><td>&quot;test&quot;</td><td>&quot;intact&quot;</td><td>&quot;liked&quot;</td><td>&quot;tone&quot;</td><td>1</td><td>1.609</td><td>1</td><td>-1</td><td>19</td><td>19</td><td>101</td><td>-10</td><td>1</td><td>2</td></tr><tr><td>0</td><td>9</td><td>&quot;test&quot;</td><td>&quot;intact&quot;</td><td>&quot;notice&quot;</td><td>&quot;explain&quot;</td><td>1</td><td>1.352</td><td>1</td><td>-1</td><td>23</td><td>23</td><td>101</td><td>4</td><td>1</td><td>1</td></tr><tr><td>0</td><td>10</td><td>&quot;test&quot;</td><td>&quot;rearranged&quot;</td><td>&quot;absolute&quot;</td><td>&quot;forth&quot;</td><td>1</td><td>2.633</td><td>0</td><td>4</td><td>14</td><td>18</td><td>101</td><td>0</td><td>0</td><td>0</td></tr><tr><td>0</td><td>11</td><td>&quot;test&quot;</td><td>&quot;rearranged&quot;</td><td>&quot;travel&quot;</td><td>&quot;concern&quot;</td><td>0</td><td>2.343</td><td>1</td><td>2</td><td>10</td><td>12</td><td>101</td><td>0</td><td>0</td><td>0</td></tr><tr><td>0</td><td>12</td><td>&quot;test&quot;</td><td>&quot;rearranged&quot;</td><td>&quot;else&quot;</td><td>&quot;foods&quot;</td><td>0</td><td>3.637</td><td>1</td><td>1</td><td>28</td><td>27</td><td>101</td><td>0</td><td>0</td><td>0</td></tr><tr><td>0</td><td>13</td><td>&quot;test&quot;</td><td>&quot;intact&quot;</td><td>&quot;crisis&quot;</td><td>&quot;empty&quot;</td><td>1</td><td>1.493</td><td>1</td><td>-1</td><td>21</td><td>21</td><td>101</td><td>0</td><td>0</td><td>0</td></tr><tr><td>0</td><td>14</td><td>&quot;test&quot;</td><td>&quot;intact&quot;</td><td>&quot;ability&quot;</td><td>&quot;cold&quot;</td><td>1</td><td>1.654</td><td>1</td><td>-1</td><td>26</td><td>26</td><td>101</td><td>5</td><td>1</td><td>1</td></tr><tr><td>0</td><td>15</td><td>&quot;test&quot;</td><td>&quot;intact&quot;</td><td>&quot;letter&quot;</td><td>&quot;bottle&quot;</td><td>1</td><td>1.012</td><td>1</td><td>-1</td><td>43</td><td>43</td><td>101</td><td>17</td><td>1</td><td>1</td></tr><tr><td>0</td><td>16</td><td>&quot;test&quot;</td><td>&quot;rearranged&quot;</td><td>&quot;anger&quot;</td><td>&quot;push&quot;</td><td>0</td><td>1.016</td><td>1</td><td>1</td><td>58</td><td>59</td><td>101</td><td>0</td><td>0</td><td>0</td></tr><tr><td>0</td><td>17</td><td>&quot;test&quot;</td><td>&quot;intact&quot;</td><td>&quot;separate&quot;</td><td>&quot;learn&quot;</td><td>1</td><td>5.956</td><td>1</td><td>-1</td><td>15</td><td>15</td><td>101</td><td>0</td><td>0</td><td>0</td></tr><tr><td>0</td><td>18</td><td>&quot;test&quot;</td><td>&quot;intact&quot;</td><td>&quot;tiny&quot;</td><td>&quot;avoid&quot;</td><td>1</td><td>1.38</td><td>1</td><td>-1</td><td>32</td><td>32</td><td>101</td><td>17</td><td>1</td><td>5</td></tr><tr><td>0</td><td>19</td><td>&quot;test&quot;</td><td>&quot;intact&quot;</td><td>&quot;account&quot;</td><td>&quot;path&quot;</td><td>0</td><td>1.108</td><td>0</td><td>-1</td><td>42</td><td>42</td><td>101</td><td>10</td><td>1</td><td>1</td></tr><tr><td>0</td><td>20</td><td>&quot;test&quot;</td><td>&quot;intact&quot;</td><td>&quot;stock&quot;</td><td>&quot;simple&quot;</td><td>1</td><td>1.3</td><td>1</td><td>-1</td><td>9</td><td>9</td><td>101</td><td>-33</td><td>0</td><td>1</td></tr><tr><td>0</td><td>21</td><td>&quot;test&quot;</td><td>&quot;intact&quot;</td><td>&quot;carry&quot;</td><td>&quot;crowd&quot;</td><td>1</td><td>1.045</td><td>1</td><td>-1</td><td>53</td><td>53</td><td>101</td><td>44</td><td>1</td><td>1</td></tr><tr><td>0</td><td>22</td><td>&quot;test&quot;</td><td>&quot;intact&quot;</td><td>&quot;busy&quot;</td><td>&quot;bound&quot;</td><td>1</td><td>0.966</td><td>1</td><td>-1</td><td>54</td><td>54</td><td>101</td><td>1</td><td>1</td><td>1</td></tr><tr><td>0</td><td>23</td><td>&quot;test&quot;</td><td>&quot;rearranged&quot;</td><td>&quot;others&quot;</td><td>&quot;massive&quot;</td><td>0</td><td>1.158</td><td>1</td><td>2</td><td>57</td><td>55</td><td>101</td><td>0</td><td>0</td><td>0</td></tr><tr><td>0</td><td>24</td><td>&quot;test&quot;</td><td>&quot;rearranged&quot;</td><td>&quot;telephone&quot;</td><td>&quot;control&quot;</td><td>0</td><td>1.798</td><td>1</td><td>1</td><td>38</td><td>39</td><td>101</td><td>0</td><td>0</td><td>0</td></tr><tr><td>0</td><td>25</td><td>&quot;test&quot;</td><td>&quot;intact&quot;</td><td>&quot;plus&quot;</td><td>&quot;attack&quot;</td><td>1</td><td>1.268</td><td>1</td><td>-1</td><td>13</td><td>13</td><td>101</td><td>0</td><td>0</td><td>0</td></tr><tr><td>0</td><td>26</td><td>&quot;test&quot;</td><td>&quot;rearranged&quot;</td><td>&quot;apply&quot;</td><td>&quot;ahead&quot;</td><td>1</td><td>2.118</td><td>0</td><td>4</td><td>56</td><td>52</td><td>101</td><td>0</td><td>0</td><td>0</td></tr><tr><td>0</td><td>27</td><td>&quot;test&quot;</td><td>&quot;rearranged&quot;</td><td>&quot;quarter&quot;</td><td>&quot;heavy&quot;</td><td>0</td><td>0.853</td><td>1</td><td>5</td><td>36</td><td>41</td><td>101</td><td>0</td><td>0</td><td>0</td></tr><tr><td>0</td><td>28</td><td>&quot;test&quot;</td><td>&quot;rearranged&quot;</td><td>&quot;detail&quot;</td><td>&quot;operation&quot;</td><td>0</td><td>0.996</td><td>1</td><td>5</td><td>41</td><td>36</td><td>101</td><td>0</td><td>0</td><td>0</td></tr><tr><td>0</td><td>29</td><td>&quot;test&quot;</td><td>&quot;intact&quot;</td><td>&quot;opening&quot;</td><td>&quot;absence&quot;</td><td>1</td><td>1.223</td><td>1</td><td>-1</td><td>47</td><td>47</td><td>101</td><td>0</td><td>0</td><td>0</td></tr><tr><td>0</td><td>30</td><td>&quot;test&quot;</td><td>&quot;intact&quot;</td><td>&quot;shock&quot;</td><td>&quot;ordinary&quot;</td><td>1</td><td>2.199</td><td>1</td><td>-1</td><td>25</td><td>25</td><td>101</td><td>-22</td><td>1</td><td>1</td></tr><tr><td>0</td><td>31</td><td>&quot;test&quot;</td><td>&quot;intact&quot;</td><td>&quot;brother&quot;</td><td>&quot;chapter&quot;</td><td>1</td><td>1.08</td><td>1</td><td>-1</td><td>20</td><td>20</td><td>101</td><td>-5</td><td>1</td><td>2</td></tr><tr><td>0</td><td>32</td><td>&quot;test&quot;</td><td>&quot;rearranged&quot;</td><td>&quot;upon&quot;</td><td>&quot;lord&quot;</td><td>0</td><td>1.571</td><td>1</td><td>5</td><td>2</td><td>7</td><td>101</td><td>0</td><td>0</td><td>0</td></tr><tr><td>0</td><td>33</td><td>&quot;test&quot;</td><td>&quot;intact&quot;</td><td>&quot;inner&quot;</td><td>&quot;died&quot;</td><td>0</td><td>1.076</td><td>0</td><td>-1</td><td>46</td><td>46</td><td>101</td><td>0</td><td>0</td><td>0</td></tr><tr><td>0</td><td>34</td><td>&quot;test&quot;</td><td>&quot;rearranged&quot;</td><td>&quot;brought&quot;</td><td>&quot;rate&quot;</td><td>0</td><td>0.888</td><td>1</td><td>3</td><td>5</td><td>8</td><td>101</td><td>0</td><td>0</td><td>0</td></tr><tr><td>0</td><td>35</td><td>&quot;test&quot;</td><td>&quot;intact&quot;</td><td>&quot;couple&quot;</td><td>&quot;foot&quot;</td><td>1</td><td>2.39</td><td>1</td><td>-1</td><td>31</td><td>31</td><td>101</td><td>0</td><td>0</td><td>0</td></tr><tr><td>0</td><td>36</td><td>&quot;test&quot;</td><td>&quot;rearranged&quot;</td><td>&quot;twenty&quot;</td><td>&quot;miss&quot;</td><td>0</td><td>1.541</td><td>1</td><td>5</td><td>7</td><td>2</td><td>101</td><td>0</td><td>0</td><td>0</td></tr><tr><td>0</td><td>37</td><td>&quot;test&quot;</td><td>&quot;rearranged&quot;</td><td>&quot;function&quot;</td><td>&quot;tradition&quot;</td><td>0</td><td>1.848</td><td>1</td><td>3</td><td>6</td><td>3</td><td>101</td><td>0</td><td>0</td><td>0</td></tr><tr><td>0</td><td>38</td><td>&quot;test&quot;</td><td>&quot;rearranged&quot;</td><td>&quot;soldiers&quot;</td><td>&quot;thoughts&quot;</td><td>0</td><td>0.824</td><td>1</td><td>3</td><td>37</td><td>40</td><td>101</td><td>0</td><td>0</td><td>0</td></tr><tr><td>0</td><td>39</td><td>&quot;test&quot;</td><td>&quot;rearranged&quot;</td><td>&quot;stick&quot;</td><td>&quot;variety&quot;</td><td>0</td><td>1.172</td><td>1</td><td>2</td><td>50</td><td>48</td><td>101</td><td>0</td><td>0</td><td>0</td></tr><tr><td>0</td><td>40</td><td>&quot;test&quot;</td><td>&quot;rearranged&quot;</td><td>&quot;circle&quot;</td><td>&quot;flow&quot;</td><td>0</td><td>3.864</td><td>1</td><td>4</td><td>52</td><td>56</td><td>101</td><td>0</td><td>0</td><td>0</td></tr><tr><td>0</td><td>41</td><td>&quot;test&quot;</td><td>&quot;rearranged&quot;</td><td>&quot;credit&quot;</td><td>&quot;aware&quot;</td><td>0</td><td>1.576</td><td>1</td><td>1</td><td>59</td><td>58</td><td>101</td><td>0</td><td>0</td><td>0</td></tr><tr><td>0</td><td>42</td><td>&quot;test&quot;</td><td>&quot;rearranged&quot;</td><td>&quot;post&quot;</td><td>&quot;talk&quot;</td><td>0</td><td>2.916</td><td>1</td><td>3</td><td>40</td><td>37</td><td>101</td><td>0</td><td>0</td><td>0</td></tr><tr><td>0</td><td>43</td><td>&quot;test&quot;</td><td>&quot;intact&quot;</td><td>&quot;rule&quot;</td><td>&quot;usual&quot;</td><td>0</td><td>1.334</td><td>0</td><td>-1</td><td>16</td><td>16</td><td>101</td><td>0</td><td>0</td><td>0</td></tr><tr><td>0</td><td>44</td><td>&quot;test&quot;</td><td>&quot;intact&quot;</td><td>&quot;free&quot;</td><td>&quot;throat&quot;</td><td>1</td><td>1.433</td><td>1</td><td>-1</td><td>51</td><td>51</td><td>101</td><td>35</td><td>0</td><td>1</td></tr><tr><td>0</td><td>45</td><td>&quot;test&quot;</td><td>&quot;intact&quot;</td><td>&quot;formal&quot;</td><td>&quot;positive&quot;</td><td>0</td><td>1.184</td><td>0</td><td>-1</td><td>0</td><td>0</td><td>101</td><td>-51</td><td>1</td><td>1</td></tr><tr><td>0</td><td>46</td><td>&quot;test&quot;</td><td>&quot;rearranged&quot;</td><td>&quot;stayed&quot;</td><td>&quot;advance&quot;</td><td>1</td><td>1.332</td><td>0</td><td>4</td><td>30</td><td>34</td><td>101</td><td>0</td><td>0</td><td>0</td></tr><tr><td>0</td><td>47</td><td>&quot;test&quot;</td><td>&quot;intact&quot;</td><td>&quot;enter&quot;</td><td>&quot;flesh&quot;</td><td>1</td><td>0.965</td><td>1</td><td>-1</td><td>11</td><td>11</td><td>101</td><td>0</td><td>0</td><td>0</td></tr><tr><td>0</td><td>48</td><td>&quot;test&quot;</td><td>&quot;intact&quot;</td><td>&quot;city&quot;</td><td>&quot;finger&quot;</td><td>1</td><td>1.318</td><td>1</td><td>-1</td><td>45</td><td>45</td><td>101</td><td>34</td><td>1</td><td>0</td></tr><tr><td>0</td><td>49</td><td>&quot;test&quot;</td><td>&quot;rearranged&quot;</td><td>&quot;analysis&quot;</td><td>&quot;civil&quot;</td><td>0</td><td>1.722</td><td>1</td><td>4</td><td>18</td><td>14</td><td>101</td><td>0</td><td>0</td><td>0</td></tr><tr><td>0</td><td>50</td><td>&quot;test&quot;</td><td>&quot;intact&quot;</td><td>&quot;technical&quot;</td><td>&quot;chosen&quot;</td><td>1</td><td>1.556</td><td>1</td><td>-1</td><td>22</td><td>22</td><td>101</td><td>0</td><td>0</td><td>0</td></tr><tr><td>0</td><td>51</td><td>&quot;test&quot;</td><td>&quot;rearranged&quot;</td><td>&quot;shirt&quot;</td><td>&quot;deal&quot;</td><td>0</td><td>1.928</td><td>1</td><td>5</td><td>49</td><td>44</td><td>101</td><td>0</td><td>0</td><td>0</td></tr><tr><td>0</td><td>52</td><td>&quot;test&quot;</td><td>&quot;rearranged&quot;</td><td>&quot;model&quot;</td><td>&quot;dropped&quot;</td><td>0</td><td>1.093</td><td>1</td><td>1</td><td>39</td><td>38</td><td>101</td><td>0</td><td>0</td><td>0</td></tr><tr><td>0</td><td>53</td><td>&quot;test&quot;</td><td>&quot;rearranged&quot;</td><td>&quot;actor&quot;</td><td>&quot;tears&quot;</td><td>0</td><td>1.028</td><td>1</td><td>2</td><td>48</td><td>50</td><td>101</td><td>0</td><td>0</td><td>0</td></tr><tr><td>0</td><td>54</td><td>&quot;test&quot;</td><td>&quot;intact&quot;</td><td>&quot;prove&quot;</td><td>&quot;airport&quot;</td><td>1</td><td>1.35</td><td>1</td><td>-1</td><td>4</td><td>4</td><td>101</td><td>0</td><td>0</td><td>0</td></tr><tr><td>0</td><td>55</td><td>&quot;test&quot;</td><td>&quot;intact&quot;</td><td>&quot;camp&quot;</td><td>&quot;invited&quot;</td><td>1</td><td>0.792</td><td>1</td><td>-1</td><td>24</td><td>24</td><td>101</td><td>20</td><td>1</td><td>1</td></tr><tr><td>0</td><td>56</td><td>&quot;test&quot;</td><td>&quot;intact&quot;</td><td>&quot;hidden&quot;</td><td>&quot;island&quot;</td><td>0</td><td>1.832</td><td>0</td><td>-1</td><td>33</td><td>33</td><td>101</td><td>9</td><td>1</td><td>0</td></tr><tr><td>0</td><td>57</td><td>&quot;test&quot;</td><td>&quot;rearranged&quot;</td><td>&quot;standing&quot;</td><td>&quot;music&quot;</td><td>1</td><td>1.525</td><td>0</td><td>4</td><td>34</td><td>30</td><td>101</td><td>0</td><td>0</td><td>0</td></tr><tr><td>0</td><td>58</td><td>&quot;test&quot;</td><td>&quot;intact&quot;</td><td>&quot;major&quot;</td><td>&quot;third&quot;</td><td>1</td><td>1.555</td><td>1</td><td>-1</td><td>17</td><td>17</td><td>101</td><td>0</td><td>0</td><td>0</td></tr></tbody></table></div>"
      ],
      "text/plain": [
       "shape: (60, 16)\n",
       "┌───────┬───────┬───────┬────────────┬───┬──────┬───────────┬──────────────┬────────┐\n",
       "│ cycle ┆ trial ┆ phase ┆ type       ┆ … ┆ subj ┆ intactLag ┆ prevResponse ┆ prevRT │\n",
       "│ ---   ┆ ---   ┆ ---   ┆ ---        ┆   ┆ ---  ┆ ---       ┆ ---          ┆ ---    │\n",
       "│ i64   ┆ i64   ┆ str   ┆ str        ┆   ┆ i64  ┆ i64       ┆ i64          ┆ i64    │\n",
       "╞═══════╪═══════╪═══════╪════════════╪═══╪══════╪═══════════╪══════════════╪════════╡\n",
       "│ 0     ┆ -1    ┆ test  ┆ rearranged ┆ … ┆ 101  ┆ 0         ┆ 0            ┆ 0      │\n",
       "│ 0     ┆ 0     ┆ test  ┆ rearranged ┆ … ┆ 101  ┆ 0         ┆ 0            ┆ 0      │\n",
       "│ 0     ┆ 1     ┆ test  ┆ rearranged ┆ … ┆ 101  ┆ 0         ┆ 0            ┆ 0      │\n",
       "│ 0     ┆ 2     ┆ test  ┆ rearranged ┆ … ┆ 101  ┆ 0         ┆ 0            ┆ 0      │\n",
       "│ 0     ┆ 3     ┆ test  ┆ rearranged ┆ … ┆ 101  ┆ 0         ┆ 0            ┆ 0      │\n",
       "│ 0     ┆ 4     ┆ test  ┆ intact     ┆ … ┆ 101  ┆ 0         ┆ 0            ┆ 0      │\n",
       "│ 0     ┆ 5     ┆ test  ┆ intact     ┆ … ┆ 101  ┆ 34        ┆ 1            ┆ 1      │\n",
       "│ 0     ┆ 6     ┆ test  ┆ rearranged ┆ … ┆ 101  ┆ 0         ┆ 0            ┆ 0      │\n",
       "│ 0     ┆ 7     ┆ test  ┆ intact     ┆ … ┆ 101  ┆ 0         ┆ 0            ┆ 0      │\n",
       "│ 0     ┆ 8     ┆ test  ┆ intact     ┆ … ┆ 101  ┆ -10       ┆ 1            ┆ 2      │\n",
       "│ 0     ┆ 9     ┆ test  ┆ intact     ┆ … ┆ 101  ┆ 4         ┆ 1            ┆ 1      │\n",
       "│ 0     ┆ 10    ┆ test  ┆ rearranged ┆ … ┆ 101  ┆ 0         ┆ 0            ┆ 0      │\n",
       "│ 0     ┆ 11    ┆ test  ┆ rearranged ┆ … ┆ 101  ┆ 0         ┆ 0            ┆ 0      │\n",
       "│ 0     ┆ 12    ┆ test  ┆ rearranged ┆ … ┆ 101  ┆ 0         ┆ 0            ┆ 0      │\n",
       "│ 0     ┆ 13    ┆ test  ┆ intact     ┆ … ┆ 101  ┆ 0         ┆ 0            ┆ 0      │\n",
       "│ 0     ┆ 14    ┆ test  ┆ intact     ┆ … ┆ 101  ┆ 5         ┆ 1            ┆ 1      │\n",
       "│ 0     ┆ 15    ┆ test  ┆ intact     ┆ … ┆ 101  ┆ 17        ┆ 1            ┆ 1      │\n",
       "│ 0     ┆ 16    ┆ test  ┆ rearranged ┆ … ┆ 101  ┆ 0         ┆ 0            ┆ 0      │\n",
       "│ 0     ┆ 17    ┆ test  ┆ intact     ┆ … ┆ 101  ┆ 0         ┆ 0            ┆ 0      │\n",
       "│ 0     ┆ 18    ┆ test  ┆ intact     ┆ … ┆ 101  ┆ 17        ┆ 1            ┆ 5      │\n",
       "│ 0     ┆ 19    ┆ test  ┆ intact     ┆ … ┆ 101  ┆ 10        ┆ 1            ┆ 1      │\n",
       "│ 0     ┆ 20    ┆ test  ┆ intact     ┆ … ┆ 101  ┆ -33       ┆ 0            ┆ 1      │\n",
       "│ 0     ┆ 21    ┆ test  ┆ intact     ┆ … ┆ 101  ┆ 44        ┆ 1            ┆ 1      │\n",
       "│ 0     ┆ 22    ┆ test  ┆ intact     ┆ … ┆ 101  ┆ 1         ┆ 1            ┆ 1      │\n",
       "│ 0     ┆ 23    ┆ test  ┆ rearranged ┆ … ┆ 101  ┆ 0         ┆ 0            ┆ 0      │\n",
       "│ 0     ┆ 24    ┆ test  ┆ rearranged ┆ … ┆ 101  ┆ 0         ┆ 0            ┆ 0      │\n",
       "│ 0     ┆ 25    ┆ test  ┆ intact     ┆ … ┆ 101  ┆ 0         ┆ 0            ┆ 0      │\n",
       "│ 0     ┆ 26    ┆ test  ┆ rearranged ┆ … ┆ 101  ┆ 0         ┆ 0            ┆ 0      │\n",
       "│ 0     ┆ 27    ┆ test  ┆ rearranged ┆ … ┆ 101  ┆ 0         ┆ 0            ┆ 0      │\n",
       "│ 0     ┆ 28    ┆ test  ┆ rearranged ┆ … ┆ 101  ┆ 0         ┆ 0            ┆ 0      │\n",
       "│ 0     ┆ 29    ┆ test  ┆ intact     ┆ … ┆ 101  ┆ 0         ┆ 0            ┆ 0      │\n",
       "│ 0     ┆ 30    ┆ test  ┆ intact     ┆ … ┆ 101  ┆ -22       ┆ 1            ┆ 1      │\n",
       "│ 0     ┆ 31    ┆ test  ┆ intact     ┆ … ┆ 101  ┆ -5        ┆ 1            ┆ 2      │\n",
       "│ 0     ┆ 32    ┆ test  ┆ rearranged ┆ … ┆ 101  ┆ 0         ┆ 0            ┆ 0      │\n",
       "│ 0     ┆ 33    ┆ test  ┆ intact     ┆ … ┆ 101  ┆ 0         ┆ 0            ┆ 0      │\n",
       "│ 0     ┆ 34    ┆ test  ┆ rearranged ┆ … ┆ 101  ┆ 0         ┆ 0            ┆ 0      │\n",
       "│ 0     ┆ 35    ┆ test  ┆ intact     ┆ … ┆ 101  ┆ 0         ┆ 0            ┆ 0      │\n",
       "│ 0     ┆ 36    ┆ test  ┆ rearranged ┆ … ┆ 101  ┆ 0         ┆ 0            ┆ 0      │\n",
       "│ 0     ┆ 37    ┆ test  ┆ rearranged ┆ … ┆ 101  ┆ 0         ┆ 0            ┆ 0      │\n",
       "│ 0     ┆ 38    ┆ test  ┆ rearranged ┆ … ┆ 101  ┆ 0         ┆ 0            ┆ 0      │\n",
       "│ 0     ┆ 39    ┆ test  ┆ rearranged ┆ … ┆ 101  ┆ 0         ┆ 0            ┆ 0      │\n",
       "│ 0     ┆ 40    ┆ test  ┆ rearranged ┆ … ┆ 101  ┆ 0         ┆ 0            ┆ 0      │\n",
       "│ 0     ┆ 41    ┆ test  ┆ rearranged ┆ … ┆ 101  ┆ 0         ┆ 0            ┆ 0      │\n",
       "│ 0     ┆ 42    ┆ test  ┆ rearranged ┆ … ┆ 101  ┆ 0         ┆ 0            ┆ 0      │\n",
       "│ 0     ┆ 43    ┆ test  ┆ intact     ┆ … ┆ 101  ┆ 0         ┆ 0            ┆ 0      │\n",
       "│ 0     ┆ 44    ┆ test  ┆ intact     ┆ … ┆ 101  ┆ 35        ┆ 0            ┆ 1      │\n",
       "│ 0     ┆ 45    ┆ test  ┆ intact     ┆ … ┆ 101  ┆ -51       ┆ 1            ┆ 1      │\n",
       "│ 0     ┆ 46    ┆ test  ┆ rearranged ┆ … ┆ 101  ┆ 0         ┆ 0            ┆ 0      │\n",
       "│ 0     ┆ 47    ┆ test  ┆ intact     ┆ … ┆ 101  ┆ 0         ┆ 0            ┆ 0      │\n",
       "│ 0     ┆ 48    ┆ test  ┆ intact     ┆ … ┆ 101  ┆ 34        ┆ 1            ┆ 0      │\n",
       "│ 0     ┆ 49    ┆ test  ┆ rearranged ┆ … ┆ 101  ┆ 0         ┆ 0            ┆ 0      │\n",
       "│ 0     ┆ 50    ┆ test  ┆ intact     ┆ … ┆ 101  ┆ 0         ┆ 0            ┆ 0      │\n",
       "│ 0     ┆ 51    ┆ test  ┆ rearranged ┆ … ┆ 101  ┆ 0         ┆ 0            ┆ 0      │\n",
       "│ 0     ┆ 52    ┆ test  ┆ rearranged ┆ … ┆ 101  ┆ 0         ┆ 0            ┆ 0      │\n",
       "│ 0     ┆ 53    ┆ test  ┆ rearranged ┆ … ┆ 101  ┆ 0         ┆ 0            ┆ 0      │\n",
       "│ 0     ┆ 54    ┆ test  ┆ intact     ┆ … ┆ 101  ┆ 0         ┆ 0            ┆ 0      │\n",
       "│ 0     ┆ 55    ┆ test  ┆ intact     ┆ … ┆ 101  ┆ 20        ┆ 1            ┆ 1      │\n",
       "│ 0     ┆ 56    ┆ test  ┆ intact     ┆ … ┆ 101  ┆ 9         ┆ 1            ┆ 0      │\n",
       "│ 0     ┆ 57    ┆ test  ┆ rearranged ┆ … ┆ 101  ┆ 0         ┆ 0            ┆ 0      │\n",
       "│ 0     ┆ 58    ┆ test  ┆ intact     ┆ … ┆ 101  ┆ 0         ┆ 0            ┆ 0      │\n",
       "└───────┴───────┴───────┴────────────┴───┴──────┴───────────┴──────────────┴────────┘"
      ]
     },
     "metadata": {},
     "output_type": "display_data"
    }
   ],
   "source": [
    "from IPython.display import display\n",
    "with pl.Config(tbl_rows=60):\n",
    "    display(df_test_cycle1)\n",
    "# OR:\n",
    "# pl.Config.set_tbl_rows(60)\n",
    "# display(df_test_cycle1)\n",
    "# pl.Config.restore_defaults()"
   ]
  },
  {
   "cell_type": "markdown",
   "metadata": {},
   "source": [
    "### Result"
   ]
  },
  {
   "cell_type": "code",
   "execution_count": 30,
   "metadata": {},
   "outputs": [],
   "source": [
    "assert pl.Config.state()[\"POLARS_FMT_MAX_ROWS\"] is None, \"default options should be set\""
   ]
  }
 ],
 "metadata": {
  "kernelspec": {
   "display_name": "datascipsych",
   "language": "python",
   "name": "datascipsych"
  },
  "language_info": {
   "codemirror_mode": {
    "name": "ipython",
    "version": 3
   },
   "file_extension": ".py",
   "mimetype": "text/x-python",
   "name": "python",
   "nbconvert_exporter": "python",
   "pygments_lexer": "ipython3",
   "version": "3.12.8"
  }
 },
 "nbformat": 4,
 "nbformat_minor": 2
}
