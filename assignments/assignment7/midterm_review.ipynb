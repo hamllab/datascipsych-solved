{
 "cells": [
  {
   "cell_type": "markdown",
   "id": "1ba6b421-0803-4fa6-9c12-ea5f825ba0f7",
   "metadata": {
    "editable": true,
    "slideshow": {
     "slide_type": ""
    },
    "tags": []
   },
   "source": [
    "# Midterm review\n",
    "\n",
    "Before getting into issues of project management and improving our data analysis code, we will review what we have covered so far in the course."
   ]
  },
  {
   "cell_type": "markdown",
   "id": "0d15b46a-1768-4db4-8949-578d0eb7bb20",
   "metadata": {
    "editable": true,
    "slideshow": {
     "slide_type": ""
    },
    "tags": []
   },
   "source": [
    "## Python variables"
   ]
  },
  {
   "cell_type": "markdown",
   "id": "07101a72-902a-4a2d-9e12-670a54bc7263",
   "metadata": {
    "editable": true,
    "slideshow": {
     "slide_type": ""
    },
    "tags": []
   },
   "source": [
    "## Python control flow"
   ]
  },
  {
   "cell_type": "markdown",
   "id": "706d0673-e186-4c1f-8dc7-417331d4a3fa",
   "metadata": {
    "editable": true,
    "slideshow": {
     "slide_type": ""
    },
    "tags": []
   },
   "source": [
    "## NumPy arrays"
   ]
  },
  {
   "cell_type": "markdown",
   "id": "b1b11b2a-7e7b-4ffa-a80a-6bc6a0fe174a",
   "metadata": {
    "editable": true,
    "slideshow": {
     "slide_type": ""
    },
    "tags": []
   },
   "source": [
    "## Descriptive statistics"
   ]
  }
 ],
 "metadata": {
  "kernelspec": {
   "display_name": "datascipsych",
   "language": "python",
   "name": "datascipsych"
  },
  "language_info": {
   "codemirror_mode": {
    "name": "ipython",
    "version": 3
   },
   "file_extension": ".py",
   "mimetype": "text/x-python",
   "name": "python",
   "nbconvert_exporter": "python",
   "pygments_lexer": "ipython3",
   "version": "3.12.8"
  }
 },
 "nbformat": 4,
 "nbformat_minor": 5
}
