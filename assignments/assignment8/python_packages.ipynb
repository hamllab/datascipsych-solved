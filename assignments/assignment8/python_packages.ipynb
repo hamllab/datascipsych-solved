{
 "cells": [
  {
   "cell_type": "markdown",
   "metadata": {
    "editable": true,
    "slideshow": {
     "slide_type": "slide"
    },
    "tags": []
   },
   "source": [
    "# Python Packages\n",
    "\n",
    "Python packages are used for functionality that is not included in the Python standard library. Anyone can write and share Python packages through the Python Package Index (PyPI) or other repositories like GitHub. Unlike code in Jupyter notebooks, packages make it easy to develop functions that can be used in different contexts; for example, a package might include an analysis function that is used in multiple notebooks."
   ]
  },
  {
   "cell_type": "markdown",
   "metadata": {
    "editable": true,
    "slideshow": {
     "slide_type": "slide"
    },
    "tags": []
   },
   "source": [
    "## Python modules\n",
    "\n",
    "Python modules are `.py` files that contain functions and attributes. They can be accessed by importing them. We can import the `analysis` module because it is in the same directory as this notebook."
   ]
  },
  {
   "cell_type": "code",
   "execution_count": 1,
   "metadata": {},
   "outputs": [],
   "source": [
    "import analysis"
   ]
  },
  {
   "cell_type": "markdown",
   "metadata": {
    "editable": true,
    "slideshow": {
     "slide_type": "fragment"
    },
    "tags": []
   },
   "source": [
    "For example, we have a function that can be used to take trial types and responses and calculate d-prime, as measure of response accuracy."
   ]
  },
  {
   "cell_type": "code",
   "execution_count": 2,
   "metadata": {},
   "outputs": [
    {
     "data": {
      "text/plain": [
       "np.float64(0.967421566101701)"
      ]
     },
     "execution_count": 2,
     "metadata": {},
     "output_type": "execute_result"
    }
   ],
   "source": [
    "trial_type = [\"target\", \"lure\", \"lure\", \"target\", \"target\", \"target\"]\n",
    "response = [\"old\", \"old\", \"new\", \"new\", \"old\", \"old\"]\n",
    "analysis.dprime(trial_type, response)"
   ]
  },
  {
   "cell_type": "markdown",
   "metadata": {
    "editable": true,
    "slideshow": {
     "slide_type": "slide"
    },
    "tags": []
   },
   "source": [
    "We can use help to see docstrings for the module and each function, just like we can do for built-in modules like `math` and third-party modules like `numpy`."
   ]
  },
  {
   "cell_type": "code",
   "execution_count": 3,
   "metadata": {},
   "outputs": [
    {
     "name": "stdout",
     "output_type": "stream",
     "text": [
      "Help on module analysis:\n",
      "\n",
      "NAME\n",
      "    analysis - Sample module with some sample functions for data analysis.\n",
      "\n",
      "FUNCTIONS\n",
      "    dprime(trial_type, response)\n",
      "        Calculate d-prime for recognition memory task responses.\n",
      "\n",
      "        Args:\n",
      "          trial_type:\n",
      "            An iterable with strings, indicating whether each trial is a \"target\"\n",
      "            or \"lure\".\n",
      "          response:\n",
      "            An iterable with strings, indicating whether the response on each trial\n",
      "            was \"old\" or \"new\".\n",
      "\n",
      "        Returns:\n",
      "          The d-prime measure of recognition accuracy.\n",
      "\n",
      "    exclude_fast_responses(response_times, threshold)\n",
      "        Exclude response times that are too fast.\n",
      "\n",
      "        Args:\n",
      "          response_times:\n",
      "            An iterable with response times.\n",
      "          threshold:\n",
      "            Threshold for marking response times. Response times less than or equal\n",
      "            to the threshold will be marked False.\n",
      "\n",
      "        Returns:\n",
      "          filtered:\n",
      "            An array with only the included response times.\n",
      "          is_included:\n",
      "            A boolean array that is False for responses less than the threshold,\n",
      "            and True otherwise.\n",
      "\n",
      "FILE\n",
      "    /Users/morton/VS Code/datascipsych/assignments/assignment8/analysis.py\n",
      "\n",
      "\n"
     ]
    }
   ],
   "source": [
    "help(analysis)"
   ]
  },
  {
   "cell_type": "markdown",
   "metadata": {
    "editable": true,
    "slideshow": {
     "slide_type": "slide"
    },
    "tags": []
   },
   "source": [
    "Let's try adding a new function. Edit `analysis.py` to add a function called `hello` that takes no inputs and just prints `\"hello world\"` when called. Add a docstring that says `\"Print 'hello world'\"`. Try calling it using `analysis.hello()`."
   ]
  },
  {
   "cell_type": "code",
   "execution_count": 4,
   "metadata": {},
   "outputs": [],
   "source": [
    "# analysis.hello()  # uncommment to try running the new function"
   ]
  },
  {
   "cell_type": "markdown",
   "metadata": {
    "editable": true,
    "slideshow": {
     "slide_type": "fragment"
    },
    "tags": []
   },
   "source": [
    "You probably got an error saying `AttributeError: module 'analysis' has no attribute 'hello'`. This is because Python does not automatically update a module when you change the code. Try importing the module again using `import analysis`. Then call the function using `analysis.hello()`."
   ]
  },
  {
   "cell_type": "code",
   "execution_count": 5,
   "metadata": {},
   "outputs": [],
   "source": [
    "import analysis\n",
    "# analysis.hello()  # uncommment to try running the new function"
   ]
  },
  {
   "cell_type": "markdown",
   "metadata": {
    "editable": true,
    "slideshow": {
     "slide_type": "fragment"
    },
    "tags": []
   },
   "source": [
    "You probably got the same error again. This is because `import` only runs if the module has not been imported already. Python halts importing of previously imported modules because importing takes time, and a module may be imported in multiple places when importing a package. To avoid running the same code multiple times, will only import a module once."
   ]
  },
  {
   "cell_type": "markdown",
   "metadata": {
    "editable": true,
    "slideshow": {
     "slide_type": "slide"
    },
    "tags": []
   },
   "source": [
    "What should we do then, if we want to work on developing a new module?\n",
    "\n",
    "We can always restart the notebook kernel and re-run all the cells. This takes time, though, and can slow things down when working on a notebook.\n",
    "\n",
    "A better solution is to use the `importlib` module to *reload* a module that has already been imported."
   ]
  },
  {
   "cell_type": "code",
   "execution_count": 6,
   "metadata": {},
   "outputs": [
    {
     "data": {
      "text/plain": [
       "<module 'analysis' from '/Users/morton/VS Code/datascipsych/assignments/assignment8/analysis.py'>"
      ]
     },
     "execution_count": 6,
     "metadata": {},
     "output_type": "execute_result"
    }
   ],
   "source": [
    "import importlib\n",
    "importlib.reload(analysis)\n",
    "# analysis.hello()  # uncomment to try running the new function\n",
    "# help(analysis.hello)  # uncomment to see function docstring"
   ]
  },
  {
   "cell_type": "markdown",
   "metadata": {
    "editable": true,
    "slideshow": {
     "slide_type": "fragment"
    },
    "tags": []
   },
   "source": [
    "The `importlib.reload` function takes a module, looks up the current source code, and updates the imported module to reflect the latest code."
   ]
  },
  {
   "cell_type": "markdown",
   "metadata": {
    "editable": true,
    "slideshow": {
     "slide_type": "slide"
    },
    "tags": []
   },
   "source": [
    "### Exercise: developing a module\n",
    "\n",
    "Add a function called `ismissing` to `analysis.py` that takes in a `response` NumPy array and returns a boolean array that is `True` for items that are equal to `\"n/a\"`. Make a test array and check that your function works.\n",
    "\n",
    "#### Advanced\n",
    "\n",
    "Extend your function to also work with lists. If one of the inputs to a function may be either a list or a NumPy array, you can use `np.asarray` to either convert to a NumPy array (in case the input is a list) or do nothing (if the input is already a NumPy array)."
   ]
  },
  {
   "cell_type": "code",
   "execution_count": 7,
   "metadata": {},
   "outputs": [],
   "source": [
    "# answer here"
   ]
  },
  {
   "cell_type": "markdown",
   "metadata": {
    "editable": true,
    "slideshow": {
     "slide_type": "slide"
    },
    "tags": []
   },
   "source": [
    "## The search path\n",
    "\n",
    "Python does not automatically have access to all Python code on your computer. To import a module, it must be in a list of directories called the *search path*."
   ]
  },
  {
   "cell_type": "markdown",
   "metadata": {
    "editable": true,
    "slideshow": {
     "slide_type": "slide"
    },
    "tags": []
   },
   "source": [
    "We can see the current path using `sys.path`. The `sys` module provides access to information that is specific to your system."
   ]
  },
  {
   "cell_type": "code",
   "execution_count": 8,
   "metadata": {
    "editable": true,
    "slideshow": {
     "slide_type": ""
    },
    "tags": []
   },
   "outputs": [
    {
     "data": {
      "text/plain": [
       "['/Users/morton/.pyenv/versions/3.12.8/lib/python312.zip',\n",
       " '/Users/morton/.pyenv/versions/3.12.8/lib/python3.12',\n",
       " '/Users/morton/.pyenv/versions/3.12.8/lib/python3.12/lib-dynload',\n",
       " '',\n",
       " '/Users/morton/VS Code/datascipsych/.venv/lib/python3.12/site-packages',\n",
       " '/Users/morton/VS Code/datascipsych/src']"
      ]
     },
     "execution_count": 8,
     "metadata": {},
     "output_type": "execute_result"
    }
   ],
   "source": [
    "import sys\n",
    "sys.path"
   ]
  },
  {
   "cell_type": "markdown",
   "metadata": {
    "editable": true,
    "slideshow": {
     "slide_type": "fragment"
    },
    "tags": []
   },
   "source": [
    "The path shown will depend on your system. Each entry in the list is one directory where Python will look for modules."
   ]
  },
  {
   "cell_type": "markdown",
   "metadata": {
    "editable": true,
    "slideshow": {
     "slide_type": "fragment"
    },
    "tags": []
   },
   "source": [
    "The empty string indicates the current directory; if it is included, this means that modules in your current directory, like `analysis.py`, can be imported. \n",
    "\n",
    "You should also see a `site-packages` directory; this is where Python packages are installed when you run `pip install`. \n",
    "\n",
    "You may also see the `src` directory of this project. If a project is installed using a command like `pip install -e .`, with the `-e` (editable) flag, then the source code will be added to your path so you can make changes and have them immediately \"installed\"."
   ]
  },
  {
   "cell_type": "markdown",
   "metadata": {
    "editable": true,
    "slideshow": {
     "slide_type": "slide"
    },
    "tags": []
   },
   "source": [
    "We can use the `os` module to see files in a directory. Let's use it to look at the files in the current directory."
   ]
  },
  {
   "cell_type": "code",
   "execution_count": 9,
   "metadata": {},
   "outputs": [
    {
     "data": {
      "text/plain": [
       "['analysis.py', '__pycache__', 'python_packages.ipynb', '.ipynb_checkpoints']"
      ]
     },
     "execution_count": 9,
     "metadata": {},
     "output_type": "execute_result"
    }
   ],
   "source": [
    "import os\n",
    "os.listdir(\".\")"
   ]
  },
  {
   "cell_type": "markdown",
   "metadata": {
    "editable": true,
    "slideshow": {
     "slide_type": "fragment"
    },
    "tags": []
   },
   "source": [
    "This should show the `analysis.py` file that we've been working with. Because the current directory is automatically added to the search path, we can import modules from it."
   ]
  },
  {
   "cell_type": "markdown",
   "metadata": {
    "editable": true,
    "slideshow": {
     "slide_type": "slide"
    },
    "tags": []
   },
   "source": [
    "If we look in the `site-packages` directory, we can see all the packages that have been installed into our virtual environment."
   ]
  },
  {
   "cell_type": "code",
   "execution_count": 10,
   "metadata": {},
   "outputs": [
    {
     "data": {
      "text/plain": [
       "['fastjsonschema',\n",
       " 'polars-1.21.0.dist-info',\n",
       " 'overrides',\n",
       " 'jupyterlab_rise-0.43.1.dist-info',\n",
       " 'arrow-1.3.0.dist-info',\n",
       " 'async_lru-2.0.4.dist-info',\n",
       " 'uri_template-1.3.0.dist-info',\n",
       " 'appnope',\n",
       " 'packaging',\n",
       " 'rfc3339_validator-0.1.4.dist-info']"
      ]
     },
     "execution_count": 10,
     "metadata": {},
     "output_type": "execute_result"
    }
   ],
   "source": [
    "sp = [p for p in sys.path if p.endswith(\"site-packages\")][0]\n",
    "os.listdir(sp)[:10]"
   ]
  },
  {
   "cell_type": "markdown",
   "metadata": {
    "editable": true,
    "slideshow": {
     "slide_type": "slide"
    },
    "tags": []
   },
   "source": [
    "Finally, if the `datascipsych` package is installed, we will have a `src` directory with that package installed. This setup helps us develop a Python package with one or more modules, which we can import and use in our notebooks."
   ]
  },
  {
   "cell_type": "code",
   "execution_count": 11,
   "metadata": {},
   "outputs": [
    {
     "name": "stdout",
     "output_type": "stream",
     "text": [
      "['datascipsych.egg-info', 'datascipsych']\n"
     ]
    }
   ],
   "source": [
    "sp = [p for p in sys.path if p.endswith(\"src\")]\n",
    "if sp:\n",
    "    print(os.listdir(sp[0]))"
   ]
  },
  {
   "cell_type": "markdown",
   "metadata": {
    "editable": true,
    "slideshow": {
     "slide_type": "slide"
    },
    "tags": []
   },
   "source": [
    "The `examples` module has versions of the `hello` and `ismissing` functions that we wrote earlier."
   ]
  },
  {
   "cell_type": "code",
   "execution_count": 12,
   "metadata": {
    "editable": true,
    "slideshow": {
     "slide_type": ""
    },
    "tags": []
   },
   "outputs": [
    {
     "name": "stdout",
     "output_type": "stream",
     "text": [
      "Help on module datascipsych.examples in datascipsych:\n",
      "\n",
      "NAME\n",
      "    datascipsych.examples - Module with example functions.\n",
      "\n",
      "FUNCTIONS\n",
      "    hello()\n",
      "        Print a greeting.\n",
      "\n",
      "    ismissing(responses)\n",
      "        Check if responses are n/a.\n",
      "\n",
      "FILE\n",
      "    /Users/morton/VS Code/datascipsych/src/datascipsych/examples.py\n",
      "\n",
      "\n"
     ]
    }
   ],
   "source": [
    "from datascipsych import examples\n",
    "help(examples)"
   ]
  },
  {
   "cell_type": "markdown",
   "metadata": {
    "editable": true,
    "slideshow": {
     "slide_type": "fragment"
    },
    "tags": []
   },
   "source": [
    "Note the FILE section at the end, which should show the path to the `examples.py` module file in your copy of the `datascipsych` project."
   ]
  },
  {
   "cell_type": "markdown",
   "metadata": {
    "editable": true,
    "slideshow": {
     "slide_type": "slide"
    },
    "tags": []
   },
   "source": [
    "## Python packages\n",
    "\n",
    "A common approach for Python coding is to have `.py` files in a directory, which can be imported as module and used in notebooks and scripts. This approach is simpler than creating Python packages, but packages have advantages.\n",
    "\n",
    "Python packages include information about code version, authors, any Python version requirements, and package dependencies like NumPy and Polars. You can also indicate the specific versions of dependencies that are required. They are also installable just like any of the packages you can download using pip. This makes it so, once your package has been installed, you can change your current directory and still have access to your code. Finally, making a package allows you to share your code in a form that others can easily install into their Python environment."
   ]
  },
  {
   "cell_type": "markdown",
   "metadata": {
    "editable": true,
    "slideshow": {
     "slide_type": "slide"
    },
    "tags": []
   },
   "source": [
    "To create a Python package, we need this basic directory setup:\n",
    "\n",
    "```bash\n",
    "myproject\n",
    "├── pyproject.toml\n",
    "└── src\n",
    "    └── mypackage\n",
    "        ├── __init__.py\n",
    "        ├── mymodule1.py\n",
    "        └── mymodule2.py\n",
    "```"
   ]
  },
  {
   "cell_type": "markdown",
   "metadata": {
    "editable": true,
    "slideshow": {
     "slide_type": "fragment"
    },
    "tags": []
   },
   "source": [
    "The `myproject` directory has all of the files related to your project. The `pyproject.toml` file has metadata about your project, and includes information about how to install your package. The `src` directory contains source code for the package. The `mypackage` directory should have the same name as your package. The `__init__.py` file is a (usually) empty file that lets Python know that this is a package."
   ]
  },
  {
   "cell_type": "markdown",
   "metadata": {
    "editable": true,
    "slideshow": {
     "slide_type": "fragment"
    },
    "tags": []
   },
   "source": [
    "The module files under `mypackage` will be importable. For example, after installation, you could import `mymodule1` using `from mypackage import mymodule1`."
   ]
  },
  {
   "cell_type": "markdown",
   "metadata": {
    "editable": true,
    "slideshow": {
     "slide_type": "slide"
    },
    "tags": []
   },
   "source": [
    "## Package configuration\n",
    "\n",
    "The `pyproject.toml` file in the main project directory provides metadata about the package, including dependencies that must be installed to use it."
   ]
  },
  {
   "cell_type": "markdown",
   "metadata": {
    "editable": true,
    "slideshow": {
     "slide_type": "slide"
    },
    "tags": []
   },
   "source": [
    "The `pyproject.toml` file follows a standard format. The file extension is `.toml`, which stands for Tom's Obvious Minimal Language. It's designed for files like this, that configure how programs work.\n",
    "\n",
    "The available features of `pyproject.toml` files are still evolving. See the [Python Packaging User Guide](https://packaging.python.org/en/latest/guides/writing-pyproject-toml/) for up-to-date details.\n",
    "\n",
    "There are two main \"tables\", which are indicated by a name in brackets. The tables are `[project]`, which contains information about the project, and `[build-system]`, which has information about the program that will be used to install the code."
   ]
  },
  {
   "cell_type": "markdown",
   "metadata": {
    "editable": true,
    "slideshow": {
     "slide_type": "slide"
    },
    "tags": []
   },
   "source": [
    "The first fields specify the name and version of the package, a short description, and information about the authors. For example:\n",
    "\n",
    "```python\n",
    "[project]\n",
    "name = \"datascipsych\"\n",
    "version = \"0.1.0\"\n",
    "description = \"Code for the Data Science for Psychology course.\"\n",
    "authors = [\n",
    "    {name = \"Neal W Morton\", email = \"mortonne@gmail.com\"}\n",
    "]\n",
    "```"
   ]
  },
  {
   "cell_type": "markdown",
   "metadata": {
    "editable": true,
    "slideshow": {
     "slide_type": "fragment"
    },
    "tags": []
   },
   "source": [
    "TOML code looks a lot like Python code (it has lists and dictionaries), but the syntax is a little different."
   ]
  },
  {
   "cell_type": "markdown",
   "metadata": {
    "editable": true,
    "slideshow": {
     "slide_type": "slide"
    },
    "tags": []
   },
   "source": [
    "The version code should generally follow [Semantic Versioning](https://semver.org/). In a version string \"X.Y.Z\":\n",
    "\n",
    "\"X\" indicates the *major* version. A change in the major version indicates that there is been a *breaking change*; that is, updating to that version may cause code that used to work to stop working.\n",
    "\n",
    "\"Y\" indicates the *minor* version. A change in the minor version indicates that functionality has been added in a reverse-compatible manner. That is, updating will give access to new features, but should not break existing code.\n",
    "\n",
    "\"Z\" indicates the *patch* version. A change in the patch version indicates that one or more bugs has been fixed.\n",
    "\n",
    "If the major version is 0, that indicates that the package isn't *stable* yet, meaning that updates may break existing code that uses the package."
   ]
  },
  {
   "cell_type": "markdown",
   "metadata": {
    "editable": true,
    "slideshow": {
     "slide_type": "slide"
    },
    "tags": []
   },
   "source": [
    "In the `[project]` table, we should also list any required dependencies. For example, if we want to be able to import and use NumPy, Polars, and Seaborn in our code, we could include this list in `pyproject.toml`:\n",
    "\n",
    "```python\n",
    "dependencies = [\n",
    "    \"numpy\",\n",
    "    \"polars\",\n",
    "    \"seaborn\"\n",
    "]\n",
    "```"
   ]
  },
  {
   "cell_type": "markdown",
   "metadata": {
    "editable": true,
    "slideshow": {
     "slide_type": "fragment"
    },
    "tags": []
   },
   "source": [
    "We can optionally specify requirements for dependency versions. See the [Python Packaging User Guide](https://packaging.python.org/en/latest/specifications/version-specifiers/#id5) for information about version specifiers.\n",
    "\n",
    "It's often a good idea to at least indicate the major version of dependencies, because changes to major versions may cause your code to stop working. For example, if you tested your code with NumPy 2.2.2, and want to make sure your code is always run with a compatible version, you could put `\"numpy ~= 2.2\"` in your `pyproject.toml` file."
   ]
  },
  {
   "cell_type": "markdown",
   "metadata": {
    "editable": true,
    "slideshow": {
     "slide_type": "slide"
    },
    "tags": []
   },
   "source": [
    "Finally, we should also include information about the program that should be used to build our package for installation. There are multiple packaging programs for Python, including Setuptools, Hatchling, Flit, PDM, and Poetry.\n",
    "\n",
    "Setuptools is the oldest, most popular, and most flexible. We'll use Setuptools here.\n",
    "\n",
    "To indicate the build system, we add a `[build-system]` table. For example, this code can be added to indicate that Setuptools should be used:\n",
    "```python\n",
    "[build-system]\n",
    "requires = [\"setuptools >= 61.0\"]\n",
    "build-backend = \"setuptools.build_meta\"\n",
    "```"
   ]
  },
  {
   "cell_type": "markdown",
   "metadata": {
    "editable": true,
    "slideshow": {
     "slide_type": "slide"
    },
    "tags": []
   },
   "source": [
    "### Exercise: creating a package\n",
    "\n",
    "Create a new folder on your system called `myproject`. Open that directory in your IDE. Then create a `src` directory with a `mypackage` directory in it, and a blank `__init__.py` file within that.\n",
    "\n",
    "In the `myproject` directory, create a file called `pyproject.toml`. In the `[project]` table, add entries for `name`, `description`, `version`, and `authors`. Add `numpy` and `polars` as dependencies. Finally, add a `[build-system]` table for Setuptools.\n",
    "\n",
    "Set up a virtual environment for your project."
   ]
  },
  {
   "cell_type": "markdown",
   "metadata": {
    "editable": true,
    "slideshow": {
     "slide_type": "slide"
    },
    "tags": []
   },
   "source": [
    "## Version tracking\n",
    "\n",
    "Professional programmers use programs called version control systems (VCS) to keep track of changes to their code. This makes it possible to see when code was changed, who changed it, and why. When using a VCS, old code is never lost; it's always available somewhere in the stored history of the code repository."
   ]
  },
  {
   "cell_type": "markdown",
   "metadata": {
    "editable": true,
    "slideshow": {
     "slide_type": "slide"
    },
    "tags": []
   },
   "source": [
    "Today, most programmers use Git for version tracking. Git is a command-line tool that can be used from a terminal. There are many commands that can be used to add files to a repository, track changes, and sync the history of changes with a remote copy of the repository stored on a service like GitHub. See the [cheat sheet](https://training.github.com/downloads/github-git-cheat-sheet/) for an overview of commands and terminology. But most work can be done most easily through an IDE like VSCode."
   ]
  },
  {
   "cell_type": "markdown",
   "metadata": {
    "editable": true,
    "slideshow": {
     "slide_type": "slide"
    },
    "tags": []
   },
   "source": [
    "There are three main parts to a Git repository: the *workspace*, the *index*, and the *local repository*.\n",
    "\n",
    "The workspace includes the files that you can see in the directory being tracked. You edit files here, using programs such as an IDE.\n",
    "\n",
    "The index is where changes are *staged*. The set of all staged changes can be put into a snapshot called a *commit*.\n",
    "\n",
    "The local repository holds a history of all commits. The local repository can be synced with a remote repository such as a GitHub repository."
   ]
  },
  {
   "cell_type": "markdown",
   "metadata": {
    "editable": true,
    "slideshow": {
     "slide_type": "slide"
    },
    "tags": []
   },
   "source": [
    "## Creating a Git repository\n",
    "\n",
    "To track code, you must first create a Git repository. It's usually easiest to create a repository on a service like GitHub, but you can also make a local repository directly on your computer. Either way, you will need to have Git installed on your system."
   ]
  },
  {
   "cell_type": "markdown",
   "metadata": {
    "editable": true,
    "slideshow": {
     "slide_type": "slide"
    },
    "tags": []
   },
   "source": [
    "To create a repository on GitHub, go to your Dashboard page and click on the \"New\" button. You will be prompted to write a repository name and description. Select whether you want your repository to be public or private. Check the box to \"Add a README file\". Under \"Add .gitignore\", select Python. This will keep Git from trying to track common temporary files associated with Python programs. If you care about how others can or can't use your code, consider choosing a license. There is a link where you can learn more about different licenses. Finally, click on \"Create repository\"."
   ]
  },
  {
   "cell_type": "markdown",
   "metadata": {
    "editable": true,
    "slideshow": {
     "slide_type": "fragment"
    },
    "tags": []
   },
   "source": [
    "After creating your repository on GitHub, you can clone your repository to your computer using an IDE such as VSCode."
   ]
  },
  {
   "cell_type": "markdown",
   "metadata": {
    "editable": true,
    "slideshow": {
     "slide_type": "fragment"
    },
    "tags": []
   },
   "source": [
    "It is also possible to create a Git repository directly on your computer. You will need to initialize a Git project in your code directory before you can start tracking changes. You will have to create the README file, `.gitignore` file, and license file yourself."
   ]
  },
  {
   "cell_type": "markdown",
   "metadata": {
    "editable": true,
    "slideshow": {
     "slide_type": "slide"
    },
    "tags": []
   },
   "source": [
    "### Exercise: Creating a Git repository\n",
    "\n",
    "Go back to the `myproject` directory that you created in the last exercise. Use your IDE to initialize a Git repository. If you have a GitHub account, and if your IDE supports creating GitHub repositories, you can optionally publish your changes to a new GitHub repository.\n",
    "\n",
    "Create a file called `.gitignore` with the following contents:\n",
    "\n",
    "```\n",
    "*.egg-info\n",
    "build/\n",
    "```\n",
    "This will keep temporary package files from being tracked by Git."
   ]
  },
  {
   "cell_type": "markdown",
   "metadata": {
    "editable": true,
    "slideshow": {
     "slide_type": "slide"
    },
    "tags": []
   },
   "source": [
    "## Making a commit\n",
    "\n",
    "When you have made a change to your code or documentation that you want to add to your record of changes in your repository, you will make a *commit*, a snapshot of all the files in your repository after making those changes."
   ]
  },
  {
   "cell_type": "markdown",
   "metadata": {
    "editable": true,
    "slideshow": {
     "slide_type": "slide"
    },
    "tags": []
   },
   "source": [
    "Before making your first commit, you will have to define the name and email address that will be associated with your commits. To do this, you will need to open a terminal program and run the following commands.\n",
    "\n",
    "```bash\n",
    "git config --global user.name \"[name]\"\n",
    "git config --global user.email \"[email address]\"\n",
    "```\n",
    "\n",
    "Replace `[name]` and `[email address]` with the name and email address you want to associate with commits."
   ]
  },
  {
   "cell_type": "markdown",
   "metadata": {
    "editable": true,
    "slideshow": {
     "slide_type": "slide"
    },
    "tags": []
   },
   "source": [
    "Next, you will have to add any changes that you want to track. Use your IDE to view your local changes and add any changes you want to commit. Most IDEs have features for adding code \"chunks\" within a file, so you don't have to include all changes at once.\n",
    "\n",
    "Try to find a set of changes that are related to one another. These changes may involve code changes in multiple files, but should be related in some way."
   ]
  },
  {
   "cell_type": "markdown",
   "metadata": {
    "editable": true,
    "slideshow": {
     "slide_type": "slide"
    },
    "tags": []
   },
   "source": [
    "Finally, write a *commit message* to explain what changes you are making. The [Conventional Commits](https://www.conventionalcommits.org/en/v1.0.0/) standard describes a good general method for writing commit messages to help others (and yourself in the future) understand what you were trying to do with your changes.\n",
    "\n",
    "Each commit has a type code to indicate the goal of the changes.\n",
    "\n",
    "feat:\n",
    "New feature\n",
    "\n",
    "fix:\n",
    "A fix of some bug\n",
    "\n",
    "refactor:\n",
    "A change to how code is organized that does not change functionality\n",
    "\n",
    "style:\n",
    "A change to coding style\n",
    "\n",
    "build:\n",
    "Something related to the project or installation of the project (e.g., changes to `pyproject.toml`)\n",
    "\n",
    "docs:\n",
    "A change to project documentation"
   ]
  },
  {
   "cell_type": "markdown",
   "metadata": {
    "editable": true,
    "slideshow": {
     "slide_type": "slide"
    },
    "tags": []
   },
   "source": [
    "Conventional commits start with a type code, followed by a colon, a space, and then a short message describing the change. The change is written as an imperative. For example, a new feature to add data analysis tools could have a commit message like `feat: add data analysis tools`.\n",
    "\n",
    "If you look at the history of this project, you may notice that the commits use Conventional Commits format."
   ]
  },
  {
   "cell_type": "markdown",
   "metadata": {
    "editable": true,
    "slideshow": {
     "slide_type": "slide"
    },
    "tags": []
   },
   "source": [
    "In your IDE, make sure all the changes you want to include are added, then enter your commit message and make the commit to add it to your repository history. If you are syncing with an external repository such as a GitHub repository, you can then *push* your changes to that repository. You can also *pull* any changes from the external repository that you don't have yet."
   ]
  },
  {
   "cell_type": "markdown",
   "metadata": {
    "editable": true,
    "slideshow": {
     "slide_type": "slide"
    },
    "tags": []
   },
   "source": [
    "### Exercise: making a commit\n",
    "\n",
    "Go back to your `myproject` directory. Use your IDE to look at the changes in your local workspace. Add the `.gitignore` file and make a commit. Set the commit message to `feat: add .gitignore file`. Look at your commit and the associated changes in your IDE."
   ]
  },
  {
   "cell_type": "markdown",
   "metadata": {
    "editable": true,
    "slideshow": {
     "slide_type": "slide"
    },
    "tags": []
   },
   "source": [
    "## Reverting changes\n",
    "\n",
    "Sometimes, you will make a change that you don't want to commit to your Git repository. IDEs commonly have features to *revert* changes. Reverting a file will change the file back to the last version that was stored as a commit. Make sure you are okay with losing those changes before reverting. \n",
    "\n",
    "Another option is to *stash* your changes."
   ]
  },
  {
   "cell_type": "markdown",
   "metadata": {
    "editable": true,
    "slideshow": {
     "slide_type": "slide"
    },
    "tags": []
   },
   "source": [
    "## Stashes\n",
    "\n",
    "When pulling changes from an external repository, local changes in your workspace may lead to conflicts. Git's stash feature provides a convenient way of dealing with these conflicts. You can create a stash of all uncommitted changes in your repository. Making a stash will move all your changes to the new stash, cleaning up your workspace. You can then pull any changes without conflicts. Finally, *pop* the stash. This will apply the changes stored in the stash to your workspace and delete the stash, which is no longer needed."
   ]
  }
 ],
 "metadata": {
  "kernelspec": {
   "display_name": "datascipsych",
   "language": "python",
   "name": "datascipsych"
  },
  "language_info": {
   "codemirror_mode": {
    "name": "ipython",
    "version": 3
   },
   "file_extension": ".py",
   "mimetype": "text/x-python",
   "name": "python",
   "nbconvert_exporter": "python",
   "pygments_lexer": "ipython3",
   "version": "3.12.8"
  }
 },
 "nbformat": 4,
 "nbformat_minor": 4
}
