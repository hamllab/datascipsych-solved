{
 "cells": [
  {
   "cell_type": "markdown",
   "metadata": {},
   "source": [
    "# Assignment 8\n",
    "\n",
    "For the assignment, instead of uploading a notebook, you will upload a zip file with your project directory. The instructions will take you step-by-step through making this project directory. When you are finished, create a zip file of your whole directory, and upload that to Canvas.\n",
    "\n",
    "If you get stuck, read through the other notebooks in this directory, ask us for help in class, or ask other students for help in class or on the weekly discussion board."
   ]
  },
  {
   "cell_type": "markdown",
   "metadata": {},
   "source": [
    "## Problem: creating a Python project (6 points)\n",
    "\n",
    "### Create the project skeleton (2 points)\n",
    "\n",
    "Make a new directory on your computer called `testproject` and open it in Visual Studio Code. Create a standard Python project directory structure, including a `pyproject.toml` file in the main directory, a `src` subdirectory, a `testproject` subdirectory under `src`, and an empty `__init__.py` file in `src/testproject`. Create a file in `src/testproject` called `greet.py`, with the following contents:\n",
    "\n",
    "```python\n",
    "\"\"\"Functions to greet users.\"\"\"\n",
    "\n",
    "\n",
    "def greet():\n",
    "    print(\"Greetings!\")\n",
    "```\n",
    "\n",
    "### Write the project metadata (3 points)\n",
    "\n",
    "Edit your `pyproject.toml` file to add project metadata. Set the `name` to `\"testproject\"` and the `description` to `\"Project to demonstrate Python features.\"` Set the version to `\"0.1.0\"`. Add your name to the authors (just include your name; you don't have to include an email). Add NumPy and Polars as dependencies.\n",
    "\n",
    "### Define the build system (1 point)\n",
    "\n",
    "Use the standard Setuptools setup to define the build system in `pyproject.toml`. See the Python Packaging User Guide for [instructions](https://packaging.python.org/en/latest/guides/writing-pyproject-toml/#declaring-the-build-backend)."
   ]
  },
  {
   "cell_type": "markdown",
   "metadata": {},
   "source": [
    "## Problem: using version tracking (6 points)\n",
    "\n",
    "### Initialize a Git project (2 points)\n",
    "\n",
    "Use VSCode to initialize a Git repository in your project directory. Add the `pyproject.toml`, `__init__.py`, and `greet.py` files and make a commit with the messsage: `feat: project skeleton`.\n",
    "\n",
    "### Commit a new file (2 points)\n",
    "\n",
    "Add a `README.md` file to the base directory of your project. Add a top-level heading with the project name (testproject) using [Markdown syntax](https://www.markdownguide.org/cheat-sheet/). Under the heading, add the same project description that you indicated in the `pyproject.toml` file. Stage the change of adding the `README.md` file. Make a commit with the message: `docs: add a README file`.\n",
    "\n",
    "### Commit an edit (2 points)\n",
    "\n",
    "Modify the `greet` function in the `greet.py` file to take in an input called `user`. Change the function to print `f\"Greetings, {user}!\"`. Add your change and make a commit with the message: `feat: greet a specific user`."
   ]
  },
  {
   "cell_type": "markdown",
   "metadata": {},
   "source": [
    "## Problem (graduate students): using a branch (8 points)\n",
    "\n",
    "Read about [branches](https://docs.github.com/en/pull-requests/collaborating-with-pull-requests/proposing-changes-to-your-work-with-pull-requests/about-branches). One method of using branches is to isolate work on specific features, without interfering with other ongoing work. You can make multiple commits to a *feature branch*, and then merge that branch back into the main branch when the feature is complete.\n",
    "\n",
    "### Create a feature branch (2 points)\n",
    "\n",
    "Use Visual Studio Code to ceate a new branch called `time` (under the Source Control tab, select `...`, then `Branch > Create Branch...`). You should see the source control icon in the lower left change from `main` to `time`. You have now created and checked out the `time` branch.\n",
    "\n",
    "### Add a new feature (1 point)\n",
    "\n",
    "Edit `src/testproject/greet.py` to import the `datetime` module on line 3. Also add a new function after `greet`:\n",
    "\n",
    "```python\n",
    "def greet_time(user):\n",
    "    time = datetime.datetime.now().time().hour\n",
    "    if (time >= 6) and (time < 12):\n",
    "        print(f\"Good morning, {user}!\")\n",
    "    elif (time >= 12) and (time < 17):\n",
    "        print(f\"Good afternoon, {user}!\")\n",
    "    else:\n",
    "        print(f\"Good evening, {user}!\")\n",
    "```\n",
    "\n",
    "### Commit your new feature (1 point)\n",
    "\n",
    "Make a commit to the `time` branch with your changes with the commit message: `feat: function to greet based on time of day`.\n",
    "\n",
    "### Edit your new feature (1 point)\n",
    "\n",
    "Edit the `greet_time` function to change the exclamation points (`\"!\"`) to periods (`\".\"`). Commit your change to the `time` branch with the commit message: `refactor: make messages more formal`.\n",
    "\n",
    "### Document your new feature (2 points)\n",
    "\n",
    "Edit the `greet_time` function to add a docstring. Write a [Google-style docstring](https://google.github.io/styleguide/pyguide.html#383-functions-and-methods) for your function, which will have a one-line description and an \"Args\" section. Commit your change to the `time` branch with the commit message: `docs: add docstring for greet_time`.\n",
    "\n",
    "### Merge your feature branch into main (2 points)\n",
    "\n",
    "Checkout the main branch (click on the version control icon in the lower left of Visual Studio Code, then select `main`). Merge the `time` branch into `main` (under the Source Control tab, select `...`, then `Branch > Merge...` and select `time`). You should now see your latest commit in the graph for the `main` branch in the VSCode Source Control tab."
   ]
  }
 ],
 "metadata": {
  "kernelspec": {
   "display_name": "datascipsych",
   "language": "python",
   "name": "datascipsych"
  },
  "language_info": {
   "codemirror_mode": {
    "name": "ipython",
    "version": 3
   },
   "file_extension": ".py",
   "mimetype": "text/x-python",
   "name": "python",
   "nbconvert_exporter": "python",
   "pygments_lexer": "ipython3",
   "version": "3.12.8"
  }
 },
 "nbformat": 4,
 "nbformat_minor": 2
}
