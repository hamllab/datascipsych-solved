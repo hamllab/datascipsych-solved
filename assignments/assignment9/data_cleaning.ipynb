{
 "cells": [
  {
   "cell_type": "markdown",
   "metadata": {},
   "source": [
    "Often, we're interested in calculating statistics for each of a number of groups. For example, we may want to split responses based on whether they were on a target or a lure trial. We can do this using the `group_by` method with `agg`."
   ]
  },
  {
   "cell_type": "code",
   "execution_count": null,
   "metadata": {},
   "outputs": [
    {
     "data": {
      "text/html": [
       "<div><style>\n",
       ".dataframe > thead > tr,\n",
       ".dataframe > tbody > tr {\n",
       "  text-align: right;\n",
       "  white-space: pre-wrap;\n",
       "}\n",
       "</style>\n",
       "<small>shape: (2, 3)</small><table border=\"1\" class=\"dataframe\"><thead><tr><th>type</th><th>response</th><th>RT</th></tr><tr><td>str</td><td>f64</td><td>f64</td></tr></thead><tbody><tr><td>&quot;rearranged&quot;</td><td>0.215047</td><td>1.389533</td></tr><tr><td>&quot;intact&quot;</td><td>0.530168</td><td>1.272813</td></tr></tbody></table></div>"
      ],
      "text/plain": [
       "shape: (2, 3)\n",
       "┌────────────┬──────────┬──────────┐\n",
       "│ type       ┆ response ┆ RT       │\n",
       "│ ---        ┆ ---      ┆ ---      │\n",
       "│ str        ┆ f64      ┆ f64      │\n",
       "╞════════════╪══════════╪══════════╡\n",
       "│ rearranged ┆ 0.215047 ┆ 1.389533 │\n",
       "│ intact     ┆ 0.530168 ┆ 1.272813 │\n",
       "└────────────┴──────────┴──────────┘"
      ]
     },
     "metadata": {},
     "output_type": "display_data"
    }
   ],
   "source": [
    "(\n",
    "    df_test.group_by(\"type\")\n",
    "    .agg(pl.mean(\"response\"), pl.mean(\"RT\"))\n",
    ")"
   ]
  },
  {
   "cell_type": "markdown",
   "metadata": {},
   "source": [
    "We can use the `alias` method to rename a column. Here, we'll rename `\"RT\"` to the more standard `\"response_time\"`."
   ]
  },
  {
   "cell_type": "code",
   "execution_count": null,
   "metadata": {},
   "outputs": [
    {
     "data": {
      "text/html": [
       "<div><style>\n",
       ".dataframe > thead > tr,\n",
       ".dataframe > tbody > tr {\n",
       "  text-align: right;\n",
       "  white-space: pre-wrap;\n",
       "}\n",
       "</style>\n",
       "<small>shape: (2, 3)</small><table border=\"1\" class=\"dataframe\"><thead><tr><th>type</th><th>response</th><th>response_time</th></tr><tr><td>str</td><td>f64</td><td>f64</td></tr></thead><tbody><tr><td>&quot;rearranged&quot;</td><td>0.215047</td><td>1.389533</td></tr><tr><td>&quot;intact&quot;</td><td>0.530168</td><td>1.272813</td></tr></tbody></table></div>"
      ],
      "text/plain": [
       "shape: (2, 3)\n",
       "┌────────────┬──────────┬───────────────┐\n",
       "│ type       ┆ response ┆ response_time │\n",
       "│ ---        ┆ ---      ┆ ---           │\n",
       "│ str        ┆ f64      ┆ f64           │\n",
       "╞════════════╪══════════╪═══════════════╡\n",
       "│ rearranged ┆ 0.215047 ┆ 1.389533      │\n",
       "│ intact     ┆ 0.530168 ┆ 1.272813      │\n",
       "└────────────┴──────────┴───────────────┘"
      ]
     },
     "metadata": {},
     "output_type": "display_data"
    }
   ],
   "source": [
    "(\n",
    "    df_test.group_by(\"type\")\n",
    "    .agg(pl.mean(\"response\"), pl.mean(\"RT\").alias(\"response_time\"))\n",
    ")"
   ]
  }
 ],
 "metadata": {
  "language_info": {
   "name": "python"
  }
 },
 "nbformat": 4,
 "nbformat_minor": 2
}
