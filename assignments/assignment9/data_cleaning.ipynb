{
 "cells": [
  {
   "cell_type": "markdown",
   "metadata": {
    "editable": true,
    "slideshow": {
     "slide_type": "slide"
    },
    "tags": []
   },
   "source": [
    "# Data Cleaning\n",
    "\n",
    "Often, we will have a DataFrame with the information that we need, but the data are not organized in the right way. We may need to substitute variables, handle missing data, calculate summary statistics, and rearrange data to get it in the right shape. Polars has many tools for doing these things."
   ]
  },
  {
   "cell_type": "markdown",
   "metadata": {
    "editable": true,
    "slideshow": {
     "slide_type": "slide"
    },
    "tags": []
   },
   "source": [
    "## Reading data from the datascipsych package\n",
    "\n",
    "The `datascipsych` package includes a `datasets` module that can be used to access datasets that are included with the package."
   ]
  },
  {
   "cell_type": "markdown",
   "metadata": {
    "editable": true,
    "slideshow": {
     "slide_type": "slide"
    },
    "tags": []
   },
   "source": [
    "To use the `datascipsych` package, it must be first be installed. \n",
    "\n",
    "To install the package: (1) make sure you have a virtual environment and that it is activated; (2) open a terminal (with the virtual environment activated) and run `pip install -e .`.\n",
    "\n",
    "This will install functions and datasets available in the `datascipsych` package into your environment."
   ]
  },
  {
   "cell_type": "markdown",
   "metadata": {
    "editable": true,
    "slideshow": {
     "slide_type": "slide"
    },
    "tags": []
   },
   "source": [
    "First, we will use the `datascipsych.datasets` module to access the data for the Osth & Fox (2019) study. Note that the dataset is not stored in the current directory. Instead, we access the dataset from the installed `datascipsych` package. This allows us to access the same dataset, no matter what our current directory is."
   ]
  },
  {
   "cell_type": "code",
   "execution_count": 1,
   "metadata": {
    "editable": true,
    "slideshow": {
     "slide_type": "fragment"
    },
    "tags": []
   },
   "outputs": [],
   "source": [
    "from datascipsych import datasets\n",
    "dataset_file = datasets.get_dataset_file(\"Osth2019\")"
   ]
  },
  {
   "cell_type": "markdown",
   "metadata": {
    "editable": true,
    "slideshow": {
     "slide_type": "fragment"
    },
    "tags": []
   },
   "source": [
    "The `dataset_file` should give the path to the dataset on your system.\n",
    "\n",
    "If you get a `ModuleNotFoundError`, you do not have the `datascipsych` package installed. Follow the instructions given above to install the package."
   ]
  },
  {
   "cell_type": "markdown",
   "metadata": {
    "editable": true,
    "slideshow": {
     "slide_type": "slide"
    },
    "tags": []
   },
   "source": [
    "Now, we can read the dataset file from the installed package. We'll make things simpler by selecting a subset of columns."
   ]
  },
  {
   "cell_type": "code",
   "execution_count": null,
   "metadata": {
    "editable": true,
    "slideshow": {
     "slide_type": ""
    },
    "tags": []
   },
   "outputs": [
    {
     "data": {
      "text/html": [
       "<div><style>\n",
       ".dataframe > thead > tr,\n",
       ".dataframe > tbody > tr {\n",
       "  text-align: right;\n",
       "  white-space: pre-wrap;\n",
       "}\n",
       "</style>\n",
       "<small>shape: (5, 9)</small><table border=\"1\" class=\"dataframe\"><thead><tr><th>subj</th><th>phase</th><th>type</th><th>word1</th><th>word2</th><th>response</th><th>RT</th><th>correct</th><th>lag</th></tr><tr><td>i64</td><td>str</td><td>str</td><td>str</td><td>str</td><td>i64</td><td>f64</td><td>i64</td><td>i64</td></tr></thead><tbody><tr><td>101</td><td>&quot;study&quot;</td><td>&quot;intact&quot;</td><td>&quot;formal&quot;</td><td>&quot;positive&quot;</td><td>-1</td><td>-1.0</td><td>-1</td><td>-1</td></tr><tr><td>101</td><td>&quot;study&quot;</td><td>&quot;intact&quot;</td><td>&quot;skin&quot;</td><td>&quot;careful&quot;</td><td>-1</td><td>-1.0</td><td>-1</td><td>-1</td></tr><tr><td>101</td><td>&quot;study&quot;</td><td>&quot;intact&quot;</td><td>&quot;upon&quot;</td><td>&quot;miss&quot;</td><td>-1</td><td>-1.0</td><td>-1</td><td>-1</td></tr><tr><td>101</td><td>&quot;study&quot;</td><td>&quot;intact&quot;</td><td>&quot;single&quot;</td><td>&quot;tradition&quot;</td><td>-1</td><td>-1.0</td><td>-1</td><td>-1</td></tr><tr><td>101</td><td>&quot;study&quot;</td><td>&quot;intact&quot;</td><td>&quot;prove&quot;</td><td>&quot;airport&quot;</td><td>-1</td><td>-1.0</td><td>-1</td><td>-1</td></tr></tbody></table></div>"
      ],
      "text/plain": [
       "shape: (5, 9)\n",
       "┌──────┬───────┬────────┬────────┬───┬──────────┬──────┬─────────┬─────┐\n",
       "│ subj ┆ phase ┆ type   ┆ word1  ┆ … ┆ response ┆ RT   ┆ correct ┆ lag │\n",
       "│ ---  ┆ ---   ┆ ---    ┆ ---    ┆   ┆ ---      ┆ ---  ┆ ---     ┆ --- │\n",
       "│ i64  ┆ str   ┆ str    ┆ str    ┆   ┆ i64      ┆ f64  ┆ i64     ┆ i64 │\n",
       "╞══════╪═══════╪════════╪════════╪═══╪══════════╪══════╪═════════╪═════╡\n",
       "│ 101  ┆ study ┆ intact ┆ formal ┆ … ┆ -1       ┆ -1.0 ┆ -1      ┆ -1  │\n",
       "│ 101  ┆ study ┆ intact ┆ skin   ┆ … ┆ -1       ┆ -1.0 ┆ -1      ┆ -1  │\n",
       "│ 101  ┆ study ┆ intact ┆ upon   ┆ … ┆ -1       ┆ -1.0 ┆ -1      ┆ -1  │\n",
       "│ 101  ┆ study ┆ intact ┆ single ┆ … ┆ -1       ┆ -1.0 ┆ -1      ┆ -1  │\n",
       "│ 101  ┆ study ┆ intact ┆ prove  ┆ … ┆ -1       ┆ -1.0 ┆ -1      ┆ -1  │\n",
       "└──────┴───────┴────────┴────────┴───┴──────────┴──────┴─────────┴─────┘"
      ]
     },
     "execution_count": 2,
     "metadata": {},
     "output_type": "execute_result"
    }
   ],
   "source": [
    "import polars as pl\n",
    "raw = (\n",
    "    pl.read_csv(dataset_file)\n",
    "    .select(\"subj\", \"phase\", \"type\", \"word1\", \"word2\", \"response\", \"RT\", \"correct\", \"lag\")\n",
    ")\n",
    "raw.head()"
   ]
  },
  {
   "cell_type": "markdown",
   "metadata": {
    "editable": true,
    "slideshow": {
     "slide_type": "slide"
    },
    "tags": []
   },
   "source": [
    "## Recoding variables\n",
    "\n",
    "One relatively simple form of data cleaning is to take the data in a column and *recode* it. For example, a spreadsheet may label conditions with numeric codes that are hard to read and remember. Replacing these codes with strings makes the dataset easier to understand."
   ]
  },
  {
   "cell_type": "markdown",
   "metadata": {
    "editable": true,
    "slideshow": {
     "slide_type": "slide"
    },
    "tags": []
   },
   "source": [
    "The Osth & Fox (2019) dataset has a number of -1 values in it. These -1 values indicate missing or undefined data. For example, during study trials, participants do not make any response. On these trials, the `response` column is set to -1 to indicate that no response was recorded."
   ]
  },
  {
   "cell_type": "code",
   "execution_count": 3,
   "metadata": {},
   "outputs": [
    {
     "data": {
      "text/html": [
       "<div><style>\n",
       ".dataframe > thead > tr,\n",
       ".dataframe > tbody > tr {\n",
       "  text-align: right;\n",
       "  white-space: pre-wrap;\n",
       "}\n",
       "</style>\n",
       "<small>shape: (5, 9)</small><table border=\"1\" class=\"dataframe\"><thead><tr><th>subj</th><th>phase</th><th>type</th><th>word1</th><th>word2</th><th>response</th><th>RT</th><th>correct</th><th>lag</th></tr><tr><td>i64</td><td>str</td><td>str</td><td>str</td><td>str</td><td>i64</td><td>f64</td><td>i64</td><td>i64</td></tr></thead><tbody><tr><td>101</td><td>&quot;study&quot;</td><td>&quot;intact&quot;</td><td>&quot;formal&quot;</td><td>&quot;positive&quot;</td><td>-1</td><td>-1.0</td><td>-1</td><td>-1</td></tr><tr><td>101</td><td>&quot;study&quot;</td><td>&quot;intact&quot;</td><td>&quot;skin&quot;</td><td>&quot;careful&quot;</td><td>-1</td><td>-1.0</td><td>-1</td><td>-1</td></tr><tr><td>101</td><td>&quot;study&quot;</td><td>&quot;intact&quot;</td><td>&quot;upon&quot;</td><td>&quot;miss&quot;</td><td>-1</td><td>-1.0</td><td>-1</td><td>-1</td></tr><tr><td>101</td><td>&quot;study&quot;</td><td>&quot;intact&quot;</td><td>&quot;single&quot;</td><td>&quot;tradition&quot;</td><td>-1</td><td>-1.0</td><td>-1</td><td>-1</td></tr><tr><td>101</td><td>&quot;study&quot;</td><td>&quot;intact&quot;</td><td>&quot;prove&quot;</td><td>&quot;airport&quot;</td><td>-1</td><td>-1.0</td><td>-1</td><td>-1</td></tr></tbody></table></div>"
      ],
      "text/plain": [
       "shape: (5, 9)\n",
       "┌──────┬───────┬────────┬────────┬───┬──────────┬──────┬─────────┬─────┐\n",
       "│ subj ┆ phase ┆ type   ┆ word1  ┆ … ┆ response ┆ RT   ┆ correct ┆ lag │\n",
       "│ ---  ┆ ---   ┆ ---    ┆ ---    ┆   ┆ ---      ┆ ---  ┆ ---     ┆ --- │\n",
       "│ i64  ┆ str   ┆ str    ┆ str    ┆   ┆ i64      ┆ f64  ┆ i64     ┆ i64 │\n",
       "╞══════╪═══════╪════════╪════════╪═══╪══════════╪══════╪═════════╪═════╡\n",
       "│ 101  ┆ study ┆ intact ┆ formal ┆ … ┆ -1       ┆ -1.0 ┆ -1      ┆ -1  │\n",
       "│ 101  ┆ study ┆ intact ┆ skin   ┆ … ┆ -1       ┆ -1.0 ┆ -1      ┆ -1  │\n",
       "│ 101  ┆ study ┆ intact ┆ upon   ┆ … ┆ -1       ┆ -1.0 ┆ -1      ┆ -1  │\n",
       "│ 101  ┆ study ┆ intact ┆ single ┆ … ┆ -1       ┆ -1.0 ┆ -1      ┆ -1  │\n",
       "│ 101  ┆ study ┆ intact ┆ prove  ┆ … ┆ -1       ┆ -1.0 ┆ -1      ┆ -1  │\n",
       "└──────┴───────┴────────┴────────┴───┴──────────┴──────┴─────────┴─────┘"
      ]
     },
     "execution_count": 3,
     "metadata": {},
     "output_type": "execute_result"
    }
   ],
   "source": [
    "raw.head()"
   ]
  },
  {
   "cell_type": "markdown",
   "metadata": {
    "editable": true,
    "slideshow": {
     "slide_type": "slide"
    },
    "tags": []
   },
   "source": [
    "We can replace the -1 values using the `replace` method. Instead of -1, we want missing values to be set to the special value `null`. Polars will automatically exclude those values from calculations. To set a value to `null` in the DataFrame, we can set it to `None` when calling `replace`."
   ]
  },
  {
   "cell_type": "code",
   "execution_count": 4,
   "metadata": {},
   "outputs": [
    {
     "data": {
      "text/html": [
       "<div><style>\n",
       ".dataframe > thead > tr,\n",
       ".dataframe > tbody > tr {\n",
       "  text-align: right;\n",
       "  white-space: pre-wrap;\n",
       "}\n",
       "</style>\n",
       "<small>shape: (5, 9)</small><table border=\"1\" class=\"dataframe\"><thead><tr><th>subj</th><th>phase</th><th>type</th><th>word1</th><th>word2</th><th>response</th><th>RT</th><th>correct</th><th>lag</th></tr><tr><td>i64</td><td>str</td><td>str</td><td>str</td><td>str</td><td>i64</td><td>f64</td><td>i64</td><td>i64</td></tr></thead><tbody><tr><td>101</td><td>&quot;study&quot;</td><td>&quot;intact&quot;</td><td>&quot;formal&quot;</td><td>&quot;positive&quot;</td><td>null</td><td>-1.0</td><td>-1</td><td>-1</td></tr><tr><td>101</td><td>&quot;study&quot;</td><td>&quot;intact&quot;</td><td>&quot;skin&quot;</td><td>&quot;careful&quot;</td><td>null</td><td>-1.0</td><td>-1</td><td>-1</td></tr><tr><td>101</td><td>&quot;study&quot;</td><td>&quot;intact&quot;</td><td>&quot;upon&quot;</td><td>&quot;miss&quot;</td><td>null</td><td>-1.0</td><td>-1</td><td>-1</td></tr><tr><td>101</td><td>&quot;study&quot;</td><td>&quot;intact&quot;</td><td>&quot;single&quot;</td><td>&quot;tradition&quot;</td><td>null</td><td>-1.0</td><td>-1</td><td>-1</td></tr><tr><td>101</td><td>&quot;study&quot;</td><td>&quot;intact&quot;</td><td>&quot;prove&quot;</td><td>&quot;airport&quot;</td><td>null</td><td>-1.0</td><td>-1</td><td>-1</td></tr></tbody></table></div>"
      ],
      "text/plain": [
       "shape: (5, 9)\n",
       "┌──────┬───────┬────────┬────────┬───┬──────────┬──────┬─────────┬─────┐\n",
       "│ subj ┆ phase ┆ type   ┆ word1  ┆ … ┆ response ┆ RT   ┆ correct ┆ lag │\n",
       "│ ---  ┆ ---   ┆ ---    ┆ ---    ┆   ┆ ---      ┆ ---  ┆ ---     ┆ --- │\n",
       "│ i64  ┆ str   ┆ str    ┆ str    ┆   ┆ i64      ┆ f64  ┆ i64     ┆ i64 │\n",
       "╞══════╪═══════╪════════╪════════╪═══╪══════════╪══════╪═════════╪═════╡\n",
       "│ 101  ┆ study ┆ intact ┆ formal ┆ … ┆ null     ┆ -1.0 ┆ -1      ┆ -1  │\n",
       "│ 101  ┆ study ┆ intact ┆ skin   ┆ … ┆ null     ┆ -1.0 ┆ -1      ┆ -1  │\n",
       "│ 101  ┆ study ┆ intact ┆ upon   ┆ … ┆ null     ┆ -1.0 ┆ -1      ┆ -1  │\n",
       "│ 101  ┆ study ┆ intact ┆ single ┆ … ┆ null     ┆ -1.0 ┆ -1      ┆ -1  │\n",
       "│ 101  ┆ study ┆ intact ┆ prove  ┆ … ┆ null     ┆ -1.0 ┆ -1      ┆ -1  │\n",
       "└──────┴───────┴────────┴────────┴───┴──────────┴──────┴─────────┴─────┘"
      ]
     },
     "execution_count": 4,
     "metadata": {},
     "output_type": "execute_result"
    }
   ],
   "source": [
    "raw.with_columns(\n",
    "    pl.col(\"response\").replace(-1, None)\n",
    ").head()"
   ]
  },
  {
   "cell_type": "markdown",
   "metadata": {
    "editable": true,
    "slideshow": {
     "slide_type": "fragment"
    },
    "tags": []
   },
   "source": [
    "We used `with_columns` to keep all the existing columns. We used `pl.col(\"response\")` to represent the `response` column, and then called the `replace` method. The first input indicates the value to replace, and the second input indicates the value to replace it with."
   ]
  },
  {
   "cell_type": "markdown",
   "metadata": {
    "editable": true,
    "slideshow": {
     "slide_type": "slide"
    },
    "tags": []
   },
   "source": [
    "Note that there are multiple columns that follow the same convention, with -1 indicating missing values. We'll want to replace all of them.\n",
    "\n",
    "In Polars, we can carry out the same expression on multiple columns using *expression expansion*. Instead of writing multiple expressions with `replace` (one for each column), we can write just one expression that should be applied to multiple columns."
   ]
  },
  {
   "cell_type": "code",
   "execution_count": 5,
   "metadata": {},
   "outputs": [
    {
     "data": {
      "text/html": [
       "<div><style>\n",
       ".dataframe > thead > tr,\n",
       ".dataframe > tbody > tr {\n",
       "  text-align: right;\n",
       "  white-space: pre-wrap;\n",
       "}\n",
       "</style>\n",
       "<small>shape: (5, 9)</small><table border=\"1\" class=\"dataframe\"><thead><tr><th>subj</th><th>phase</th><th>type</th><th>word1</th><th>word2</th><th>response</th><th>RT</th><th>correct</th><th>lag</th></tr><tr><td>i64</td><td>str</td><td>str</td><td>str</td><td>str</td><td>i64</td><td>f64</td><td>i64</td><td>i64</td></tr></thead><tbody><tr><td>101</td><td>&quot;study&quot;</td><td>&quot;intact&quot;</td><td>&quot;formal&quot;</td><td>&quot;positive&quot;</td><td>null</td><td>null</td><td>null</td><td>null</td></tr><tr><td>101</td><td>&quot;study&quot;</td><td>&quot;intact&quot;</td><td>&quot;skin&quot;</td><td>&quot;careful&quot;</td><td>null</td><td>null</td><td>null</td><td>null</td></tr><tr><td>101</td><td>&quot;study&quot;</td><td>&quot;intact&quot;</td><td>&quot;upon&quot;</td><td>&quot;miss&quot;</td><td>null</td><td>null</td><td>null</td><td>null</td></tr><tr><td>101</td><td>&quot;study&quot;</td><td>&quot;intact&quot;</td><td>&quot;single&quot;</td><td>&quot;tradition&quot;</td><td>null</td><td>null</td><td>null</td><td>null</td></tr><tr><td>101</td><td>&quot;study&quot;</td><td>&quot;intact&quot;</td><td>&quot;prove&quot;</td><td>&quot;airport&quot;</td><td>null</td><td>null</td><td>null</td><td>null</td></tr></tbody></table></div>"
      ],
      "text/plain": [
       "shape: (5, 9)\n",
       "┌──────┬───────┬────────┬────────┬───┬──────────┬──────┬─────────┬──────┐\n",
       "│ subj ┆ phase ┆ type   ┆ word1  ┆ … ┆ response ┆ RT   ┆ correct ┆ lag  │\n",
       "│ ---  ┆ ---   ┆ ---    ┆ ---    ┆   ┆ ---      ┆ ---  ┆ ---     ┆ ---  │\n",
       "│ i64  ┆ str   ┆ str    ┆ str    ┆   ┆ i64      ┆ f64  ┆ i64     ┆ i64  │\n",
       "╞══════╪═══════╪════════╪════════╪═══╪══════════╪══════╪═════════╪══════╡\n",
       "│ 101  ┆ study ┆ intact ┆ formal ┆ … ┆ null     ┆ null ┆ null    ┆ null │\n",
       "│ 101  ┆ study ┆ intact ┆ skin   ┆ … ┆ null     ┆ null ┆ null    ┆ null │\n",
       "│ 101  ┆ study ┆ intact ┆ upon   ┆ … ┆ null     ┆ null ┆ null    ┆ null │\n",
       "│ 101  ┆ study ┆ intact ┆ single ┆ … ┆ null     ┆ null ┆ null    ┆ null │\n",
       "│ 101  ┆ study ┆ intact ┆ prove  ┆ … ┆ null     ┆ null ┆ null    ┆ null │\n",
       "└──────┴───────┴────────┴────────┴───┴──────────┴──────┴─────────┴──────┘"
      ]
     },
     "execution_count": 5,
     "metadata": {},
     "output_type": "execute_result"
    }
   ],
   "source": [
    "raw.with_columns(\n",
    "    pl.col(\"response\", \"RT\", \"correct\", \"lag\").replace(-1, None)\n",
    ").head()"
   ]
  },
  {
   "cell_type": "markdown",
   "metadata": {
    "editable": true,
    "slideshow": {
     "slide_type": "slide"
    },
    "tags": []
   },
   "source": [
    "Sometimes, it's helpful to recode a column to get different labels. The `type` column has two values: `\"intact\"` and `\"rearranged\"`. Say we want to translate this into more standard labels typically used in recognition memory experiments such as this, namely `\"target\"` and `\"lure\"`. We can do this by passing a dictionary to the `replace` method. This time, we'll create a new column called `probe_type` that has this alternate coding."
   ]
  },
  {
   "cell_type": "code",
   "execution_count": 6,
   "metadata": {},
   "outputs": [
    {
     "data": {
      "text/html": [
       "<div><style>\n",
       ".dataframe > thead > tr,\n",
       ".dataframe > tbody > tr {\n",
       "  text-align: right;\n",
       "  white-space: pre-wrap;\n",
       "}\n",
       "</style>\n",
       "<small>shape: (5, 10)</small><table border=\"1\" class=\"dataframe\"><thead><tr><th>subj</th><th>phase</th><th>type</th><th>word1</th><th>word2</th><th>response</th><th>RT</th><th>correct</th><th>lag</th><th>probe_type</th></tr><tr><td>i64</td><td>str</td><td>str</td><td>str</td><td>str</td><td>i64</td><td>f64</td><td>i64</td><td>i64</td><td>str</td></tr></thead><tbody><tr><td>101</td><td>&quot;study&quot;</td><td>&quot;intact&quot;</td><td>&quot;formal&quot;</td><td>&quot;positive&quot;</td><td>-1</td><td>-1.0</td><td>-1</td><td>-1</td><td>&quot;target&quot;</td></tr><tr><td>101</td><td>&quot;study&quot;</td><td>&quot;intact&quot;</td><td>&quot;skin&quot;</td><td>&quot;careful&quot;</td><td>-1</td><td>-1.0</td><td>-1</td><td>-1</td><td>&quot;target&quot;</td></tr><tr><td>101</td><td>&quot;study&quot;</td><td>&quot;intact&quot;</td><td>&quot;upon&quot;</td><td>&quot;miss&quot;</td><td>-1</td><td>-1.0</td><td>-1</td><td>-1</td><td>&quot;target&quot;</td></tr><tr><td>101</td><td>&quot;study&quot;</td><td>&quot;intact&quot;</td><td>&quot;single&quot;</td><td>&quot;tradition&quot;</td><td>-1</td><td>-1.0</td><td>-1</td><td>-1</td><td>&quot;target&quot;</td></tr><tr><td>101</td><td>&quot;study&quot;</td><td>&quot;intact&quot;</td><td>&quot;prove&quot;</td><td>&quot;airport&quot;</td><td>-1</td><td>-1.0</td><td>-1</td><td>-1</td><td>&quot;target&quot;</td></tr></tbody></table></div>"
      ],
      "text/plain": [
       "shape: (5, 10)\n",
       "┌──────┬───────┬────────┬────────┬───┬──────┬─────────┬─────┬────────────┐\n",
       "│ subj ┆ phase ┆ type   ┆ word1  ┆ … ┆ RT   ┆ correct ┆ lag ┆ probe_type │\n",
       "│ ---  ┆ ---   ┆ ---    ┆ ---    ┆   ┆ ---  ┆ ---     ┆ --- ┆ ---        │\n",
       "│ i64  ┆ str   ┆ str    ┆ str    ┆   ┆ f64  ┆ i64     ┆ i64 ┆ str        │\n",
       "╞══════╪═══════╪════════╪════════╪═══╪══════╪═════════╪═════╪════════════╡\n",
       "│ 101  ┆ study ┆ intact ┆ formal ┆ … ┆ -1.0 ┆ -1      ┆ -1  ┆ target     │\n",
       "│ 101  ┆ study ┆ intact ┆ skin   ┆ … ┆ -1.0 ┆ -1      ┆ -1  ┆ target     │\n",
       "│ 101  ┆ study ┆ intact ┆ upon   ┆ … ┆ -1.0 ┆ -1      ┆ -1  ┆ target     │\n",
       "│ 101  ┆ study ┆ intact ┆ single ┆ … ┆ -1.0 ┆ -1      ┆ -1  ┆ target     │\n",
       "│ 101  ┆ study ┆ intact ┆ prove  ┆ … ┆ -1.0 ┆ -1      ┆ -1  ┆ target     │\n",
       "└──────┴───────┴────────┴────────┴───┴──────┴─────────┴─────┴────────────┘"
      ]
     },
     "execution_count": 6,
     "metadata": {},
     "output_type": "execute_result"
    }
   ],
   "source": [
    "raw.with_columns(\n",
    "    probe_type=pl.col(\"type\").replace({\"intact\": \"target\", \"rearranged\": \"lure\"})\n",
    ").head()"
   ]
  },
  {
   "cell_type": "markdown",
   "metadata": {
    "editable": true,
    "slideshow": {
     "slide_type": "slide"
    },
    "tags": []
   },
   "source": [
    "Now that we have tested out the commands we want to run, let's put them all together to get a set of commands that will run all our recoding and assign the output to a new variable called `data`."
   ]
  },
  {
   "cell_type": "code",
   "execution_count": 7,
   "metadata": {},
   "outputs": [
    {
     "data": {
      "text/html": [
       "<div><style>\n",
       ".dataframe > thead > tr,\n",
       ".dataframe > tbody > tr {\n",
       "  text-align: right;\n",
       "  white-space: pre-wrap;\n",
       "}\n",
       "</style>\n",
       "<small>shape: (5, 10)</small><table border=\"1\" class=\"dataframe\"><thead><tr><th>subj</th><th>phase</th><th>type</th><th>word1</th><th>word2</th><th>response</th><th>RT</th><th>correct</th><th>lag</th><th>probe_type</th></tr><tr><td>i64</td><td>str</td><td>str</td><td>str</td><td>str</td><td>i64</td><td>f64</td><td>i64</td><td>i64</td><td>str</td></tr></thead><tbody><tr><td>101</td><td>&quot;study&quot;</td><td>&quot;intact&quot;</td><td>&quot;formal&quot;</td><td>&quot;positive&quot;</td><td>null</td><td>null</td><td>null</td><td>null</td><td>&quot;target&quot;</td></tr><tr><td>101</td><td>&quot;study&quot;</td><td>&quot;intact&quot;</td><td>&quot;skin&quot;</td><td>&quot;careful&quot;</td><td>null</td><td>null</td><td>null</td><td>null</td><td>&quot;target&quot;</td></tr><tr><td>101</td><td>&quot;study&quot;</td><td>&quot;intact&quot;</td><td>&quot;upon&quot;</td><td>&quot;miss&quot;</td><td>null</td><td>null</td><td>null</td><td>null</td><td>&quot;target&quot;</td></tr><tr><td>101</td><td>&quot;study&quot;</td><td>&quot;intact&quot;</td><td>&quot;single&quot;</td><td>&quot;tradition&quot;</td><td>null</td><td>null</td><td>null</td><td>null</td><td>&quot;target&quot;</td></tr><tr><td>101</td><td>&quot;study&quot;</td><td>&quot;intact&quot;</td><td>&quot;prove&quot;</td><td>&quot;airport&quot;</td><td>null</td><td>null</td><td>null</td><td>null</td><td>&quot;target&quot;</td></tr></tbody></table></div>"
      ],
      "text/plain": [
       "shape: (5, 10)\n",
       "┌──────┬───────┬────────┬────────┬───┬──────┬─────────┬──────┬────────────┐\n",
       "│ subj ┆ phase ┆ type   ┆ word1  ┆ … ┆ RT   ┆ correct ┆ lag  ┆ probe_type │\n",
       "│ ---  ┆ ---   ┆ ---    ┆ ---    ┆   ┆ ---  ┆ ---     ┆ ---  ┆ ---        │\n",
       "│ i64  ┆ str   ┆ str    ┆ str    ┆   ┆ f64  ┆ i64     ┆ i64  ┆ str        │\n",
       "╞══════╪═══════╪════════╪════════╪═══╪══════╪═════════╪══════╪════════════╡\n",
       "│ 101  ┆ study ┆ intact ┆ formal ┆ … ┆ null ┆ null    ┆ null ┆ target     │\n",
       "│ 101  ┆ study ┆ intact ┆ skin   ┆ … ┆ null ┆ null    ┆ null ┆ target     │\n",
       "│ 101  ┆ study ┆ intact ┆ upon   ┆ … ┆ null ┆ null    ┆ null ┆ target     │\n",
       "│ 101  ┆ study ┆ intact ┆ single ┆ … ┆ null ┆ null    ┆ null ┆ target     │\n",
       "│ 101  ┆ study ┆ intact ┆ prove  ┆ … ┆ null ┆ null    ┆ null ┆ target     │\n",
       "└──────┴───────┴────────┴────────┴───┴──────┴─────────┴──────┴────────────┘"
      ]
     },
     "execution_count": 7,
     "metadata": {},
     "output_type": "execute_result"
    }
   ],
   "source": [
    "data = raw.with_columns(\n",
    "    pl.col(\"response\", \"RT\", \"correct\", \"lag\").replace(-1, None),\n",
    "    probe_type=pl.col(\"type\").replace({\"intact\": \"target\", \"rearranged\": \"lure\"})\n",
    ")\n",
    "data.head()"
   ]
  },
  {
   "cell_type": "markdown",
   "metadata": {
    "editable": true,
    "slideshow": {
     "slide_type": "slide"
    },
    "tags": []
   },
   "source": [
    "Sometimes, a raw data file may code conditions as integers, but we want to convert the numeric condition codes into string labels. For example, say that a dataset has target trials coded as 1, and lure trials coded as 2."
   ]
  },
  {
   "cell_type": "code",
   "execution_count": 8,
   "metadata": {},
   "outputs": [
    {
     "data": {
      "text/html": [
       "<div><style>\n",
       ".dataframe > thead > tr,\n",
       ".dataframe > tbody > tr {\n",
       "  text-align: right;\n",
       "  white-space: pre-wrap;\n",
       "}\n",
       "</style>\n",
       "<small>shape: (4, 2)</small><table border=\"1\" class=\"dataframe\"><thead><tr><th>trial</th><th>condition</th></tr><tr><td>i64</td><td>i64</td></tr></thead><tbody><tr><td>1</td><td>1</td></tr><tr><td>2</td><td>1</td></tr><tr><td>3</td><td>2</td></tr><tr><td>4</td><td>2</td></tr></tbody></table></div>"
      ],
      "text/plain": [
       "shape: (4, 2)\n",
       "┌───────┬───────────┐\n",
       "│ trial ┆ condition │\n",
       "│ ---   ┆ ---       │\n",
       "│ i64   ┆ i64       │\n",
       "╞═══════╪═══════════╡\n",
       "│ 1     ┆ 1         │\n",
       "│ 2     ┆ 1         │\n",
       "│ 3     ┆ 2         │\n",
       "│ 4     ┆ 2         │\n",
       "└───────┴───────────┘"
      ]
     },
     "execution_count": 8,
     "metadata": {},
     "output_type": "execute_result"
    }
   ],
   "source": [
    "simple = pl.DataFrame(\n",
    "    {\n",
    "        \"trial\": [1, 2, 3, 4],\n",
    "        \"condition\": [1, 1, 2, 2],\n",
    "    }\n",
    ")\n",
    "simple"
   ]
  },
  {
   "cell_type": "markdown",
   "metadata": {
    "editable": true,
    "slideshow": {
     "slide_type": "slide"
    },
    "tags": []
   },
   "source": [
    "We cannot use `replace` to change the type of a column. To recode integers as strings, we can first `cast` the integers as strings, using `.cast(pl.String)`. The `pl.String` attribute represents the string format that Polars uses."
   ]
  },
  {
   "cell_type": "code",
   "execution_count": 9,
   "metadata": {},
   "outputs": [
    {
     "data": {
      "text/html": [
       "<div><style>\n",
       ".dataframe > thead > tr,\n",
       ".dataframe > tbody > tr {\n",
       "  text-align: right;\n",
       "  white-space: pre-wrap;\n",
       "}\n",
       "</style>\n",
       "<small>shape: (4, 2)</small><table border=\"1\" class=\"dataframe\"><thead><tr><th>trial</th><th>condition</th></tr><tr><td>i64</td><td>str</td></tr></thead><tbody><tr><td>1</td><td>&quot;1&quot;</td></tr><tr><td>2</td><td>&quot;1&quot;</td></tr><tr><td>3</td><td>&quot;2&quot;</td></tr><tr><td>4</td><td>&quot;2&quot;</td></tr></tbody></table></div>"
      ],
      "text/plain": [
       "shape: (4, 2)\n",
       "┌───────┬───────────┐\n",
       "│ trial ┆ condition │\n",
       "│ ---   ┆ ---       │\n",
       "│ i64   ┆ str       │\n",
       "╞═══════╪═══════════╡\n",
       "│ 1     ┆ 1         │\n",
       "│ 2     ┆ 1         │\n",
       "│ 3     ┆ 2         │\n",
       "│ 4     ┆ 2         │\n",
       "└───────┴───────────┘"
      ]
     },
     "execution_count": 9,
     "metadata": {},
     "output_type": "execute_result"
    }
   ],
   "source": [
    "simple.with_columns(\n",
    "    condition=pl.col(\"condition\").cast(pl.String)\n",
    ")"
   ]
  },
  {
   "cell_type": "markdown",
   "metadata": {
    "editable": true,
    "slideshow": {
     "slide_type": "slide"
    },
    "tags": []
   },
   "source": [
    "Finally, we can chain a call to `replace` after casting the column to string, to substitute \"target\" when the condition is \"1\" and \"lure\" when the condition is \"2\". "
   ]
  },
  {
   "cell_type": "code",
   "execution_count": 10,
   "metadata": {},
   "outputs": [
    {
     "data": {
      "text/html": [
       "<div><style>\n",
       ".dataframe > thead > tr,\n",
       ".dataframe > tbody > tr {\n",
       "  text-align: right;\n",
       "  white-space: pre-wrap;\n",
       "}\n",
       "</style>\n",
       "<small>shape: (4, 2)</small><table border=\"1\" class=\"dataframe\"><thead><tr><th>trial</th><th>condition</th></tr><tr><td>i64</td><td>str</td></tr></thead><tbody><tr><td>1</td><td>&quot;target&quot;</td></tr><tr><td>2</td><td>&quot;target&quot;</td></tr><tr><td>3</td><td>&quot;lure&quot;</td></tr><tr><td>4</td><td>&quot;lure&quot;</td></tr></tbody></table></div>"
      ],
      "text/plain": [
       "shape: (4, 2)\n",
       "┌───────┬───────────┐\n",
       "│ trial ┆ condition │\n",
       "│ ---   ┆ ---       │\n",
       "│ i64   ┆ str       │\n",
       "╞═══════╪═══════════╡\n",
       "│ 1     ┆ target    │\n",
       "│ 2     ┆ target    │\n",
       "│ 3     ┆ lure      │\n",
       "│ 4     ┆ lure      │\n",
       "└───────┴───────────┘"
      ]
     },
     "execution_count": 10,
     "metadata": {},
     "output_type": "execute_result"
    }
   ],
   "source": [
    "simple.with_columns(\n",
    "    condition=pl.col(\"condition\").cast(pl.String).replace({\"1\": \"target\", \"2\": \"lure\"})\n",
    ")"
   ]
  },
  {
   "cell_type": "markdown",
   "metadata": {
    "editable": true,
    "slideshow": {
     "slide_type": "fragment"
    },
    "tags": []
   },
   "source": [
    "Now, instead of numeric codes that are hard to read, we instead have strings that clearly show the condition corresponding to each trial."
   ]
  },
  {
   "cell_type": "markdown",
   "metadata": {
    "editable": true,
    "slideshow": {
     "slide_type": "slide"
    },
    "tags": []
   },
   "source": [
    "### Exercise: recoding variables\n",
    "\n",
    "Given the DataFrame defined below, recode the `correct` column to set the -999 values to `null`. Recode the `condition` column so that `1` is now `\"target\"` and `2` is now `\"lure\"`."
   ]
  },
  {
   "cell_type": "code",
   "execution_count": 11,
   "metadata": {},
   "outputs": [],
   "source": [
    "df = pl.DataFrame({\"trial\": [1, 2, 3, 4], \"condition\": [1, 2, 1, 2], \"correct\": [0, 1, -999, 1]})\n",
    "# your code here"
   ]
  },
  {
   "cell_type": "markdown",
   "metadata": {
    "editable": true,
    "slideshow": {
     "slide_type": "slide"
    },
    "tags": []
   },
   "source": [
    "## Handling missing data\n",
    "\n",
    "Sometimes, observations will be missing, for example the response on a trial may be undefined if the participant did not make a response."
   ]
  },
  {
   "cell_type": "markdown",
   "metadata": {
    "editable": true,
    "slideshow": {
     "slide_type": "slide"
    },
    "tags": []
   },
   "source": [
    "Let's set up an example DataFrame with some missing responses."
   ]
  },
  {
   "cell_type": "code",
   "execution_count": 12,
   "metadata": {},
   "outputs": [
    {
     "data": {
      "text/html": [
       "<div><style>\n",
       ".dataframe > thead > tr,\n",
       ".dataframe > tbody > tr {\n",
       "  text-align: right;\n",
       "  white-space: pre-wrap;\n",
       "}\n",
       "</style>\n",
       "<small>shape: (9, 2)</small><table border=\"1\" class=\"dataframe\"><thead><tr><th>correct</th><th>response_time</th></tr><tr><td>i64</td><td>f64</td></tr></thead><tbody><tr><td>1</td><td>1.2</td></tr><tr><td>0</td><td>2.1</td></tr><tr><td>1</td><td>1.4</td></tr><tr><td>null</td><td>null</td></tr><tr><td>0</td><td>1.8</td></tr><tr><td>0</td><td>1.6</td></tr><tr><td>1</td><td>1.4</td></tr><tr><td>null</td><td>null</td></tr><tr><td>1</td><td>1.6</td></tr></tbody></table></div>"
      ],
      "text/plain": [
       "shape: (9, 2)\n",
       "┌─────────┬───────────────┐\n",
       "│ correct ┆ response_time │\n",
       "│ ---     ┆ ---           │\n",
       "│ i64     ┆ f64           │\n",
       "╞═════════╪═══════════════╡\n",
       "│ 1       ┆ 1.2           │\n",
       "│ 0       ┆ 2.1           │\n",
       "│ 1       ┆ 1.4           │\n",
       "│ null    ┆ null          │\n",
       "│ 0       ┆ 1.8           │\n",
       "│ 0       ┆ 1.6           │\n",
       "│ 1       ┆ 1.4           │\n",
       "│ null    ┆ null          │\n",
       "│ 1       ┆ 1.6           │\n",
       "└─────────┴───────────────┘"
      ]
     },
     "execution_count": 12,
     "metadata": {},
     "output_type": "execute_result"
    }
   ],
   "source": [
    "responses = pl.DataFrame(\n",
    "    {\n",
    "        \"correct\": [1, 0, 1, None, 0, 0, 1, None, 1],\n",
    "        \"response_time\": [1.2, 2.1, 1.4, None, 1.8, 1.6, 1.4, None, 1.6],\n",
    "    }\n",
    ")\n",
    "responses"
   ]
  },
  {
   "cell_type": "markdown",
   "metadata": {
    "editable": true,
    "slideshow": {
     "slide_type": "slide"
    },
    "tags": []
   },
   "source": [
    "We can tally the number of missing observations in each column using `null_count`."
   ]
  },
  {
   "cell_type": "code",
   "execution_count": 13,
   "metadata": {},
   "outputs": [
    {
     "data": {
      "text/html": [
       "<div><style>\n",
       ".dataframe > thead > tr,\n",
       ".dataframe > tbody > tr {\n",
       "  text-align: right;\n",
       "  white-space: pre-wrap;\n",
       "}\n",
       "</style>\n",
       "<small>shape: (1, 2)</small><table border=\"1\" class=\"dataframe\"><thead><tr><th>correct</th><th>response_time</th></tr><tr><td>u32</td><td>u32</td></tr></thead><tbody><tr><td>2</td><td>2</td></tr></tbody></table></div>"
      ],
      "text/plain": [
       "shape: (1, 2)\n",
       "┌─────────┬───────────────┐\n",
       "│ correct ┆ response_time │\n",
       "│ ---     ┆ ---           │\n",
       "│ u32     ┆ u32           │\n",
       "╞═════════╪═══════════════╡\n",
       "│ 2       ┆ 2             │\n",
       "└─────────┴───────────────┘"
      ]
     },
     "execution_count": 13,
     "metadata": {},
     "output_type": "execute_result"
    }
   ],
   "source": [
    "responses.null_count()"
   ]
  },
  {
   "cell_type": "markdown",
   "metadata": {
    "editable": true,
    "slideshow": {
     "slide_type": "slide"
    },
    "tags": []
   },
   "source": [
    "We can calculate the mean accuracy and response time using the `mean` function."
   ]
  },
  {
   "cell_type": "code",
   "execution_count": 14,
   "metadata": {},
   "outputs": [
    {
     "data": {
      "text/html": [
       "<div><style>\n",
       ".dataframe > thead > tr,\n",
       ".dataframe > tbody > tr {\n",
       "  text-align: right;\n",
       "  white-space: pre-wrap;\n",
       "}\n",
       "</style>\n",
       "<small>shape: (1, 2)</small><table border=\"1\" class=\"dataframe\"><thead><tr><th>correct</th><th>response_time</th></tr><tr><td>f64</td><td>f64</td></tr></thead><tbody><tr><td>0.571429</td><td>1.585714</td></tr></tbody></table></div>"
      ],
      "text/plain": [
       "shape: (1, 2)\n",
       "┌──────────┬───────────────┐\n",
       "│ correct  ┆ response_time │\n",
       "│ ---      ┆ ---           │\n",
       "│ f64      ┆ f64           │\n",
       "╞══════════╪═══════════════╡\n",
       "│ 0.571429 ┆ 1.585714      │\n",
       "└──────────┴───────────────┘"
      ]
     },
     "execution_count": 14,
     "metadata": {},
     "output_type": "execute_result"
    }
   ],
   "source": [
    "responses.mean()"
   ]
  },
  {
   "cell_type": "markdown",
   "metadata": {
    "editable": true,
    "slideshow": {
     "slide_type": "fragment"
    },
    "tags": []
   },
   "source": [
    "Polars functions generally ignore missing responses when performing calculations. Note that this works differently than in NumPy; even if there are missing observations, we don't get `NaN` when calculating statistics like the mean. Make sure to check for missing observations in your data using `null_count` or `describe`, which includes a count of null values in each column. Missing responses can sometimes indicate that there is something wrong with your data."
   ]
  },
  {
   "cell_type": "markdown",
   "metadata": {
    "editable": true,
    "slideshow": {
     "slide_type": "slide"
    },
    "tags": []
   },
   "source": [
    "While the `mean` function will just ignore trials with missing responses, we might instead want to count missing responses as incorrect by coding them as 0. We can recode `null` values as something else using `fill_null`."
   ]
  },
  {
   "cell_type": "code",
   "execution_count": 15,
   "metadata": {},
   "outputs": [
    {
     "data": {
      "text/html": [
       "<div><style>\n",
       ".dataframe > thead > tr,\n",
       ".dataframe > tbody > tr {\n",
       "  text-align: right;\n",
       "  white-space: pre-wrap;\n",
       "}\n",
       "</style>\n",
       "<small>shape: (1, 3)</small><table border=\"1\" class=\"dataframe\"><thead><tr><th>correct</th><th>response_time</th><th>correct_missing</th></tr><tr><td>f64</td><td>f64</td><td>f64</td></tr></thead><tbody><tr><td>0.571429</td><td>1.585714</td><td>0.444444</td></tr></tbody></table></div>"
      ],
      "text/plain": [
       "shape: (1, 3)\n",
       "┌──────────┬───────────────┬─────────────────┐\n",
       "│ correct  ┆ response_time ┆ correct_missing │\n",
       "│ ---      ┆ ---           ┆ ---             │\n",
       "│ f64      ┆ f64           ┆ f64             │\n",
       "╞══════════╪═══════════════╪═════════════════╡\n",
       "│ 0.571429 ┆ 1.585714      ┆ 0.444444        │\n",
       "└──────────┴───────────────┴─────────────────┘"
      ]
     },
     "execution_count": 15,
     "metadata": {},
     "output_type": "execute_result"
    }
   ],
   "source": [
    "missing = responses.with_columns(\n",
    "    correct_missing=pl.col(\"correct\").fill_null(0)\n",
    ")\n",
    "missing.mean()"
   ]
  },
  {
   "cell_type": "markdown",
   "metadata": {
    "editable": true,
    "slideshow": {
     "slide_type": "fragment"
    },
    "tags": []
   },
   "source": [
    "Note that the accuracy is lower when we count missing responses as incorrect."
   ]
  },
  {
   "cell_type": "markdown",
   "metadata": {
    "editable": true,
    "slideshow": {
     "slide_type": "slide"
    },
    "tags": []
   },
   "source": [
    "We can also use `filter` together with `is_not_null` to remove rows where a column is `null`."
   ]
  },
  {
   "cell_type": "code",
   "execution_count": 16,
   "metadata": {},
   "outputs": [
    {
     "data": {
      "text/html": [
       "<div><style>\n",
       ".dataframe > thead > tr,\n",
       ".dataframe > tbody > tr {\n",
       "  text-align: right;\n",
       "  white-space: pre-wrap;\n",
       "}\n",
       "</style>\n",
       "<small>shape: (7, 2)</small><table border=\"1\" class=\"dataframe\"><thead><tr><th>correct</th><th>response_time</th></tr><tr><td>i64</td><td>f64</td></tr></thead><tbody><tr><td>1</td><td>1.2</td></tr><tr><td>0</td><td>2.1</td></tr><tr><td>1</td><td>1.4</td></tr><tr><td>0</td><td>1.8</td></tr><tr><td>0</td><td>1.6</td></tr><tr><td>1</td><td>1.4</td></tr><tr><td>1</td><td>1.6</td></tr></tbody></table></div>"
      ],
      "text/plain": [
       "shape: (7, 2)\n",
       "┌─────────┬───────────────┐\n",
       "│ correct ┆ response_time │\n",
       "│ ---     ┆ ---           │\n",
       "│ i64     ┆ f64           │\n",
       "╞═════════╪═══════════════╡\n",
       "│ 1       ┆ 1.2           │\n",
       "│ 0       ┆ 2.1           │\n",
       "│ 1       ┆ 1.4           │\n",
       "│ 0       ┆ 1.8           │\n",
       "│ 0       ┆ 1.6           │\n",
       "│ 1       ┆ 1.4           │\n",
       "│ 1       ┆ 1.6           │\n",
       "└─────────┴───────────────┘"
      ]
     },
     "execution_count": 16,
     "metadata": {},
     "output_type": "execute_result"
    }
   ],
   "source": [
    "included = responses.filter(pl.col(\"correct\").is_not_null())\n",
    "included"
   ]
  },
  {
   "cell_type": "markdown",
   "metadata": {
    "editable": true,
    "slideshow": {
     "slide_type": "slide"
    },
    "tags": []
   },
   "source": [
    "### Exercise: Handling missing data\n",
    "\n",
    "Given the DataFrame defined below, get the number of missing observations in the `correct` column. Calculate the mean accuracy across all trials without missing responses. Then calculate mean accuracy if missing responses are considered incorrect."
   ]
  },
  {
   "cell_type": "code",
   "execution_count": 17,
   "metadata": {},
   "outputs": [],
   "source": [
    "df = pl.DataFrame({\"trial\": [1, 2, 3, 4, 5, 6], \"correct\": [0, 1, 1, 0, None, 1]})\n",
    "# answer here"
   ]
  },
  {
   "cell_type": "markdown",
   "metadata": {
    "editable": true,
    "slideshow": {
     "slide_type": "slide"
    },
    "tags": []
   },
   "source": [
    "## Grouping and aggregation\n",
    "\n",
    "When we are analyzing a dataset, we usually don't just want to calculate summary statistics for a whole column of data. Often we will instead want to break the dataset into groups, and calculate the summary statistics for each group. We can do this using the `group_by` and `agg` methods."
   ]
  },
  {
   "cell_type": "markdown",
   "metadata": {
    "editable": true,
    "slideshow": {
     "slide_type": "slide"
    },
    "tags": []
   },
   "source": [
    "Grouping and aggregation allow us to calculate summary statistics for groups within our data using very little code. Here, we'll calculate the mean response time for correct trials (where `correct == 1`) and incorrect trials (where `correct == 0`)."
   ]
  },
  {
   "cell_type": "code",
   "execution_count": 18,
   "metadata": {},
   "outputs": [
    {
     "data": {
      "text/html": [
       "<div><style>\n",
       ".dataframe > thead > tr,\n",
       ".dataframe > tbody > tr {\n",
       "  text-align: right;\n",
       "  white-space: pre-wrap;\n",
       "}\n",
       "</style>\n",
       "<small>shape: (2, 2)</small><table border=\"1\" class=\"dataframe\"><thead><tr><th>correct</th><th>response_time</th></tr><tr><td>i64</td><td>f64</td></tr></thead><tbody><tr><td>1</td><td>1.4</td></tr><tr><td>0</td><td>1.833333</td></tr></tbody></table></div>"
      ],
      "text/plain": [
       "shape: (2, 2)\n",
       "┌─────────┬───────────────┐\n",
       "│ correct ┆ response_time │\n",
       "│ ---     ┆ ---           │\n",
       "│ i64     ┆ f64           │\n",
       "╞═════════╪═══════════════╡\n",
       "│ 1       ┆ 1.4           │\n",
       "│ 0       ┆ 1.833333      │\n",
       "└─────────┴───────────────┘"
      ]
     },
     "execution_count": 18,
     "metadata": {},
     "output_type": "execute_result"
    }
   ],
   "source": [
    "included.group_by(\"correct\").agg(pl.col(\"response_time\").mean())"
   ]
  },
  {
   "cell_type": "markdown",
   "metadata": {
    "editable": true,
    "slideshow": {
     "slide_type": "fragment"
    },
    "tags": []
   },
   "source": [
    "We first grouped the data to make a group for each value of the `correct` column. We then aggregated the data in the `response_time` column by calculating the mean within each group.\n",
    "\n",
    "Let's break down this code to see how it works."
   ]
  },
  {
   "cell_type": "markdown",
   "metadata": {
    "editable": true,
    "slideshow": {
     "slide_type": "slide"
    },
    "tags": []
   },
   "source": [
    "To perform aggregation, we start by calling `group_by`. Here, we give the name of the `correct` column to indicate that we want to make one group for each value of that column. There will be one group for `correct == 0` and one group for `correct == 1`."
   ]
  },
  {
   "cell_type": "code",
   "execution_count": 19,
   "metadata": {},
   "outputs": [],
   "source": [
    "g = included.group_by(\"correct\")"
   ]
  },
  {
   "cell_type": "markdown",
   "metadata": {
    "editable": true,
    "slideshow": {
     "slide_type": "fragment"
    },
    "tags": []
   },
   "source": [
    "Normally, we would next call the `agg` method to calculate some aggregation wtihin each group. Instead, we'll convert the `GroupBy` object into a list so we can look at it."
   ]
  },
  {
   "cell_type": "code",
   "execution_count": 20,
   "metadata": {},
   "outputs": [],
   "source": [
    "g = list(g)"
   ]
  },
  {
   "cell_type": "markdown",
   "metadata": {
    "editable": true,
    "slideshow": {
     "slide_type": "slide"
    },
    "tags": []
   },
   "source": [
    "Each group includes a name (the value for each group, which here is 0 or 1) and a DataFrame that just has the rows that match that value.\n",
    "\n",
    "Let's take a look at the first group."
   ]
  },
  {
   "cell_type": "code",
   "execution_count": 21,
   "metadata": {},
   "outputs": [
    {
     "name": "stdout",
     "output_type": "stream",
     "text": [
      "(1,)\n"
     ]
    },
    {
     "data": {
      "text/html": [
       "<div><style>\n",
       ".dataframe > thead > tr,\n",
       ".dataframe > tbody > tr {\n",
       "  text-align: right;\n",
       "  white-space: pre-wrap;\n",
       "}\n",
       "</style>\n",
       "<small>shape: (4, 2)</small><table border=\"1\" class=\"dataframe\"><thead><tr><th>correct</th><th>response_time</th></tr><tr><td>i64</td><td>f64</td></tr></thead><tbody><tr><td>1</td><td>1.2</td></tr><tr><td>1</td><td>1.4</td></tr><tr><td>1</td><td>1.4</td></tr><tr><td>1</td><td>1.6</td></tr></tbody></table></div>"
      ],
      "text/plain": [
       "shape: (4, 2)\n",
       "┌─────────┬───────────────┐\n",
       "│ correct ┆ response_time │\n",
       "│ ---     ┆ ---           │\n",
       "│ i64     ┆ f64           │\n",
       "╞═════════╪═══════════════╡\n",
       "│ 1       ┆ 1.2           │\n",
       "│ 1       ┆ 1.4           │\n",
       "│ 1       ┆ 1.4           │\n",
       "│ 1       ┆ 1.6           │\n",
       "└─────────┴───────────────┘"
      ]
     },
     "execution_count": 21,
     "metadata": {},
     "output_type": "execute_result"
    }
   ],
   "source": [
    "group_name, group_df = g[0]\n",
    "print(group_name)\n",
    "group_df"
   ]
  },
  {
   "cell_type": "markdown",
   "metadata": {
    "editable": true,
    "slideshow": {
     "slide_type": "slide"
    },
    "tags": []
   },
   "source": [
    "Next, let's look at the second group."
   ]
  },
  {
   "cell_type": "code",
   "execution_count": 22,
   "metadata": {},
   "outputs": [
    {
     "name": "stdout",
     "output_type": "stream",
     "text": [
      "(0,)\n"
     ]
    },
    {
     "data": {
      "text/html": [
       "<div><style>\n",
       ".dataframe > thead > tr,\n",
       ".dataframe > tbody > tr {\n",
       "  text-align: right;\n",
       "  white-space: pre-wrap;\n",
       "}\n",
       "</style>\n",
       "<small>shape: (3, 2)</small><table border=\"1\" class=\"dataframe\"><thead><tr><th>correct</th><th>response_time</th></tr><tr><td>i64</td><td>f64</td></tr></thead><tbody><tr><td>0</td><td>2.1</td></tr><tr><td>0</td><td>1.8</td></tr><tr><td>0</td><td>1.6</td></tr></tbody></table></div>"
      ],
      "text/plain": [
       "shape: (3, 2)\n",
       "┌─────────┬───────────────┐\n",
       "│ correct ┆ response_time │\n",
       "│ ---     ┆ ---           │\n",
       "│ i64     ┆ f64           │\n",
       "╞═════════╪═══════════════╡\n",
       "│ 0       ┆ 2.1           │\n",
       "│ 0       ┆ 1.8           │\n",
       "│ 0       ┆ 1.6           │\n",
       "└─────────┴───────────────┘"
      ]
     },
     "execution_count": 22,
     "metadata": {},
     "output_type": "execute_result"
    }
   ],
   "source": [
    "group_name, group_df = g[1]\n",
    "print(group_name)\n",
    "group_df"
   ]
  },
  {
   "cell_type": "markdown",
   "metadata": {
    "editable": true,
    "slideshow": {
     "slide_type": "slide"
    },
    "tags": []
   },
   "source": [
    "We can aggregate the data within each group through multiple different methods. One simple method is to just pass the name of a column to the `agg` function. This will give us a column that has a list of all the observations that were in each group."
   ]
  },
  {
   "cell_type": "code",
   "execution_count": 23,
   "metadata": {},
   "outputs": [
    {
     "data": {
      "text/html": [
       "<div><style>\n",
       ".dataframe > thead > tr,\n",
       ".dataframe > tbody > tr {\n",
       "  text-align: right;\n",
       "  white-space: pre-wrap;\n",
       "}\n",
       "</style>\n",
       "<small>shape: (2, 2)</small><table border=\"1\" class=\"dataframe\"><thead><tr><th>correct</th><th>response_time</th></tr><tr><td>i64</td><td>list[f64]</td></tr></thead><tbody><tr><td>1</td><td>[1.2, 1.4, … 1.6]</td></tr><tr><td>0</td><td>[2.1, 1.8, 1.6]</td></tr></tbody></table></div>"
      ],
      "text/plain": [
       "shape: (2, 2)\n",
       "┌─────────┬───────────────────┐\n",
       "│ correct ┆ response_time     │\n",
       "│ ---     ┆ ---               │\n",
       "│ i64     ┆ list[f64]         │\n",
       "╞═════════╪═══════════════════╡\n",
       "│ 1       ┆ [1.2, 1.4, … 1.6] │\n",
       "│ 0       ┆ [2.1, 1.8, 1.6]   │\n",
       "└─────────┴───────────────────┘"
      ]
     },
     "execution_count": 23,
     "metadata": {},
     "output_type": "execute_result"
    }
   ],
   "source": [
    "included.group_by(\"correct\").agg(pl.col(\"response_time\"))"
   ]
  },
  {
   "cell_type": "markdown",
   "metadata": {
    "editable": true,
    "slideshow": {
     "slide_type": "slide"
    },
    "tags": []
   },
   "source": [
    "Often, we'll want to calculate a summary statistic, like the mean, for each group. We can do that by specifying the column to aggregate and calling the `mean` function."
   ]
  },
  {
   "cell_type": "code",
   "execution_count": 24,
   "metadata": {},
   "outputs": [
    {
     "data": {
      "text/html": [
       "<div><style>\n",
       ".dataframe > thead > tr,\n",
       ".dataframe > tbody > tr {\n",
       "  text-align: right;\n",
       "  white-space: pre-wrap;\n",
       "}\n",
       "</style>\n",
       "<small>shape: (2, 2)</small><table border=\"1\" class=\"dataframe\"><thead><tr><th>correct</th><th>response_time</th></tr><tr><td>i64</td><td>f64</td></tr></thead><tbody><tr><td>1</td><td>1.4</td></tr><tr><td>0</td><td>1.833333</td></tr></tbody></table></div>"
      ],
      "text/plain": [
       "shape: (2, 2)\n",
       "┌─────────┬───────────────┐\n",
       "│ correct ┆ response_time │\n",
       "│ ---     ┆ ---           │\n",
       "│ i64     ┆ f64           │\n",
       "╞═════════╪═══════════════╡\n",
       "│ 1       ┆ 1.4           │\n",
       "│ 0       ┆ 1.833333      │\n",
       "└─────────┴───────────────┘"
      ]
     },
     "execution_count": 24,
     "metadata": {},
     "output_type": "execute_result"
    }
   ],
   "source": [
    "included.group_by(\"correct\").agg(pl.col(\"response_time\").mean())"
   ]
  },
  {
   "cell_type": "markdown",
   "metadata": {
    "editable": true,
    "slideshow": {
     "slide_type": "slide"
    },
    "tags": []
   },
   "source": [
    "We can also use calculate other summary statistics, like the standard deviation."
   ]
  },
  {
   "cell_type": "code",
   "execution_count": 25,
   "metadata": {},
   "outputs": [
    {
     "data": {
      "text/html": [
       "<div><style>\n",
       ".dataframe > thead > tr,\n",
       ".dataframe > tbody > tr {\n",
       "  text-align: right;\n",
       "  white-space: pre-wrap;\n",
       "}\n",
       "</style>\n",
       "<small>shape: (2, 2)</small><table border=\"1\" class=\"dataframe\"><thead><tr><th>correct</th><th>response_time</th></tr><tr><td>i64</td><td>f64</td></tr></thead><tbody><tr><td>0</td><td>0.251661</td></tr><tr><td>1</td><td>0.163299</td></tr></tbody></table></div>"
      ],
      "text/plain": [
       "shape: (2, 2)\n",
       "┌─────────┬───────────────┐\n",
       "│ correct ┆ response_time │\n",
       "│ ---     ┆ ---           │\n",
       "│ i64     ┆ f64           │\n",
       "╞═════════╪═══════════════╡\n",
       "│ 0       ┆ 0.251661      │\n",
       "│ 1       ┆ 0.163299      │\n",
       "└─────────┴───────────────┘"
      ]
     },
     "execution_count": 25,
     "metadata": {},
     "output_type": "execute_result"
    }
   ],
   "source": [
    "included.group_by(\"correct\").agg(pl.col(\"response_time\").std())"
   ]
  },
  {
   "cell_type": "markdown",
   "metadata": {
    "editable": true,
    "slideshow": {
     "slide_type": "slide"
    },
    "tags": []
   },
   "source": [
    "We can even calculate multiple summary statistics at the same time. In this case, we must give the columns different names to avoid getting an error. Like in `select` and `with_columns`, we can assign names using keyword arguments to `agg`."
   ]
  },
  {
   "cell_type": "code",
   "execution_count": 26,
   "metadata": {},
   "outputs": [
    {
     "data": {
      "text/html": [
       "<div><style>\n",
       ".dataframe > thead > tr,\n",
       ".dataframe > tbody > tr {\n",
       "  text-align: right;\n",
       "  white-space: pre-wrap;\n",
       "}\n",
       "</style>\n",
       "<small>shape: (2, 3)</small><table border=\"1\" class=\"dataframe\"><thead><tr><th>correct</th><th>mean</th><th>std</th></tr><tr><td>i64</td><td>f64</td><td>f64</td></tr></thead><tbody><tr><td>1</td><td>1.4</td><td>0.163299</td></tr><tr><td>0</td><td>1.833333</td><td>0.251661</td></tr></tbody></table></div>"
      ],
      "text/plain": [
       "shape: (2, 3)\n",
       "┌─────────┬──────────┬──────────┐\n",
       "│ correct ┆ mean     ┆ std      │\n",
       "│ ---     ┆ ---      ┆ ---      │\n",
       "│ i64     ┆ f64      ┆ f64      │\n",
       "╞═════════╪══════════╪══════════╡\n",
       "│ 1       ┆ 1.4      ┆ 0.163299 │\n",
       "│ 0       ┆ 1.833333 ┆ 0.251661 │\n",
       "└─────────┴──────────┴──────────┘"
      ]
     },
     "execution_count": 26,
     "metadata": {},
     "output_type": "execute_result"
    }
   ],
   "source": [
    "(\n",
    "    included.group_by(\"correct\")\n",
    "    .agg(\n",
    "        mean=pl.col(\"response_time\").mean(),\n",
    "        std=pl.col(\"response_time\").std(),\n",
    "    )\n",
    ")"
   ]
  },
  {
   "cell_type": "markdown",
   "metadata": {
    "editable": true,
    "slideshow": {
     "slide_type": "fragment"
    },
    "tags": []
   },
   "source": [
    "See the Polars documentation for lists of methods that can be used to aggregate [whole groups](https://docs.pola.rs/api/python/stable/reference/dataframe/group_by.html) or [individual columns](https://docs.pola.rs/api/python/stable/reference/expressions/aggregation.html)."
   ]
  },
  {
   "cell_type": "markdown",
   "metadata": {
    "editable": true,
    "slideshow": {
     "slide_type": "slide"
    },
    "tags": []
   },
   "source": [
    "### Exercise: grouping and aggregation\n",
    "\n",
    "Given the DataFrame defined below, calculate the mean response time for each condition."
   ]
  },
  {
   "cell_type": "code",
   "execution_count": 27,
   "metadata": {},
   "outputs": [],
   "source": [
    "df = pl.DataFrame(\n",
    "    {\n",
    "        \"trial\": [1, 2, 3, 4, 5, 6], \n",
    "        \"condition\": [1, 1, 1, 2, 2, 2], \n",
    "        \"response_time\": [1.2, 1.4, 1.3, 1.7, 1.6, 1.8],\n",
    "    }\n",
    ")\n",
    "# answer here"
   ]
  },
  {
   "cell_type": "markdown",
   "metadata": {
    "editable": true,
    "slideshow": {
     "slide_type": "slide"
    },
    "tags": []
   },
   "source": [
    "## Reshaping data to long format\n",
    "\n",
    "Sometimes, we need to transform our dataset to a different shape to make it easier to work with."
   ]
  },
  {
   "cell_type": "markdown",
   "metadata": {
    "editable": true,
    "slideshow": {
     "slide_type": "slide"
    },
    "tags": []
   },
   "source": [
    "Say that we have data in a study where trials are split into blocks. Each block is represented by one row in the DataFrame. The `1` column indicates if trial 1 was correct, the `2` column indicates if trial 2 was correct, and the `3` column indicates if trial 3 was correct.\n",
    "\n",
    "| block | 1 | 2 | 3 |\n",
    "| ----- | - | - | - |\n",
    "| 1     | 1 | 0 | 0 |\n",
    "| 2     | 0 | 1 | 0 |\n",
    "\n",
    "This is called a *wide* format table. If we want to analyze the accuracy of trials within each block, we will have to access the correct column."
   ]
  },
  {
   "cell_type": "markdown",
   "metadata": {
    "editable": true,
    "slideshow": {
     "slide_type": "fragment"
    },
    "tags": []
   },
   "source": [
    "Often it is easier to work with *long* format data instead. In a long-format DataFrame, there is one row for each set of observations. Here, that means there is one row for each trial.\n",
    "\n",
    "| block | trial | correct |\n",
    "| ----- | ----- | ------- |\n",
    "| 1     | 1     | 1       |\n",
    "| 1     | 2     | 0       |\n",
    "| 1     | 3     | 0       |\n",
    "| 2     | 1     | 0       |\n",
    "| 2     | 2     | 1       |\n",
    "| 2     | 3     | 0       |"
   ]
  },
  {
   "cell_type": "markdown",
   "metadata": {
    "editable": true,
    "slideshow": {
     "slide_type": "slide"
    },
    "tags": []
   },
   "source": [
    "First, we'll make a DataFrame to match our example wide data."
   ]
  },
  {
   "cell_type": "code",
   "execution_count": 28,
   "metadata": {},
   "outputs": [
    {
     "data": {
      "text/html": [
       "<div><style>\n",
       ".dataframe > thead > tr,\n",
       ".dataframe > tbody > tr {\n",
       "  text-align: right;\n",
       "  white-space: pre-wrap;\n",
       "}\n",
       "</style>\n",
       "<small>shape: (2, 4)</small><table border=\"1\" class=\"dataframe\"><thead><tr><th>block</th><th>1</th><th>2</th><th>3</th></tr><tr><td>i64</td><td>i64</td><td>i64</td><td>i64</td></tr></thead><tbody><tr><td>1</td><td>1</td><td>0</td><td>0</td></tr><tr><td>2</td><td>0</td><td>1</td><td>0</td></tr></tbody></table></div>"
      ],
      "text/plain": [
       "shape: (2, 4)\n",
       "┌───────┬─────┬─────┬─────┐\n",
       "│ block ┆ 1   ┆ 2   ┆ 3   │\n",
       "│ ---   ┆ --- ┆ --- ┆ --- │\n",
       "│ i64   ┆ i64 ┆ i64 ┆ i64 │\n",
       "╞═══════╪═════╪═════╪═════╡\n",
       "│ 1     ┆ 1   ┆ 0   ┆ 0   │\n",
       "│ 2     ┆ 0   ┆ 1   ┆ 0   │\n",
       "└───────┴─────┴─────┴─────┘"
      ]
     },
     "execution_count": 28,
     "metadata": {},
     "output_type": "execute_result"
    }
   ],
   "source": [
    "df = pl.DataFrame(\n",
    "    {\n",
    "        \"block\": [1, 2],\n",
    "        \"1\": [1, 0],\n",
    "        \"2\": [0, 1],\n",
    "        \"3\": [0, 0],\n",
    "    }\n",
    ")\n",
    "df"
   ]
  },
  {
   "cell_type": "markdown",
   "metadata": {
    "editable": true,
    "slideshow": {
     "slide_type": "slide"
    },
    "tags": []
   },
   "source": [
    "Now, let's unpivot the data to transform it to long format.\n",
    "\n",
    "The first input indicates the columns that should be unpivoted by placing them in separate rows.\n",
    "\n",
    "The `index` indicates one or more columns to use as identifier variables. These variables provide information about each of the observations contained in the rows.\n",
    "\n",
    "The `variable_name` indicates how the unpivoted column labels should be named.\n",
    "\n",
    "The `value_name` indicates how the unpivoted column values should be named."
   ]
  },
  {
   "cell_type": "code",
   "execution_count": 29,
   "metadata": {},
   "outputs": [
    {
     "data": {
      "text/html": [
       "<div><style>\n",
       ".dataframe > thead > tr,\n",
       ".dataframe > tbody > tr {\n",
       "  text-align: right;\n",
       "  white-space: pre-wrap;\n",
       "}\n",
       "</style>\n",
       "<small>shape: (6, 3)</small><table border=\"1\" class=\"dataframe\"><thead><tr><th>block</th><th>trial</th><th>correct</th></tr><tr><td>i64</td><td>str</td><td>i64</td></tr></thead><tbody><tr><td>1</td><td>&quot;1&quot;</td><td>1</td></tr><tr><td>2</td><td>&quot;1&quot;</td><td>0</td></tr><tr><td>1</td><td>&quot;2&quot;</td><td>0</td></tr><tr><td>2</td><td>&quot;2&quot;</td><td>1</td></tr><tr><td>1</td><td>&quot;3&quot;</td><td>0</td></tr><tr><td>2</td><td>&quot;3&quot;</td><td>0</td></tr></tbody></table></div>"
      ],
      "text/plain": [
       "shape: (6, 3)\n",
       "┌───────┬───────┬─────────┐\n",
       "│ block ┆ trial ┆ correct │\n",
       "│ ---   ┆ ---   ┆ ---     │\n",
       "│ i64   ┆ str   ┆ i64     │\n",
       "╞═══════╪═══════╪═════════╡\n",
       "│ 1     ┆ 1     ┆ 1       │\n",
       "│ 2     ┆ 1     ┆ 0       │\n",
       "│ 1     ┆ 2     ┆ 0       │\n",
       "│ 2     ┆ 2     ┆ 1       │\n",
       "│ 1     ┆ 3     ┆ 0       │\n",
       "│ 2     ┆ 3     ┆ 0       │\n",
       "└───────┴───────┴─────────┘"
      ]
     },
     "execution_count": 29,
     "metadata": {},
     "output_type": "execute_result"
    }
   ],
   "source": [
    "unpivoted = df.unpivot(\n",
    "    [\"1\", \"2\", \"3\"], \n",
    "    index=\"block\",\n",
    "    variable_name=\"trial\",\n",
    "    value_name=\"correct\",\n",
    ")\n",
    "unpivoted"
   ]
  },
  {
   "cell_type": "markdown",
   "metadata": {
    "editable": true,
    "slideshow": {
     "slide_type": "slide"
    },
    "tags": []
   },
   "source": [
    "Trial is better represented as an integer than a string, so let's cast it to an integer. We'll also sort by block using the `sort` function, to make the ordering more intuitive."
   ]
  },
  {
   "cell_type": "code",
   "execution_count": 30,
   "metadata": {},
   "outputs": [
    {
     "data": {
      "text/html": [
       "<div><style>\n",
       ".dataframe > thead > tr,\n",
       ".dataframe > tbody > tr {\n",
       "  text-align: right;\n",
       "  white-space: pre-wrap;\n",
       "}\n",
       "</style>\n",
       "<small>shape: (6, 3)</small><table border=\"1\" class=\"dataframe\"><thead><tr><th>block</th><th>trial</th><th>correct</th></tr><tr><td>i64</td><td>i64</td><td>i64</td></tr></thead><tbody><tr><td>1</td><td>1</td><td>1</td></tr><tr><td>1</td><td>2</td><td>0</td></tr><tr><td>1</td><td>3</td><td>0</td></tr><tr><td>2</td><td>1</td><td>0</td></tr><tr><td>2</td><td>2</td><td>1</td></tr><tr><td>2</td><td>3</td><td>0</td></tr></tbody></table></div>"
      ],
      "text/plain": [
       "shape: (6, 3)\n",
       "┌───────┬───────┬─────────┐\n",
       "│ block ┆ trial ┆ correct │\n",
       "│ ---   ┆ ---   ┆ ---     │\n",
       "│ i64   ┆ i64   ┆ i64     │\n",
       "╞═══════╪═══════╪═════════╡\n",
       "│ 1     ┆ 1     ┆ 1       │\n",
       "│ 1     ┆ 2     ┆ 0       │\n",
       "│ 1     ┆ 3     ┆ 0       │\n",
       "│ 2     ┆ 1     ┆ 0       │\n",
       "│ 2     ┆ 2     ┆ 1       │\n",
       "│ 2     ┆ 3     ┆ 0       │\n",
       "└───────┴───────┴─────────┘"
      ]
     },
     "execution_count": 30,
     "metadata": {},
     "output_type": "execute_result"
    }
   ],
   "source": [
    "cleaned = unpivoted.with_columns(pl.col(\"trial\").cast(pl.Int64)).sort(\"block\")\n",
    "cleaned"
   ]
  },
  {
   "cell_type": "markdown",
   "metadata": {
    "editable": true,
    "slideshow": {
     "slide_type": "slide"
    },
    "tags": []
   },
   "source": [
    "Now we have a format that is very flexible when using `group_by` or making plots using Seaborn (more on that later). For example, we can easily calculate mean accuracy using `group_by`."
   ]
  },
  {
   "cell_type": "code",
   "execution_count": 31,
   "metadata": {},
   "outputs": [
    {
     "data": {
      "text/html": [
       "<div><style>\n",
       ".dataframe > thead > tr,\n",
       ".dataframe > tbody > tr {\n",
       "  text-align: right;\n",
       "  white-space: pre-wrap;\n",
       "}\n",
       "</style>\n",
       "<small>shape: (2, 2)</small><table border=\"1\" class=\"dataframe\"><thead><tr><th>block</th><th>accuracy</th></tr><tr><td>i64</td><td>f64</td></tr></thead><tbody><tr><td>1</td><td>0.333333</td></tr><tr><td>2</td><td>0.333333</td></tr></tbody></table></div>"
      ],
      "text/plain": [
       "shape: (2, 2)\n",
       "┌───────┬──────────┐\n",
       "│ block ┆ accuracy │\n",
       "│ ---   ┆ ---      │\n",
       "│ i64   ┆ f64      │\n",
       "╞═══════╪══════════╡\n",
       "│ 1     ┆ 0.333333 │\n",
       "│ 2     ┆ 0.333333 │\n",
       "└───────┴──────────┘"
      ]
     },
     "execution_count": 31,
     "metadata": {},
     "output_type": "execute_result"
    }
   ],
   "source": [
    "cleaned.group_by(\"block\").agg(accuracy=pl.col(\"correct\").mean())"
   ]
  },
  {
   "cell_type": "markdown",
   "metadata": {
    "editable": true,
    "slideshow": {
     "slide_type": "slide"
    },
    "tags": []
   },
   "source": [
    "### Exercise: reshaping data to long format\n",
    "\n",
    "Given the DataFrame defined below, reshape it to long format, so that there is one observation per row. There should be 9 rows in the long table. The first column should be `subject`. Make an `assessment` column that indicates one of the tests, and an `accuracy` column that indicates performance on that test."
   ]
  },
  {
   "cell_type": "code",
   "execution_count": 32,
   "metadata": {},
   "outputs": [],
   "source": [
    "df = pl.DataFrame(\n",
    "    {\n",
    "        \"subject\": [\"001\", \"002\", \"003\"], \n",
    "        \"test1\": [0.5, 0.7, 0.4], \n",
    "        \"test2\": [0.6, 0.8, 0.5], \n",
    "        \"test3\": [0.9, 1.0, 0.7],\n",
    "    }\n",
    ")\n",
    "# answer here"
   ]
  },
  {
   "cell_type": "markdown",
   "metadata": {
    "editable": true,
    "slideshow": {
     "slide_type": "slide"
    },
    "tags": []
   },
   "source": [
    "## Reshaping data to wide format\n",
    "\n",
    "Sometimes it is useful to *pivot* some data to represent different variables in different columns."
   ]
  },
  {
   "cell_type": "markdown",
   "metadata": {
    "editable": true,
    "slideshow": {
     "slide_type": "slide"
    },
    "tags": []
   },
   "source": [
    "For example, say that we have a measure of some response in two conditions for each of a number of subjects. For subject 001, in the target condition, they said \"old\" on 0.8 of trials (80%). In the lure condition, they said \"old\" on 0.2 of trials (20%).\n",
    "\n",
    "| subject | condition | response |\n",
    "| ------- | --------- | -------- |\n",
    "| 001     | target    | 0.8      |\n",
    "| 001     | lure      | 0.2      |\n",
    "| 002     | target    | 0.75     |\n",
    "| 002     | lure      | 0.15     |\n",
    "| 003     | target    | 0.85     |\n",
    "| 003     | lure      | 0.25     |"
   ]
  },
  {
   "cell_type": "markdown",
   "metadata": {
    "editable": true,
    "slideshow": {
     "slide_type": "fragment"
    },
    "tags": []
   },
   "source": [
    "Say that we want to compare average responding in the target and lure conditions, separately for each subject. This is difficult to do when the data are in long format. We can pivot the data into a wide format that organizes the data in a convenient way for comparing conditions.\n",
    "\n",
    "| subject | target | lure |\n",
    "| ------- | ------ | ---- |\n",
    "| 001     | 0.8    | 0.2  |\n",
    "| 002     | 0.75   | 0.15 |\n",
    "| 003     | 0.85   | 0.25 |"
   ]
  },
  {
   "cell_type": "markdown",
   "metadata": {
    "editable": true,
    "slideshow": {
     "slide_type": "fragment"
    },
    "tags": []
   },
   "source": [
    "Note that this has the same information as in the long table, but now there is a column for each of the two conditions. Now it will be easy to compare target and lure responses for each subject; for example, we can calculate corrected hit rate by subtracting the lure column from the target column."
   ]
  },
  {
   "cell_type": "markdown",
   "metadata": {
    "editable": true,
    "slideshow": {
     "slide_type": "slide"
    },
    "tags": []
   },
   "source": [
    "Let's see how we can use pivoting with a real dataset. We'll focus on the test phase of the Osth & Fox (2019) study. For each trial during the test phase, we have the response (0 for \"new\", 1 for \"old\") and the probe type (target or lure)."
   ]
  },
  {
   "cell_type": "code",
   "execution_count": 33,
   "metadata": {},
   "outputs": [
    {
     "data": {
      "text/html": [
       "<div><style>\n",
       ".dataframe > thead > tr,\n",
       ".dataframe > tbody > tr {\n",
       "  text-align: right;\n",
       "  white-space: pre-wrap;\n",
       "}\n",
       "</style>\n",
       "<small>shape: (6, 10)</small><table border=\"1\" class=\"dataframe\"><thead><tr><th>subj</th><th>phase</th><th>type</th><th>word1</th><th>word2</th><th>response</th><th>RT</th><th>correct</th><th>lag</th><th>probe_type</th></tr><tr><td>i64</td><td>str</td><td>str</td><td>str</td><td>str</td><td>i64</td><td>f64</td><td>i64</td><td>i64</td><td>str</td></tr></thead><tbody><tr><td>101</td><td>&quot;test&quot;</td><td>&quot;rearranged&quot;</td><td>&quot;waste&quot;</td><td>&quot;degree&quot;</td><td>0</td><td>2.312</td><td>1</td><td>2</td><td>&quot;lure&quot;</td></tr><tr><td>101</td><td>&quot;test&quot;</td><td>&quot;rearranged&quot;</td><td>&quot;needed&quot;</td><td>&quot;able&quot;</td><td>0</td><td>3.542</td><td>1</td><td>1</td><td>&quot;lure&quot;</td></tr><tr><td>101</td><td>&quot;test&quot;</td><td>&quot;rearranged&quot;</td><td>&quot;single&quot;</td><td>&quot;clean&quot;</td><td>0</td><td>2.084</td><td>1</td><td>3</td><td>&quot;lure&quot;</td></tr><tr><td>101</td><td>&quot;test&quot;</td><td>&quot;rearranged&quot;</td><td>&quot;train&quot;</td><td>&quot;useful&quot;</td><td>0</td><td>1.669</td><td>1</td><td>2</td><td>&quot;lure&quot;</td></tr><tr><td>101</td><td>&quot;test&quot;</td><td>&quot;rearranged&quot;</td><td>&quot;knees&quot;</td><td>&quot;various&quot;</td><td>0</td><td>2.326</td><td>1</td><td>5</td><td>&quot;lure&quot;</td></tr><tr><td>101</td><td>&quot;test&quot;</td><td>&quot;intact&quot;</td><td>&quot;skin&quot;</td><td>&quot;careful&quot;</td><td>1</td><td>1.407</td><td>1</td><td>null</td><td>&quot;target&quot;</td></tr></tbody></table></div>"
      ],
      "text/plain": [
       "shape: (6, 10)\n",
       "┌──────┬───────┬────────────┬────────┬───┬───────┬─────────┬──────┬────────────┐\n",
       "│ subj ┆ phase ┆ type       ┆ word1  ┆ … ┆ RT    ┆ correct ┆ lag  ┆ probe_type │\n",
       "│ ---  ┆ ---   ┆ ---        ┆ ---    ┆   ┆ ---   ┆ ---     ┆ ---  ┆ ---        │\n",
       "│ i64  ┆ str   ┆ str        ┆ str    ┆   ┆ f64   ┆ i64     ┆ i64  ┆ str        │\n",
       "╞══════╪═══════╪════════════╪════════╪═══╪═══════╪═════════╪══════╪════════════╡\n",
       "│ 101  ┆ test  ┆ rearranged ┆ waste  ┆ … ┆ 2.312 ┆ 1       ┆ 2    ┆ lure       │\n",
       "│ 101  ┆ test  ┆ rearranged ┆ needed ┆ … ┆ 3.542 ┆ 1       ┆ 1    ┆ lure       │\n",
       "│ 101  ┆ test  ┆ rearranged ┆ single ┆ … ┆ 2.084 ┆ 1       ┆ 3    ┆ lure       │\n",
       "│ 101  ┆ test  ┆ rearranged ┆ train  ┆ … ┆ 1.669 ┆ 1       ┆ 2    ┆ lure       │\n",
       "│ 101  ┆ test  ┆ rearranged ┆ knees  ┆ … ┆ 2.326 ┆ 1       ┆ 5    ┆ lure       │\n",
       "│ 101  ┆ test  ┆ intact     ┆ skin   ┆ … ┆ 1.407 ┆ 1       ┆ null ┆ target     │\n",
       "└──────┴───────┴────────────┴────────┴───┴───────┴─────────┴──────┴────────────┘"
      ]
     },
     "execution_count": 33,
     "metadata": {},
     "output_type": "execute_result"
    }
   ],
   "source": [
    "data.filter(pl.col(\"phase\") == \"test\").head(6)"
   ]
  },
  {
   "cell_type": "markdown",
   "metadata": {
    "editable": true,
    "slideshow": {
     "slide_type": "slide"
    },
    "tags": []
   },
   "source": [
    "We want to summarize performance for each subject. We'll use `group_by` to calculate the mean response for each subject and probe type. By passing multiple columns, we can create a group for each combination of the unique values in each column. Here, for each subject, we will get separate \"target\" and \"lure\" groups."
   ]
  },
  {
   "cell_type": "code",
   "execution_count": 34,
   "metadata": {},
   "outputs": [
    {
     "data": {
      "text/html": [
       "<div><style>\n",
       ".dataframe > thead > tr,\n",
       ".dataframe > tbody > tr {\n",
       "  text-align: right;\n",
       "  white-space: pre-wrap;\n",
       "}\n",
       "</style>\n",
       "<small>shape: (5, 3)</small><table border=\"1\" class=\"dataframe\"><thead><tr><th>subj</th><th>probe_type</th><th>response</th></tr><tr><td>i64</td><td>str</td><td>f64</td></tr></thead><tbody><tr><td>143</td><td>&quot;target&quot;</td><td>0.1625</td></tr><tr><td>121</td><td>&quot;target&quot;</td><td>0.116667</td></tr><tr><td>164</td><td>&quot;target&quot;</td><td>0.329167</td></tr><tr><td>158</td><td>&quot;lure&quot;</td><td>0.345833</td></tr><tr><td>213</td><td>&quot;lure&quot;</td><td>0.470833</td></tr></tbody></table></div>"
      ],
      "text/plain": [
       "shape: (5, 3)\n",
       "┌──────┬────────────┬──────────┐\n",
       "│ subj ┆ probe_type ┆ response │\n",
       "│ ---  ┆ ---        ┆ ---      │\n",
       "│ i64  ┆ str        ┆ f64      │\n",
       "╞══════╪════════════╪══════════╡\n",
       "│ 143  ┆ target     ┆ 0.1625   │\n",
       "│ 121  ┆ target     ┆ 0.116667 │\n",
       "│ 164  ┆ target     ┆ 0.329167 │\n",
       "│ 158  ┆ lure       ┆ 0.345833 │\n",
       "│ 213  ┆ lure       ┆ 0.470833 │\n",
       "└──────┴────────────┴──────────┘"
      ]
     },
     "execution_count": 34,
     "metadata": {},
     "output_type": "execute_result"
    }
   ],
   "source": [
    "p_old = (\n",
    "    data.filter(pl.col(\"phase\") == \"test\")\n",
    "    .group_by(\"subj\", \"probe_type\")\n",
    "    .agg(pl.col(\"response\").mean())\n",
    ")\n",
    "p_old.head()"
   ]
  },
  {
   "cell_type": "markdown",
   "metadata": {
    "editable": true,
    "slideshow": {
     "slide_type": "fragment"
    },
    "tags": []
   },
   "source": [
    "We now have the probability of responding \"old\" for each participant, separately for target and lure trials. Note that there is no particular sorting of the data; to speed up running code, Polars doesn't sort the groups unless we tell it to."
   ]
  },
  {
   "cell_type": "markdown",
   "metadata": {
    "editable": true,
    "slideshow": {
     "slide_type": "slide"
    },
    "tags": []
   },
   "source": [
    "To sort the DataFrame, we can use the `sort` function. This doesn't usually matter for analysis, but it's easier to look at and understand. We'll sort by subject, then probe type, and show the first three subjects using `head`."
   ]
  },
  {
   "cell_type": "code",
   "execution_count": 35,
   "metadata": {},
   "outputs": [
    {
     "data": {
      "text/html": [
       "<div><style>\n",
       ".dataframe > thead > tr,\n",
       ".dataframe > tbody > tr {\n",
       "  text-align: right;\n",
       "  white-space: pre-wrap;\n",
       "}\n",
       "</style>\n",
       "<small>shape: (6, 3)</small><table border=\"1\" class=\"dataframe\"><thead><tr><th>subj</th><th>probe_type</th><th>response</th></tr><tr><td>i64</td><td>str</td><td>f64</td></tr></thead><tbody><tr><td>101</td><td>&quot;lure&quot;</td><td>0.108333</td></tr><tr><td>101</td><td>&quot;target&quot;</td><td>0.76569</td></tr><tr><td>102</td><td>&quot;lure&quot;</td><td>0.241667</td></tr><tr><td>102</td><td>&quot;target&quot;</td><td>0.2875</td></tr><tr><td>103</td><td>&quot;lure&quot;</td><td>0.091667</td></tr><tr><td>103</td><td>&quot;target&quot;</td><td>0.866667</td></tr></tbody></table></div>"
      ],
      "text/plain": [
       "shape: (6, 3)\n",
       "┌──────┬────────────┬──────────┐\n",
       "│ subj ┆ probe_type ┆ response │\n",
       "│ ---  ┆ ---        ┆ ---      │\n",
       "│ i64  ┆ str        ┆ f64      │\n",
       "╞══════╪════════════╪══════════╡\n",
       "│ 101  ┆ lure       ┆ 0.108333 │\n",
       "│ 101  ┆ target     ┆ 0.76569  │\n",
       "│ 102  ┆ lure       ┆ 0.241667 │\n",
       "│ 102  ┆ target     ┆ 0.2875   │\n",
       "│ 103  ┆ lure       ┆ 0.091667 │\n",
       "│ 103  ┆ target     ┆ 0.866667 │\n",
       "└──────┴────────────┴──────────┘"
      ]
     },
     "execution_count": 35,
     "metadata": {},
     "output_type": "execute_result"
    }
   ],
   "source": [
    "p_old.sort(\"subj\", \"probe_type\").head(6)"
   ]
  },
  {
   "cell_type": "markdown",
   "metadata": {
    "editable": true,
    "slideshow": {
     "slide_type": "slide"
    },
    "tags": []
   },
   "source": [
    "Next, we can pivot the data so that there is a separate column for targets and lures, and just one row per participant. \n",
    "\n",
    "The first input indicates a column to use for defining the new columns in the pivoted data.\n",
    "\n",
    "The *index* is a column that will be used to organize the rows of the pivoted data.\n",
    "\n",
    "The *values* indicate the column used to populate the table. Here, we use the `response` column. For each subject, in each condition, we will get the corresponding response value."
   ]
  },
  {
   "cell_type": "code",
   "execution_count": 36,
   "metadata": {},
   "outputs": [
    {
     "data": {
      "text/html": [
       "<div><style>\n",
       ".dataframe > thead > tr,\n",
       ".dataframe > tbody > tr {\n",
       "  text-align: right;\n",
       "  white-space: pre-wrap;\n",
       "}\n",
       "</style>\n",
       "<small>shape: (5, 3)</small><table border=\"1\" class=\"dataframe\"><thead><tr><th>subj</th><th>target</th><th>lure</th></tr><tr><td>i64</td><td>f64</td><td>f64</td></tr></thead><tbody><tr><td>143</td><td>0.1625</td><td>0.1375</td></tr><tr><td>121</td><td>0.116667</td><td>0.079167</td></tr><tr><td>164</td><td>0.329167</td><td>0.166667</td></tr><tr><td>158</td><td>0.51046</td><td>0.345833</td></tr><tr><td>213</td><td>0.641667</td><td>0.470833</td></tr></tbody></table></div>"
      ],
      "text/plain": [
       "shape: (5, 3)\n",
       "┌──────┬──────────┬──────────┐\n",
       "│ subj ┆ target   ┆ lure     │\n",
       "│ ---  ┆ ---      ┆ ---      │\n",
       "│ i64  ┆ f64      ┆ f64      │\n",
       "╞══════╪══════════╪══════════╡\n",
       "│ 143  ┆ 0.1625   ┆ 0.1375   │\n",
       "│ 121  ┆ 0.116667 ┆ 0.079167 │\n",
       "│ 164  ┆ 0.329167 ┆ 0.166667 │\n",
       "│ 158  ┆ 0.51046  ┆ 0.345833 │\n",
       "│ 213  ┆ 0.641667 ┆ 0.470833 │\n",
       "└──────┴──────────┴──────────┘"
      ]
     },
     "execution_count": 36,
     "metadata": {},
     "output_type": "execute_result"
    }
   ],
   "source": [
    "pivoted = p_old.pivot(\"probe_type\", index=\"subj\", values=\"response\")\n",
    "pivoted.head()"
   ]
  },
  {
   "cell_type": "markdown",
   "metadata": {
    "editable": true,
    "slideshow": {
     "slide_type": "slide"
    },
    "tags": []
   },
   "source": [
    "Again, sorting can make the data easier to understand; here, we'll sort the rows by subject."
   ]
  },
  {
   "cell_type": "code",
   "execution_count": 37,
   "metadata": {},
   "outputs": [
    {
     "data": {
      "text/html": [
       "<div><style>\n",
       ".dataframe > thead > tr,\n",
       ".dataframe > tbody > tr {\n",
       "  text-align: right;\n",
       "  white-space: pre-wrap;\n",
       "}\n",
       "</style>\n",
       "<small>shape: (5, 3)</small><table border=\"1\" class=\"dataframe\"><thead><tr><th>subj</th><th>target</th><th>lure</th></tr><tr><td>i64</td><td>f64</td><td>f64</td></tr></thead><tbody><tr><td>101</td><td>0.76569</td><td>0.108333</td></tr><tr><td>102</td><td>0.2875</td><td>0.241667</td></tr><tr><td>103</td><td>0.866667</td><td>0.091667</td></tr><tr><td>104</td><td>0.508333</td><td>0.3875</td></tr><tr><td>105</td><td>0.575</td><td>0.372385</td></tr></tbody></table></div>"
      ],
      "text/plain": [
       "shape: (5, 3)\n",
       "┌──────┬──────────┬──────────┐\n",
       "│ subj ┆ target   ┆ lure     │\n",
       "│ ---  ┆ ---      ┆ ---      │\n",
       "│ i64  ┆ f64      ┆ f64      │\n",
       "╞══════╪══════════╪══════════╡\n",
       "│ 101  ┆ 0.76569  ┆ 0.108333 │\n",
       "│ 102  ┆ 0.2875   ┆ 0.241667 │\n",
       "│ 103  ┆ 0.866667 ┆ 0.091667 │\n",
       "│ 104  ┆ 0.508333 ┆ 0.3875   │\n",
       "│ 105  ┆ 0.575    ┆ 0.372385 │\n",
       "└──────┴──────────┴──────────┘"
      ]
     },
     "execution_count": 37,
     "metadata": {},
     "output_type": "execute_result"
    }
   ],
   "source": [
    "pivoted = pivoted.sort(\"subj\")\n",
    "pivoted.head()"
   ]
  },
  {
   "cell_type": "markdown",
   "metadata": {
    "editable": true,
    "slideshow": {
     "slide_type": "slide"
    },
    "tags": []
   },
   "source": [
    "Finally, we're in a good position to calculate the corrected hit rate by subtracting P(old) for lures (false-alarm rate) from P(old) for targets (hit rate)."
   ]
  },
  {
   "cell_type": "code",
   "execution_count": 38,
   "metadata": {
    "editable": true,
    "slideshow": {
     "slide_type": ""
    },
    "tags": []
   },
   "outputs": [
    {
     "data": {
      "text/html": [
       "<div><style>\n",
       ".dataframe > thead > tr,\n",
       ".dataframe > tbody > tr {\n",
       "  text-align: right;\n",
       "  white-space: pre-wrap;\n",
       "}\n",
       "</style>\n",
       "<small>shape: (5, 4)</small><table border=\"1\" class=\"dataframe\"><thead><tr><th>subj</th><th>target</th><th>lure</th><th>perf</th></tr><tr><td>i64</td><td>f64</td><td>f64</td><td>f64</td></tr></thead><tbody><tr><td>101</td><td>0.76569</td><td>0.108333</td><td>0.657357</td></tr><tr><td>102</td><td>0.2875</td><td>0.241667</td><td>0.045833</td></tr><tr><td>103</td><td>0.866667</td><td>0.091667</td><td>0.775</td></tr><tr><td>104</td><td>0.508333</td><td>0.3875</td><td>0.120833</td></tr><tr><td>105</td><td>0.575</td><td>0.372385</td><td>0.202615</td></tr></tbody></table></div>"
      ],
      "text/plain": [
       "shape: (5, 4)\n",
       "┌──────┬──────────┬──────────┬──────────┐\n",
       "│ subj ┆ target   ┆ lure     ┆ perf     │\n",
       "│ ---  ┆ ---      ┆ ---      ┆ ---      │\n",
       "│ i64  ┆ f64      ┆ f64      ┆ f64      │\n",
       "╞══════╪══════════╪══════════╪══════════╡\n",
       "│ 101  ┆ 0.76569  ┆ 0.108333 ┆ 0.657357 │\n",
       "│ 102  ┆ 0.2875   ┆ 0.241667 ┆ 0.045833 │\n",
       "│ 103  ┆ 0.866667 ┆ 0.091667 ┆ 0.775    │\n",
       "│ 104  ┆ 0.508333 ┆ 0.3875   ┆ 0.120833 │\n",
       "│ 105  ┆ 0.575    ┆ 0.372385 ┆ 0.202615 │\n",
       "└──────┴──────────┴──────────┴──────────┘"
      ]
     },
     "execution_count": 38,
     "metadata": {},
     "output_type": "execute_result"
    }
   ],
   "source": [
    "perf = pivoted.with_columns(\n",
    "    perf=pl.col(\"target\") - pl.col(\"lure\")\n",
    ")\n",
    "perf.head()"
   ]
  },
  {
   "cell_type": "markdown",
   "metadata": {
    "editable": true,
    "slideshow": {
     "slide_type": "fragment"
    },
    "tags": []
   },
   "source": [
    "With the `perf` column, we now have a measure of overall test performance for each subject."
   ]
  },
  {
   "cell_type": "markdown",
   "metadata": {
    "editable": true,
    "slideshow": {
     "slide_type": "slide"
    },
    "tags": []
   },
   "source": [
    "Let's summarize our results by calculating the mean for each column."
   ]
  },
  {
   "cell_type": "code",
   "execution_count": 39,
   "metadata": {},
   "outputs": [
    {
     "data": {
      "text/html": [
       "<div><style>\n",
       ".dataframe > thead > tr,\n",
       ".dataframe > tbody > tr {\n",
       "  text-align: right;\n",
       "  white-space: pre-wrap;\n",
       "}\n",
       "</style>\n",
       "<small>shape: (1, 3)</small><table border=\"1\" class=\"dataframe\"><thead><tr><th>lure</th><th>target</th><th>perf</th></tr><tr><td>f64</td><td>f64</td><td>f64</td></tr></thead><tbody><tr><td>0.21641</td><td>0.531649</td><td>0.315238</td></tr></tbody></table></div>"
      ],
      "text/plain": [
       "shape: (1, 3)\n",
       "┌─────────┬──────────┬──────────┐\n",
       "│ lure    ┆ target   ┆ perf     │\n",
       "│ ---     ┆ ---      ┆ ---      │\n",
       "│ f64     ┆ f64      ┆ f64      │\n",
       "╞═════════╪══════════╪══════════╡\n",
       "│ 0.21641 ┆ 0.531649 ┆ 0.315238 │\n",
       "└─────────┴──────────┴──────────┘"
      ]
     },
     "execution_count": 39,
     "metadata": {},
     "output_type": "execute_result"
    }
   ],
   "source": [
    "perf.select(pl.col(\"lure\", \"target\", \"perf\").mean())"
   ]
  },
  {
   "cell_type": "markdown",
   "metadata": {
    "editable": true,
    "slideshow": {
     "slide_type": "slide"
    },
    "tags": []
   },
   "source": [
    "### Exercise: reshaping data to wide format\n",
    "\n",
    "Given the DataFrame defined below, create a pivot table with `target` and `lure` columns. There should be three rows, one for each subject. The first column should be `subject`. The `target` and `lure` columns should have values taken from the `response` column in the original data."
   ]
  },
  {
   "cell_type": "code",
   "execution_count": 40,
   "metadata": {
    "editable": true,
    "slideshow": {
     "slide_type": ""
    },
    "tags": []
   },
   "outputs": [],
   "source": [
    "df = pl.DataFrame(\n",
    "    {\n",
    "        \"subject\": [\"001\", \"001\", \"002\", \"002\", \"003\", \"003\"],\n",
    "        \"condition\": [\"target\", \"lure\", \"target\", \"lure\", \"target\", \"lure\"],\n",
    "        \"response\": [0.8, 0.2, 0.75, 0.15, 0.85, 0.25],\n",
    "    }\n",
    ")\n",
    "# answer here"
   ]
  },
  {
   "cell_type": "markdown",
   "metadata": {
    "editable": true,
    "slideshow": {
     "slide_type": "slide"
    },
    "tags": []
   },
   "source": [
    "## Summary\n",
    "\n",
    "When working with data, we can *recode* variables to handle special values or change how information is represented using the `cast` and `replace` methods.\n",
    "\n",
    "There are special functions for working with *null* data, to count missing samples (`null_count`), replace them (`fill_null`), or filter trials with null values in a column  using `is_not_null`.\n",
    "\n",
    "We can quickly calculate summary statistics for different conditions using *grouping* with `group_by` and *aggregation* with `agg`.\n",
    "\n",
    "There are two main data formats that are useful for different applications. *Long* data are useful for working with grouping and aggregation. *Wide* data (also known as pivot tables) are useful for matching up related observations. We can use `pivot` to convert to long format and `unpivot` to convert to wide format."
   ]
  }
 ],
 "metadata": {
  "kernelspec": {
   "display_name": "datascipsych",
   "language": "python",
   "name": "datascipsych"
  },
  "language_info": {
   "codemirror_mode": {
    "name": "ipython",
    "version": 3
   },
   "file_extension": ".py",
   "mimetype": "text/x-python",
   "name": "python",
   "nbconvert_exporter": "python",
   "pygments_lexer": "ipython3",
   "version": "3.12.8"
  }
 },
 "nbformat": 4,
 "nbformat_minor": 4
}
