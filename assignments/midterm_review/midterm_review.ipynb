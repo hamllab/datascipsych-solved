{
 "cells": [
  {
   "cell_type": "markdown",
   "id": "1ba6b421-0803-4fa6-9c12-ea5f825ba0f7",
   "metadata": {
    "editable": true,
    "slideshow": {
     "slide_type": "slide"
    },
    "tags": []
   },
   "source": [
    "# Midterm review\n",
    "\n",
    "Let's review what we have covered so far in the course, including simple Python variables, lists, dictionaries, functions, if statements, for loops, NumPy arrays, and descriptive statistics."
   ]
  },
  {
   "cell_type": "markdown",
   "id": "0d15b46a-1768-4db4-8949-578d0eb7bb20",
   "metadata": {
    "editable": true,
    "slideshow": {
     "slide_type": "slide"
    },
    "tags": []
   },
   "source": [
    "## Python variables\n",
    "\n",
    "Simple Python variables are used to hold individual data points."
   ]
  },
  {
   "cell_type": "markdown",
   "id": "7734716f",
   "metadata": {
    "editable": true,
    "slideshow": {
     "slide_type": "slide"
    },
    "tags": []
   },
   "source": [
    "We can create simple variables with numbers, text, or boolean (True/False) data. All Python variables can be displayed using the `print` function."
   ]
  },
  {
   "cell_type": "code",
   "execution_count": 1,
   "id": "d3615220",
   "metadata": {
    "editable": true,
    "slideshow": {
     "slide_type": ""
    },
    "tags": []
   },
   "outputs": [
    {
     "name": "stdout",
     "output_type": "stream",
     "text": [
      "4\n",
      "5.3\n",
      "Hello world.\n",
      "True\n"
     ]
    }
   ],
   "source": [
    "integer = 4\n",
    "decimal = 5.3\n",
    "string = \"Hello world.\"\n",
    "tf = True\n",
    "print(integer)\n",
    "print(decimal)\n",
    "print(string)\n",
    "print(tf)"
   ]
  },
  {
   "cell_type": "markdown",
   "id": "d8f2556a",
   "metadata": {
    "editable": true,
    "slideshow": {
     "slide_type": "slide"
    },
    "tags": []
   },
   "source": [
    "Each type of variable has ways we can operate on them. For numbers, we can do all the usual math operations."
   ]
  },
  {
   "cell_type": "code",
   "execution_count": 2,
   "id": "222d6c28",
   "metadata": {},
   "outputs": [
    {
     "name": "stdout",
     "output_type": "stream",
     "text": [
      "7.0\n",
      "128\n",
      "12.5\n"
     ]
    }
   ],
   "source": [
    "a = 2\n",
    "b = 3.5\n",
    "c = 7\n",
    "print(a * b)\n",
    "print(a ** c)\n",
    "print(a + b + c)"
   ]
  },
  {
   "cell_type": "markdown",
   "id": "21d53212",
   "metadata": {
    "editable": true,
    "slideshow": {
     "slide_type": "slide"
    },
    "tags": []
   },
   "source": [
    "We can import the `math` module to get access to additional functions to do more advanced math operations and access mathmatical constants like $\\pi$ and $e$."
   ]
  },
  {
   "cell_type": "code",
   "execution_count": 3,
   "id": "4ced87c4",
   "metadata": {},
   "outputs": [
    {
     "name": "stdout",
     "output_type": "stream",
     "text": [
      "-0.4161468365471424\n",
      "2.718281828459045\n",
      "2.718281828459045\n"
     ]
    }
   ],
   "source": [
    "import math\n",
    "print(math.cos(2))\n",
    "print(math.exp(1))\n",
    "print(math.e ** 1)"
   ]
  },
  {
   "cell_type": "markdown",
   "id": "f751ab4b",
   "metadata": {
    "editable": true,
    "slideshow": {
     "slide_type": "slide"
    },
    "tags": []
   },
   "source": [
    "There are also ways that we can work with text data. Strings can be concatenated (that is, combined) using the `+` operator."
   ]
  },
  {
   "cell_type": "code",
   "execution_count": 4,
   "id": "07e08f62",
   "metadata": {
    "editable": true,
    "slideshow": {
     "slide_type": ""
    },
    "tags": []
   },
   "outputs": [
    {
     "name": "stdout",
     "output_type": "stream",
     "text": [
      "Hello world.\n"
     ]
    }
   ],
   "source": [
    "s1 = \"Hello\"\n",
    "s2 = \"world.\"\n",
    "print(s1 + \" \" + s2)"
   ]
  },
  {
   "cell_type": "markdown",
   "id": "848481f6-9350-47ba-8a7d-94b9408697a8",
   "metadata": {
    "editable": true,
    "slideshow": {
     "slide_type": "fragment"
    },
    "tags": []
   },
   "source": [
    "We can create strings from existing variables in various ways using f-strings."
   ]
  },
  {
   "cell_type": "code",
   "execution_count": 5,
   "id": "91a572e2",
   "metadata": {
    "editable": true,
    "slideshow": {
     "slide_type": ""
    },
    "tags": []
   },
   "outputs": [
    {
     "name": "stdout",
     "output_type": "stream",
     "text": [
      "Greetings, Mark S. (id: 634875)\n"
     ]
    }
   ],
   "source": [
    "user = \"Mark S.\"\n",
    "id_number = 634875\n",
    "print(f\"Greetings, {user} (id: {id_number})\")"
   ]
  },
  {
   "cell_type": "markdown",
   "id": "15479a1d",
   "metadata": {
    "editable": true,
    "slideshow": {
     "slide_type": "slide"
    },
    "tags": []
   },
   "source": [
    "There are many functions for working with strings that we haven't talked about much. We can see the functions that apply to a type of Python object using the `help` function."
   ]
  },
  {
   "cell_type": "code",
   "execution_count": 6,
   "id": "b00fdc63",
   "metadata": {},
   "outputs": [],
   "source": [
    "# help(str)"
   ]
  },
  {
   "cell_type": "markdown",
   "id": "32d0d98f",
   "metadata": {
    "editable": true,
    "slideshow": {
     "slide_type": "fragment"
    },
    "tags": []
   },
   "source": [
    "For example, we can use `startswith` to check if a string starts with specific text, or `endswith` to check if it ends with some text."
   ]
  },
  {
   "cell_type": "code",
   "execution_count": 7,
   "id": "78800d8d",
   "metadata": {},
   "outputs": [
    {
     "name": "stdout",
     "output_type": "stream",
     "text": [
      "True\n",
      "True\n"
     ]
    }
   ],
   "source": [
    "s = \"Hello world\"\n",
    "print(s.startswith(\"Hello\"))\n",
    "print(s.endswith(\"world\"))"
   ]
  },
  {
   "cell_type": "markdown",
   "id": "747b1ca7",
   "metadata": {
    "editable": true,
    "slideshow": {
     "slide_type": "slide"
    },
    "tags": []
   },
   "source": [
    "## Python lists\n",
    "\n",
    "We can store sequences of any kind of variable in lists."
   ]
  },
  {
   "cell_type": "markdown",
   "id": "46a7d682",
   "metadata": {
    "editable": true,
    "slideshow": {
     "slide_type": "slide"
    },
    "tags": []
   },
   "source": [
    "Lists always have square braces (`[]`) around them. Items are separated by commas. Lists are most helpful if there is some order to the data; for example, if we want to store the responses that a participant made in a series of trials in a psychology study. The trials occurred in a specific order, so a list is a natural way to store information about them."
   ]
  },
  {
   "cell_type": "code",
   "execution_count": 8,
   "id": "b7437e3e",
   "metadata": {},
   "outputs": [],
   "source": [
    "numbers = [1, 2, 3]\n",
    "letters = [\"a\", \"b\", \"c\"]\n",
    "mix = [1, 2.3, \"Hello world.\"]"
   ]
  },
  {
   "cell_type": "markdown",
   "id": "edf889a3",
   "metadata": {
    "editable": true,
    "slideshow": {
     "slide_type": "slide"
    },
    "tags": []
   },
   "source": [
    "Once we've placed created a list, we can add items onto the end using `append`. Sometimes, we may want to start with an empty list and add items to the end as needed; this can be useful together with `for` loops."
   ]
  },
  {
   "cell_type": "code",
   "execution_count": 9,
   "id": "79f2ff69",
   "metadata": {},
   "outputs": [
    {
     "name": "stdout",
     "output_type": "stream",
     "text": [
      "[1, 2, 3]\n"
     ]
    }
   ],
   "source": [
    "growing = []\n",
    "growing.append(1)\n",
    "growing.append(2)\n",
    "growing.append(3)\n",
    "print(growing)"
   ]
  },
  {
   "cell_type": "markdown",
   "id": "084b6198",
   "metadata": {
    "editable": true,
    "slideshow": {
     "slide_type": "slide"
    },
    "tags": []
   },
   "source": [
    "We can access data in the list based on its position in the list. To get one item, we can use indexing. Similar to creating a list, we access parts of the list using square braces (`[]`).\n",
    "\n",
    "Remember that, in Python, indexing starts at zero. This means that the first item in the list can be accessed using index 0."
   ]
  },
  {
   "cell_type": "code",
   "execution_count": 10,
   "id": "9ba84610",
   "metadata": {},
   "outputs": [
    {
     "name": "stdout",
     "output_type": "stream",
     "text": [
      "1\n",
      "5\n"
     ]
    }
   ],
   "source": [
    "trials = [1, 2, 3, 4, 5]\n",
    "print(trials[0])\n",
    "print(trials[4])"
   ]
  },
  {
   "cell_type": "markdown",
   "id": "d502ad57",
   "metadata": {
    "editable": true,
    "slideshow": {
     "slide_type": "fragment"
    },
    "tags": []
   },
   "source": [
    "We can use negative indices also, to get items relative to the end of the list."
   ]
  },
  {
   "cell_type": "code",
   "execution_count": 11,
   "id": "6e7973e9",
   "metadata": {},
   "outputs": [
    {
     "name": "stdout",
     "output_type": "stream",
     "text": [
      "5\n"
     ]
    }
   ],
   "source": [
    "print(trials[-1])"
   ]
  },
  {
   "cell_type": "markdown",
   "id": "6b1a974a",
   "metadata": {
    "editable": true,
    "slideshow": {
     "slide_type": "slide"
    },
    "tags": []
   },
   "source": [
    "We can also access part of a list to get a new list, using slicing. Slices are defined using `start:stop` syntax.\n",
    "\n",
    "Slicing works to select the items in the list that are between the slice start and stop (see below).\n",
    "\n",
    "```\n",
    "list:  [  1,  2,  3,  4,  5  ]\n",
    "index: [  0   1   2   3   4  ]\n",
    "slice: [0   1   2   3   4   5]\n",
    "```\n",
    "\n",
    "If the start is not specified, then the slice will start at the beginning of the list. If the stop is not specified, then the slice will go until the end of the list."
   ]
  },
  {
   "cell_type": "code",
   "execution_count": 12,
   "id": "2879349a",
   "metadata": {},
   "outputs": [
    {
     "name": "stdout",
     "output_type": "stream",
     "text": [
      "[4]\n",
      "[1, 2]\n",
      "[4, 5]\n"
     ]
    }
   ],
   "source": [
    "print(trials[3:4])\n",
    "print(trials[:2])\n",
    "print(trials[3:])"
   ]
  },
  {
   "cell_type": "markdown",
   "id": "78303b8f",
   "metadata": {
    "editable": true,
    "slideshow": {
     "slide_type": "slide"
    },
    "tags": []
   },
   "source": [
    "We can use `for` loops to process data in lists and to create new lists. Here, we initialize an empty list, then loop over a list of numbers and calculate the square of each number, adding that onto the list of `squares`."
   ]
  },
  {
   "cell_type": "code",
   "execution_count": 13,
   "id": "369fba8b",
   "metadata": {},
   "outputs": [
    {
     "name": "stdout",
     "output_type": "stream",
     "text": [
      "[1, 4, 9, 16]\n"
     ]
    }
   ],
   "source": [
    "numbers = [1, 2, 3, 4]\n",
    "squares = []\n",
    "for n in numbers:\n",
    "    squares.append(n ** 2)\n",
    "print(squares)"
   ]
  },
  {
   "cell_type": "markdown",
   "id": "8ee6bce7",
   "metadata": {
    "editable": true,
    "slideshow": {
     "slide_type": "fragment"
    },
    "tags": []
   },
   "source": [
    "List comprehensions are a way to do this in one line of code, looping over items in a list and creating a new list from the old items."
   ]
  },
  {
   "cell_type": "code",
   "execution_count": 14,
   "id": "8eaf9779",
   "metadata": {},
   "outputs": [
    {
     "name": "stdout",
     "output_type": "stream",
     "text": [
      "[1, 4, 9, 16]\n"
     ]
    }
   ],
   "source": [
    "squares2 = [n ** 2 for n in numbers]\n",
    "print(squares2)"
   ]
  },
  {
   "cell_type": "markdown",
   "id": "94f156f7",
   "metadata": {
    "editable": true,
    "slideshow": {
     "slide_type": "slide"
    },
    "tags": []
   },
   "source": [
    "## Python dictionaries\n",
    "\n",
    "While lists are useful for storing sequences of data, Python dictionaries are useful for storing key, value pairs."
   ]
  },
  {
   "cell_type": "markdown",
   "id": "a48610a4",
   "metadata": {
    "editable": true,
    "slideshow": {
     "slide_type": "slide"
    },
    "tags": []
   },
   "source": [
    "We can create a dictionary using curly braces (`{}`). Each key, value pair is indicated by a colon, and pairs are separated by commas. Keys can be most anything, but can't be anything mutable, like lists, which can be changed after they are created.\n",
    "\n",
    "For example, data for a study might be stored under a participant identifier key for the data for each participant. "
   ]
  },
  {
   "cell_type": "code",
   "execution_count": 15,
   "id": "ac78515c",
   "metadata": {},
   "outputs": [],
   "source": [
    "d = {\"001\": 9, \"002\": 11, \"003\": 7}"
   ]
  },
  {
   "cell_type": "markdown",
   "id": "87c2d566",
   "metadata": {
    "editable": true,
    "slideshow": {
     "slide_type": "slide"
    },
    "tags": []
   },
   "source": [
    "The values of a dictionary can be any Python object. For example, this means we can have dictionaries of lists."
   ]
  },
  {
   "cell_type": "code",
   "execution_count": 16,
   "id": "b7173197",
   "metadata": {},
   "outputs": [],
   "source": [
    "d2 = {\"condition1\": [1, 2, 3], \"condition2\": [4, 5, 6]}"
   ]
  },
  {
   "cell_type": "markdown",
   "id": "2de5735d",
   "metadata": {
    "editable": true,
    "slideshow": {
     "slide_type": "fragment"
    },
    "tags": []
   },
   "source": [
    "We can even have dictionaries of dictionaries."
   ]
  },
  {
   "cell_type": "code",
   "execution_count": 17,
   "id": "e42c781f",
   "metadata": {},
   "outputs": [],
   "source": [
    "data = {\n",
    "    \"001\": {\"age\": 23, \"score\": 9},\n",
    "    \"002\": {\"age\": 29, \"score\": 11},\n",
    "    \"003\": {\"age\": 32, \"score\": 10},\n",
    "}"
   ]
  },
  {
   "cell_type": "markdown",
   "id": "32cd0051",
   "metadata": {
    "editable": true,
    "slideshow": {
     "slide_type": "slide"
    },
    "tags": []
   },
   "source": [
    "After creating a dictionary, we can continue adding key, value pairs using assignment. On the left side, we indicate a key that we want to define, then an equal sign and the value we want to assign to it. Note that we use square braces (`[]`) to access a dictionary, similarly to indexing a list, but we put in a key instead of a list index."
   ]
  },
  {
   "cell_type": "code",
   "execution_count": 18,
   "id": "fb7d631e",
   "metadata": {},
   "outputs": [
    {
     "name": "stdout",
     "output_type": "stream",
     "text": [
      "{'a': 1, 'b': 2, 'c': 3, 'd': 4}\n"
     ]
    }
   ],
   "source": [
    "d3 = {\"a\": 1, \"b\": 2, \"c\": 3}\n",
    "d3[\"d\"] = 4\n",
    "print(d3)"
   ]
  },
  {
   "cell_type": "markdown",
   "id": "b30d7432",
   "metadata": {
    "editable": true,
    "slideshow": {
     "slide_type": "slide"
    },
    "tags": []
   },
   "source": [
    "We can access data in the dictionary using square braces also. We can use this to programmatically access data that has previously been stored in the dictionary."
   ]
  },
  {
   "cell_type": "code",
   "execution_count": 19,
   "id": "01340fdc",
   "metadata": {},
   "outputs": [
    {
     "name": "stdout",
     "output_type": "stream",
     "text": [
      "{'age': 23, 'score': 9}\n"
     ]
    }
   ],
   "source": [
    "print(data[\"001\"])"
   ]
  },
  {
   "cell_type": "markdown",
   "id": "7e512152",
   "metadata": {
    "editable": true,
    "slideshow": {
     "slide_type": "fragment"
    },
    "tags": []
   },
   "source": [
    "For example, we can write a function that will access data for any specified participant and display their information."
   ]
  },
  {
   "cell_type": "code",
   "execution_count": 20,
   "id": "f2a9092b",
   "metadata": {
    "editable": true,
    "slideshow": {
     "slide_type": ""
    },
    "tags": []
   },
   "outputs": [],
   "source": [
    "def print_summary(data, participant_id):\n",
    "    age = data[participant_id][\"age\"]\n",
    "    score = data[participant_id][\"score\"]\n",
    "    print(f\"{participant_id}: {age} years; score: {score}\")"
   ]
  },
  {
   "cell_type": "markdown",
   "id": "5103bb4c-4be3-4710-9926-eec8c931b0f7",
   "metadata": {
    "editable": true,
    "slideshow": {
     "slide_type": "fragment"
    },
    "tags": []
   },
   "source": [
    "We can then use the function to access and display data for participants."
   ]
  },
  {
   "cell_type": "code",
   "execution_count": 21,
   "id": "9121bb8a-7d04-41d1-9539-42a48eeebbe2",
   "metadata": {
    "editable": true,
    "slideshow": {
     "slide_type": ""
    },
    "tags": []
   },
   "outputs": [
    {
     "name": "stdout",
     "output_type": "stream",
     "text": [
      "001: 23 years; score: 9\n",
      "002: 29 years; score: 11\n"
     ]
    }
   ],
   "source": [
    "print_summary(data, \"001\")\n",
    "print_summary(data, \"002\")"
   ]
  },
  {
   "cell_type": "markdown",
   "id": "07101a72-902a-4a2d-9e12-670a54bc7263",
   "metadata": {
    "editable": true,
    "slideshow": {
     "slide_type": "slide"
    },
    "tags": []
   },
   "source": [
    "## Python functions\n",
    "\n",
    "In addition to the built-in Python functions, we can easily create our own functions to complete repetitive tasks."
   ]
  },
  {
   "cell_type": "markdown",
   "id": "d176307c",
   "metadata": {
    "editable": true,
    "slideshow": {
     "slide_type": "slide"
    },
    "tags": []
   },
   "source": [
    "We define functions using the `def` keyword. Before writing a function, it's a good idea to decide on what the inputs and outputs from the function should be. For example, say we want to make a function that squares numbers that are passed into that function. You should usually also include a one-line description at the start of the function as a docstring."
   ]
  },
  {
   "cell_type": "code",
   "execution_count": 22,
   "id": "ee472b94",
   "metadata": {},
   "outputs": [],
   "source": [
    "def square(x):\n",
    "    \"\"\"Calculate the square of a number.\"\"\"\n",
    "    return x ** 2"
   ]
  },
  {
   "cell_type": "markdown",
   "id": "703463df",
   "metadata": {
    "editable": true,
    "slideshow": {
     "slide_type": "fragment"
    },
    "tags": []
   },
   "source": [
    "The list of inputs comes after the name of the function (`square`), within the parentheses (here, there is one variable called `x`). There is one output returned using the `return` statment (`x ** 2`)."
   ]
  },
  {
   "cell_type": "markdown",
   "id": "1aaa7d4d",
   "metadata": {
    "editable": true,
    "slideshow": {
     "slide_type": "slide"
    },
    "tags": []
   },
   "source": [
    "We can also set default values. This can be very useful for more complex functions that can be configured in various ways. For example, the `print` function has a `sep` keyword that we can modify."
   ]
  },
  {
   "cell_type": "code",
   "execution_count": 23,
   "id": "4fe861d7",
   "metadata": {},
   "outputs": [
    {
     "name": "stdout",
     "output_type": "stream",
     "text": [
      "1 2\n",
      "1 ; 2\n"
     ]
    }
   ],
   "source": [
    "a = 1\n",
    "b = 2\n",
    "print(a, b)\n",
    "print(a, b, sep=\" ; \")"
   ]
  },
  {
   "cell_type": "markdown",
   "id": "a5cdedb7",
   "metadata": {
    "editable": true,
    "slideshow": {
     "slide_type": "slide"
    },
    "tags": []
   },
   "source": [
    "We can define keyword arguments by adding an equal sign and some default value after a function input. This lets us set some default behavior that can be modified when calling the function."
   ]
  },
  {
   "cell_type": "code",
   "execution_count": 24,
   "id": "0caa309d",
   "metadata": {},
   "outputs": [
    {
     "name": "stdout",
     "output_type": "stream",
     "text": [
      "4\n",
      "256\n"
     ]
    }
   ],
   "source": [
    "def power(x, pow=2):\n",
    "    \"\"\"Calculate some power of a number.\"\"\"\n",
    "    return x ** pow\n",
    "print(power(2))\n",
    "print(power(2, pow=8))"
   ]
  },
  {
   "cell_type": "markdown",
   "id": "377f2f6a",
   "metadata": {
    "editable": true,
    "slideshow": {
     "slide_type": "slide"
    },
    "tags": []
   },
   "source": [
    "## If/elif/else statements\n",
    "\n",
    "We can use tests of conditions to determine what code to run. They are often useful in combination with functions, allowing a function to change what it runs depending on the inputs that are passed to it."
   ]
  },
  {
   "cell_type": "markdown",
   "id": "6cf6e983",
   "metadata": {
    "editable": true,
    "slideshow": {
     "slide_type": "slide"
    },
    "tags": []
   },
   "source": [
    "The simplest way to use an `if` statement is by checking one condition."
   ]
  },
  {
   "cell_type": "code",
   "execution_count": 25,
   "id": "0c7eb9fa",
   "metadata": {},
   "outputs": [
    {
     "name": "stdout",
     "output_type": "stream",
     "text": [
      "Hello world.\n"
     ]
    }
   ],
   "source": [
    "def greeting(user):\n",
    "    \"\"\"Print a greeting to a user.\"\"\"\n",
    "    if user == \"world\":\n",
    "        print(\"Hello world.\")\n",
    "greeting(\"world\")\n",
    "greeting(\"someone else\")  # doesn't print anything"
   ]
  },
  {
   "cell_type": "markdown",
   "id": "dc12deeb",
   "metadata": {
    "editable": true,
    "slideshow": {
     "slide_type": "slide"
    },
    "tags": []
   },
   "source": [
    "We can also use more complex `if` statements to check for multiple conditions. For example, say we want to make a function that can calculate various statistics. We can use multiple `if`/`elif` statements to check for a series of different conditions. The conditions are checked in order, and the first one that is True is run. If the `stat` is `\"mean\"`, then the `return np.mean(x)` line will run. If the `stat` is `\"std\"`, then the first two checks will be False, and then the third block will run `return np.std(x)`."
   ]
  },
  {
   "cell_type": "code",
   "execution_count": 26,
   "id": "33e0409c",
   "metadata": {
    "editable": true,
    "slideshow": {
     "slide_type": ""
    },
    "tags": []
   },
   "outputs": [
    {
     "name": "stdout",
     "output_type": "stream",
     "text": [
      "4.888888888888889\n",
      "2.469567863432541\n"
     ]
    }
   ],
   "source": [
    "import numpy as np\n",
    "y = np.array([3, 9, 3, 4, 1, 7, 8, 5, 4])\n",
    "def calculate_stat(x, stat):\n",
    "    \"\"\"Calculate a statistic from a set of observations.\"\"\"\n",
    "    if stat == \"mean\":\n",
    "        return np.mean(x)\n",
    "    elif stat == \"median\":\n",
    "        return np.median(x)\n",
    "    elif stat == \"std\":\n",
    "        return np.std(x)\n",
    "    else:\n",
    "        raise ValueError(f\"Unknown statistic: {stat}\")\n",
    "print(calculate_stat(y, \"mean\"))\n",
    "print(calculate_stat(y, \"std\"))\n",
    "# calculate_stat(y, \"min\")  # throws an error because we the calculate_stat function doesn't expect it"
   ]
  },
  {
   "cell_type": "markdown",
   "id": "86711ce9-eb2d-47c0-a59a-bc649b353871",
   "metadata": {
    "editable": true,
    "slideshow": {
     "slide_type": "fragment"
    },
    "tags": []
   },
   "source": [
    "When we are checking for multiple conditions, it's a good idea to include an `else` statement that runs in case none of the conditions applied. In that case, we can't really run the function, so we'll raise an exception. In this case, we use a `ValueError`, which indicates that we encountered an unexpected value in the function inputs."
   ]
  },
  {
   "cell_type": "markdown",
   "id": "50b595ff",
   "metadata": {
    "editable": true,
    "slideshow": {
     "slide_type": "slide"
    },
    "tags": []
   },
   "source": [
    "## For loops\n",
    "\n",
    "Sometimes, we may want to run some code multiple times, such as running the same operation on each item in a list. We can do this using `for` loops."
   ]
  },
  {
   "cell_type": "markdown",
   "id": "fc3c89db",
   "metadata": {
    "editable": true,
    "slideshow": {
     "slide_type": "slide"
    },
    "tags": []
   },
   "source": [
    "Say we have a list indicating the condition code for a set of trials in a psychology study, and we want to count up the number of trials for each condition. Here, each trial is either a \"target\" trial or a \"lure\" trial."
   ]
  },
  {
   "cell_type": "code",
   "execution_count": 27,
   "id": "5b75db6b",
   "metadata": {},
   "outputs": [],
   "source": [
    "trial_type = [\"target\", \"target\", \"lure\", \"target\", \"lure\", \"target\", \"target\", \"lure\"]"
   ]
  },
  {
   "cell_type": "markdown",
   "id": "258d4d39",
   "metadata": {
    "editable": true,
    "slideshow": {
     "slide_type": "fragment"
    },
    "tags": []
   },
   "source": [
    "For example, we can use a `for` loop with a counter to get the number of target trials. The `+=` operator takes a variable (in this case, `count`) and adds a number to it. For example, `count += 1` adds 1 to the current value of `count`."
   ]
  },
  {
   "cell_type": "code",
   "execution_count": 28,
   "id": "c2613e77",
   "metadata": {},
   "outputs": [
    {
     "name": "stdout",
     "output_type": "stream",
     "text": [
      "5\n"
     ]
    }
   ],
   "source": [
    "count = 0\n",
    "for tt in trial_type:\n",
    "    if tt == \"target\":\n",
    "        count += 1\n",
    "print(count)"
   ]
  },
  {
   "cell_type": "markdown",
   "id": "3368318f",
   "metadata": {
    "editable": true,
    "slideshow": {
     "slide_type": "slide"
    },
    "tags": []
   },
   "source": [
    "This code is a lot easier to use if we put it in a function. Let's define a function that can work on any list of trial type codes. We'll take in two inputs, which indicate the trial labels indicating their type, and the type that we want to count. We'll have the default to \"target\". The function will return the number of times that the `type_to_count` appears in the list of trials."
   ]
  },
  {
   "cell_type": "code",
   "execution_count": 29,
   "id": "5f937766",
   "metadata": {},
   "outputs": [],
   "source": [
    "def count_trials(trial_types, type_to_count=\"target\"):\n",
    "    \"\"\"Count the number of trials matching a type.\"\"\"\n",
    "    count = 0\n",
    "    for tt in trial_types:\n",
    "        if tt == type_to_count:\n",
    "            count += 1\n",
    "    return count"
   ]
  },
  {
   "cell_type": "markdown",
   "id": "2f3a66bc",
   "metadata": {
    "editable": true,
    "slideshow": {
     "slide_type": "fragment"
    },
    "tags": []
   },
   "source": [
    "Now we have a function that can count any trial types we want."
   ]
  },
  {
   "cell_type": "code",
   "execution_count": 30,
   "id": "4a406acd",
   "metadata": {},
   "outputs": [
    {
     "name": "stdout",
     "output_type": "stream",
     "text": [
      "3\n"
     ]
    }
   ],
   "source": [
    "trial_type = [\"target\", \"target\", \"lure\", \"target\", \"lure\", \"target\", \"target\", \"lure\"]\n",
    "lure_count = count_trials(trial_type, type_to_count=\"lure\")\n",
    "print(lure_count)"
   ]
  },
  {
   "cell_type": "markdown",
   "id": "092687d5",
   "metadata": {
    "editable": true,
    "slideshow": {
     "slide_type": "slide"
    },
    "tags": []
   },
   "source": [
    "There are other, slightly different ways we can run `for` loops. If we don't have a specific list to iterate over, we might instead want to run a for loop over a range of numbers. We can do this using the `range` function. For example, say we want to calculate the sum of the numbers 1 through 10. For this, we can use `range(1, 11)`, which will generate the numbers 1 through 10."
   ]
  },
  {
   "cell_type": "code",
   "execution_count": 31,
   "id": "39d840b3",
   "metadata": {},
   "outputs": [
    {
     "name": "stdout",
     "output_type": "stream",
     "text": [
      "55\n"
     ]
    }
   ],
   "source": [
    "total = 0\n",
    "for i in range(1, 11):\n",
    "    total += i\n",
    "print(total)"
   ]
  },
  {
   "cell_type": "markdown",
   "id": "6468fa96",
   "metadata": {
    "editable": true,
    "slideshow": {
     "slide_type": "slide"
    },
    "tags": []
   },
   "source": [
    "Like we did for the trial counting loop, we can turn this into a reusable function to make our code more flexible."
   ]
  },
  {
   "cell_type": "code",
   "execution_count": 32,
   "id": "6299c6aa",
   "metadata": {},
   "outputs": [],
   "source": [
    "def count_range(start, stop):\n",
    "    \"\"\"Count the sum of numbers in a range.\"\"\"\n",
    "    total = 0\n",
    "    for i in range(start, stop):\n",
    "        total += i\n",
    "    return total"
   ]
  },
  {
   "cell_type": "markdown",
   "id": "7320f4ec",
   "metadata": {
    "editable": true,
    "slideshow": {
     "slide_type": "fragment"
    },
    "tags": []
   },
   "source": [
    "Now we can use our code to count the total for any range of numbers."
   ]
  },
  {
   "cell_type": "code",
   "execution_count": 33,
   "id": "45fd63fe",
   "metadata": {},
   "outputs": [
    {
     "name": "stdout",
     "output_type": "stream",
     "text": [
      "5050\n"
     ]
    }
   ],
   "source": [
    "print(count_range(1, 101))  # sum of numbers 1–100"
   ]
  },
  {
   "cell_type": "markdown",
   "id": "d0508441",
   "metadata": {
    "editable": true,
    "slideshow": {
     "slide_type": "slide"
    },
    "tags": []
   },
   "source": [
    "Sometimes, we might want to get the index of each item in a list. We can use `range(len(mylist))` to generate these indices."
   ]
  },
  {
   "cell_type": "code",
   "execution_count": 34,
   "id": "ba5b93e1",
   "metadata": {},
   "outputs": [
    {
     "name": "stdout",
     "output_type": "stream",
     "text": [
      "target\n",
      "target\n",
      "lure\n",
      "target\n",
      "lure\n",
      "target\n",
      "target\n",
      "lure\n"
     ]
    }
   ],
   "source": [
    "trial_type = [\"target\", \"target\", \"lure\", \"target\", \"lure\", \"target\", \"target\", \"lure\"]\n",
    "for i in range(len(trial_type)):\n",
    "    print(trial_type[i])"
   ]
  },
  {
   "cell_type": "markdown",
   "id": "dfe24690",
   "metadata": {
    "editable": true,
    "slideshow": {
     "slide_type": "fragment"
    },
    "tags": []
   },
   "source": [
    "Here, we generated all the indices of the list, and then just used those indices to access each item in the list and print them out."
   ]
  },
  {
   "cell_type": "markdown",
   "id": "5f610b3c",
   "metadata": {
    "editable": true,
    "slideshow": {
     "slide_type": "slide"
    },
    "tags": []
   },
   "source": [
    "Sometimes, it's useful to get both each item in a list and the corresponding index. We can get that using `enumerate`."
   ]
  },
  {
   "cell_type": "code",
   "execution_count": 35,
   "id": "053a3474",
   "metadata": {},
   "outputs": [
    {
     "name": "stdout",
     "output_type": "stream",
     "text": [
      "0 target\n",
      "1 target\n",
      "2 lure\n",
      "3 target\n",
      "4 lure\n",
      "5 target\n",
      "6 target\n",
      "7 lure\n"
     ]
    }
   ],
   "source": [
    "trial_type = [\"target\", \"target\", \"lure\", \"target\", \"lure\", \"target\", \"target\", \"lure\"]\n",
    "for i, tt in enumerate(trial_type):\n",
    "    print(i, tt)"
   ]
  },
  {
   "cell_type": "markdown",
   "id": "faef40aa",
   "metadata": {
    "editable": true,
    "slideshow": {
     "slide_type": "fragment"
    },
    "tags": []
   },
   "source": [
    "Notice that we now have two variables (`i, tt`) on the left side of the `in` keyword. This unpacks the two things that `enumerate` produces on each step of the loop, and assigns them to two variables (`i` gets the index, and `tt` gets the current trial type)."
   ]
  },
  {
   "cell_type": "markdown",
   "id": "6170ea6c",
   "metadata": {
    "editable": true,
    "slideshow": {
     "slide_type": "slide"
    },
    "tags": []
   },
   "source": [
    "Finally, we can loop over two lists at the same time using the `zip` function. For example, say we have trial type and response on each of a set of trials."
   ]
  },
  {
   "cell_type": "code",
   "execution_count": 36,
   "id": "915a4c0a",
   "metadata": {},
   "outputs": [],
   "source": [
    "trial_type = [\"target\", \"lure\", \"lure\", \"target\", \"lure\", \"target\", \"target\", \"lure\"]\n",
    "response = [\"old\", \"old\", \"new\", \"old\", \"new\", \"new\", \"old\", \"new\"]"
   ]
  },
  {
   "cell_type": "markdown",
   "id": "0459e499",
   "metadata": {
    "editable": true,
    "slideshow": {
     "slide_type": "fragment"
    },
    "tags": []
   },
   "source": [
    "This code will count the number of responses that are hits and false alarms."
   ]
  },
  {
   "cell_type": "code",
   "execution_count": 37,
   "id": "a0ebd9e8",
   "metadata": {},
   "outputs": [
    {
     "name": "stdout",
     "output_type": "stream",
     "text": [
      "3 1\n"
     ]
    }
   ],
   "source": [
    "hits = 0\n",
    "false_alarms = 0\n",
    "for tt, r in zip(trial_type, response):\n",
    "    if tt == \"target\" and r == \"old\":\n",
    "        hits += 1\n",
    "    elif tt == \"lure\" and r == \"old\":\n",
    "        false_alarms += 1\n",
    "print(hits, false_alarms)"
   ]
  },
  {
   "cell_type": "markdown",
   "id": "82f1de80",
   "metadata": {
    "editable": true,
    "slideshow": {
     "slide_type": "fragment"
    },
    "tags": []
   },
   "source": [
    "For problems like this, it's convenient to loop over both lists at the same time. Like in the `enumerate` example, note that we need to unpack the two outputs of `zip` on each part of the loop. The `tt` variable gets the current trial type, while the `r` variable gets the current response."
   ]
  },
  {
   "cell_type": "markdown",
   "id": "c5591419",
   "metadata": {
    "editable": true,
    "slideshow": {
     "slide_type": "slide"
    },
    "tags": []
   },
   "source": [
    "## While loops\n",
    "\n",
    "We can use `for` loops when we know in advance how many times we want to run some set of commands. If we instead want to run something until some condition is met, we can use a `while` loop instead. The `while` type of loop is less common in data science, but it is sometimes useful.\n",
    "\n",
    "To illustrate the idea with a real-world example, say that we are at a donut shop. We can use a `for` loop to pick out a dozen donuts. For the numbers 1 through 12, we will pick a donut and ask the person behind the counter to place it in our box.\n",
    "\n",
    "After we get the donuts, we could use a `while` loop to eat the donuts until we are full. We might not know in advance how many donuts we want to eat; instead, we might decide to eat a donut, check if we are still full, eat another donut if we are not full, etc., until we are full."
   ]
  },
  {
   "cell_type": "markdown",
   "id": "59b4b751",
   "metadata": {
    "editable": true,
    "slideshow": {
     "slide_type": "slide"
    },
    "tags": []
   },
   "source": [
    "For example, say we want to count successive numbers until we get a sum over 10."
   ]
  },
  {
   "cell_type": "code",
   "execution_count": 38,
   "id": "42f36cc4",
   "metadata": {},
   "outputs": [
    {
     "name": "stdout",
     "output_type": "stream",
     "text": [
      "5\n"
     ]
    }
   ],
   "source": [
    "total = 0\n",
    "current = 0\n",
    "while total <= 10:\n",
    "    current += 1\n",
    "    total += current\n",
    "print(current)"
   ]
  },
  {
   "cell_type": "markdown",
   "id": "028400f9",
   "metadata": {
    "editable": true,
    "slideshow": {
     "slide_type": "fragment"
    },
    "tags": []
   },
   "source": [
    "The current number starts at one. On each step of the loop, we check if the total is less than or equal to 10. If not, then we exit the loop. Each time the loop runs, we increment the current number and add it to the total.\n",
    "\n",
    "This program will add successive numbers until the total gets over 10. This takes 5 steps, because $1 + 2 + 3 + 4 + 5 = 15$, which is greater than 10."
   ]
  },
  {
   "cell_type": "markdown",
   "id": "706d0673-e186-4c1f-8dc7-417331d4a3fa",
   "metadata": {
    "editable": true,
    "slideshow": {
     "slide_type": "slide"
    },
    "tags": []
   },
   "source": [
    "## NumPy arrays\n",
    "\n",
    "While we can organize data in lists in Python, for a lot of scientific applications it's easier to work with NumPy arrays instead. Arrays are designed for working with sets of data points, such as response accuracy or response times on individual trials."
   ]
  },
  {
   "cell_type": "markdown",
   "id": "fed9b082",
   "metadata": {
    "editable": true,
    "slideshow": {
     "slide_type": "slide"
    },
    "tags": []
   },
   "source": [
    "For example, say that we have a series of labels for trials in a study, indicating whether the response was correct (coded as 1) or incorrected (coded as 0). We can use an array to hold this information for each trial."
   ]
  },
  {
   "cell_type": "code",
   "execution_count": 39,
   "id": "5c9a9ba7",
   "metadata": {},
   "outputs": [
    {
     "name": "stdout",
     "output_type": "stream",
     "text": [
      "[0 1 0 0 0 1 1 1 0 1 1 1]\n"
     ]
    }
   ],
   "source": [
    "correct = np.array([0, 1, 0, 0, 0, 1, 1, 1, 0, 1, 1, 1])\n",
    "print(correct)"
   ]
  },
  {
   "cell_type": "markdown",
   "id": "1ebdb95b",
   "metadata": {
    "editable": true,
    "slideshow": {
     "slide_type": "fragment"
    },
    "tags": []
   },
   "source": [
    "We can use NumPy functions to calculate various statistics, such as the sum (which here corresponds to the total number of correct responses) and the mean (which here corresponds to the fraction correct)."
   ]
  },
  {
   "cell_type": "code",
   "execution_count": 40,
   "id": "bdbeec35",
   "metadata": {},
   "outputs": [
    {
     "name": "stdout",
     "output_type": "stream",
     "text": [
      "7 correct out of 12; 58% accuracy\n"
     ]
    }
   ],
   "source": [
    "total = np.sum(correct)\n",
    "n = correct.size\n",
    "accuracy = np.mean(correct)\n",
    "print(f\"{total} correct out of {n}; {round(accuracy * 100)}% accuracy\")"
   ]
  },
  {
   "cell_type": "markdown",
   "id": "6f5db1bf",
   "metadata": {
    "editable": true,
    "slideshow": {
     "slide_type": "slide"
    },
    "tags": []
   },
   "source": [
    "If we want to get information about some subset of trials, we can use slicing to access data based on its position in the array. For example, using slicing, we can split the trials in half and calculate accuracy for the first and second halves."
   ]
  },
  {
   "cell_type": "code",
   "execution_count": 41,
   "id": "e9a1e33f",
   "metadata": {},
   "outputs": [
    {
     "name": "stdout",
     "output_type": "stream",
     "text": [
      "Half 1: 33% accuracy\n",
      "Half 2: 83% accuracy\n"
     ]
    }
   ],
   "source": [
    "accuracy1 = np.mean(correct[:6])\n",
    "accuracy2 = np.mean(correct[6:])\n",
    "print(f\"Half 1: {round(accuracy1 * 100)}% accuracy\")\n",
    "print(f\"Half 2: {round(accuracy2 * 100)}% accuracy\")"
   ]
  },
  {
   "cell_type": "markdown",
   "id": "5b3718b4",
   "metadata": {
    "editable": true,
    "slideshow": {
     "slide_type": "fragment"
    },
    "tags": []
   },
   "source": [
    "We can also use indexing to access individual trials. In this case, we will get an integer instead of an array."
   ]
  },
  {
   "cell_type": "code",
   "execution_count": 42,
   "id": "86ed7afc",
   "metadata": {},
   "outputs": [
    {
     "name": "stdout",
     "output_type": "stream",
     "text": [
      "0\n",
      "<class 'numpy.int64'>\n"
     ]
    }
   ],
   "source": [
    "is5corr = correct[4]  # index 4 corresponds to trial number 5\n",
    "print(is5corr)\n",
    "print(type(is5corr))"
   ]
  },
  {
   "cell_type": "markdown",
   "id": "13e8dd6d",
   "metadata": {
    "editable": true,
    "slideshow": {
     "slide_type": "slide"
    },
    "tags": []
   },
   "source": [
    "There are various functions to generate special types of arrays, such as arrays with all ones or all zeros, in a specified shape."
   ]
  },
  {
   "cell_type": "code",
   "execution_count": 43,
   "id": "cfa017aa",
   "metadata": {},
   "outputs": [
    {
     "name": "stdout",
     "output_type": "stream",
     "text": [
      "[1. 1. 1. 1.]\n",
      "[[0. 0. 0. 0. 0.]\n",
      " [0. 0. 0. 0. 0.]\n",
      " [0. 0. 0. 0. 0.]\n",
      " [0. 0. 0. 0. 0.]]\n"
     ]
    }
   ],
   "source": [
    "a = np.ones(4)\n",
    "b = np.zeros((4, 5))\n",
    "print(a)\n",
    "print(b)"
   ]
  },
  {
   "cell_type": "markdown",
   "id": "83cf10ed",
   "metadata": {
    "editable": true,
    "slideshow": {
     "slide_type": "slide"
    },
    "tags": []
   },
   "source": [
    "Other functions can generate a range of values. The `arange` function can generate values between a start value and a stop value, with a specific step size. The default step size is one."
   ]
  },
  {
   "cell_type": "code",
   "execution_count": 44,
   "id": "e55d2914",
   "metadata": {},
   "outputs": [
    {
     "name": "stdout",
     "output_type": "stream",
     "text": [
      "[ 1  2  3  4  5  6  7  8  9 10]\n",
      "[1 3 5 7 9]\n"
     ]
    }
   ],
   "source": [
    "r1 = np.arange(1, 11)\n",
    "r2 = np.arange(1, 11, 2)\n",
    "print(r1)\n",
    "print(r2)"
   ]
  },
  {
   "cell_type": "markdown",
   "id": "561bf384",
   "metadata": {
    "editable": true,
    "slideshow": {
     "slide_type": "fragment"
    },
    "tags": []
   },
   "source": [
    "If only one value is given, then the range will be from 0 to that number."
   ]
  },
  {
   "cell_type": "code",
   "execution_count": 45,
   "id": "d32b70fa",
   "metadata": {},
   "outputs": [
    {
     "name": "stdout",
     "output_type": "stream",
     "text": [
      "[ 0  1  2  3  4  5  6  7  8  9 10]\n"
     ]
    }
   ],
   "source": [
    "r3 = np.arange(11)\n",
    "print(r3)"
   ]
  },
  {
   "cell_type": "markdown",
   "id": "e13cde1b",
   "metadata": {
    "editable": true,
    "slideshow": {
     "slide_type": "slide"
    },
    "tags": []
   },
   "source": [
    "The `linspace` function also generates values within an interval, but instead of a step size, you indicate the number of samples you want."
   ]
  },
  {
   "cell_type": "code",
   "execution_count": 46,
   "id": "332528b8",
   "metadata": {},
   "outputs": [
    {
     "name": "stdout",
     "output_type": "stream",
     "text": [
      "[ 0.   2.5  5.   7.5 10. ]\n",
      "[ 0.  1.  2.  3.  4.  5.  6.  7.  8.  9. 10.]\n"
     ]
    }
   ],
   "source": [
    "l1 = np.linspace(0, 10, 5)\n",
    "l2 = np.linspace(0, 10, 11)\n",
    "print(l1)\n",
    "print(l2)"
   ]
  },
  {
   "cell_type": "markdown",
   "id": "79863c04",
   "metadata": {
    "editable": true,
    "slideshow": {
     "slide_type": "slide"
    },
    "tags": []
   },
   "source": [
    "We can use comparison operators (`==`, `!=`, `>`, `<`, `>=`, `<=`) to create boolean arrays, which can then be used to filter arrays with the same shape. We can also combine comparisons using these operators: not (`~`), and (`&`), or (`|`).\n",
    "\n",
    "For example, say we have the following arrays defining trial type and response."
   ]
  },
  {
   "cell_type": "code",
   "execution_count": 47,
   "id": "82bf6079",
   "metadata": {},
   "outputs": [],
   "source": [
    "trial_type = np.array([\"target\", \"lure\", \"lure\", \"target\", \"lure\", \"target\", \"target\", \"lure\"])\n",
    "response = np.array([\"old\", \"old\", \"new\", \"old\", \"new\", \"new\", \"old\", \"new\"])"
   ]
  },
  {
   "cell_type": "markdown",
   "id": "a48a63b1",
   "metadata": {
    "editable": true,
    "slideshow": {
     "slide_type": "fragment"
    },
    "tags": []
   },
   "source": [
    "We can get just trials that were hits by combining a check for a \"target\" trial and an \"old\" response."
   ]
  },
  {
   "cell_type": "code",
   "execution_count": 48,
   "id": "ce822ad7",
   "metadata": {},
   "outputs": [],
   "source": [
    "ishit = (trial_type == \"target\") & (response == \"old\")"
   ]
  },
  {
   "cell_type": "markdown",
   "id": "e293edd6",
   "metadata": {
    "editable": true,
    "slideshow": {
     "slide_type": "fragment"
    },
    "tags": []
   },
   "source": [
    "We can use a boolean array with `np.sum` to measure the number of trials matching that filter."
   ]
  },
  {
   "cell_type": "code",
   "execution_count": 49,
   "id": "6cb878eb",
   "metadata": {},
   "outputs": [
    {
     "name": "stdout",
     "output_type": "stream",
     "text": [
      "3\n"
     ]
    }
   ],
   "source": [
    "n_hit = np.sum(ishit)\n",
    "print(n_hit)"
   ]
  },
  {
   "cell_type": "markdown",
   "id": "fe3670fa",
   "metadata": {
    "editable": true,
    "slideshow": {
     "slide_type": "slide"
    },
    "tags": []
   },
   "source": [
    "We can also use it to filter another array with the same shape. For example, say we have another array with response times in seconds. We can use the `ishit` filter to get response times for just the hit responses."
   ]
  },
  {
   "cell_type": "code",
   "execution_count": 50,
   "id": "6249681d",
   "metadata": {},
   "outputs": [
    {
     "data": {
      "text/plain": [
       "array([5.4, 3.2, 6.1])"
      ]
     },
     "execution_count": 50,
     "metadata": {},
     "output_type": "execute_result"
    }
   ],
   "source": [
    "response_time = np.array([5.4, 3.4, 8.4, 3.2, 3.9, 5.2, 6.1, 7.1])\n",
    "response_time[ishit]"
   ]
  },
  {
   "cell_type": "markdown",
   "id": "ea2523ce",
   "metadata": {
    "editable": true,
    "slideshow": {
     "slide_type": "fragment"
    },
    "tags": []
   },
   "source": [
    "We can put these things together to calculate mean response time for hits, in one line of code."
   ]
  },
  {
   "cell_type": "code",
   "execution_count": 51,
   "id": "9558458c",
   "metadata": {},
   "outputs": [
    {
     "name": "stdout",
     "output_type": "stream",
     "text": [
      "4.9\n"
     ]
    }
   ],
   "source": [
    "hit_rt = np.mean(response_time[(trial_type == \"target\") & (response == \"old\")])\n",
    "print(hit_rt)"
   ]
  },
  {
   "cell_type": "markdown",
   "id": "b1b11b2a-7e7b-4ffa-a80a-6bc6a0fe174a",
   "metadata": {
    "editable": true,
    "slideshow": {
     "slide_type": "slide"
    },
    "tags": []
   },
   "source": [
    "## Descriptive statistics\n",
    "\n",
    "When we have a series of observations, we can use descriptive statistics to summarize those observations by measuring central tendency and spread."
   ]
  },
  {
   "cell_type": "markdown",
   "id": "15c628b8",
   "metadata": {
    "editable": true,
    "slideshow": {
     "slide_type": "slide"
    },
    "tags": []
   },
   "source": [
    "For example, say we have measured a series of response times."
   ]
  },
  {
   "cell_type": "code",
   "execution_count": 52,
   "id": "b071572f",
   "metadata": {},
   "outputs": [],
   "source": [
    "response_times = np.array(\n",
    "    [2.2, 2.8, 3.4, 6.2, 3.7, 5.5, 3.9, 4.2, 4.5, 5.1, 5.8, 3.2, 2.8, 2.9, 3.0, 3.1, 4.2, 2.8, 2.9, 3.7, 3.5, 6.7, 3.8, 4.8, 2.3]\n",
    ")"
   ]
  },
  {
   "cell_type": "markdown",
   "id": "dd50a43c",
   "metadata": {
    "editable": true,
    "slideshow": {
     "slide_type": "slide"
    },
    "tags": []
   },
   "source": [
    "We can use a histogram to get a view of the overall distribution."
   ]
  },
  {
   "cell_type": "code",
   "execution_count": 53,
   "id": "e563871f",
   "metadata": {},
   "outputs": [
    {
     "data": {
      "image/png": "[encoded data removed]",
      "text/plain": [
       "<Figure size 640x480 with 1 Axes>"
      ]
     },
     "metadata": {},
     "output_type": "display_data"
    }
   ],
   "source": [
    "import matplotlib.pyplot as plt\n",
    "values, bins, bars = plt.hist(response_times)"
   ]
  },
  {
   "cell_type": "markdown",
   "id": "5b4dde9f",
   "metadata": {
    "editable": true,
    "slideshow": {
     "slide_type": "slide"
    },
    "tags": []
   },
   "source": [
    "We can measure central tendency using the mean (the sum of all values divided by the number of samples) or the median (the center value after ranking values)."
   ]
  },
  {
   "cell_type": "code",
   "execution_count": 54,
   "id": "0130bae1",
   "metadata": {
    "editable": true,
    "slideshow": {
     "slide_type": ""
    },
    "tags": []
   },
   "outputs": [
    {
     "data": {
      "image/png": "[encoded data removed]",
      "text/plain": [
       "<Figure size 640x480 with 1 Axes>"
      ]
     },
     "metadata": {},
     "output_type": "display_data"
    }
   ],
   "source": [
    "values, bins, bars = plt.hist(response_times)\n",
    "h1 = plt.vlines(np.median(response_times), 0, 6, color=\"red\")\n",
    "h2 = plt.vlines(np.mean(response_times), 0, 6, color=\"purple\")\n",
    "plt.legend([h1, h2], [\"median\", \"mean\"]);"
   ]
  },
  {
   "cell_type": "markdown",
   "id": "4e762c07",
   "metadata": {
    "editable": true,
    "slideshow": {
     "slide_type": "slide"
    },
    "tags": []
   },
   "source": [
    "We can measure the spread of a distribution using the range (the difference the minimum value and the maximum value) or the standard deviation (basically the average distance of samples from the mean)."
   ]
  },
  {
   "cell_type": "code",
   "execution_count": 55,
   "id": "4b53e08b",
   "metadata": {},
   "outputs": [
    {
     "name": "stdout",
     "output_type": "stream",
     "text": [
      "Standard deviation: 1.2; range: 4.5\n"
     ]
    }
   ],
   "source": [
    "sd = np.std(response_times)\n",
    "r = np.max(response_times) - np.min(response_times)\n",
    "print(f\"Standard deviation: {sd:.1f}; range: {r}\")"
   ]
  },
  {
   "cell_type": "markdown",
   "id": "06718dad",
   "metadata": {
    "editable": true,
    "slideshow": {
     "slide_type": "slide"
    },
    "tags": []
   },
   "source": [
    "We can also get percentiles of the distribution to better understand how the observations vary. A percentile $p$ indicates the value where $p$ percent of samples are less than that value."
   ]
  },
  {
   "cell_type": "code",
   "execution_count": 56,
   "id": "09840997",
   "metadata": {},
   "outputs": [
    {
     "data": {
      "image/png": "[encoded data removed]",
      "text/plain": [
       "<Figure size 640x480 with 1 Axes>"
      ]
     },
     "metadata": {},
     "output_type": "display_data"
    }
   ],
   "source": [
    "qs = [25, 50, 75]\n",
    "ps = np.percentile(response_times, qs)\n",
    "values, bins, bars = plt.hist(response_times)\n",
    "plt.vlines(ps, 0, 6, color=\"red\")\n",
    "for q, p in zip(qs, ps):\n",
    "    plt.text(p, 6.1, f\"{q}\", ha=\"center\")"
   ]
  },
  {
   "cell_type": "markdown",
   "id": "10361724",
   "metadata": {
    "editable": true,
    "slideshow": {
     "slide_type": "slide"
    },
    "tags": []
   },
   "source": [
    "In NumPy arrays, the special value `NaN` (not-a-number) indicates when data for some observation is missing. For example, say that a participant was asked to make a response on each of 10 trials, but did not make a response on two of the trials. In that case, we would not have a measure of response time on those trials."
   ]
  },
  {
   "cell_type": "code",
   "execution_count": 57,
   "id": "3e11b6f4",
   "metadata": {},
   "outputs": [],
   "source": [
    "rt_missing = np.array([3.4, np.nan, 4.2, 5.3, 2.5, np.nan, 5.2, 5.9, 3.2, 4.7])"
   ]
  },
  {
   "cell_type": "markdown",
   "id": "a8b46fe7",
   "metadata": {
    "editable": true,
    "slideshow": {
     "slide_type": "fragment"
    },
    "tags": []
   },
   "source": [
    "If we use normal NumPy functions, we will often get `NaN`, because many statistics are undefined if a sample is missing."
   ]
  },
  {
   "cell_type": "code",
   "execution_count": 58,
   "id": "41aa1762",
   "metadata": {},
   "outputs": [
    {
     "name": "stdout",
     "output_type": "stream",
     "text": [
      "nan\n",
      "nan\n"
     ]
    }
   ],
   "source": [
    "print(np.mean(rt_missing))\n",
    "print(np.std(rt_missing))"
   ]
  },
  {
   "cell_type": "markdown",
   "id": "4ea846d5",
   "metadata": {
    "editable": true,
    "slideshow": {
     "slide_type": "slide"
    },
    "tags": []
   },
   "source": [
    "However, we can use special functions with `nan` at the start that omit missing samples and calculate a statistic using the available samples."
   ]
  },
  {
   "cell_type": "code",
   "execution_count": 59,
   "id": "7585a354",
   "metadata": {},
   "outputs": [
    {
     "name": "stdout",
     "output_type": "stream",
     "text": [
      "4.3\n",
      "4.45\n",
      "1.1067971810589328\n"
     ]
    }
   ],
   "source": [
    "print(np.nanmean(rt_missing))\n",
    "print(np.nanmedian(rt_missing))\n",
    "print(np.nanstd(rt_missing))"
   ]
  },
  {
   "cell_type": "markdown",
   "id": "436eed51",
   "metadata": {
    "editable": true,
    "slideshow": {
     "slide_type": "slide"
    },
    "tags": []
   },
   "source": [
    "We cannot check for `NaN` values using standard comparison operators like `==`."
   ]
  },
  {
   "cell_type": "code",
   "execution_count": 60,
   "id": "b7394f1d-50a9-40c6-9163-d33b49f882fc",
   "metadata": {
    "editable": true,
    "slideshow": {
     "slide_type": ""
    },
    "tags": []
   },
   "outputs": [
    {
     "data": {
      "text/plain": [
       "array([False, False, False, False, False, False, False, False, False,\n",
       "       False])"
      ]
     },
     "execution_count": 60,
     "metadata": {},
     "output_type": "execute_result"
    }
   ],
   "source": [
    "rt_missing == np.nan"
   ]
  },
  {
   "cell_type": "markdown",
   "id": "e9a6daef-6d58-49de-b22f-843931eef7de",
   "metadata": {
    "editable": true,
    "slideshow": {
     "slide_type": "fragment"
    },
    "tags": []
   },
   "source": [
    "Nothing is equal to `NaN`, not even `NaN`, so comparison doesn't work the usual way."
   ]
  },
  {
   "cell_type": "markdown",
   "id": "c408cf0a-e156-499c-a5a2-1a527f8f006e",
   "metadata": {
    "editable": true,
    "slideshow": {
     "slide_type": "slide"
    },
    "tags": []
   },
   "source": [
    "Instead, we can use `np.isnan` to check for missing values."
   ]
  },
  {
   "cell_type": "code",
   "execution_count": 61,
   "id": "c81ef6dc",
   "metadata": {
    "editable": true,
    "slideshow": {
     "slide_type": ""
    },
    "tags": []
   },
   "outputs": [
    {
     "data": {
      "text/plain": [
       "array([False,  True, False, False, False,  True, False, False, False,\n",
       "       False])"
      ]
     },
     "execution_count": 61,
     "metadata": {},
     "output_type": "execute_result"
    }
   ],
   "source": [
    "np.isnan(rt_missing)"
   ]
  },
  {
   "cell_type": "markdown",
   "id": "454cf1f2-0a28-4724-9966-c3190e2a36e3",
   "metadata": {
    "editable": true,
    "slideshow": {
     "slide_type": "fragment"
    },
    "tags": []
   },
   "source": [
    "We can combine `np.isnan` with `np.sum` to get the number of missing observations."
   ]
  },
  {
   "cell_type": "code",
   "execution_count": 62,
   "id": "d567328d-d407-4800-97fe-e372be88818a",
   "metadata": {
    "editable": true,
    "slideshow": {
     "slide_type": ""
    },
    "tags": []
   },
   "outputs": [
    {
     "data": {
      "text/plain": [
       "np.int64(2)"
      ]
     },
     "execution_count": 62,
     "metadata": {},
     "output_type": "execute_result"
    }
   ],
   "source": [
    "np.sum(np.isnan(rt_missing))"
   ]
  },
  {
   "cell_type": "markdown",
   "id": "ae7a1a6f",
   "metadata": {
    "editable": true,
    "slideshow": {
     "slide_type": "fragment"
    },
    "tags": []
   },
   "source": [
    "To get only defined observations, we can filter to get non-`NaN` items."
   ]
  },
  {
   "cell_type": "code",
   "execution_count": 63,
   "id": "db713520",
   "metadata": {},
   "outputs": [
    {
     "data": {
      "text/plain": [
       "array([3.4, 4.2, 5.3, 2.5, 5.2, 5.9, 3.2, 4.7])"
      ]
     },
     "execution_count": 63,
     "metadata": {},
     "output_type": "execute_result"
    }
   ],
   "source": [
    "rt_clean = rt_missing[~np.isnan(rt_missing)]\n",
    "rt_clean"
   ]
  }
 ],
 "metadata": {
  "kernelspec": {
   "display_name": "datascipsych",
   "language": "python",
   "name": "datascipsych"
  },
  "language_info": {
   "codemirror_mode": {
    "name": "ipython",
    "version": 3
   },
   "file_extension": ".py",
   "mimetype": "text/x-python",
   "name": "python",
   "nbconvert_exporter": "python",
   "pygments_lexer": "ipython3",
   "version": "3.12.8"
  }
 },
 "nbformat": 4,
 "nbformat_minor": 5
}
