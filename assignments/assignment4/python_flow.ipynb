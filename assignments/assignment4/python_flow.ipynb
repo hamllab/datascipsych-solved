{
 "cells": [
  {
   "cell_type": "markdown",
   "id": "0c1c9b57-6b5f-4b30-9d3f-ab6a603d10e5",
   "metadata": {
    "editable": true,
    "slideshow": {
     "slide_type": "slide"
    },
    "tags": []
   },
   "source": [
    "# Python control flow\n",
    "\n",
    "Programs are shaped by control flow, which determines which commands run at which times. Python programs frequently rely on a few key mechanisms of control flow."
   ]
  },
  {
   "cell_type": "markdown",
   "id": "cfd3e472-1ea1-447f-b109-7a3e04f300a1",
   "metadata": {
    "editable": true,
    "slideshow": {
     "slide_type": "slide"
    },
    "tags": []
   },
   "source": [
    "## If statements\n",
    "\n",
    "Sometimes, we need to decide between multiple commands to run, depending on the conditions. To do this, we can write an *if* statement."
   ]
  },
  {
   "cell_type": "markdown",
   "id": "6a6c26b0-997e-4fd4-8241-955a222d29e5",
   "metadata": {},
   "source": [
    "The simplest form is to run some code, only if a condition is satisfied. For example, say if we want to check if one variable is larger than another and run some code only if it is."
   ]
  },
  {
   "cell_type": "code",
   "execution_count": 1,
   "id": "fb4d5688-bcf1-41f6-bf59-51f53900ac40",
   "metadata": {
    "editable": true,
    "slideshow": {
     "slide_type": ""
    },
    "tags": []
   },
   "outputs": [],
   "source": [
    "a = 5\n",
    "b = 8\n",
    "if a > b:\n",
    "    print(\"a is greater than b.\")"
   ]
  },
  {
   "cell_type": "markdown",
   "id": "63df78a4-d496-488f-b3a2-243473f70f36",
   "metadata": {
    "editable": true,
    "slideshow": {
     "slide_type": ""
    },
    "tags": []
   },
   "source": [
    "Because $a < b$, the code is not executed."
   ]
  },
  {
   "cell_type": "code",
   "execution_count": 2,
   "id": "4c371714-7b04-434c-8481-90402bf4a446",
   "metadata": {
    "editable": true,
    "slideshow": {
     "slide_type": ""
    },
    "tags": []
   },
   "outputs": [
    {
     "name": "stdout",
     "output_type": "stream",
     "text": [
      "b is greater than a.\n"
     ]
    }
   ],
   "source": [
    "if b > a:\n",
    "    print(\"b is greater than a.\")"
   ]
  },
  {
   "cell_type": "markdown",
   "id": "19298f47-868c-4e3d-957d-18f9a344d741",
   "metadata": {
    "editable": true,
    "slideshow": {
     "slide_type": ""
    },
    "tags": []
   },
   "source": [
    "Here, the code checks if $b>a$, finds that it is, and runs the code to print our message."
   ]
  },
  {
   "cell_type": "markdown",
   "id": "c704dc8a-dc34-46a7-bb15-6c4b7d2b85e0",
   "metadata": {
    "editable": true,
    "slideshow": {
     "slide_type": "slide"
    },
    "tags": []
   },
   "source": [
    "We can put these checks together using an `if/elif` statement. The `elif` keyword is short for \"else if\". Different conditions are checked in order. If the first condition is true, then the code in that block will be executed. If the first condition is false, then the `elif` condition will be checked. You can have as many `elif` conditions as you want."
   ]
  },
  {
   "cell_type": "code",
   "execution_count": 3,
   "id": "8b3e330f-0404-4fb3-9a9a-6ce7ed5a865e",
   "metadata": {
    "editable": true,
    "slideshow": {
     "slide_type": ""
    },
    "tags": []
   },
   "outputs": [
    {
     "name": "stdout",
     "output_type": "stream",
     "text": [
      "b is greater than a.\n"
     ]
    }
   ],
   "source": [
    "a = 5\n",
    "b = 8\n",
    "if a > b:\n",
    "    print(\"a is greater than b.\")\n",
    "elif b > a:\n",
    "    print(\"b is greater than a.\")"
   ]
  },
  {
   "cell_type": "markdown",
   "id": "6938664c-8a94-4547-8c2d-5c59498fefdb",
   "metadata": {
    "editable": true,
    "slideshow": {
     "slide_type": ""
    },
    "tags": []
   },
   "source": [
    "Finally, we can optionally also have an `else` block at the end. This will run code only if none of the other conditions were met."
   ]
  },
  {
   "cell_type": "code",
   "execution_count": 4,
   "id": "feb5c84d-2c34-4064-b655-f515eb3db12a",
   "metadata": {
    "editable": true,
    "slideshow": {
     "slide_type": ""
    },
    "tags": []
   },
   "outputs": [
    {
     "name": "stdout",
     "output_type": "stream",
     "text": [
      "a is equal to b.\n"
     ]
    }
   ],
   "source": [
    "a = 5\n",
    "b = 5\n",
    "if a > b:\n",
    "    print(\"a is greater than b.\")\n",
    "elif b > a:\n",
    "    print(\"b is greater than a.\")\n",
    "else:\n",
    "    print(\"a is equal to b.\")"
   ]
  },
  {
   "cell_type": "markdown",
   "id": "bb5525c2-70d7-4934-b234-4dec12772eb5",
   "metadata": {
    "editable": true,
    "slideshow": {
     "slide_type": ""
    },
    "tags": []
   },
   "source": [
    "To summarize, the syntax for `if/elif/else` statements is:\n",
    "\n",
    "```python\n",
    "if condition:\n",
    "    code_to_run\n",
    "elif other_condition:\n",
    "    different_code\n",
    "else:\n",
    "    code_if_neither_condition_true\n",
    "```"
   ]
  },
  {
   "cell_type": "markdown",
   "id": "82582f80-e3b9-4de7-8786-1f19dcfaff06",
   "metadata": {
    "editable": true,
    "slideshow": {
     "slide_type": "slide"
    },
    "tags": []
   },
   "source": [
    "The various parts of an `if/elif/else` statement can take any *expression* that returns a *boolean* value (that is, `True` or `False`). You can get a boolean using tests of equality (using `==` to test if two variables have the same value, or `!=` to test if they have different values) or inequalities (`<`, `>`, `<=`, `>=`)."
   ]
  },
  {
   "cell_type": "code",
   "execution_count": 5,
   "id": "801c7645-dd94-47ac-a894-6bee01aa9cf0",
   "metadata": {
    "editable": true,
    "slideshow": {
     "slide_type": "fragment"
    },
    "tags": []
   },
   "outputs": [
    {
     "name": "stdout",
     "output_type": "stream",
     "text": [
      "False\n",
      "True\n",
      "True\n"
     ]
    }
   ],
   "source": [
    "number = 4\n",
    "string = \"name\"\n",
    "print(number < 3)\n",
    "print(string == \"name\")\n",
    "print(string != \"names\")"
   ]
  },
  {
   "cell_type": "markdown",
   "id": "b4546662-6524-47b6-9b26-5211e42514a1",
   "metadata": {
    "editable": true,
    "slideshow": {
     "slide_type": ""
    },
    "tags": []
   },
   "source": [
    "### Exercise: if statements\n",
    "Define a function called `greet` prints out a greeting. It should take one input called `user`. If the user is `\"Mark\"`, print `\"Hi, Mark S.!`. If the user is `\"Helena\"`, print `\"Hello, Helly R.\"` \n",
    "\n",
    "#### Advanced\n",
    "Add an `else` block so that, if the user is anyone else, the function will use an f-string to print `\"Greetings, [user].\"`"
   ]
  },
  {
   "cell_type": "code",
   "execution_count": 6,
   "id": "83083473-9773-4a29-bddb-e6c0f1671ad4",
   "metadata": {
    "editable": true,
    "slideshow": {
     "slide_type": ""
    },
    "tags": []
   },
   "outputs": [],
   "source": [
    "# answer here"
   ]
  },
  {
   "cell_type": "markdown",
   "id": "5820609b-a90c-42da-8b7c-b87fbe083fba",
   "metadata": {
    "editable": true,
    "slideshow": {
     "slide_type": "slide"
    },
    "tags": []
   },
   "source": [
    "## For loops\n",
    "\n",
    "When we need to iterate over some list of things, we can use a *for* loop."
   ]
  },
  {
   "cell_type": "markdown",
   "id": "6dc778a3-6473-4a08-84b5-6d0a6978768a",
   "metadata": {
    "editable": true,
    "slideshow": {
     "slide_type": "slide"
    },
    "tags": []
   },
   "source": [
    "### List comprehensions\n",
    "\n",
    "A common use of *for* loops is to generate a list. In this case, we can instead use a *list comprehension*."
   ]
  },
  {
   "cell_type": "markdown",
   "id": "8ed92d19-80ae-432b-8b26-0053f21e4c4d",
   "metadata": {
    "editable": true,
    "slideshow": {
     "slide_type": ""
    },
    "tags": []
   },
   "source": [
    "### Dict comprehensions\n",
    "\n",
    "A similar method can be used to generate dictionaries using a *dict comprehension*."
   ]
  },
  {
   "cell_type": "markdown",
   "id": "08caf8d5-f865-424b-b531-42ca6dd93053",
   "metadata": {
    "editable": true,
    "slideshow": {
     "slide_type": "slide"
    },
    "tags": []
   },
   "source": [
    "## While loops\n",
    "\n",
    "There is also a different option of *while* loops, which can be used when we want to repeat something as long as some condition applies."
   ]
  },
  {
   "cell_type": "markdown",
   "id": "49113edc-5123-48de-a165-1572019afb1b",
   "metadata": {
    "editable": true,
    "jp-MarkdownHeadingCollapsed": true,
    "slideshow": {
     "slide_type": "slide"
    },
    "tags": []
   },
   "source": [
    "## Exceptions\n",
    "\n",
    "Sometimes a program is unable to run, often because of some problem with the inputs to that function. To deal with these cases, they can signal a problem by raising an *exception*.\n",
    "\n",
    "When an exception is raised, it will halt execution of the program unless it is handled using a *try/catch* statement."
   ]
  }
 ],
 "metadata": {
  "kernelspec": {
   "display_name": "datascipsych",
   "language": "python",
   "name": "datascipsych"
  },
  "language_info": {
   "codemirror_mode": {
    "name": "ipython",
    "version": 3
   },
   "file_extension": ".py",
   "mimetype": "text/x-python",
   "name": "python",
   "nbconvert_exporter": "python",
   "pygments_lexer": "ipython3",
   "version": "3.12.8"
  }
 },
 "nbformat": 4,
 "nbformat_minor": 5
}
