{
 "cells": [
  {
   "cell_type": "markdown",
   "id": "e29faf80-5bd6-4725-b63b-4e84f02c26c2",
   "metadata": {
    "editable": true,
    "slideshow": {
     "slide_type": ""
    },
    "tags": []
   },
   "source": [
    "# Assignment 4 draft (NOT FINALIZED)\n",
    "\n",
    "Please fill in blanks in this notebook. See the [README](https://github.com/mortonne/datascipsych) for instructions on setting up a Python environment to run this notebook.\n",
    "\n",
    "Write your answers for each problem, then run all cells. Upload your notebook to Canvas.\n",
    "\n",
    "If you get stuck, read through the other notebooks in this directory, ask us for help in class, or ask other students for help in class or on the weekly discussion board."
   ]
  },
  {
   "cell_type": "markdown",
   "id": "60e42070-24a4-4fba-9b52-413a70c07e9e",
   "metadata": {
    "editable": true,
    "slideshow": {
     "slide_type": ""
    },
    "tags": []
   },
   "source": [
    "## Problem: using functions\n",
    "Write a function called `calculate_mean` that takes in a list of response times (in seconds) and calculates the mean. The mean is defined as the sum divided by the number of samples. Use your function to calculate mean response time in two different conditions."
   ]
  },
  {
   "cell_type": "markdown",
   "id": "66d198a9-a7d1-478b-aaca-f76ec53d84a3",
   "metadata": {
    "editable": true,
    "slideshow": {
     "slide_type": ""
    },
    "tags": []
   },
   "source": [
    "### Setup"
   ]
  },
  {
   "cell_type": "code",
   "execution_count": 11,
   "id": "2115d327-1bce-4602-912d-02e7dd3ab9a6",
   "metadata": {
    "editable": false,
    "slideshow": {
     "slide_type": ""
    },
    "tags": []
   },
   "outputs": [],
   "source": [
    "response_time1 = [1.5, 2.1, 2.3, 1.8]  # response times (s) in condition 1\n",
    "response_time2 = [1.7, 4.1, 1.3, 1.5]  # response times (s) in condition 2\n",
    "mean1 = None  # mean for condition 1\n",
    "mean2 = None  # mean for condition 2"
   ]
  },
  {
   "cell_type": "markdown",
   "id": "61b837a2-3f1a-4e41-aaa4-73793b9eb42b",
   "metadata": {
    "editable": true,
    "slideshow": {
     "slide_type": ""
    },
    "tags": []
   },
   "source": [
    "### Answer"
   ]
  },
  {
   "cell_type": "code",
   "execution_count": 12,
   "id": "4478d83b-624d-4fd7-9c2e-16d10bbef88a",
   "metadata": {
    "editable": true,
    "slideshow": {
     "slide_type": ""
    },
    "tags": []
   },
   "outputs": [],
   "source": [
    "# your code here"
   ]
  },
  {
   "cell_type": "markdown",
   "id": "a60ee5d0-32de-4cf5-a9f1-cccd8556cf58",
   "metadata": {
    "editable": true,
    "slideshow": {
     "slide_type": ""
    },
    "tags": []
   },
   "source": [
    "### Result"
   ]
  },
  {
   "cell_type": "code",
   "execution_count": 13,
   "id": "df40815e-1882-4c02-98c2-ad51a9ac1cd6",
   "metadata": {
    "editable": false,
    "slideshow": {
     "slide_type": ""
    },
    "tags": []
   },
   "outputs": [
    {
     "name": "stdout",
     "output_type": "stream",
     "text": [
      "None None\n"
     ]
    }
   ],
   "source": [
    "print(mean1, mean2)"
   ]
  },
  {
   "cell_type": "markdown",
   "id": "64fc4478-d112-452f-aa63-2500bbbd80ee",
   "metadata": {
    "editable": true,
    "slideshow": {
     "slide_type": ""
    },
    "tags": []
   },
   "source": [
    "## Problem: handling conditions\n",
    "Say that we have three conditions in an experiment, and each one has different instructions for what the participant should do when a word shows up on screen. Use an `if/elif/else` statement to print out the correct instructions for each condition. If the condition doesn't match condition 1, 2, or 3, raise an error message instead."
   ]
  },
  {
   "cell_type": "markdown",
   "id": "f4a0a779-2416-44e0-802d-975300236848",
   "metadata": {
    "editable": true,
    "slideshow": {
     "slide_type": ""
    },
    "tags": []
   },
   "source": [
    "### Setup"
   ]
  },
  {
   "cell_type": "code",
   "execution_count": 1,
   "id": "9323e5fd-abc8-48f0-b76a-db7a4d31ded8",
   "metadata": {
    "editable": false,
    "slideshow": {
     "slide_type": ""
    },
    "tags": []
   },
   "outputs": [],
   "source": [
    "instruct1 = \"Read the word out loud.\"  # instructions for condition 1\n",
    "instruct2 = \"Read the word silently.\"  # instructions for condition 2\n",
    "instruct3 = \"Type the word.\"  # instructions for condition 3\n",
    "error_message = \"Error: condition code unknown.\"  # print if condition not 1, 2, or 3"
   ]
  },
  {
   "cell_type": "markdown",
   "id": "a928ffd0-9f60-4d12-8fd8-27da3110f6cf",
   "metadata": {
    "editable": true,
    "slideshow": {
     "slide_type": ""
    },
    "tags": []
   },
   "source": [
    "### Answer"
   ]
  },
  {
   "cell_type": "code",
   "execution_count": 2,
   "id": "8f500ec4-e462-4d05-b4da-062c332673b3",
   "metadata": {
    "editable": true,
    "slideshow": {
     "slide_type": ""
    },
    "tags": []
   },
   "outputs": [],
   "source": [
    "def instruct(condition):\n",
    "    pass  # replace with your code"
   ]
  },
  {
   "cell_type": "markdown",
   "id": "83378971-f678-4d34-af16-7041b470d1a6",
   "metadata": {
    "editable": true,
    "slideshow": {
     "slide_type": ""
    },
    "tags": []
   },
   "source": [
    "### Result"
   ]
  },
  {
   "cell_type": "code",
   "execution_count": 3,
   "id": "e7179bd3-07b7-4f97-bd6a-3ad510ccd572",
   "metadata": {
    "editable": false,
    "slideshow": {
     "slide_type": ""
    },
    "tags": []
   },
   "outputs": [],
   "source": [
    "instruct(1)\n",
    "instruct(2)\n",
    "instruct(3)\n",
    "instruct(-1)  # an invalid condition code"
   ]
  },
  {
   "cell_type": "markdown",
   "id": "526ebd91-1978-4eb2-bef4-2cc22252efed",
   "metadata": {
    "editable": true,
    "slideshow": {
     "slide_type": ""
    },
    "tags": []
   },
   "source": [
    "## Problem: using for loops\n",
    "Say that you have data for 8 trials in a study. Each trial was in one of two conditions (condition 1 or condition 2). On each trial, the participant either answered correctly (coded as a 1) or incorrectly (coded as a 0). Use a `for` loop to calculate the total score for each condition, indicating how many correct answers there were in each condition."
   ]
  },
  {
   "cell_type": "markdown",
   "id": "ca426c40-a1f0-4be8-8c25-18ac2cdddd90",
   "metadata": {
    "editable": true,
    "slideshow": {
     "slide_type": ""
    },
    "tags": []
   },
   "source": [
    "### Setup"
   ]
  },
  {
   "cell_type": "code",
   "execution_count": 4,
   "id": "784ef944-2069-4c71-9250-9d30ca110215",
   "metadata": {
    "editable": false,
    "slideshow": {
     "slide_type": ""
    },
    "tags": []
   },
   "outputs": [],
   "source": [
    "condition = [1, 1, 2, 2, 1, 1, 2, 2]  # condition label for each trial\n",
    "correct   = [0, 1, 1, 1, 0, 0, 1, 0]  # 1 for correct, 0 for incorrect\n",
    "score1 = 0  # initial value; should indicate the total number correct in condition 1\n",
    "score2 = 0  # total number correct in condition 2"
   ]
  },
  {
   "cell_type": "markdown",
   "id": "2387c22f-2034-4111-ba19-ff7831897bf2",
   "metadata": {},
   "source": [
    "### Answer"
   ]
  },
  {
   "cell_type": "code",
   "execution_count": 5,
   "id": "bccf0448-bd4f-4419-a7b6-a9ea61120788",
   "metadata": {
    "editable": true,
    "slideshow": {
     "slide_type": ""
    },
    "tags": []
   },
   "outputs": [],
   "source": [
    "# your answer here"
   ]
  },
  {
   "cell_type": "markdown",
   "id": "5a619938-7be9-43db-a548-a51e8309d901",
   "metadata": {
    "editable": true,
    "slideshow": {
     "slide_type": ""
    },
    "tags": []
   },
   "source": [
    "### Result"
   ]
  },
  {
   "cell_type": "code",
   "execution_count": 6,
   "id": "390ea5a7-73f8-4e5a-b524-43e0ca59b804",
   "metadata": {
    "editable": false,
    "slideshow": {
     "slide_type": ""
    },
    "tags": []
   },
   "outputs": [
    {
     "name": "stdout",
     "output_type": "stream",
     "text": [
      "0 0\n"
     ]
    }
   ],
   "source": [
    "print(score1, score2)"
   ]
  }
 ],
 "metadata": {
  "kernelspec": {
   "display_name": "datascipsych",
   "language": "python",
   "name": "datascipsych"
  },
  "language_info": {
   "codemirror_mode": {
    "name": "ipython",
    "version": 3
   },
   "file_extension": ".py",
   "mimetype": "text/x-python",
   "name": "python",
   "nbconvert_exporter": "python",
   "pygments_lexer": "ipython3",
   "version": "3.12.8"
  }
 },
 "nbformat": 4,
 "nbformat_minor": 5
}
