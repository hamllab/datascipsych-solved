{
 "cells": [
  {
   "cell_type": "markdown",
   "id": "1ae9665f-6be8-4113-be15-a66a6ec7d090",
   "metadata": {
    "editable": true,
    "slideshow": {
     "slide_type": ""
    },
    "tags": []
   },
   "source": [
    "# Scientific computing in Python\n",
    "\n",
    "While the base Python language can be used for scientific applications, most scientific work in Python uses two key packages: *NumPy* (Numeric Python) and *SciPy* (Scientific Python)."
   ]
  }
 ],
 "metadata": {
  "kernelspec": {
   "display_name": "datascipsych",
   "language": "python",
   "name": "datascipsych"
  },
  "language_info": {
   "codemirror_mode": {
    "name": "ipython",
    "version": 3
   },
   "file_extension": ".py",
   "mimetype": "text/x-python",
   "name": "python",
   "nbconvert_exporter": "python",
   "pygments_lexer": "ipython3",
   "version": "3.12.8"
  }
 },
 "nbformat": 4,
 "nbformat_minor": 5
}
