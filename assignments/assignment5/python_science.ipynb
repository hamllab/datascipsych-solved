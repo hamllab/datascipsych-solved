{
 "cells": [
  {
   "cell_type": "markdown",
   "id": "1ae9665f-6be8-4113-be15-a66a6ec7d090",
   "metadata": {
    "editable": true,
    "slideshow": {
     "slide_type": ""
    },
    "tags": []
   },
   "source": [
    "# Scientific computing in Python\n",
    "\n",
    "While the base Python language can be used for scientific applications, most scientific work in Python uses the *NumPy* (Numeric Python) package to work with arrays of datapoints."
   ]
  },
  {
   "attachments": {},
   "cell_type": "markdown",
   "id": "02cd6536-1690-4354-8f92-8223f78a0c50",
   "metadata": {
    "editable": true,
    "slideshow": {
     "slide_type": ""
    },
    "tags": []
   },
   "source": [
    "## Limitations of basic Python\n",
    "\n",
    "We can do a lot with the basic Python data structures, like lists and dictionaries. But for handling scientific data, like responses in a psychology study, they aren't very easy to work with."
   ]
  },
  {
   "cell_type": "markdown",
   "id": "c2f77691-8fbf-487c-aae3-1ed3ff635bb2",
   "metadata": {
    "editable": true,
    "slideshow": {
     "slide_type": ""
    },
    "tags": []
   },
   "source": [
    "For example, say that a participant in a study was shown a list of words, and then shown another list of words and asked to say whether each one was shown before (*old*) or not (*new*). On each trial, we have two pieces of information to keep track of: whether it was a *target* or a *lure*, and whether they said it was old or new. We can put this information into two Python lists."
   ]
  },
  {
   "cell_type": "code",
   "execution_count": 1,
   "id": "4c4feae7-87d4-4e8d-a105-d38a9d8db70c",
   "metadata": {
    "editable": true,
    "slideshow": {
     "slide_type": ""
    },
    "tags": []
   },
   "outputs": [],
   "source": [
    "trial_type = [\"target\", \"lure\", \"lure\", \"target\", \"lure\", \"target\", \"target\", \"lure\"]\n",
    "response = [\"old\", \"old\", \"new\", \"old\", \"new\", \"new\", \"old\", \"new\"]"
   ]
  },
  {
   "cell_type": "markdown",
   "id": "95c2940e-e94d-4ac7-acc5-018dead2c267",
   "metadata": {
    "editable": true,
    "slideshow": {
     "slide_type": "slide"
    },
    "tags": []
   },
   "source": [
    "Using a `for` loop and an `if/elif` statement, we can then score the responses to get the number of hits and false alarms."
   ]
  },
  {
   "cell_type": "code",
   "execution_count": 2,
   "id": "5214879a-0ca7-4647-8911-26de84ef4742",
   "metadata": {
    "editable": true,
    "slideshow": {
     "slide_type": ""
    },
    "tags": []
   },
   "outputs": [],
   "source": [
    "hits = 0\n",
    "false_alarms = 0\n",
    "for tt, r in zip(trial_type, response):\n",
    "    if tt == \"target\" and r == \"old\":\n",
    "        hits += 1\n",
    "    elif tt == \"lure\" and r == \"old\":\n",
    "        false_alarms += 1"
   ]
  },
  {
   "cell_type": "markdown",
   "id": "8bd79596-302d-44ac-8395-ff4dc3be31a3",
   "metadata": {
    "editable": true,
    "slideshow": {
     "slide_type": "slide"
    },
    "tags": []
   },
   "source": [
    "Finally, we can calculate hit rate (HR) and false alarm rate (FAR) by counting the number of trials in each condition and dividing by that."
   ]
  },
  {
   "cell_type": "code",
   "execution_count": 3,
   "id": "ad707438-fcb6-4346-87b9-653920f4027c",
   "metadata": {
    "editable": true,
    "slideshow": {
     "slide_type": ""
    },
    "tags": []
   },
   "outputs": [
    {
     "name": "stdout",
     "output_type": "stream",
     "text": [
      "Hit rate: 0.75, false alarm rate: 0.25\n"
     ]
    }
   ],
   "source": [
    "n_targets = 0\n",
    "n_lures = 0\n",
    "for tt in trial_type:\n",
    "    if tt == \"target\":\n",
    "        n_targets += 1\n",
    "    else:\n",
    "        n_lures += 1\n",
    "hr = hits / n_targets\n",
    "far = false_alarms / n_lures\n",
    "print(f\"Hit rate: {hr}, false alarm rate: {far}\")"
   ]
  },
  {
   "cell_type": "markdown",
   "id": "1eb2e2c4-0ec4-4ca4-a88e-c088e1ca704b",
   "metadata": {
    "editable": true,
    "slideshow": {
     "slide_type": "slide"
    },
    "tags": []
   },
   "source": [
    "As we can see from the example, it's possible to analyze scientific data using Python lists. But it took multiple `for` loops and `if` statements. And it will run pretty slowly, if you have a lot of data. Fortunately, there's a better way."
   ]
  },
  {
   "cell_type": "markdown",
   "id": "19f8e70a-07cc-4974-93a7-c200e78611a5",
   "metadata": {
    "editable": true,
    "slideshow": {
     "slide_type": "slide"
    },
    "tags": []
   },
   "source": [
    "## NumPy arrays\n",
    "In science, we often have *arrays* of data, corresponding to multiple measurements of some variable. To analyze the data, we may need to sort these measurements into different conditions and calculate various statistics. NumPy (Numeric Python) is designed to make this process easier using a new data type called *ndarray*, or N-dimensional array."
   ]
  },
  {
   "cell_type": "markdown",
   "id": "9739a6eb-d0dd-4183-ba29-d3fef75e2f10",
   "metadata": {
    "editable": true,
    "slideshow": {
     "slide_type": "slide"
    },
    "tags": []
   },
   "source": [
    "First, we need to make sure NumPy is installed. It is not a built-in Python package, so we must install it from the Python Package Index (PyPI). If you have set up the `datascipsych` project, you should already have it set up in your environment. See the [README](https://github.com/mortonne/datascipsych?tab=readme-ov-file#installation) for installation instructions."
   ]
  },
  {
   "cell_type": "markdown",
   "id": "6f00dd72-636e-42ba-a1be-376d8f5b2fd1",
   "metadata": {
    "editable": true,
    "slideshow": {
     "slide_type": "fragment"
    },
    "tags": []
   },
   "source": [
    "If NumPy is installed, you should be able to import it. We will use the conventional way of importing NumPy, using `import numpy as np`. NumPy functions can then be called using `np.[function_name]`."
   ]
  },
  {
   "cell_type": "code",
   "execution_count": 4,
   "id": "9e223e71-ebc2-402d-aa5f-51f30c5c432d",
   "metadata": {
    "editable": true,
    "slideshow": {
     "slide_type": "fragment"
    },
    "tags": []
   },
   "outputs": [],
   "source": [
    "import numpy as np"
   ]
  },
  {
   "cell_type": "markdown",
   "id": "ac232e61-19e3-49c1-81ec-c6c4873113a2",
   "metadata": {
    "editable": true,
    "slideshow": {
     "slide_type": "slide"
    },
    "tags": []
   },
   "source": [
    "NumPy lets us put multiple measurements of the same type into an array that is designed for data analysis. We can do this by calling `np.array` and passing in a list of data."
   ]
  },
  {
   "cell_type": "code",
   "execution_count": 5,
   "id": "4427d99d-4570-4f13-9ad4-b3a4ec2799c2",
   "metadata": {
    "editable": true,
    "slideshow": {
     "slide_type": ""
    },
    "tags": []
   },
   "outputs": [
    {
     "name": "stdout",
     "output_type": "stream",
     "text": [
      "[1 2 3] [1.1 2.2 3.3] ['a' 'b' 'c']\n"
     ]
    }
   ],
   "source": [
    "integers = np.array([1, 2, 3])\n",
    "floats = np.array([1.1, 2.2, 3.3])\n",
    "letters = np.array([\"a\", \"b\", \"c\"])\n",
    "print(integers, floats, letters)"
   ]
  },
  {
   "cell_type": "markdown",
   "id": "243b37f3-f879-47c2-953c-0c8c329a5961",
   "metadata": {
    "editable": true,
    "slideshow": {
     "slide_type": "slide"
    },
    "tags": []
   },
   "source": [
    "Each array has one datatype, indicating the type of data stored in it."
   ]
  },
  {
   "cell_type": "code",
   "execution_count": 6,
   "id": "2e4290db-f2ec-407e-991f-a0ceb6c5f421",
   "metadata": {
    "editable": true,
    "slideshow": {
     "slide_type": ""
    },
    "tags": []
   },
   "outputs": [
    {
     "name": "stdout",
     "output_type": "stream",
     "text": [
      "int64 float64 <U1\n"
     ]
    }
   ],
   "source": [
    "print(integers.dtype, floats.dtype, letters.dtype)"
   ]
  },
  {
   "cell_type": "markdown",
   "id": "d2756a0d-d61b-43d9-91a1-0c26a5ee2f23",
   "metadata": {
    "editable": true,
    "slideshow": {
     "slide_type": "fragment"
    },
    "tags": []
   },
   "source": [
    "The integers are stored as 64-bit integers, the decimals as 64-bit floats, and the letters as strings (the \"U\" stands for unicode, a common data format for representing text). NumPy automatically uses the smallest length of string possible to hold the data, so it stores our one-character strings using one character (U1) for each part of the array."
   ]
  },
  {
   "cell_type": "markdown",
   "id": "90227856-3736-4c2a-9312-1fed133976a5",
   "metadata": {
    "editable": true,
    "slideshow": {
     "slide_type": "fragment"
    },
    "tags": []
   },
   "source": [
    "Each array also has a `size` attribute that tells total size (i.e., the number of elements) of the array. The `ndim` attribute tells us how many dimensions an array has. So far, we're just using 1-dimensional arrays. The `shape` attribute gives the size of each dimension."
   ]
  },
  {
   "cell_type": "code",
   "execution_count": 7,
   "id": "30a647e8-f90b-47ea-b3d7-22c3bdae2d36",
   "metadata": {
    "editable": true,
    "slideshow": {
     "slide_type": ""
    },
    "tags": []
   },
   "outputs": [
    {
     "name": "stdout",
     "output_type": "stream",
     "text": [
      "Total size of the array: 3\n",
      "Number of dimensions: 1\n",
      "Size of each dimension: (3,)\n"
     ]
    }
   ],
   "source": [
    "print(f\"Total size of the array: {integers.size}\")\n",
    "print(f\"Number of dimensions: {integers.ndim}\")\n",
    "print(f\"Size of each dimension: {integers.shape}\")"
   ]
  },
  {
   "cell_type": "markdown",
   "id": "0e1b335f-3d44-4063-96f9-82fb26c08ae8",
   "metadata": {
    "editable": true,
    "slideshow": {
     "slide_type": "slide"
    },
    "tags": []
   },
   "source": [
    "We can also make arrays with multiple dimensions. For example, if we read in a PNG image, we will have three dimensions: height, width, and color/transparency. Here, we'll use the Matplotlib library to read a PNG file into a NumPy array. We'll also plot it so we can see what the image is."
   ]
  },
  {
   "cell_type": "code",
   "execution_count": 8,
   "id": "9996e5ed-7dbb-4f89-b7df-48b81c6b932a",
   "metadata": {
    "editable": true,
    "slideshow": {
     "slide_type": ""
    },
    "tags": []
   },
   "outputs": [
    {
     "name": "stdout",
     "output_type": "stream",
     "text": [
      "Dimensions: 3, Shape: (164, 580, 4)\n"
     ]
    },
    {
     "data": {
      "image/png": "[encoded data removed]",
      "text/plain": [
       "<Figure size 640x480 with 1 Axes>"
      ]
     },
     "metadata": {},
     "output_type": "display_data"
    }
   ],
   "source": [
    "import matplotlib.pyplot as plt\n",
    "image = plt.imread('python-logo.png')\n",
    "print(f\"Dimensions: {image.ndim}, Shape: {image.shape}\")\n",
    "ax = plt.imshow(image)"
   ]
  },
  {
   "cell_type": "markdown",
   "id": "87cd5f8e-8640-4fd0-9809-419574b61a78",
   "metadata": {
    "editable": true,
    "slideshow": {
     "slide_type": "fragment"
    },
    "tags": []
   },
   "source": [
    "We will mostly work with 1D arrays. But NumPy can handle any number of dimensions, which can be very helpful for working with more complex data."
   ]
  },
  {
   "cell_type": "markdown",
   "id": "cc9c5d58-5fc5-4a0c-833b-abe4ff47f020",
   "metadata": {
    "editable": true,
    "slideshow": {
     "slide_type": "slide"
    },
    "tags": []
   },
   "source": [
    "When data are in an array, we can work with whole arrays together as a unit. For example, we can operate on a whole array using math expressions."
   ]
  },
  {
   "cell_type": "code",
   "execution_count": 9,
   "id": "f2a225ed-b702-4f64-a24c-e45ba17d459b",
   "metadata": {
    "editable": true,
    "slideshow": {
     "slide_type": ""
    },
    "tags": []
   },
   "outputs": [
    {
     "name": "stdout",
     "output_type": "stream",
     "text": [
      "[3.1 4.2 5.3]\n",
      "[2.2 4.4 6.6]\n",
      "[ 1.21  4.84 10.89]\n"
     ]
    }
   ],
   "source": [
    "print(floats + 2)\n",
    "print(floats * 2)\n",
    "print(floats ** 2)"
   ]
  },
  {
   "cell_type": "markdown",
   "id": "137a1f5d-d60b-457d-8175-f4ddbcef9b9b",
   "metadata": {
    "editable": true,
    "slideshow": {
     "slide_type": "fragment"
    },
    "tags": []
   },
   "source": [
    "Notice that this is a lot easier using NumPy arrays than it would be using lists. We could use list comprehensions to do something similar, but it's harder to read and slower to run."
   ]
  },
  {
   "cell_type": "code",
   "execution_count": 10,
   "id": "7917aaea-7bc6-46d5-b454-25f09f04b91f",
   "metadata": {
    "editable": true,
    "slideshow": {
     "slide_type": ""
    },
    "tags": []
   },
   "outputs": [
    {
     "name": "stdout",
     "output_type": "stream",
     "text": [
      "[3.1, 4.2, 5.3]\n",
      "[2.2, 4.4, 6.6]\n",
      "[1.2100000000000002, 4.840000000000001, 10.889999999999999]\n"
     ]
    }
   ],
   "source": [
    "f_list = [1.1, 2.2, 3.3]\n",
    "print([f + 2 for f in f_list])\n",
    "print([f * 2 for f in f_list])\n",
    "print([f ** 2 for f in f_list])"
   ]
  },
  {
   "cell_type": "markdown",
   "id": "997e7bfc-26d4-4075-aaaa-b543ee7651f6",
   "metadata": {
    "editable": true,
    "slideshow": {
     "slide_type": "slide"
    },
    "tags": []
   },
   "source": [
    "Using NumPy arrays, we can also use operations to make calculations with whole arrays."
   ]
  },
  {
   "cell_type": "code",
   "execution_count": 11,
   "id": "8e8eef7a-fe3e-462c-9f83-c32798bd6f18",
   "metadata": {
    "editable": true,
    "slideshow": {
     "slide_type": ""
    },
    "tags": []
   },
   "outputs": [
    {
     "name": "stdout",
     "output_type": "stream",
     "text": [
      "[2.1 4.2 6.3]\n",
      "[1.1 4.4 9.9]\n"
     ]
    }
   ],
   "source": [
    "print(integers + floats)\n",
    "print(integers * floats)"
   ]
  },
  {
   "cell_type": "markdown",
   "id": "c2c20617-f9f1-4586-8f2e-6fddff098f75",
   "metadata": {
    "editable": true,
    "slideshow": {
     "slide_type": "slide"
    },
    "tags": []
   },
   "source": [
    "Note that the operations we just saw are all *elementwise*. That is, we are not using matrix multiplication. Instead, we're just taking each element of each array and adding them or multiplying them together.\n",
    "\n",
    "We can calculate matrix multiplication also, using the `@` operator. For example, we can calculate the dot product of our `floats` vector. (Don't worry about this if you don't know about matrix multiplication.)"
   ]
  },
  {
   "cell_type": "code",
   "execution_count": 12,
   "id": "88077f74-531f-45be-9dbf-f3d31cc843fd",
   "metadata": {
    "editable": true,
    "slideshow": {
     "slide_type": ""
    },
    "tags": []
   },
   "outputs": [
    {
     "name": "stdout",
     "output_type": "stream",
     "text": [
      "16.94\n"
     ]
    }
   ],
   "source": [
    "print(floats @ floats)"
   ]
  },
  {
   "cell_type": "markdown",
   "id": "c7511539-a071-4373-aa6a-4a1c32ff769c",
   "metadata": {
    "editable": true,
    "slideshow": {
     "slide_type": "slide"
    },
    "tags": []
   },
   "source": [
    "### Exercise: NumPy arrays\n",
    "Create an array `x` with the numbers 1, 2, 3, and 4. Calculate `x * 2` and `x ** 2`. Create another array `y` with numbers 5, 6, 7, and 8. Calculate `x + y`.\n",
    "\n",
    "#### Advanced\n",
    "Calculate the dot product between `x` and `y`. This is the sum of the product of each element of `x` and `y`. You can calculate it using matrix multiplication."
   ]
  },
  {
   "cell_type": "code",
   "execution_count": 13,
   "id": "ff07ce2f-9a2c-46c5-81b4-f158c858c36b",
   "metadata": {
    "editable": true,
    "slideshow": {
     "slide_type": ""
    },
    "tags": []
   },
   "outputs": [],
   "source": [
    "# answer here"
   ]
  },
  {
   "cell_type": "markdown",
   "id": "3ff57f99-b678-4068-b4e2-90cb8791d15a",
   "metadata": {
    "editable": true,
    "slideshow": {
     "slide_type": "slide"
    },
    "tags": []
   },
   "source": [
    "## Creating arrays\n",
    "We can create arrays in two basic ways. First, we can create a list and convert (or *cast*) it into an array."
   ]
  },
  {
   "cell_type": "code",
   "execution_count": 14,
   "id": "4f52e747-a369-4f36-80a6-f1f84b990d30",
   "metadata": {
    "editable": true,
    "slideshow": {
     "slide_type": ""
    },
    "tags": []
   },
   "outputs": [
    {
     "data": {
      "text/plain": [
       "array([6, 5, 4, 3, 2, 1])"
      ]
     },
     "execution_count": 14,
     "metadata": {},
     "output_type": "execute_result"
    }
   ],
   "source": [
    "a = np.array([6, 5, 4, 3, 2, 1])\n",
    "a"
   ]
  },
  {
   "cell_type": "markdown",
   "id": "603e426c-4c1e-4218-bf84-105bc2bc7519",
   "metadata": {
    "editable": true,
    "slideshow": {
     "slide_type": "fragment"
    },
    "tags": []
   },
   "source": [
    "We can also use various NumPy functions to make arrays of specific shapes. For example, we can create an array with all zeros using `np.zeros`."
   ]
  },
  {
   "cell_type": "code",
   "execution_count": 15,
   "id": "e5a421f2-9dde-4824-8eb2-622b9949a855",
   "metadata": {
    "editable": true,
    "slideshow": {
     "slide_type": ""
    },
    "tags": []
   },
   "outputs": [
    {
     "data": {
      "text/plain": [
       "array([0, 0, 0, 0, 0, 0])"
      ]
     },
     "execution_count": 15,
     "metadata": {},
     "output_type": "execute_result"
    }
   ],
   "source": [
    "z = np.zeros(6, dtype=int)\n",
    "z"
   ]
  },
  {
   "cell_type": "markdown",
   "id": "2602e187-3f58-4004-8f32-66bd9f134d7e",
   "metadata": {
    "editable": true,
    "slideshow": {
     "slide_type": "slide"
    },
    "tags": []
   },
   "source": [
    "NumPy has functions to make two common types of arrays, filled with all zeros (as we just saw) or all ones."
   ]
  },
  {
   "cell_type": "code",
   "execution_count": 16,
   "id": "49171948-dfe1-4342-960a-f6a667b857e4",
   "metadata": {
    "editable": true,
    "slideshow": {
     "slide_type": ""
    },
    "tags": []
   },
   "outputs": [
    {
     "data": {
      "text/plain": [
       "array([0., 0., 0., 0.])"
      ]
     },
     "execution_count": 16,
     "metadata": {},
     "output_type": "execute_result"
    }
   ],
   "source": [
    "np.zeros(4)"
   ]
  },
  {
   "cell_type": "markdown",
   "id": "ad000bbc",
   "metadata": {},
   "source": [
    "The `shape` argument can take an integer, if there is just one dimension, or a tuple, if there are multiple dimensions. Here, we'll create an array with 5 rows and 2 columns."
   ]
  },
  {
   "cell_type": "code",
   "execution_count": 17,
   "id": "101d1018-fd8c-41f5-a7a4-8a1f772dbe92",
   "metadata": {
    "editable": true,
    "slideshow": {
     "slide_type": "fragment"
    },
    "tags": []
   },
   "outputs": [
    {
     "data": {
      "text/plain": [
       "array([[1., 1.],\n",
       "       [1., 1.],\n",
       "       [1., 1.],\n",
       "       [1., 1.],\n",
       "       [1., 1.]])"
      ]
     },
     "execution_count": 17,
     "metadata": {},
     "output_type": "execute_result"
    }
   ],
   "source": [
    "np.ones((5, 2))"
   ]
  },
  {
   "cell_type": "markdown",
   "id": "93c7933a-2e7a-41ba-a19e-d1ebd3b8e185",
   "metadata": {
    "editable": true,
    "slideshow": {
     "slide_type": ""
    },
    "tags": []
   },
   "source": [
    "It's also often useful to make an array with numbers in order. We can do this using `np.arange`. The end-point is non-inclusive; for example, if we pass 6, then the last item will be 5. This is similar to how indexing works; by default, `np.arange` starts counting at 0."
   ]
  },
  {
   "cell_type": "code",
   "execution_count": 18,
   "id": "04958ef6-b4b0-44e6-9c2c-eb99ca1e415d",
   "metadata": {
    "editable": true,
    "slideshow": {
     "slide_type": ""
    },
    "tags": []
   },
   "outputs": [
    {
     "data": {
      "text/plain": [
       "array([0, 1, 2, 3, 4, 5])"
      ]
     },
     "execution_count": 18,
     "metadata": {},
     "output_type": "execute_result"
    }
   ],
   "source": [
    "np.arange(6)"
   ]
  },
  {
   "cell_type": "markdown",
   "id": "e1a24923-7bcb-4c36-8204-42a2d3036949",
   "metadata": {
    "editable": true,
    "slideshow": {
     "slide_type": "fragment"
    },
    "tags": []
   },
   "source": [
    "We can adjust the starting and stopping point of the array. If we pass two arguments, the first will be the starting point, and the last will be the ending point."
   ]
  },
  {
   "cell_type": "code",
   "execution_count": 19,
   "id": "a007cc27-4021-445a-b450-52143640f92e",
   "metadata": {
    "editable": true,
    "slideshow": {
     "slide_type": ""
    },
    "tags": []
   },
   "outputs": [
    {
     "data": {
      "text/plain": [
       "array([ 1,  2,  3,  4,  5,  6,  7,  8,  9, 10])"
      ]
     },
     "execution_count": 19,
     "metadata": {},
     "output_type": "execute_result"
    }
   ],
   "source": [
    "np.arange(1, 11)"
   ]
  },
  {
   "cell_type": "markdown",
   "id": "f2ccbfa5-e26e-4098-b21e-bdfecca448c3",
   "metadata": {
    "editable": true,
    "slideshow": {
     "slide_type": "fragment"
    },
    "tags": []
   },
   "source": [
    "Note that the upper bound is non-inclusive."
   ]
  },
  {
   "cell_type": "markdown",
   "id": "5ab1a849-d18f-496c-8804-7b0cfcbd247c",
   "metadata": {
    "editable": true,
    "slideshow": {
     "slide_type": "slide"
    },
    "tags": []
   },
   "source": [
    "Finally, we can make increasing values in a more flexible way using `np.linspace`."
   ]
  },
  {
   "cell_type": "code",
   "execution_count": 20,
   "id": "54956666-2e1a-4663-badf-ea1b7c7e0c1e",
   "metadata": {
    "editable": true,
    "slideshow": {
     "slide_type": ""
    },
    "tags": []
   },
   "outputs": [
    {
     "data": {
      "text/plain": [
       "array([0. , 0.1, 0.2, 0.3, 0.4, 0.5, 0.6, 0.7, 0.8, 0.9, 1. ])"
      ]
     },
     "execution_count": 20,
     "metadata": {},
     "output_type": "execute_result"
    }
   ],
   "source": [
    "np.linspace(0, 1, 11)"
   ]
  },
  {
   "cell_type": "markdown",
   "id": "1468b995-8d99-4a30-bee1-d5dd38bac4d6",
   "metadata": {
    "editable": true,
    "slideshow": {
     "slide_type": "fragment"
    },
    "tags": []
   },
   "source": [
    "Here, we make 11 values ranging from 0 to 1, with the values being evenly spaced."
   ]
  },
  {
   "cell_type": "markdown",
   "id": "81a3aab4-3a65-46a5-87bb-8fc046c6f4de",
   "metadata": {
    "editable": true,
    "slideshow": {
     "slide_type": "slide"
    },
    "tags": []
   },
   "source": [
    "## Accessing data in arrays\n",
    "Just like we saw before with lists, we can access data in an array using indexing and slicing."
   ]
  },
  {
   "cell_type": "code",
   "execution_count": 21,
   "id": "be8782a7-5ef6-40c5-94e3-d4ddc08af2a8",
   "metadata": {
    "editable": true,
    "slideshow": {
     "slide_type": ""
    },
    "tags": []
   },
   "outputs": [
    {
     "data": {
      "text/plain": [
       "array([ 1,  2,  3,  4,  5,  6,  7,  8,  9, 10])"
      ]
     },
     "execution_count": 21,
     "metadata": {},
     "output_type": "execute_result"
    }
   ],
   "source": [
    "a = np.arange(1, 11)\n",
    "a"
   ]
  },
  {
   "cell_type": "code",
   "execution_count": 22,
   "id": "ff87d62b-4361-4147-b750-96ba6b5a656c",
   "metadata": {
    "editable": true,
    "slideshow": {
     "slide_type": "fragment"
    },
    "tags": []
   },
   "outputs": [
    {
     "name": "stdout",
     "output_type": "stream",
     "text": [
      "10\n"
     ]
    }
   ],
   "source": [
    "print(a[9])"
   ]
  },
  {
   "cell_type": "code",
   "execution_count": 23,
   "id": "529b4bf0-bb09-495b-8162-e44b02b170a5",
   "metadata": {
    "editable": true,
    "slideshow": {
     "slide_type": "fragment"
    },
    "tags": []
   },
   "outputs": [
    {
     "data": {
      "text/plain": [
       "array([1, 2, 3, 4, 5])"
      ]
     },
     "execution_count": 23,
     "metadata": {},
     "output_type": "execute_result"
    }
   ],
   "source": [
    "a[:5]"
   ]
  },
  {
   "cell_type": "markdown",
   "id": "9ba303d7-58cd-4fec-88e5-4c0f950868b0",
   "metadata": {
    "editable": true,
    "slideshow": {
     "slide_type": "slide"
    },
    "tags": []
   },
   "source": [
    "Things get a little more complicated for 2D arrays, because we can specify indexes for both dimensions. First, let's make a matrix by passing in a list of lists to `np.array`."
   ]
  },
  {
   "cell_type": "code",
   "execution_count": 24,
   "id": "f241f61a-d019-4032-9dc4-28805aecc864",
   "metadata": {
    "editable": true,
    "slideshow": {
     "slide_type": ""
    },
    "tags": []
   },
   "outputs": [
    {
     "data": {
      "text/plain": [
       "array([[1, 2, 3],\n",
       "       [4, 5, 6],\n",
       "       [7, 8, 9]])"
      ]
     },
     "execution_count": 24,
     "metadata": {},
     "output_type": "execute_result"
    }
   ],
   "source": [
    "matrix = np.array([[1, 2, 3], [4, 5, 6], [7, 8, 9]])\n",
    "matrix"
   ]
  },
  {
   "cell_type": "markdown",
   "id": "5285fd36-ccd5-4594-bf9c-a94027e7211c",
   "metadata": {
    "editable": true,
    "slideshow": {
     "slide_type": "fragment"
    },
    "tags": []
   },
   "source": [
    "We can access part of the matrix using indexing, if we pass indexes for both dimensions. This will get number at the second row and third column."
   ]
  },
  {
   "cell_type": "code",
   "execution_count": 25,
   "id": "4619b18a-06a2-4e96-93b1-bfe32c779e49",
   "metadata": {
    "editable": true,
    "slideshow": {
     "slide_type": ""
    },
    "tags": []
   },
   "outputs": [
    {
     "name": "stdout",
     "output_type": "stream",
     "text": [
      "6\n"
     ]
    }
   ],
   "source": [
    "print(matrix[1, 2])"
   ]
  },
  {
   "cell_type": "markdown",
   "id": "70be6687-43c0-455a-8218-648c666b7117",
   "metadata": {
    "editable": true,
    "slideshow": {
     "slide_type": "fragment"
    },
    "tags": []
   },
   "source": [
    "We can take slices through either dimension, or both, to access data from part of the matrix. Here, we'll get the first two rows and last two columns."
   ]
  },
  {
   "cell_type": "code",
   "execution_count": 26,
   "id": "cd57ed75-18ff-4f2b-9078-819e5ba3b29e",
   "metadata": {
    "editable": true,
    "slideshow": {
     "slide_type": ""
    },
    "tags": []
   },
   "outputs": [
    {
     "data": {
      "text/plain": [
       "array([[2, 3],\n",
       "       [5, 6]])"
      ]
     },
     "execution_count": 26,
     "metadata": {},
     "output_type": "execute_result"
    }
   ],
   "source": [
    "matrix[:2, 1:]"
   ]
  },
  {
   "cell_type": "markdown",
   "id": "7becf5d3-2a92-4d15-b4a6-4dcc65f4b244",
   "metadata": {
    "editable": true,
    "slideshow": {
     "slide_type": "slide"
    },
    "tags": []
   },
   "source": [
    "For example, let's look again at the PNG image we loaded before. We'll reload it here to make sure we have it in memory. We can use slicing to crop the image by getting the first 135 columns, so that we just have the Python logo without the text."
   ]
  },
  {
   "cell_type": "code",
   "execution_count": 27,
   "id": "a8d03701-3e91-42dd-bcce-6b09f7d00b41",
   "metadata": {
    "editable": true,
    "slideshow": {
     "slide_type": ""
    },
    "tags": []
   },
   "outputs": [
    {
     "data": {
      "image/png": "[encoded data removed]",
      "text/plain": [
       "<Figure size 640x480 with 1 Axes>"
      ]
     },
     "metadata": {},
     "output_type": "display_data"
    }
   ],
   "source": [
    "image = plt.imread('python-logo.png')\n",
    "ax = plt.imshow(image[:, :135])"
   ]
  },
  {
   "cell_type": "markdown",
   "id": "9886f985-49ee-4f4f-b257-fc22e2703eb0",
   "metadata": {
    "editable": true,
    "slideshow": {
     "slide_type": "slide"
    },
    "tags": []
   },
   "source": [
    "When we take a slice of an array, we get what NumPy calls a *view* of the array. Instead of making a new array with the data in the part that we accessed, we get a \"view\" of that part of the array. This means that, if we change the data in our \"view\", we modify the original array."
   ]
  },
  {
   "cell_type": "code",
   "execution_count": 28,
   "id": "517bbeb7-3555-45c4-9c5b-d0e75ac839ef",
   "metadata": {
    "editable": true,
    "slideshow": {
     "slide_type": ""
    },
    "tags": []
   },
   "outputs": [
    {
     "data": {
      "text/plain": [
       "array([11, 12, 13, 14, 15,  6,  7,  8,  9, 10])"
      ]
     },
     "execution_count": 28,
     "metadata": {},
     "output_type": "execute_result"
    }
   ],
   "source": [
    "a = np.arange(1, 11)\n",
    "b = a[:5]\n",
    "b += 10\n",
    "a"
   ]
  },
  {
   "cell_type": "markdown",
   "id": "9085b053-9dcb-4043-875b-f6cbf7c4e2c4",
   "metadata": {
    "editable": true,
    "slideshow": {
     "slide_type": "fragment"
    },
    "tags": []
   },
   "source": [
    "If we want to copy the sub-array instead, we can use the `copy` method."
   ]
  },
  {
   "cell_type": "code",
   "execution_count": 29,
   "id": "dbdee187-a659-4660-9d2d-540ebfbe0c32",
   "metadata": {
    "editable": true,
    "slideshow": {
     "slide_type": ""
    },
    "tags": []
   },
   "outputs": [
    {
     "data": {
      "text/plain": [
       "array([ 1,  2,  3,  4,  5,  6,  7,  8,  9, 10])"
      ]
     },
     "execution_count": 29,
     "metadata": {},
     "output_type": "execute_result"
    }
   ],
   "source": [
    "a = np.arange(1, 11)\n",
    "b = a[:5].copy()\n",
    "b += 10\n",
    "a"
   ]
  },
  {
   "cell_type": "markdown",
   "id": "c7dfd107-afa9-41c3-ac7f-411c0706cf96",
   "metadata": {
    "editable": true,
    "slideshow": {
     "slide_type": "fragment"
    },
    "tags": []
   },
   "source": [
    "Note that, this time, the original `a` array isn't affected when we change `b`. This is because `b` is now a copy of `a` instead of a view."
   ]
  },
  {
   "cell_type": "markdown",
   "id": "caf0a2af-a4de-48b5-8e88-5c40ecf4ef40",
   "metadata": {
    "editable": true,
    "slideshow": {
     "slide_type": ""
    },
    "tags": []
   },
   "source": [
    "### Exercise: accessing data in arrays\n",
    "Create an array with the numbers 1:10. Print the third element in the array. Then get a view of the array that includes the numbers 4-6.\n",
    "\n",
    "#### Advanced\n",
    "Use a view of the array to divide elements 4-6 in the array by 2."
   ]
  },
  {
   "cell_type": "code",
   "execution_count": 30,
   "id": "efb6217c-05a0-42c2-8c24-ed4aaa835e39",
   "metadata": {
    "editable": true,
    "slideshow": {
     "slide_type": ""
    },
    "tags": []
   },
   "outputs": [],
   "source": [
    "# answer here"
   ]
  },
  {
   "cell_type": "markdown",
   "id": "f7e8c561-c44b-467b-9069-ef0a3c13dfd7",
   "metadata": {
    "editable": true,
    "slideshow": {
     "slide_type": "slide"
    },
    "tags": []
   },
   "source": [
    "## Array functions\n",
    "We can use various functions to work with data in NumPy arrays."
   ]
  },
  {
   "cell_type": "markdown",
   "id": "4256ab34-0422-4869-9ff8-56112f1ce532",
   "metadata": {
    "editable": true,
    "slideshow": {
     "slide_type": "slide"
    },
    "tags": []
   },
   "source": [
    "The `np.sum` function calculates the total for an array."
   ]
  },
  {
   "cell_type": "code",
   "execution_count": 31,
   "id": "c203fd71-fae7-40cd-ba56-d36a9e58bdb0",
   "metadata": {
    "editable": true,
    "slideshow": {
     "slide_type": ""
    },
    "tags": []
   },
   "outputs": [
    {
     "name": "stdout",
     "output_type": "stream",
     "text": [
      "Total correct: 7\n"
     ]
    }
   ],
   "source": [
    "correct = np.array([0, 1, 1, 0, 0, 0, 1, 0, 1, 1, 1, 1])\n",
    "total = np.sum(correct)\n",
    "print(f\"Total correct: {total}\")"
   ]
  },
  {
   "cell_type": "markdown",
   "id": "805f9817-4354-43a9-8b00-3c6ee82212f7",
   "metadata": {
    "editable": true,
    "slideshow": {
     "slide_type": "slide"
    },
    "tags": []
   },
   "source": [
    "The `np.mean` function can be used to calculate the mean of an array (that is, the sum divided by the number of observations). If we have an array with 1 for correct and 0 for incorrect, we can use the mean to calculate accuracy as the fraction of correct responses."
   ]
  },
  {
   "cell_type": "code",
   "execution_count": 32,
   "id": "7dadbbf2-c344-49c7-8605-8cde3ad5c62e",
   "metadata": {
    "editable": true,
    "slideshow": {
     "slide_type": ""
    },
    "tags": []
   },
   "outputs": [
    {
     "name": "stdout",
     "output_type": "stream",
     "text": [
      "Accuracy: 58%\n"
     ]
    }
   ],
   "source": [
    "accuracy = np.mean(correct)\n",
    "print(f\"Accuracy: {round(accuracy * 100)}%\")"
   ]
  },
  {
   "cell_type": "markdown",
   "id": "ab54ac47-21e9-42e3-a38d-545211a0df1e",
   "metadata": {
    "editable": true,
    "slideshow": {
     "slide_type": "slide"
    },
    "tags": []
   },
   "source": [
    "We can calculate various statistics of an array."
   ]
  },
  {
   "cell_type": "code",
   "execution_count": 33,
   "id": "80d1cc68-fc1f-4cb9-87b5-10937a9431d8",
   "metadata": {
    "editable": true,
    "slideshow": {
     "slide_type": ""
    },
    "tags": []
   },
   "outputs": [
    {
     "name": "stdout",
     "output_type": "stream",
     "text": [
      "1 4.5 8\n"
     ]
    }
   ],
   "source": [
    "x = np.array([4, 2, 5, 7, 1, 8])\n",
    "x_min = np.min(x)\n",
    "x_max = np.max(x)\n",
    "x_median = np.median(x)\n",
    "print(x_min, x_median, x_max)"
   ]
  },
  {
   "cell_type": "markdown",
   "id": "bbbdfeed-8b0c-437b-8ddc-0d7d110104f4",
   "metadata": {
    "editable": true,
    "slideshow": {
     "slide_type": "slide"
    },
    "tags": []
   },
   "source": [
    "## Filtering arrays\n",
    "We can use boolean arrays to quickly filter arrays."
   ]
  },
  {
   "cell_type": "markdown",
   "id": "527373e6-7ed0-4d7c-ac7a-aa51262cfaa6",
   "metadata": {
    "editable": true,
    "slideshow": {
     "slide_type": "slide"
    },
    "tags": []
   },
   "source": [
    "We can index a NumPy array using another array. This lets us quickly get different subsets of data. For example, say we measured response time in two different conditions, labeled condition 1 and condition 2."
   ]
  },
  {
   "cell_type": "code",
   "execution_count": 34,
   "id": "65ab7adb-8595-419b-a1b1-299eae6345f4",
   "metadata": {
    "editable": true,
    "slideshow": {
     "slide_type": ""
    },
    "tags": []
   },
   "outputs": [],
   "source": [
    "response_time = np.array([1.2, 3.5, 1.4, 2.7, 1.8, 4.1, 1.7, 4.5])\n",
    "condition = np.array([1, 2, 1, 2, 1, 2, 1, 2])"
   ]
  },
  {
   "cell_type": "markdown",
   "id": "1deff3da-f89b-43b8-901e-4d501cfe7a14",
   "metadata": {
    "editable": true,
    "slideshow": {
     "slide_type": "fragment"
    },
    "tags": []
   },
   "source": [
    "To filter the `response_time` array, we first create a boolean array."
   ]
  },
  {
   "cell_type": "code",
   "execution_count": 35,
   "id": "a2eefbba-bc76-428a-ad98-3a08df628c4b",
   "metadata": {
    "editable": true,
    "slideshow": {
     "slide_type": ""
    },
    "tags": []
   },
   "outputs": [
    {
     "data": {
      "text/plain": [
       "array([ True, False,  True, False,  True, False,  True, False])"
      ]
     },
     "execution_count": 35,
     "metadata": {},
     "output_type": "execute_result"
    }
   ],
   "source": [
    "condition == 1"
   ]
  },
  {
   "cell_type": "markdown",
   "id": "a45358e5-7d25-47d0-88be-c5cd8201da29",
   "metadata": {
    "editable": true,
    "slideshow": {
     "slide_type": ""
    },
    "tags": []
   },
   "source": [
    "We can use this array to index the `response_time` array and get must the observations for that condition."
   ]
  },
  {
   "cell_type": "code",
   "execution_count": 36,
   "id": "9fb1d2f4-f28c-403b-96ba-876246ef20ed",
   "metadata": {
    "editable": true,
    "slideshow": {
     "slide_type": ""
    },
    "tags": []
   },
   "outputs": [
    {
     "data": {
      "text/plain": [
       "array([1.2, 1.4, 1.8, 1.7])"
      ]
     },
     "execution_count": 36,
     "metadata": {},
     "output_type": "execute_result"
    }
   ],
   "source": [
    "response_time[condition == 1]"
   ]
  },
  {
   "cell_type": "markdown",
   "id": "ebb0eb74-40aa-416f-b84a-a924fb870c08",
   "metadata": {
    "editable": true,
    "slideshow": {
     "slide_type": ""
    },
    "tags": []
   },
   "source": [
    "Finally, we can use `np.mean` to calculate the mean response time for condition 1 and condition 2."
   ]
  },
  {
   "cell_type": "code",
   "execution_count": 37,
   "id": "782a4f09-4efe-4547-873b-92e290deb726",
   "metadata": {
    "editable": true,
    "slideshow": {
     "slide_type": ""
    },
    "tags": []
   },
   "outputs": [
    {
     "name": "stdout",
     "output_type": "stream",
     "text": [
      "Mean RT (condition 1): 1.525\n",
      "Mean RT (condition 2): 3.7\n"
     ]
    }
   ],
   "source": [
    "rt1 = np.mean(response_time[condition == 1])\n",
    "rt2 = np.mean(response_time[condition == 2])\n",
    "print(f\"Mean RT (condition 1): {rt1}\")\n",
    "print(f\"Mean RT (condition 2): {rt2}\")"
   ]
  },
  {
   "cell_type": "markdown",
   "id": "fb90fdaf-221d-4f13-8e13-1e21715b6d2d",
   "metadata": {
    "editable": true,
    "slideshow": {
     "slide_type": "slide"
    },
    "tags": []
   },
   "source": [
    "Similar to how we can combine conditionals with the `and`, `or`, and `not` keywords, we can do something similar with arrays. However, we need to use different symbols when working with arrays."
   ]
  },
  {
   "cell_type": "markdown",
   "id": "4e24be1f-879b-4f37-8291-671c259fb0cb",
   "metadata": {
    "editable": true,
    "slideshow": {
     "slide_type": "slide"
    },
    "tags": []
   },
   "source": [
    "To negate an array, we use `~` instead of `not`. Note that we need to add parentheses around the statement (`condition == 1`) to use this here."
   ]
  },
  {
   "cell_type": "code",
   "execution_count": 38,
   "id": "e1bf6e46-0bb7-4ec2-beb4-0a564ab1a583",
   "metadata": {
    "editable": true,
    "slideshow": {
     "slide_type": ""
    },
    "tags": []
   },
   "outputs": [
    {
     "name": "stdout",
     "output_type": "stream",
     "text": [
      "[ True False  True False  True False  True False]\n",
      "[False  True False  True False  True False  True]\n"
     ]
    }
   ],
   "source": [
    "print(condition == 1)\n",
    "print(~(condition == 1))"
   ]
  },
  {
   "cell_type": "markdown",
   "id": "b7bdfb1f-4204-4747-a78e-aab6eabb742a",
   "metadata": {
    "editable": true,
    "slideshow": {
     "slide_type": ""
    },
    "tags": []
   },
   "source": [
    "To combine two conditionals, we can use `&` instead of `and`. Note how the output is only `True` when both conditionals apply."
   ]
  },
  {
   "cell_type": "code",
   "execution_count": 39,
   "id": "c7ab3eb8-6ed4-4890-bca2-d50c258788e4",
   "metadata": {
    "editable": true,
    "slideshow": {
     "slide_type": ""
    },
    "tags": []
   },
   "outputs": [
    {
     "name": "stdout",
     "output_type": "stream",
     "text": [
      "[ True False  True  True  True False  True False]\n",
      "[False  True False  True False  True False  True]\n",
      "[False False False  True False False False False]\n"
     ]
    }
   ],
   "source": [
    "print(response_time < 3)\n",
    "print(condition == 2)\n",
    "print((response_time < 3) & (condition == 2))"
   ]
  },
  {
   "cell_type": "markdown",
   "id": "df5fd04c-9f8d-497a-9b4f-09caf11bcf4d",
   "metadata": {
    "editable": true,
    "slideshow": {
     "slide_type": ""
    },
    "tags": []
   },
   "source": [
    "We can also use `|` instead of `or`."
   ]
  },
  {
   "cell_type": "code",
   "execution_count": 40,
   "id": "201de028-7373-401c-8edf-054eb82061e1",
   "metadata": {
    "editable": true,
    "slideshow": {
     "slide_type": ""
    },
    "tags": []
   },
   "outputs": [
    {
     "name": "stdout",
     "output_type": "stream",
     "text": [
      "[ True False  True False False False False False]\n",
      "[False  True False  True False  True False  True]\n",
      "[ True  True  True  True False  True False  True]\n"
     ]
    }
   ],
   "source": [
    "print(response_time < 1.5)\n",
    "print(condition == 2)\n",
    "print((response_time < 1.5) | (condition == 2))"
   ]
  },
  {
   "cell_type": "markdown",
   "id": "8179bbc7-9270-4a1c-bed1-cb2d4d4cfd25",
   "metadata": {
    "editable": true,
    "slideshow": {
     "slide_type": ""
    },
    "tags": []
   },
   "source": [
    "Make sure to put parentheses around each conditional statement that you are combining. If you leave out the parentheses, it may change the order of operations in a way you weren't expecting."
   ]
  },
  {
   "cell_type": "code",
   "execution_count": 41,
   "id": "d63d410e-6446-4fd9-99a9-9abef8d0a2a8",
   "metadata": {
    "editable": true,
    "slideshow": {
     "slide_type": ""
    },
    "tags": []
   },
   "outputs": [
    {
     "name": "stdout",
     "output_type": "stream",
     "text": [
      "[False  True False  True False  True False  True]\n",
      "[ True  True  True  True False  True False  True]\n"
     ]
    }
   ],
   "source": [
    "print((response_time < 1.5) | condition == 2)\n",
    "print((response_time < 1.5) | (condition == 2))"
   ]
  },
  {
   "cell_type": "markdown",
   "id": "183529c5-7e53-4610-b6aa-4bdbe8882d03",
   "metadata": {
    "editable": true,
    "slideshow": {
     "slide_type": "slide"
    },
    "tags": []
   },
   "source": [
    "## Data analysis\n",
    "Now that we have learned some tools for working with arrays, let's revisit the problem we previously solved using control flow. We'll use the same sample responses from a recognition memory experiment. We want to calculate hit rate (the fraction of targets with an \"old\" response) and false alarm rate (the fraction of lures with an \"old\" response)."
   ]
  },
  {
   "cell_type": "markdown",
   "id": "94b85ba2-4dba-4adb-b6e3-d8868f32adf4",
   "metadata": {
    "editable": true,
    "slideshow": {
     "slide_type": ""
    },
    "tags": []
   },
   "source": [
    "We'll first define the data to analyze. Instead of leaving our data in lists, we'll place them in arrays."
   ]
  },
  {
   "cell_type": "code",
   "execution_count": 42,
   "id": "e5244262-ae6c-4448-af09-9ec92e60d587",
   "metadata": {
    "editable": true,
    "slideshow": {
     "slide_type": ""
    },
    "tags": []
   },
   "outputs": [],
   "source": [
    "trial_type = np.array([\"target\", \"lure\", \"lure\", \"target\", \"lure\", \"target\", \"target\", \"lure\"])\n",
    "response = np.array([\"old\", \"old\", \"new\", \"old\", \"new\", \"new\", \"old\", \"new\"])"
   ]
  },
  {
   "cell_type": "markdown",
   "id": "930f04d2-cdb3-4d2a-bc42-7eacf7023565",
   "metadata": {
    "editable": true,
    "slideshow": {
     "slide_type": "slide"
    },
    "tags": []
   },
   "source": [
    "Instead of the 16 lines of code that we needed when using basic Python, when using NumPy we can do the same thing in 4 lines of code that are also easier to read. (Written a little differently, we could also do it in 2 lines of code.) First, we use filtering and the `np.sum` function to calculate the number of target and lure trials."
   ]
  },
  {
   "cell_type": "code",
   "execution_count": 43,
   "id": "bf972986-cd5b-4997-89c0-76c240b88aa2",
   "metadata": {
    "editable": true,
    "slideshow": {
     "slide_type": ""
    },
    "tags": []
   },
   "outputs": [],
   "source": [
    "n_targets = np.sum(trial_type == \"target\")\n",
    "n_lures = np.sum(trial_type == \"lure\")"
   ]
  },
  {
   "cell_type": "markdown",
   "id": "c99486a2-1a0e-4c80-a5aa-51ab33e5626f",
   "metadata": {
    "editable": true,
    "slideshow": {
     "slide_type": "fragment"
    },
    "tags": []
   },
   "source": [
    "Next, we will combine conditions to get the number of hits and false alarms and convert them into hit rate and false alarm rate."
   ]
  },
  {
   "cell_type": "code",
   "execution_count": 44,
   "id": "0678a40a-a420-4e3b-b397-51a026e1427e",
   "metadata": {
    "editable": true,
    "slideshow": {
     "slide_type": ""
    },
    "tags": []
   },
   "outputs": [
    {
     "name": "stdout",
     "output_type": "stream",
     "text": [
      "Hit rate: 0.75, false alarm rate: 0.25\n"
     ]
    }
   ],
   "source": [
    "hr = np.sum((trial_type == \"target\") & (response == \"old\")) / n_targets\n",
    "far = np.sum((trial_type == \"lure\") & (response == \"old\")) / n_lures\n",
    "print(f\"Hit rate: {hr}, false alarm rate: {far}\")"
   ]
  }
 ],
 "metadata": {
  "kernelspec": {
   "display_name": "datascipsych",
   "language": "python",
   "name": "datascipsych"
  },
  "language_info": {
   "codemirror_mode": {
    "name": "ipython",
    "version": 3
   },
   "file_extension": ".py",
   "mimetype": "text/x-python",
   "name": "python",
   "nbconvert_exporter": "python",
   "pygments_lexer": "ipython3",
   "version": "3.12.8"
  }
 },
 "nbformat": 4,
 "nbformat_minor": 5
}
