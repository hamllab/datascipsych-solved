{
 "cells": [
  {
   "cell_type": "markdown",
   "id": "eba808f3-1c5c-4da3-b579-ba92a0c21719",
   "metadata": {
    "editable": true,
    "slideshow": {
     "slide_type": ""
    },
    "tags": []
   },
   "source": [
    "# DataFrames\n",
    "DataFrames are used to organize spreadsheets of data. We can directly import spreadsheet data into a DataFrame in Pandas or Polars."
   ]
  },
  {
   "cell_type": "markdown",
   "id": "9c45f04f-8d2f-4df0-8d33-e28f390d96fe",
   "metadata": {
    "editable": true,
    "slideshow": {
     "slide_type": ""
    },
    "tags": []
   },
   "source": [
    "## Importing data"
   ]
  },
  {
   "cell_type": "code",
   "execution_count": 1,
   "id": "650e92d3",
   "metadata": {},
   "outputs": [],
   "source": [
    "import polars as pl"
   ]
  },
  {
   "cell_type": "code",
   "execution_count": 2,
   "id": "1bac66ba",
   "metadata": {},
   "outputs": [
    {
     "data": {
      "text/html": [
       "<div><style>\n",
       ".dataframe > thead > tr,\n",
       ".dataframe > tbody > tr {\n",
       "  text-align: right;\n",
       "  white-space: pre-wrap;\n",
       "}\n",
       "</style>\n",
       "<small>shape: (5, 16)</small><table border=\"1\" class=\"dataframe\"><thead><tr><th>cycle</th><th>trial</th><th>phase</th><th>type</th><th>word1</th><th>word2</th><th>response</th><th>RT</th><th>correct</th><th>lag</th><th>serPos1</th><th>serPos2</th><th>subj</th><th>intactLag</th><th>prevResponse</th><th>prevRT</th></tr><tr><td>i64</td><td>i64</td><td>str</td><td>str</td><td>str</td><td>str</td><td>i64</td><td>f64</td><td>i64</td><td>i64</td><td>i64</td><td>i64</td><td>i64</td><td>i64</td><td>i64</td><td>i64</td></tr></thead><tbody><tr><td>0</td><td>-1</td><td>&quot;study&quot;</td><td>&quot;intact&quot;</td><td>&quot;formal&quot;</td><td>&quot;positive&quot;</td><td>-1</td><td>-1.0</td><td>-1</td><td>-1</td><td>0</td><td>0</td><td>101</td><td>0</td><td>0</td><td>0</td></tr><tr><td>0</td><td>0</td><td>&quot;study&quot;</td><td>&quot;intact&quot;</td><td>&quot;skin&quot;</td><td>&quot;careful&quot;</td><td>-1</td><td>-1.0</td><td>-1</td><td>-1</td><td>1</td><td>1</td><td>101</td><td>0</td><td>0</td><td>0</td></tr><tr><td>0</td><td>1</td><td>&quot;study&quot;</td><td>&quot;intact&quot;</td><td>&quot;upon&quot;</td><td>&quot;miss&quot;</td><td>-1</td><td>-1.0</td><td>-1</td><td>-1</td><td>2</td><td>2</td><td>101</td><td>0</td><td>0</td><td>0</td></tr><tr><td>0</td><td>2</td><td>&quot;study&quot;</td><td>&quot;intact&quot;</td><td>&quot;single&quot;</td><td>&quot;tradition&quot;</td><td>-1</td><td>-1.0</td><td>-1</td><td>-1</td><td>3</td><td>3</td><td>101</td><td>0</td><td>0</td><td>0</td></tr><tr><td>0</td><td>3</td><td>&quot;study&quot;</td><td>&quot;intact&quot;</td><td>&quot;prove&quot;</td><td>&quot;airport&quot;</td><td>-1</td><td>-1.0</td><td>-1</td><td>-1</td><td>4</td><td>4</td><td>101</td><td>0</td><td>0</td><td>0</td></tr></tbody></table></div>"
      ],
      "text/plain": [
       "shape: (5, 16)\n",
       "┌───────┬───────┬───────┬────────┬───┬──────┬───────────┬──────────────┬────────┐\n",
       "│ cycle ┆ trial ┆ phase ┆ type   ┆ … ┆ subj ┆ intactLag ┆ prevResponse ┆ prevRT │\n",
       "│ ---   ┆ ---   ┆ ---   ┆ ---    ┆   ┆ ---  ┆ ---       ┆ ---          ┆ ---    │\n",
       "│ i64   ┆ i64   ┆ str   ┆ str    ┆   ┆ i64  ┆ i64       ┆ i64          ┆ i64    │\n",
       "╞═══════╪═══════╪═══════╪════════╪═══╪══════╪═══════════╪══════════════╪════════╡\n",
       "│ 0     ┆ -1    ┆ study ┆ intact ┆ … ┆ 101  ┆ 0         ┆ 0            ┆ 0      │\n",
       "│ 0     ┆ 0     ┆ study ┆ intact ┆ … ┆ 101  ┆ 0         ┆ 0            ┆ 0      │\n",
       "│ 0     ┆ 1     ┆ study ┆ intact ┆ … ┆ 101  ┆ 0         ┆ 0            ┆ 0      │\n",
       "│ 0     ┆ 2     ┆ study ┆ intact ┆ … ┆ 101  ┆ 0         ┆ 0            ┆ 0      │\n",
       "│ 0     ┆ 3     ┆ study ┆ intact ┆ … ┆ 101  ┆ 0         ┆ 0            ┆ 0      │\n",
       "└───────┴───────┴───────┴────────┴───┴──────┴───────────┴──────────────┴────────┘"
      ]
     },
     "execution_count": 2,
     "metadata": {},
     "output_type": "execute_result"
    }
   ],
   "source": [
    "df = pl.read_csv(\"exp1.csv\")\n",
    "df.head()"
   ]
  },
  {
   "cell_type": "code",
   "execution_count": 3,
   "id": "c0a53bae",
   "metadata": {},
   "outputs": [
    {
     "data": {
      "text/html": [
       "<div><style>\n",
       ".dataframe > thead > tr,\n",
       ".dataframe > tbody > tr {\n",
       "  text-align: right;\n",
       "  white-space: pre-wrap;\n",
       "}\n",
       "</style>\n",
       "<small>shape: (224, 3)</small><table border=\"1\" class=\"dataframe\"><thead><tr><th>subj</th><th>type</th><th>response</th></tr><tr><td>i64</td><td>str</td><td>f64</td></tr></thead><tbody><tr><td>101</td><td>&quot;intact&quot;</td><td>0.758333</td></tr><tr><td>101</td><td>&quot;rearranged&quot;</td><td>0.108333</td></tr><tr><td>102</td><td>&quot;intact&quot;</td><td>0.2875</td></tr><tr><td>102</td><td>&quot;rearranged&quot;</td><td>0.241667</td></tr><tr><td>103</td><td>&quot;intact&quot;</td><td>0.866667</td></tr><tr><td>&hellip;</td><td>&hellip;</td><td>&hellip;</td></tr><tr><td>212</td><td>&quot;rearranged&quot;</td><td>0.529167</td></tr><tr><td>213</td><td>&quot;intact&quot;</td><td>0.641667</td></tr><tr><td>213</td><td>&quot;rearranged&quot;</td><td>0.470833</td></tr><tr><td>1150</td><td>&quot;intact&quot;</td><td>0.408333</td></tr><tr><td>1150</td><td>&quot;rearranged&quot;</td><td>0.216667</td></tr></tbody></table></div>"
      ],
      "text/plain": [
       "shape: (224, 3)\n",
       "┌──────┬────────────┬──────────┐\n",
       "│ subj ┆ type       ┆ response │\n",
       "│ ---  ┆ ---        ┆ ---      │\n",
       "│ i64  ┆ str        ┆ f64      │\n",
       "╞══════╪════════════╪══════════╡\n",
       "│ 101  ┆ intact     ┆ 0.758333 │\n",
       "│ 101  ┆ rearranged ┆ 0.108333 │\n",
       "│ 102  ┆ intact     ┆ 0.2875   │\n",
       "│ 102  ┆ rearranged ┆ 0.241667 │\n",
       "│ 103  ┆ intact     ┆ 0.866667 │\n",
       "│ …    ┆ …          ┆ …        │\n",
       "│ 212  ┆ rearranged ┆ 0.529167 │\n",
       "│ 213  ┆ intact     ┆ 0.641667 │\n",
       "│ 213  ┆ rearranged ┆ 0.470833 │\n",
       "│ 1150 ┆ intact     ┆ 0.408333 │\n",
       "│ 1150 ┆ rearranged ┆ 0.216667 │\n",
       "└──────┴────────────┴──────────┘"
      ]
     },
     "execution_count": 3,
     "metadata": {},
     "output_type": "execute_result"
    }
   ],
   "source": [
    "resp = (\n",
    "    df.filter(pl.col(\"phase\") == \"test\")\n",
    "    .group_by(\"subj\", \"type\")\n",
    "    .agg(pl.col(\"response\").mean())\n",
    "    .sort(\"subj\", \"type\")\n",
    ")\n",
    "tab = (\n",
    "    resp.pivot(\"type\", index=\"subj\", values=\"response\")\n",
    "    .select(subj=\"subj\", hr=\"intact\", far=\"rearranged\")\n",
    ")\n",
    "resp"
   ]
  },
  {
   "cell_type": "code",
   "execution_count": 4,
   "id": "36140b2e",
   "metadata": {},
   "outputs": [
    {
     "data": {
      "text/plain": [
       "<Axes: xlabel='type', ylabel='response'>"
      ]
     },
     "execution_count": 4,
     "metadata": {},
     "output_type": "execute_result"
    },
    {
     "data": {
      "image/png": "[encoded data removed]",
      "text/plain": [
       "<Figure size 640x480 with 1 Axes>"
      ]
     },
     "metadata": {},
     "output_type": "display_data"
    }
   ],
   "source": [
    "import seaborn as sns\n",
    "sns.barplot(resp, x=\"type\", y=\"response\")"
   ]
  },
  {
   "cell_type": "code",
   "execution_count": 5,
   "id": "0243d371",
   "metadata": {},
   "outputs": [
    {
     "data": {
      "text/html": [
       "<div><style>\n",
       ".dataframe > thead > tr,\n",
       ".dataframe > tbody > tr {\n",
       "  text-align: right;\n",
       "  white-space: pre-wrap;\n",
       "}\n",
       "</style>\n",
       "<small>shape: (560, 3)</small><table border=\"1\" class=\"dataframe\"><thead><tr><th>subj</th><th>lag</th><th>response</th></tr><tr><td>i64</td><td>i64</td><td>f64</td></tr></thead><tbody><tr><td>101</td><td>1</td><td>0.0625</td></tr><tr><td>101</td><td>2</td><td>0.1875</td></tr><tr><td>101</td><td>3</td><td>0.0625</td></tr><tr><td>101</td><td>4</td><td>0.125</td></tr><tr><td>101</td><td>5</td><td>0.104167</td></tr><tr><td>&hellip;</td><td>&hellip;</td><td>&hellip;</td></tr><tr><td>1150</td><td>1</td><td>0.270833</td></tr><tr><td>1150</td><td>2</td><td>0.1875</td></tr><tr><td>1150</td><td>3</td><td>0.166667</td></tr><tr><td>1150</td><td>4</td><td>0.208333</td></tr><tr><td>1150</td><td>5</td><td>0.25</td></tr></tbody></table></div>"
      ],
      "text/plain": [
       "shape: (560, 3)\n",
       "┌──────┬─────┬──────────┐\n",
       "│ subj ┆ lag ┆ response │\n",
       "│ ---  ┆ --- ┆ ---      │\n",
       "│ i64  ┆ i64 ┆ f64      │\n",
       "╞══════╪═════╪══════════╡\n",
       "│ 101  ┆ 1   ┆ 0.0625   │\n",
       "│ 101  ┆ 2   ┆ 0.1875   │\n",
       "│ 101  ┆ 3   ┆ 0.0625   │\n",
       "│ 101  ┆ 4   ┆ 0.125    │\n",
       "│ 101  ┆ 5   ┆ 0.104167 │\n",
       "│ …    ┆ …   ┆ …        │\n",
       "│ 1150 ┆ 1   ┆ 0.270833 │\n",
       "│ 1150 ┆ 2   ┆ 0.1875   │\n",
       "│ 1150 ┆ 3   ┆ 0.166667 │\n",
       "│ 1150 ┆ 4   ┆ 0.208333 │\n",
       "│ 1150 ┆ 5   ┆ 0.25     │\n",
       "└──────┴─────┴──────────┘"
      ]
     },
     "execution_count": 5,
     "metadata": {},
     "output_type": "execute_result"
    }
   ],
   "source": [
    "resp_lag = (\n",
    "    df.filter((pl.col(\"phase\") == \"test\") & (pl.col(\"type\") == \"rearranged\"))\n",
    "    .group_by(\"subj\", \"lag\")\n",
    "    .agg(pl.col(\"response\").mean())\n",
    "    .sort(\"subj\", \"lag\")\n",
    ")\n",
    "resp_lag"
   ]
  },
  {
   "cell_type": "code",
   "execution_count": 6,
   "id": "4bb54cc2",
   "metadata": {},
   "outputs": [
    {
     "data": {
      "text/plain": [
       "<seaborn.axisgrid.FacetGrid at 0x1286a8830>"
      ]
     },
     "execution_count": 6,
     "metadata": {},
     "output_type": "execute_result"
    },
    {
     "data": {
      "image/png": "[encoded data removed]",
      "text/plain": [
       "<Figure size 500x500 with 1 Axes>"
      ]
     },
     "metadata": {},
     "output_type": "display_data"
    }
   ],
   "source": [
    "sns.relplot(resp_lag, x=\"lag\", y=\"response\", kind=\"line\")"
   ]
  },
  {
   "cell_type": "markdown",
   "id": "2741bdd5-0f97-4ff7-8c4b-2f3c532cb662",
   "metadata": {
    "editable": true,
    "slideshow": {
     "slide_type": ""
    },
    "tags": []
   },
   "source": [
    "## Handling column formatting"
   ]
  },
  {
   "cell_type": "markdown",
   "id": "28afe3a2-f3e6-436e-bf91-736cc35abca3",
   "metadata": {
    "editable": true,
    "slideshow": {
     "slide_type": ""
    },
    "tags": []
   },
   "source": [
    "## Accessing data"
   ]
  },
  {
   "cell_type": "markdown",
   "id": "063a22de-d16d-4a1b-86b2-d47174c20998",
   "metadata": {
    "editable": true,
    "slideshow": {
     "slide_type": ""
    },
    "tags": []
   },
   "source": [
    "## Filtering data"
   ]
  },
  {
   "cell_type": "markdown",
   "id": "6c2ffbc6-f73e-48df-a6d7-6d926bca1eba",
   "metadata": {
    "editable": true,
    "slideshow": {
     "slide_type": ""
    },
    "tags": []
   },
   "source": [
    "## Modifying data"
   ]
  }
 ],
 "metadata": {
  "kernelspec": {
   "display_name": "datascipsych",
   "language": "python",
   "name": "datascipsych"
  },
  "language_info": {
   "codemirror_mode": {
    "name": "ipython",
    "version": 3
   },
   "file_extension": ".py",
   "mimetype": "text/x-python",
   "name": "python",
   "nbconvert_exporter": "python",
   "pygments_lexer": "ipython3",
   "version": "3.12.8"
  }
 },
 "nbformat": 4,
 "nbformat_minor": 5
}
