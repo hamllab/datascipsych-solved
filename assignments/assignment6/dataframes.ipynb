{
 "cells": [
  {
   "cell_type": "markdown",
   "id": "eba808f3-1c5c-4da3-b579-ba92a0c21719",
   "metadata": {
    "editable": true,
    "slideshow": {
     "slide_type": ""
    },
    "tags": []
   },
   "source": [
    "# DataFrames\n",
    "DataFrames are used to organize spreadsheets of data. We can directly import spreadsheet data into a DataFrame in Pandas or Polars."
   ]
  },
  {
   "cell_type": "markdown",
   "id": "9c45f04f-8d2f-4df0-8d33-e28f390d96fe",
   "metadata": {
    "editable": true,
    "slideshow": {
     "slide_type": ""
    },
    "tags": []
   },
   "source": [
    "## Importing data"
   ]
  },
  {
   "cell_type": "markdown",
   "id": "2741bdd5-0f97-4ff7-8c4b-2f3c532cb662",
   "metadata": {
    "editable": true,
    "slideshow": {
     "slide_type": ""
    },
    "tags": []
   },
   "source": [
    "## Handling column formatting"
   ]
  },
  {
   "cell_type": "markdown",
   "id": "28afe3a2-f3e6-436e-bf91-736cc35abca3",
   "metadata": {
    "editable": true,
    "slideshow": {
     "slide_type": ""
    },
    "tags": []
   },
   "source": [
    "## Accessing data"
   ]
  },
  {
   "cell_type": "markdown",
   "id": "063a22de-d16d-4a1b-86b2-d47174c20998",
   "metadata": {
    "editable": true,
    "slideshow": {
     "slide_type": ""
    },
    "tags": []
   },
   "source": [
    "## Filtering data"
   ]
  },
  {
   "cell_type": "markdown",
   "id": "6c2ffbc6-f73e-48df-a6d7-6d926bca1eba",
   "metadata": {
    "editable": true,
    "slideshow": {
     "slide_type": ""
    },
    "tags": []
   },
   "source": [
    "## Modifying data"
   ]
  }
 ],
 "metadata": {
  "kernelspec": {
   "display_name": "datascipsych",
   "language": "python",
   "name": "datascipsych"
  },
  "language_info": {
   "codemirror_mode": {
    "name": "ipython",
    "version": 3
   },
   "file_extension": ".py",
   "mimetype": "text/x-python",
   "name": "python",
   "nbconvert_exporter": "python",
   "pygments_lexer": "ipython3",
   "version": "3.12.8"
  }
 },
 "nbformat": 4,
 "nbformat_minor": 5
}
