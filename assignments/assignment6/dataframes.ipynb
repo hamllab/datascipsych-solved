{
 "cells": [
  {
   "cell_type": "markdown",
   "id": "eba808f3-1c5c-4da3-b579-ba92a0c21719",
   "metadata": {
    "editable": true,
    "slideshow": {
     "slide_type": ""
    },
    "tags": []
   },
   "source": [
    "# DataFrames\n",
    "DataFrames are used to organize spreadsheets of data. We can directly import spreadsheet data into a DataFrame in Polars."
   ]
  },
  {
   "cell_type": "markdown",
   "id": "9c45f04f-8d2f-4df0-8d33-e28f390d96fe",
   "metadata": {
    "editable": true,
    "slideshow": {
     "slide_type": "slide"
    },
    "tags": []
   },
   "source": [
    "## Importing data\n",
    "We can easily import data from spreadsheets into a variable called a DataFrame. The Polars packages has powerful tools for working with DataFrames. First, we will import the Polars module."
   ]
  },
  {
   "cell_type": "code",
   "execution_count": 1,
   "id": "2d9b4f41-cd71-4724-b1b1-2dc42e60348c",
   "metadata": {
    "editable": true,
    "slideshow": {
     "slide_type": ""
    },
    "tags": []
   },
   "outputs": [],
   "source": [
    "import polars as pl"
   ]
  },
  {
   "cell_type": "markdown",
   "id": "c0e84eb8-4238-40eb-8669-3f4cbf9d8d3b",
   "metadata": {
    "editable": true,
    "slideshow": {
     "slide_type": "slide"
    },
    "tags": []
   },
   "source": [
    "We can use `pl.read_csv` to import a CSV file into a DataFrame. The `head` method shows the first several lines of a DataFrame (you can choose the number of lines; the default is 5)."
   ]
  },
  {
   "cell_type": "code",
   "execution_count": 2,
   "id": "1bac66ba",
   "metadata": {
    "editable": true,
    "slideshow": {
     "slide_type": ""
    },
    "tags": []
   },
   "outputs": [
    {
     "data": {
      "text/html": [
       "<div><style>\n",
       ".dataframe > thead > tr,\n",
       ".dataframe > tbody > tr {\n",
       "  text-align: right;\n",
       "  white-space: pre-wrap;\n",
       "}\n",
       "</style>\n",
       "<small>shape: (5, 16)</small><table border=\"1\" class=\"dataframe\"><thead><tr><th>cycle</th><th>trial</th><th>phase</th><th>type</th><th>word1</th><th>word2</th><th>response</th><th>RT</th><th>correct</th><th>lag</th><th>serPos1</th><th>serPos2</th><th>subj</th><th>intactLag</th><th>prevResponse</th><th>prevRT</th></tr><tr><td>i64</td><td>i64</td><td>str</td><td>str</td><td>str</td><td>str</td><td>i64</td><td>f64</td><td>i64</td><td>i64</td><td>i64</td><td>i64</td><td>i64</td><td>i64</td><td>i64</td><td>i64</td></tr></thead><tbody><tr><td>0</td><td>-1</td><td>&quot;study&quot;</td><td>&quot;intact&quot;</td><td>&quot;formal&quot;</td><td>&quot;positive&quot;</td><td>-1</td><td>-1.0</td><td>-1</td><td>-1</td><td>0</td><td>0</td><td>101</td><td>0</td><td>0</td><td>0</td></tr><tr><td>0</td><td>0</td><td>&quot;study&quot;</td><td>&quot;intact&quot;</td><td>&quot;skin&quot;</td><td>&quot;careful&quot;</td><td>-1</td><td>-1.0</td><td>-1</td><td>-1</td><td>1</td><td>1</td><td>101</td><td>0</td><td>0</td><td>0</td></tr><tr><td>0</td><td>1</td><td>&quot;study&quot;</td><td>&quot;intact&quot;</td><td>&quot;upon&quot;</td><td>&quot;miss&quot;</td><td>-1</td><td>-1.0</td><td>-1</td><td>-1</td><td>2</td><td>2</td><td>101</td><td>0</td><td>0</td><td>0</td></tr><tr><td>0</td><td>2</td><td>&quot;study&quot;</td><td>&quot;intact&quot;</td><td>&quot;single&quot;</td><td>&quot;tradition&quot;</td><td>-1</td><td>-1.0</td><td>-1</td><td>-1</td><td>3</td><td>3</td><td>101</td><td>0</td><td>0</td><td>0</td></tr><tr><td>0</td><td>3</td><td>&quot;study&quot;</td><td>&quot;intact&quot;</td><td>&quot;prove&quot;</td><td>&quot;airport&quot;</td><td>-1</td><td>-1.0</td><td>-1</td><td>-1</td><td>4</td><td>4</td><td>101</td><td>0</td><td>0</td><td>0</td></tr></tbody></table></div>"
      ],
      "text/plain": [
       "shape: (5, 16)\n",
       "┌───────┬───────┬───────┬────────┬───┬──────┬───────────┬──────────────┬────────┐\n",
       "│ cycle ┆ trial ┆ phase ┆ type   ┆ … ┆ subj ┆ intactLag ┆ prevResponse ┆ prevRT │\n",
       "│ ---   ┆ ---   ┆ ---   ┆ ---    ┆   ┆ ---  ┆ ---       ┆ ---          ┆ ---    │\n",
       "│ i64   ┆ i64   ┆ str   ┆ str    ┆   ┆ i64  ┆ i64       ┆ i64          ┆ i64    │\n",
       "╞═══════╪═══════╪═══════╪════════╪═══╪══════╪═══════════╪══════════════╪════════╡\n",
       "│ 0     ┆ -1    ┆ study ┆ intact ┆ … ┆ 101  ┆ 0         ┆ 0            ┆ 0      │\n",
       "│ 0     ┆ 0     ┆ study ┆ intact ┆ … ┆ 101  ┆ 0         ┆ 0            ┆ 0      │\n",
       "│ 0     ┆ 1     ┆ study ┆ intact ┆ … ┆ 101  ┆ 0         ┆ 0            ┆ 0      │\n",
       "│ 0     ┆ 2     ┆ study ┆ intact ┆ … ┆ 101  ┆ 0         ┆ 0            ┆ 0      │\n",
       "│ 0     ┆ 3     ┆ study ┆ intact ┆ … ┆ 101  ┆ 0         ┆ 0            ┆ 0      │\n",
       "└───────┴───────┴───────┴────────┴───┴──────┴───────────┴──────────────┴────────┘"
      ]
     },
     "execution_count": 2,
     "metadata": {},
     "output_type": "execute_result"
    }
   ],
   "source": [
    "raw = pl.read_csv(\"exp1.csv\")\n",
    "raw.head()"
   ]
  },
  {
   "cell_type": "markdown",
   "id": "f764c4e6-8dea-47f3-940f-f79f91ea4a8e",
   "metadata": {
    "editable": true,
    "slideshow": {
     "slide_type": ""
    },
    "tags": []
   },
   "source": [
    "There are a lot of columns, including some that we won't use. Let's use the `select` method to make the data a little simpler to look at (more on this method later)."
   ]
  },
  {
   "cell_type": "code",
   "execution_count": 3,
   "id": "2c0851af-5a69-41b1-9c1e-7c8868ded0fb",
   "metadata": {
    "editable": true,
    "slideshow": {
     "slide_type": ""
    },
    "tags": []
   },
   "outputs": [
    {
     "data": {
      "text/html": [
       "<div><style>\n",
       ".dataframe > thead > tr,\n",
       ".dataframe > tbody > tr {\n",
       "  text-align: right;\n",
       "  white-space: pre-wrap;\n",
       "}\n",
       "</style>\n",
       "<small>shape: (5, 11)</small><table border=\"1\" class=\"dataframe\"><thead><tr><th>subj</th><th>cycle</th><th>trial</th><th>phase</th><th>type</th><th>word1</th><th>word2</th><th>response</th><th>RT</th><th>correct</th><th>lag</th></tr><tr><td>i64</td><td>i64</td><td>i64</td><td>str</td><td>str</td><td>str</td><td>str</td><td>i64</td><td>f64</td><td>i64</td><td>i64</td></tr></thead><tbody><tr><td>101</td><td>0</td><td>-1</td><td>&quot;study&quot;</td><td>&quot;intact&quot;</td><td>&quot;formal&quot;</td><td>&quot;positive&quot;</td><td>-1</td><td>-1.0</td><td>-1</td><td>-1</td></tr><tr><td>101</td><td>0</td><td>0</td><td>&quot;study&quot;</td><td>&quot;intact&quot;</td><td>&quot;skin&quot;</td><td>&quot;careful&quot;</td><td>-1</td><td>-1.0</td><td>-1</td><td>-1</td></tr><tr><td>101</td><td>0</td><td>1</td><td>&quot;study&quot;</td><td>&quot;intact&quot;</td><td>&quot;upon&quot;</td><td>&quot;miss&quot;</td><td>-1</td><td>-1.0</td><td>-1</td><td>-1</td></tr><tr><td>101</td><td>0</td><td>2</td><td>&quot;study&quot;</td><td>&quot;intact&quot;</td><td>&quot;single&quot;</td><td>&quot;tradition&quot;</td><td>-1</td><td>-1.0</td><td>-1</td><td>-1</td></tr><tr><td>101</td><td>0</td><td>3</td><td>&quot;study&quot;</td><td>&quot;intact&quot;</td><td>&quot;prove&quot;</td><td>&quot;airport&quot;</td><td>-1</td><td>-1.0</td><td>-1</td><td>-1</td></tr></tbody></table></div>"
      ],
      "text/plain": [
       "shape: (5, 11)\n",
       "┌──────┬───────┬───────┬───────┬───┬──────────┬──────┬─────────┬─────┐\n",
       "│ subj ┆ cycle ┆ trial ┆ phase ┆ … ┆ response ┆ RT   ┆ correct ┆ lag │\n",
       "│ ---  ┆ ---   ┆ ---   ┆ ---   ┆   ┆ ---      ┆ ---  ┆ ---     ┆ --- │\n",
       "│ i64  ┆ i64   ┆ i64   ┆ str   ┆   ┆ i64      ┆ f64  ┆ i64     ┆ i64 │\n",
       "╞══════╪═══════╪═══════╪═══════╪═══╪══════════╪══════╪═════════╪═════╡\n",
       "│ 101  ┆ 0     ┆ -1    ┆ study ┆ … ┆ -1       ┆ -1.0 ┆ -1      ┆ -1  │\n",
       "│ 101  ┆ 0     ┆ 0     ┆ study ┆ … ┆ -1       ┆ -1.0 ┆ -1      ┆ -1  │\n",
       "│ 101  ┆ 0     ┆ 1     ┆ study ┆ … ┆ -1       ┆ -1.0 ┆ -1      ┆ -1  │\n",
       "│ 101  ┆ 0     ┆ 2     ┆ study ┆ … ┆ -1       ┆ -1.0 ┆ -1      ┆ -1  │\n",
       "│ 101  ┆ 0     ┆ 3     ┆ study ┆ … ┆ -1       ┆ -1.0 ┆ -1      ┆ -1  │\n",
       "└──────┴───────┴───────┴───────┴───┴──────────┴──────┴─────────┴─────┘"
      ]
     },
     "execution_count": 3,
     "metadata": {},
     "output_type": "execute_result"
    }
   ],
   "source": [
    "columns = [\n",
    "    \"subj\", \n",
    "    \"cycle\", \n",
    "    \"trial\", \n",
    "    \"phase\", \n",
    "    \"type\", \n",
    "    \"word1\", \n",
    "    \"word2\", \n",
    "    \"response\", \n",
    "    \"RT\", \n",
    "    \"correct\", \n",
    "    \"lag\",\n",
    "]\n",
    "df = raw.select(columns)\n",
    "df.head()"
   ]
  },
  {
   "cell_type": "markdown",
   "id": "3653355f-46ad-4ed7-8e60-2fa80fc14e59",
   "metadata": {
    "editable": true,
    "slideshow": {
     "slide_type": "fragment"
    },
    "tags": []
   },
   "source": [
    "A DataFrame has multiple columns, each of which can have a different type of data. For example, `i64` means a 64-bit integer, and `str` indicates a string. Polars tries to guess the right data type for each column based on the data in that column during import."
   ]
  },
  {
   "cell_type": "markdown",
   "id": "64a052fa-727b-4fba-bece-2b73fd4f704d",
   "metadata": {
    "editable": true,
    "slideshow": {
     "slide_type": "slide"
    },
    "tags": []
   },
   "source": [
    "The list of columns and their data types is known as a *schema*. We can access it for an existing DataFrame using the `schema` attribute."
   ]
  },
  {
   "cell_type": "code",
   "execution_count": 4,
   "id": "89611422-e025-48ee-9043-cb9de60658da",
   "metadata": {
    "editable": true,
    "slideshow": {
     "slide_type": ""
    },
    "tags": []
   },
   "outputs": [
    {
     "data": {
      "text/plain": [
       "Schema([('subj', Int64),\n",
       "        ('cycle', Int64),\n",
       "        ('trial', Int64),\n",
       "        ('phase', String),\n",
       "        ('type', String),\n",
       "        ('word1', String),\n",
       "        ('word2', String),\n",
       "        ('response', Int64),\n",
       "        ('RT', Float64),\n",
       "        ('correct', Int64),\n",
       "        ('lag', Int64)])"
      ]
     },
     "execution_count": 4,
     "metadata": {},
     "output_type": "execute_result"
    }
   ],
   "source": [
    "df.schema"
   ]
  },
  {
   "cell_type": "markdown",
   "id": "bca130a6-6a64-42e0-86fb-f9d4606ddb77",
   "metadata": {
    "editable": true,
    "slideshow": {
     "slide_type": "slide"
    },
    "tags": []
   },
   "source": [
    "When importing data, we can make changes to the schema to read things in differently. Note that we can chain together function calls by adding `.` and then another DataFrame method at the end. Here, we add `.head(1)` to print out the first line after reading in the CSV file again."
   ]
  },
  {
   "cell_type": "code",
   "execution_count": 5,
   "id": "2061f8aa-fa3b-41f4-9c96-5f95b614f234",
   "metadata": {
    "editable": true,
    "slideshow": {
     "slide_type": ""
    },
    "tags": []
   },
   "outputs": [
    {
     "data": {
      "text/html": [
       "<div><style>\n",
       ".dataframe > thead > tr,\n",
       ".dataframe > tbody > tr {\n",
       "  text-align: right;\n",
       "  white-space: pre-wrap;\n",
       "}\n",
       "</style>\n",
       "<small>shape: (1, 11)</small><table border=\"1\" class=\"dataframe\"><thead><tr><th>subj</th><th>cycle</th><th>trial</th><th>phase</th><th>type</th><th>word1</th><th>word2</th><th>response</th><th>RT</th><th>correct</th><th>lag</th></tr><tr><td>i64</td><td>i64</td><td>i64</td><td>str</td><td>str</td><td>str</td><td>str</td><td>f64</td><td>f64</td><td>i64</td><td>i64</td></tr></thead><tbody><tr><td>101</td><td>0</td><td>-1</td><td>&quot;study&quot;</td><td>&quot;intact&quot;</td><td>&quot;formal&quot;</td><td>&quot;positive&quot;</td><td>-1.0</td><td>-1.0</td><td>-1</td><td>-1</td></tr></tbody></table></div>"
      ],
      "text/plain": [
       "shape: (1, 11)\n",
       "┌──────┬───────┬───────┬───────┬───┬──────────┬──────┬─────────┬─────┐\n",
       "│ subj ┆ cycle ┆ trial ┆ phase ┆ … ┆ response ┆ RT   ┆ correct ┆ lag │\n",
       "│ ---  ┆ ---   ┆ ---   ┆ ---   ┆   ┆ ---      ┆ ---  ┆ ---     ┆ --- │\n",
       "│ i64  ┆ i64   ┆ i64   ┆ str   ┆   ┆ f64      ┆ f64  ┆ i64     ┆ i64 │\n",
       "╞══════╪═══════╪═══════╪═══════╪═══╪══════════╪══════╪═════════╪═════╡\n",
       "│ 101  ┆ 0     ┆ -1    ┆ study ┆ … ┆ -1.0     ┆ -1.0 ┆ -1      ┆ -1  │\n",
       "└──────┴───────┴───────┴───────┴───┴──────────┴──────┴─────────┴─────┘"
      ]
     },
     "execution_count": 5,
     "metadata": {},
     "output_type": "execute_result"
    }
   ],
   "source": [
    "pl.read_csv(\"exp1.csv\", schema_overrides={\"response\": pl.Float64}).select(columns).head(1)"
   ]
  },
  {
   "cell_type": "markdown",
   "id": "13caf412-7782-45cb-bd64-d028858ee6b7",
   "metadata": {
    "editable": true,
    "slideshow": {
     "slide_type": "fragment"
    },
    "tags": []
   },
   "source": [
    "Note that the `response` column is now a 64-bit float (`f64`) instead of an integer."
   ]
  },
  {
   "cell_type": "markdown",
   "id": "dbb25f78-d95c-4a9a-9c41-61fd6f35c7f0",
   "metadata": {
    "editable": true,
    "slideshow": {
     "slide_type": "slide"
    },
    "tags": []
   },
   "source": [
    "## Accessing data in a DataFrame\n",
    "DataFrames can organize a lot of data. Often data analysis starts by getting the specific data that we want to work with. This may involve *filtering* the table to get rows that meet some criteria and *selecting* columns to get a subset of them."
   ]
  },
  {
   "cell_type": "markdown",
   "id": "8144bcc1-b39d-4144-854b-b50a22d88cde",
   "metadata": {
    "editable": true,
    "slideshow": {
     "slide_type": "slide"
    },
    "tags": []
   },
   "source": [
    "We can access columns of a DataFrame using `df[\"column\"]`, like we've seen before with dictionaries. This gives us a special data type called a `Series`. It's used in Polars to represent single columns of data separately from a DataFrame. They aren't used very often by themselves."
   ]
  },
  {
   "cell_type": "code",
   "execution_count": 6,
   "id": "02013695-7aee-48e9-a6ad-562fffc3e824",
   "metadata": {
    "editable": true,
    "slideshow": {
     "slide_type": ""
    },
    "tags": []
   },
   "outputs": [
    {
     "data": {
      "text/html": [
       "<div><style>\n",
       ".dataframe > thead > tr,\n",
       ".dataframe > tbody > tr {\n",
       "  text-align: right;\n",
       "  white-space: pre-wrap;\n",
       "}\n",
       "</style>\n",
       "<small>shape: (107_443,)</small><table border=\"1\" class=\"dataframe\"><thead><tr><th>type</th></tr><tr><td>str</td></tr></thead><tbody><tr><td>&quot;intact&quot;</td></tr><tr><td>&quot;intact&quot;</td></tr><tr><td>&quot;intact&quot;</td></tr><tr><td>&quot;intact&quot;</td></tr><tr><td>&quot;intact&quot;</td></tr><tr><td>&hellip;</td></tr><tr><td>&quot;intact&quot;</td></tr><tr><td>&quot;rearranged&quot;</td></tr><tr><td>&quot;rearranged&quot;</td></tr><tr><td>&quot;rearranged&quot;</td></tr><tr><td>&quot;intact&quot;</td></tr></tbody></table></div>"
      ],
      "text/plain": [
       "shape: (107_443,)\n",
       "Series: 'type' [str]\n",
       "[\n",
       "\t\"intact\"\n",
       "\t\"intact\"\n",
       "\t\"intact\"\n",
       "\t\"intact\"\n",
       "\t\"intact\"\n",
       "\t…\n",
       "\t\"intact\"\n",
       "\t\"rearranged\"\n",
       "\t\"rearranged\"\n",
       "\t\"rearranged\"\n",
       "\t\"intact\"\n",
       "]"
      ]
     },
     "execution_count": 6,
     "metadata": {},
     "output_type": "execute_result"
    }
   ],
   "source": [
    "df[\"type\"]"
   ]
  },
  {
   "cell_type": "markdown",
   "id": "9fe7888d-6c03-4394-abb5-aa90c2362a89",
   "metadata": {
    "editable": true,
    "slideshow": {
     "slide_type": "slide"
    },
    "tags": []
   },
   "source": [
    "We can convert Series into NumPy arrays using the `to_numpy` method."
   ]
  },
  {
   "cell_type": "code",
   "execution_count": 7,
   "id": "f2dd54a6-5fac-4863-b3a5-8a675920f80e",
   "metadata": {
    "editable": true,
    "slideshow": {
     "slide_type": ""
    },
    "tags": []
   },
   "outputs": [
    {
     "data": {
      "text/plain": [
       "array([-1, -1, -1, ...,  1,  0,  1], shape=(107443,))"
      ]
     },
     "execution_count": 7,
     "metadata": {},
     "output_type": "execute_result"
    }
   ],
   "source": [
    "x = df[\"response\"].to_numpy()\n",
    "x"
   ]
  },
  {
   "cell_type": "markdown",
   "id": "53ac635b-d0f5-4370-bf3a-8c100dec8237",
   "metadata": {
    "editable": true,
    "slideshow": {
     "slide_type": ""
    },
    "tags": []
   },
   "source": [
    "We can then run any NumPy methods we want, like calculating the mean. We'll use `nanmean` to exclude missing samples."
   ]
  },
  {
   "cell_type": "code",
   "execution_count": 8,
   "id": "eb7c7423-245c-4a86-b4d8-888fce5cbdd1",
   "metadata": {
    "editable": true,
    "slideshow": {
     "slide_type": ""
    },
    "tags": []
   },
   "outputs": [
    {
     "data": {
      "text/plain": [
       "np.float64(-0.31397112887763745)"
      ]
     },
     "execution_count": 8,
     "metadata": {},
     "output_type": "execute_result"
    }
   ],
   "source": [
    "import numpy as np\n",
    "np.nanmean(x)"
   ]
  },
  {
   "cell_type": "markdown",
   "id": "7f455577-6316-4973-8eb4-385b8c4e20a6",
   "metadata": {
    "editable": true,
    "slideshow": {
     "slide_type": "fragment"
    },
    "tags": []
   },
   "source": [
    "Usually converting data to NumPy arrays isn't the best way to go, however. Polars has lots of tools for quickly doing things like calculating means and handling missing data by operating on a DataFrame."
   ]
  },
  {
   "cell_type": "markdown",
   "id": "21c8a267-1e2b-4093-aff7-2f009a1006dc",
   "metadata": {
    "editable": true,
    "slideshow": {
     "slide_type": "slide"
    },
    "tags": []
   },
   "source": [
    "We can select multiple columns, and optionally change their order, using the `select` method."
   ]
  },
  {
   "cell_type": "code",
   "execution_count": 9,
   "id": "69d04982-5d6e-457b-a5fe-9b782d5ee630",
   "metadata": {
    "editable": true,
    "slideshow": {
     "slide_type": ""
    },
    "tags": []
   },
   "outputs": [
    {
     "data": {
      "text/html": [
       "<div><style>\n",
       ".dataframe > thead > tr,\n",
       ".dataframe > tbody > tr {\n",
       "  text-align: right;\n",
       "  white-space: pre-wrap;\n",
       "}\n",
       "</style>\n",
       "<small>shape: (5, 4)</small><table border=\"1\" class=\"dataframe\"><thead><tr><th>subj</th><th>phase</th><th>response</th><th>RT</th></tr><tr><td>i64</td><td>str</td><td>i64</td><td>f64</td></tr></thead><tbody><tr><td>101</td><td>&quot;study&quot;</td><td>-1</td><td>-1.0</td></tr><tr><td>101</td><td>&quot;study&quot;</td><td>-1</td><td>-1.0</td></tr><tr><td>101</td><td>&quot;study&quot;</td><td>-1</td><td>-1.0</td></tr><tr><td>101</td><td>&quot;study&quot;</td><td>-1</td><td>-1.0</td></tr><tr><td>101</td><td>&quot;study&quot;</td><td>-1</td><td>-1.0</td></tr></tbody></table></div>"
      ],
      "text/plain": [
       "shape: (5, 4)\n",
       "┌──────┬───────┬──────────┬──────┐\n",
       "│ subj ┆ phase ┆ response ┆ RT   │\n",
       "│ ---  ┆ ---   ┆ ---      ┆ ---  │\n",
       "│ i64  ┆ str   ┆ i64      ┆ f64  │\n",
       "╞══════╪═══════╪══════════╪══════╡\n",
       "│ 101  ┆ study ┆ -1       ┆ -1.0 │\n",
       "│ 101  ┆ study ┆ -1       ┆ -1.0 │\n",
       "│ 101  ┆ study ┆ -1       ┆ -1.0 │\n",
       "│ 101  ┆ study ┆ -1       ┆ -1.0 │\n",
       "│ 101  ┆ study ┆ -1       ┆ -1.0 │\n",
       "└──────┴───────┴──────────┴──────┘"
      ]
     },
     "execution_count": 9,
     "metadata": {},
     "output_type": "execute_result"
    }
   ],
   "source": [
    "df.select([\"subj\", \"phase\", \"response\", \"RT\"]).head()"
   ]
  },
  {
   "cell_type": "markdown",
   "id": "a35ce3f8-41b5-41bc-9b28-f605d51a8e60",
   "metadata": {
    "editable": true,
    "slideshow": {
     "slide_type": "slide"
    },
    "tags": []
   },
   "source": [
    "We can filter the rows included in the table using the `filter` method. This allows for selecting data very flexibly, in a similar way to how we selected data using NumPy expressions when working with NumPy arrays. To create an expression that refers to the value of a column, we must use the `pl.col` function."
   ]
  },
  {
   "cell_type": "code",
   "execution_count": 10,
   "id": "e9130647-10f7-4674-8264-7c68c3b814ff",
   "metadata": {
    "editable": true,
    "slideshow": {
     "slide_type": ""
    },
    "tags": []
   },
   "outputs": [
    {
     "data": {
      "text/html": [
       "<div><style>\n",
       ".dataframe > thead > tr,\n",
       ".dataframe > tbody > tr {\n",
       "  text-align: right;\n",
       "  white-space: pre-wrap;\n",
       "}\n",
       "</style>\n",
       "<small>shape: (5, 11)</small><table border=\"1\" class=\"dataframe\"><thead><tr><th>subj</th><th>cycle</th><th>trial</th><th>phase</th><th>type</th><th>word1</th><th>word2</th><th>response</th><th>RT</th><th>correct</th><th>lag</th></tr><tr><td>i64</td><td>i64</td><td>i64</td><td>str</td><td>str</td><td>str</td><td>str</td><td>i64</td><td>f64</td><td>i64</td><td>i64</td></tr></thead><tbody><tr><td>101</td><td>0</td><td>-1</td><td>&quot;test&quot;</td><td>&quot;rearranged&quot;</td><td>&quot;waste&quot;</td><td>&quot;degree&quot;</td><td>0</td><td>2.312</td><td>1</td><td>2</td></tr><tr><td>101</td><td>0</td><td>0</td><td>&quot;test&quot;</td><td>&quot;rearranged&quot;</td><td>&quot;needed&quot;</td><td>&quot;able&quot;</td><td>0</td><td>3.542</td><td>1</td><td>1</td></tr><tr><td>101</td><td>0</td><td>1</td><td>&quot;test&quot;</td><td>&quot;rearranged&quot;</td><td>&quot;single&quot;</td><td>&quot;clean&quot;</td><td>0</td><td>2.084</td><td>1</td><td>3</td></tr><tr><td>101</td><td>0</td><td>2</td><td>&quot;test&quot;</td><td>&quot;rearranged&quot;</td><td>&quot;train&quot;</td><td>&quot;useful&quot;</td><td>0</td><td>1.669</td><td>1</td><td>2</td></tr><tr><td>101</td><td>0</td><td>3</td><td>&quot;test&quot;</td><td>&quot;rearranged&quot;</td><td>&quot;knees&quot;</td><td>&quot;various&quot;</td><td>0</td><td>2.326</td><td>1</td><td>5</td></tr></tbody></table></div>"
      ],
      "text/plain": [
       "shape: (5, 11)\n",
       "┌──────┬───────┬───────┬───────┬───┬──────────┬───────┬─────────┬─────┐\n",
       "│ subj ┆ cycle ┆ trial ┆ phase ┆ … ┆ response ┆ RT    ┆ correct ┆ lag │\n",
       "│ ---  ┆ ---   ┆ ---   ┆ ---   ┆   ┆ ---      ┆ ---   ┆ ---     ┆ --- │\n",
       "│ i64  ┆ i64   ┆ i64   ┆ str   ┆   ┆ i64      ┆ f64   ┆ i64     ┆ i64 │\n",
       "╞══════╪═══════╪═══════╪═══════╪═══╪══════════╪═══════╪═════════╪═════╡\n",
       "│ 101  ┆ 0     ┆ -1    ┆ test  ┆ … ┆ 0        ┆ 2.312 ┆ 1       ┆ 2   │\n",
       "│ 101  ┆ 0     ┆ 0     ┆ test  ┆ … ┆ 0        ┆ 3.542 ┆ 1       ┆ 1   │\n",
       "│ 101  ┆ 0     ┆ 1     ┆ test  ┆ … ┆ 0        ┆ 2.084 ┆ 1       ┆ 3   │\n",
       "│ 101  ┆ 0     ┆ 2     ┆ test  ┆ … ┆ 0        ┆ 1.669 ┆ 1       ┆ 2   │\n",
       "│ 101  ┆ 0     ┆ 3     ┆ test  ┆ … ┆ 0        ┆ 2.326 ┆ 1       ┆ 5   │\n",
       "└──────┴───────┴───────┴───────┴───┴──────────┴───────┴─────────┴─────┘"
      ]
     },
     "execution_count": 10,
     "metadata": {},
     "output_type": "execute_result"
    }
   ],
   "source": [
    "df.filter(pl.col(\"phase\") == \"test\").head()"
   ]
  },
  {
   "cell_type": "markdown",
   "id": "a21949ed-2d37-4259-a74b-6f3d1ba81833",
   "metadata": {
    "editable": true,
    "slideshow": {
     "slide_type": "fragment"
    },
    "tags": []
   },
   "source": [
    "Here, we indicate that we only want rows where the phase is `test`, to get only the test trials and exclude all the study trials. The input to `filter` is called an *expression*. It specifies something we want to do, like comparing a column to some value, without actually doing it yet. This allows Polars to optimize how it runs different operations."
   ]
  },
  {
   "cell_type": "code",
   "execution_count": 11,
   "id": "fd43039d-5ac7-4c37-b781-1acf2722ba0d",
   "metadata": {
    "editable": true,
    "slideshow": {
     "slide_type": ""
    },
    "tags": []
   },
   "outputs": [
    {
     "data": {
      "text/plain": [
       "polars.expr.expr.Expr"
      ]
     },
     "execution_count": 11,
     "metadata": {},
     "output_type": "execute_result"
    }
   ],
   "source": [
    "type(pl.col(\"phase\") == \"test\")"
   ]
  },
  {
   "cell_type": "markdown",
   "id": "5e7f3b07-6c6b-4a2a-8ef4-b2b37381fd4f",
   "metadata": {
    "editable": true,
    "slideshow": {
     "slide_type": "slide"
    },
    "tags": []
   },
   "source": [
    "We can make more complicated expressions using operators for and (`&`), or (`|`), and not (`~`). If you are combining multiple comparisons, you will need to add parentheses around the individual comparisons."
   ]
  },
  {
   "cell_type": "code",
   "execution_count": 12,
   "id": "0060377e-12bf-4581-acf8-9021fa903964",
   "metadata": {
    "editable": true,
    "slideshow": {
     "slide_type": ""
    },
    "tags": []
   },
   "outputs": [
    {
     "data": {
      "text/html": [
       "<div><style>\n",
       ".dataframe > thead > tr,\n",
       ".dataframe > tbody > tr {\n",
       "  text-align: right;\n",
       "  white-space: pre-wrap;\n",
       "}\n",
       "</style>\n",
       "<small>shape: (5, 11)</small><table border=\"1\" class=\"dataframe\"><thead><tr><th>subj</th><th>cycle</th><th>trial</th><th>phase</th><th>type</th><th>word1</th><th>word2</th><th>response</th><th>RT</th><th>correct</th><th>lag</th></tr><tr><td>i64</td><td>i64</td><td>i64</td><td>str</td><td>str</td><td>str</td><td>str</td><td>i64</td><td>f64</td><td>i64</td><td>i64</td></tr></thead><tbody><tr><td>101</td><td>0</td><td>4</td><td>&quot;test&quot;</td><td>&quot;intact&quot;</td><td>&quot;skin&quot;</td><td>&quot;careful&quot;</td><td>1</td><td>1.407</td><td>1</td><td>-1</td></tr><tr><td>101</td><td>0</td><td>5</td><td>&quot;test&quot;</td><td>&quot;intact&quot;</td><td>&quot;doctor&quot;</td><td>&quot;contrast&quot;</td><td>0</td><td>4.056</td><td>0</td><td>-1</td></tr><tr><td>101</td><td>0</td><td>7</td><td>&quot;test&quot;</td><td>&quot;intact&quot;</td><td>&quot;homes&quot;</td><td>&quot;fuel&quot;</td><td>1</td><td>2.499</td><td>1</td><td>-1</td></tr><tr><td>101</td><td>0</td><td>8</td><td>&quot;test&quot;</td><td>&quot;intact&quot;</td><td>&quot;liked&quot;</td><td>&quot;tone&quot;</td><td>1</td><td>1.609</td><td>1</td><td>-1</td></tr><tr><td>101</td><td>0</td><td>9</td><td>&quot;test&quot;</td><td>&quot;intact&quot;</td><td>&quot;notice&quot;</td><td>&quot;explain&quot;</td><td>1</td><td>1.352</td><td>1</td><td>-1</td></tr></tbody></table></div>"
      ],
      "text/plain": [
       "shape: (5, 11)\n",
       "┌──────┬───────┬───────┬───────┬───┬──────────┬───────┬─────────┬─────┐\n",
       "│ subj ┆ cycle ┆ trial ┆ phase ┆ … ┆ response ┆ RT    ┆ correct ┆ lag │\n",
       "│ ---  ┆ ---   ┆ ---   ┆ ---   ┆   ┆ ---      ┆ ---   ┆ ---     ┆ --- │\n",
       "│ i64  ┆ i64   ┆ i64   ┆ str   ┆   ┆ i64      ┆ f64   ┆ i64     ┆ i64 │\n",
       "╞══════╪═══════╪═══════╪═══════╪═══╪══════════╪═══════╪═════════╪═════╡\n",
       "│ 101  ┆ 0     ┆ 4     ┆ test  ┆ … ┆ 1        ┆ 1.407 ┆ 1       ┆ -1  │\n",
       "│ 101  ┆ 0     ┆ 5     ┆ test  ┆ … ┆ 0        ┆ 4.056 ┆ 0       ┆ -1  │\n",
       "│ 101  ┆ 0     ┆ 7     ┆ test  ┆ … ┆ 1        ┆ 2.499 ┆ 1       ┆ -1  │\n",
       "│ 101  ┆ 0     ┆ 8     ┆ test  ┆ … ┆ 1        ┆ 1.609 ┆ 1       ┆ -1  │\n",
       "│ 101  ┆ 0     ┆ 9     ┆ test  ┆ … ┆ 1        ┆ 1.352 ┆ 1       ┆ -1  │\n",
       "└──────┴───────┴───────┴───────┴───┴──────────┴───────┴─────────┴─────┘"
      ]
     },
     "execution_count": 12,
     "metadata": {},
     "output_type": "execute_result"
    }
   ],
   "source": [
    "targets = df.filter((pl.col(\"phase\") == \"test\") & (pl.col(\"type\") == \"intact\"))\n",
    "targets.head()"
   ]
  },
  {
   "cell_type": "markdown",
   "id": "d329fb85-53f9-4119-b643-9cc127b1fc84",
   "metadata": {
    "editable": true,
    "slideshow": {
     "slide_type": "slide"
    },
    "tags": []
   },
   "source": [
    "We can put together multiple operations by chaining methods. Here, we'll select some columns and filter the rows in one go."
   ]
  },
  {
   "cell_type": "code",
   "execution_count": 13,
   "id": "aa3888d2-2a35-4d8c-b37f-dec420fd7767",
   "metadata": {
    "editable": true,
    "slideshow": {
     "slide_type": ""
    },
    "tags": []
   },
   "outputs": [
    {
     "data": {
      "text/html": [
       "<div><style>\n",
       ".dataframe > thead > tr,\n",
       ".dataframe > tbody > tr {\n",
       "  text-align: right;\n",
       "  white-space: pre-wrap;\n",
       "}\n",
       "</style>\n",
       "<small>shape: (5, 8)</small><table border=\"1\" class=\"dataframe\"><thead><tr><th>subj</th><th>trial</th><th>phase</th><th>type</th><th>response</th><th>RT</th><th>correct</th><th>lag</th></tr><tr><td>i64</td><td>i64</td><td>str</td><td>str</td><td>i64</td><td>f64</td><td>i64</td><td>i64</td></tr></thead><tbody><tr><td>101</td><td>-1</td><td>&quot;test&quot;</td><td>&quot;rearranged&quot;</td><td>0</td><td>2.312</td><td>1</td><td>2</td></tr><tr><td>101</td><td>0</td><td>&quot;test&quot;</td><td>&quot;rearranged&quot;</td><td>0</td><td>3.542</td><td>1</td><td>1</td></tr><tr><td>101</td><td>1</td><td>&quot;test&quot;</td><td>&quot;rearranged&quot;</td><td>0</td><td>2.084</td><td>1</td><td>3</td></tr><tr><td>101</td><td>2</td><td>&quot;test&quot;</td><td>&quot;rearranged&quot;</td><td>0</td><td>1.669</td><td>1</td><td>2</td></tr><tr><td>101</td><td>3</td><td>&quot;test&quot;</td><td>&quot;rearranged&quot;</td><td>0</td><td>2.326</td><td>1</td><td>5</td></tr></tbody></table></div>"
      ],
      "text/plain": [
       "shape: (5, 8)\n",
       "┌──────┬───────┬───────┬────────────┬──────────┬───────┬─────────┬─────┐\n",
       "│ subj ┆ trial ┆ phase ┆ type       ┆ response ┆ RT    ┆ correct ┆ lag │\n",
       "│ ---  ┆ ---   ┆ ---   ┆ ---        ┆ ---      ┆ ---   ┆ ---     ┆ --- │\n",
       "│ i64  ┆ i64   ┆ str   ┆ str        ┆ i64      ┆ f64   ┆ i64     ┆ i64 │\n",
       "╞══════╪═══════╪═══════╪════════════╪══════════╪═══════╪═════════╪═════╡\n",
       "│ 101  ┆ -1    ┆ test  ┆ rearranged ┆ 0        ┆ 2.312 ┆ 1       ┆ 2   │\n",
       "│ 101  ┆ 0     ┆ test  ┆ rearranged ┆ 0        ┆ 3.542 ┆ 1       ┆ 1   │\n",
       "│ 101  ┆ 1     ┆ test  ┆ rearranged ┆ 0        ┆ 2.084 ┆ 1       ┆ 3   │\n",
       "│ 101  ┆ 2     ┆ test  ┆ rearranged ┆ 0        ┆ 1.669 ┆ 1       ┆ 2   │\n",
       "│ 101  ┆ 3     ┆ test  ┆ rearranged ┆ 0        ┆ 2.326 ┆ 1       ┆ 5   │\n",
       "└──────┴───────┴───────┴────────────┴──────────┴───────┴─────────┴─────┘"
      ]
     },
     "execution_count": 13,
     "metadata": {},
     "output_type": "execute_result"
    }
   ],
   "source": [
    "df_test = (\n",
    "    df.filter(pl.col(\"phase\") == \"test\")\n",
    "    .select([\"subj\", \"trial\", \"phase\", \"type\", \"response\", \"RT\", \"correct\", \"lag\"])\n",
    ")\n",
    "df_test.head()"
   ]
  },
  {
   "cell_type": "markdown",
   "id": "7e639d10-ac4a-49ac-8948-8991dfb0421b",
   "metadata": {
    "editable": true,
    "slideshow": {
     "slide_type": "fragment"
    },
    "tags": []
   },
   "source": [
    "Here, we put parentheses around the whole chain of method calls. This lets us split the different calls so there is one for each line. It tends to make things easier to read."
   ]
  },
  {
   "cell_type": "markdown",
   "id": "c8cec4a3-bac9-4787-8acd-4d9fc46ec8ca",
   "metadata": {
    "editable": true,
    "slideshow": {
     "slide_type": "slide"
    },
    "tags": []
   },
   "source": [
    "## Calculating summary statistics\n",
    "When getting a feel for a dataset, it can be very helpful to calculate some summary statistics to measure central tendency and spread."
   ]
  },
  {
   "cell_type": "markdown",
   "id": "c965fd46-ee57-4cf2-b81b-e8d081a73b08",
   "metadata": {
    "editable": true,
    "slideshow": {
     "slide_type": "slide"
    },
    "tags": []
   },
   "source": [
    "We can get some common summary statistics for all the columns using `describe`."
   ]
  },
  {
   "cell_type": "code",
   "execution_count": 14,
   "id": "df24478d-4fba-45e6-9429-1abeb786252c",
   "metadata": {
    "editable": true,
    "slideshow": {
     "slide_type": ""
    },
    "tags": []
   },
   "outputs": [
    {
     "data": {
      "text/html": [
       "<div><style>\n",
       ".dataframe > thead > tr,\n",
       ".dataframe > tbody > tr {\n",
       "  text-align: right;\n",
       "  white-space: pre-wrap;\n",
       "}\n",
       "</style>\n",
       "<small>shape: (9, 9)</small><table border=\"1\" class=\"dataframe\"><thead><tr><th>statistic</th><th>subj</th><th>trial</th><th>phase</th><th>type</th><th>response</th><th>RT</th><th>correct</th><th>lag</th></tr><tr><td>str</td><td>f64</td><td>f64</td><td>str</td><td>str</td><td>f64</td><td>f64</td><td>f64</td><td>f64</td></tr></thead><tbody><tr><td>&quot;count&quot;</td><td>53700.0</td><td>53700.0</td><td>&quot;53700&quot;</td><td>&quot;53700&quot;</td><td>53700.0</td><td>53700.0</td><td>53700.0</td><td>53700.0</td></tr><tr><td>&quot;null_count&quot;</td><td>0.0</td><td>0.0</td><td>&quot;0&quot;</td><td>&quot;0&quot;</td><td>0.0</td><td>0.0</td><td>0.0</td><td>0.0</td></tr><tr><td>&quot;mean&quot;</td><td>165.655866</td><td>28.5</td><td>null</td><td>null</td><td>0.372607</td><td>1.331173</td><td>0.656648</td><td>1.0</td></tr><tr><td>&quot;std&quot;</td><td>99.008229</td><td>17.318264</td><td>null</td><td>null</td><td>0.48554</td><td>0.76009</td><td>0.474832</td><td>2.236089</td></tr><tr><td>&quot;min&quot;</td><td>101.0</td><td>-1.0</td><td>&quot;test&quot;</td><td>&quot;intact&quot;</td><td>-1.0</td><td>-1.0</td><td>0.0</td><td>-1.0</td></tr><tr><td>&quot;25%&quot;</td><td>128.0</td><td>14.0</td><td>null</td><td>null</td><td>0.0</td><td>0.882</td><td>0.0</td><td>-1.0</td></tr><tr><td>&quot;50%&quot;</td><td>158.0</td><td>29.0</td><td>null</td><td>null</td><td>0.0</td><td>1.125</td><td>1.0</td><td>1.0</td></tr><tr><td>&quot;75%&quot;</td><td>186.0</td><td>43.0</td><td>null</td><td>null</td><td>1.0</td><td>1.526</td><td>1.0</td><td>3.0</td></tr><tr><td>&quot;max&quot;</td><td>1150.0</td><td>58.0</td><td>&quot;test&quot;</td><td>&quot;rearranged&quot;</td><td>1.0</td><td>7.925</td><td>1.0</td><td>5.0</td></tr></tbody></table></div>"
      ],
      "text/plain": [
       "shape: (9, 9)\n",
       "┌────────────┬────────────┬───────────┬───────┬───┬──────────┬──────────┬──────────┬──────────┐\n",
       "│ statistic  ┆ subj       ┆ trial     ┆ phase ┆ … ┆ response ┆ RT       ┆ correct  ┆ lag      │\n",
       "│ ---        ┆ ---        ┆ ---       ┆ ---   ┆   ┆ ---      ┆ ---      ┆ ---      ┆ ---      │\n",
       "│ str        ┆ f64        ┆ f64       ┆ str   ┆   ┆ f64      ┆ f64      ┆ f64      ┆ f64      │\n",
       "╞════════════╪════════════╪═══════════╪═══════╪═══╪══════════╪══════════╪══════════╪══════════╡\n",
       "│ count      ┆ 53700.0    ┆ 53700.0   ┆ 53700 ┆ … ┆ 53700.0  ┆ 53700.0  ┆ 53700.0  ┆ 53700.0  │\n",
       "│ null_count ┆ 0.0        ┆ 0.0       ┆ 0     ┆ … ┆ 0.0      ┆ 0.0      ┆ 0.0      ┆ 0.0      │\n",
       "│ mean       ┆ 165.655866 ┆ 28.5      ┆ null  ┆ … ┆ 0.372607 ┆ 1.331173 ┆ 0.656648 ┆ 1.0      │\n",
       "│ std        ┆ 99.008229  ┆ 17.318264 ┆ null  ┆ … ┆ 0.48554  ┆ 0.76009  ┆ 0.474832 ┆ 2.236089 │\n",
       "│ min        ┆ 101.0      ┆ -1.0      ┆ test  ┆ … ┆ -1.0     ┆ -1.0     ┆ 0.0      ┆ -1.0     │\n",
       "│ 25%        ┆ 128.0      ┆ 14.0      ┆ null  ┆ … ┆ 0.0      ┆ 0.882    ┆ 0.0      ┆ -1.0     │\n",
       "│ 50%        ┆ 158.0      ┆ 29.0      ┆ null  ┆ … ┆ 0.0      ┆ 1.125    ┆ 1.0      ┆ 1.0      │\n",
       "│ 75%        ┆ 186.0      ┆ 43.0      ┆ null  ┆ … ┆ 1.0      ┆ 1.526    ┆ 1.0      ┆ 3.0      │\n",
       "│ max        ┆ 1150.0     ┆ 58.0      ┆ test  ┆ … ┆ 1.0      ┆ 7.925    ┆ 1.0      ┆ 5.0      │\n",
       "└────────────┴────────────┴───────────┴───────┴───┴──────────┴──────────┴──────────┴──────────┘"
      ]
     },
     "execution_count": 14,
     "metadata": {},
     "output_type": "execute_result"
    }
   ],
   "source": [
    "df_test.describe()"
   ]
  },
  {
   "cell_type": "markdown",
   "id": "fdc44425-3712-4b64-803a-23e316bb0bfd",
   "metadata": {
    "editable": true,
    "slideshow": {
     "slide_type": ""
    },
    "tags": []
   },
   "source": [
    "The `count` row gives the nuber of non-null samples in each column, while the `null_count` row indicates how many samples are null.\n",
    "\n",
    "The `mean` and `std` rows give the mean and standard deviation.\n",
    "\n",
    "The `min` and `max` rows give the minimum and maximum values in each column. The percentage rows give percentiles in the data. The `50%` percentile is also known as the median."
   ]
  },
  {
   "cell_type": "markdown",
   "id": "d3c25674-4b44-4436-bb0d-d8dc1c1d0095",
   "metadata": {
    "editable": true,
    "slideshow": {
     "slide_type": "slide"
    },
    "tags": []
   },
   "source": [
    "We can calculate more targeted statistics using expressions."
   ]
  },
  {
   "cell_type": "code",
   "execution_count": 15,
   "id": "8fed5a66-bb1a-4861-8ace-49c85074a57d",
   "metadata": {
    "editable": true,
    "slideshow": {
     "slide_type": ""
    },
    "tags": []
   },
   "outputs": [
    {
     "data": {
      "text/html": [
       "<div><style>\n",
       ".dataframe > thead > tr,\n",
       ".dataframe > tbody > tr {\n",
       "  text-align: right;\n",
       "  white-space: pre-wrap;\n",
       "}\n",
       "</style>\n",
       "<small>shape: (1, 2)</small><table border=\"1\" class=\"dataframe\"><thead><tr><th>response</th><th>RT</th></tr><tr><td>f64</td><td>f64</td></tr></thead><tbody><tr><td>0.372607</td><td>1.331173</td></tr></tbody></table></div>"
      ],
      "text/plain": [
       "shape: (1, 2)\n",
       "┌──────────┬──────────┐\n",
       "│ response ┆ RT       │\n",
       "│ ---      ┆ ---      │\n",
       "│ f64      ┆ f64      │\n",
       "╞══════════╪══════════╡\n",
       "│ 0.372607 ┆ 1.331173 │\n",
       "└──────────┴──────────┘"
      ]
     },
     "execution_count": 15,
     "metadata": {},
     "output_type": "execute_result"
    }
   ],
   "source": [
    "df_test.select(pl.col(\"response\", \"RT\").mean())"
   ]
  },
  {
   "cell_type": "markdown",
   "id": "565b0b01-f41a-4cf6-aac9-cdc7094d72ec",
   "metadata": {
    "editable": true,
    "slideshow": {
     "slide_type": "slide"
    },
    "tags": []
   },
   "source": [
    "Often, we're interested in calculating statistics for each of a number of groups. For example, we may want to split responses based on whether they were on a target or a lure trial. We can do this using the `group_by` method with `agg`."
   ]
  },
  {
   "cell_type": "code",
   "execution_count": 16,
   "id": "c0265d64-4753-40f2-895f-92de193f85c2",
   "metadata": {
    "editable": true,
    "slideshow": {
     "slide_type": ""
    },
    "tags": []
   },
   "outputs": [
    {
     "data": {
      "text/html": [
       "<div><style>\n",
       ".dataframe > thead > tr,\n",
       ".dataframe > tbody > tr {\n",
       "  text-align: right;\n",
       "  white-space: pre-wrap;\n",
       "}\n",
       "</style>\n",
       "<small>shape: (2, 3)</small><table border=\"1\" class=\"dataframe\"><thead><tr><th>type</th><th>response</th><th>RT</th></tr><tr><td>str</td><td>f64</td><td>f64</td></tr></thead><tbody><tr><td>&quot;intact&quot;</td><td>0.530168</td><td>1.272813</td></tr><tr><td>&quot;rearranged&quot;</td><td>0.215047</td><td>1.389533</td></tr></tbody></table></div>"
      ],
      "text/plain": [
       "shape: (2, 3)\n",
       "┌────────────┬──────────┬──────────┐\n",
       "│ type       ┆ response ┆ RT       │\n",
       "│ ---        ┆ ---      ┆ ---      │\n",
       "│ str        ┆ f64      ┆ f64      │\n",
       "╞════════════╪══════════╪══════════╡\n",
       "│ intact     ┆ 0.530168 ┆ 1.272813 │\n",
       "│ rearranged ┆ 0.215047 ┆ 1.389533 │\n",
       "└────────────┴──────────┴──────────┘"
      ]
     },
     "execution_count": 16,
     "metadata": {},
     "output_type": "execute_result"
    }
   ],
   "source": [
    "(\n",
    "    df_test.group_by(\"type\")\n",
    "    .agg(pl.mean(\"response\"), pl.mean(\"RT\"))\n",
    ")"
   ]
  },
  {
   "cell_type": "markdown",
   "id": "5ea69fdf-a7ff-403e-870e-8f751e8444a2",
   "metadata": {
    "editable": true,
    "slideshow": {
     "slide_type": "slide"
    },
    "tags": []
   },
   "source": [
    "We can use the `alias` method to rename a column. Here, we'll rename `\"RT\"` to the more standard `\"response_time\"`."
   ]
  },
  {
   "cell_type": "code",
   "execution_count": 17,
   "id": "0ac7b4f5-1040-4e6d-9ef9-6c13df65b696",
   "metadata": {
    "editable": true,
    "slideshow": {
     "slide_type": ""
    },
    "tags": []
   },
   "outputs": [
    {
     "data": {
      "text/html": [
       "<div><style>\n",
       ".dataframe > thead > tr,\n",
       ".dataframe > tbody > tr {\n",
       "  text-align: right;\n",
       "  white-space: pre-wrap;\n",
       "}\n",
       "</style>\n",
       "<small>shape: (2, 3)</small><table border=\"1\" class=\"dataframe\"><thead><tr><th>type</th><th>response</th><th>response_time</th></tr><tr><td>str</td><td>f64</td><td>f64</td></tr></thead><tbody><tr><td>&quot;intact&quot;</td><td>0.530168</td><td>1.272813</td></tr><tr><td>&quot;rearranged&quot;</td><td>0.215047</td><td>1.389533</td></tr></tbody></table></div>"
      ],
      "text/plain": [
       "shape: (2, 3)\n",
       "┌────────────┬──────────┬───────────────┐\n",
       "│ type       ┆ response ┆ response_time │\n",
       "│ ---        ┆ ---      ┆ ---           │\n",
       "│ str        ┆ f64      ┆ f64           │\n",
       "╞════════════╪══════════╪═══════════════╡\n",
       "│ intact     ┆ 0.530168 ┆ 1.272813      │\n",
       "│ rearranged ┆ 0.215047 ┆ 1.389533      │\n",
       "└────────────┴──────────┴───────────────┘"
      ]
     },
     "execution_count": 17,
     "metadata": {},
     "output_type": "execute_result"
    }
   ],
   "source": [
    "(\n",
    "    df_test.group_by(\"type\")\n",
    "    .agg(pl.mean(\"response\"), pl.mean(\"RT\").alias(\"response_time\"))\n",
    ")"
   ]
  }
 ],
 "metadata": {
  "kernelspec": {
   "display_name": "datascipsych",
   "language": "python",
   "name": "datascipsych"
  },
  "language_info": {
   "codemirror_mode": {
    "name": "ipython",
    "version": 3
   },
   "file_extension": ".py",
   "mimetype": "text/x-python",
   "name": "python",
   "nbconvert_exporter": "python",
   "pygments_lexer": "ipython3",
   "version": "3.12.8"
  }
 },
 "nbformat": 4,
 "nbformat_minor": 5
}
